{
 "cells": [
  {
   "cell_type": "markdown",
   "id": "d66906d4-5fd5-4f4d-a9e4-deaf153f19ff",
   "metadata": {},
   "source": [
    "# VGG + Deep Clustering"
   ]
  },
  {
   "cell_type": "code",
   "execution_count": 1,
   "id": "c6459795-0ffa-48e4-88ad-f107c7511b81",
   "metadata": {
    "scrolled": true,
    "tags": []
   },
   "outputs": [],
   "source": [
    "# ! pip install torch torchvision numpy pydantic umap-learn interpret faiss-cpu torchsummary matplotlib pandas seaborn scikit-learn scikit-image pytorch-lightning[extra] --no-cache-dir --ignore-installed"
   ]
  },
  {
   "cell_type": "code",
   "execution_count": 1,
   "id": "75aa24f3-0909-43f7-873a-fe992a9ed95c",
   "metadata": {
    "tags": []
   },
   "outputs": [],
   "source": [
    "import copy\n",
    "import numpy as np\n",
    "import os\n",
    "import pickle\n",
    "import torch\n",
    "import torch.nn as nn\n",
    "import torch.optim as optim\n",
    "\n",
    "from data.brain_tumor_mri import BrainTumorMRI\n",
    "from models.vgg_deep import DVGG\n",
    "from pytorch_lightning import Trainer\n",
    "from pytorch_lightning.callbacks import ModelCheckpoint\n",
    "from pytorch_lightning.callbacks.early_stopping import EarlyStopping\n",
    "from pytorch_lightning.loggers import CSVLogger\n",
    "from torchvision import transforms\n",
    "from torchvision.transforms import functional as F"
   ]
  },
  {
   "cell_type": "code",
   "execution_count": 2,
   "id": "ace844e8-db97-42bb-9b6a-79f7954bf0a4",
   "metadata": {
    "tags": []
   },
   "outputs": [],
   "source": [
    "RND_SEED=31\n",
    "torch.manual_seed(RND_SEED)\n",
    "torch.cuda.manual_seed_all(RND_SEED)\n",
    "np.random.seed(RND_SEED)\n",
    "\n",
    "CUDA_AVAILABLE = torch.cuda.is_available()\n",
    "DEVICE = torch.device(\"cpu:0\")\n",
    "BATCH_SIZE = 64\n",
    "NUM_WORKERS = 4\n",
    "EPOCHS = 30\n",
    "DATASETS_PATH = './datasets/'\n",
    "DATASET_RATIO = None"
   ]
  },
  {
   "cell_type": "code",
   "execution_count": 3,
   "id": "c61b3616-fbc6-4178-bf47-229f6bdbecb7",
   "metadata": {},
   "outputs": [],
   "source": [
    "brain_tumor = BrainTumorMRI(DATASETS_PATH, train_size=0.7, val_size=0.3, random_state=555, transformations=transforms.Compose(\n",
    "            [\n",
    "                transforms.Resize((255, 255)),\n",
    "                transforms.RandomHorizontalFlip(),\n",
    "                transforms.RandomRotation(10),\n",
    "                transforms.ToTensor(),\n",
    "                transforms.Normalize(\n",
    "                    mean=[0.485, 0.456, 0.406], std=[0.229, 0.224, 0.225]\n",
    "                ),\n",
    "            ]\n",
    "        ))"
   ]
  },
  {
   "cell_type": "code",
   "execution_count": 4,
   "id": "e0a58172-c524-4c55-963f-f3c75abb25d5",
   "metadata": {
    "scrolled": true
   },
   "outputs": [
    {
     "name": "stderr",
     "output_type": "stream",
     "text": [
      "GPU available: False, used: False\n",
      "TPU available: False, using: 0 TPU cores\n",
      "IPU available: False, using: 0 IPUs\n",
      "HPU available: False, using: 0 HPUs\n",
      "`Trainer(limit_train_batches=1.0)` was configured so 100% of the batches per epoch will be used..\n",
      "`Trainer(limit_val_batches=1.0)` was configured so 100% of the batches will be used..\n",
      "`Trainer(limit_test_batches=1.0)` was configured so 100% of the batches will be used..\n"
     ]
    }
   ],
   "source": [
    "model = DVGG(dataset=brain_tumor, num_classes=4, freeze=False)\n",
    "\n",
    "logger = CSVLogger(save_dir=\"./\", name=\"experiments/dvgg\", flush_logs_every_n_steps=1)\n",
    "checkpoint_callback = ModelCheckpoint(\n",
    "    filename=\"dvgg-{epoch}-{train_loss:.4f}-{train_acc:.4f}-{val_loss:.4f}-{val_acc:.4f}\",\n",
    "    save_top_k=3, save_last=True, monitor=\"val_loss\", mode=\"min\", verbose=True\n",
    ")\n",
    "early_stopping_callback = EarlyStopping(monitor=\"val_loss\", patience=3, mode=\"min\", verbose=True)\n",
    "\n",
    "trainer = Trainer(\n",
    "    max_epochs=EPOCHS,\n",
    "    callbacks=[checkpoint_callback],\n",
    "    log_every_n_steps=1,\n",
    "    logger=logger,\n",
    "    limit_train_batches=DATASET_RATIO or 1.0,\n",
    "    limit_val_batches=DATASET_RATIO or 1.0,\n",
    "    limit_test_batches=DATASET_RATIO or 1.0\n",
    ")"
   ]
  },
  {
   "cell_type": "markdown",
   "id": "d457f6f8-4047-42ca-ba73-4cf0f2de2076",
   "metadata": {},
   "source": [
    "## TRAINING"
   ]
  },
  {
   "cell_type": "code",
   "execution_count": 5,
   "id": "d1ccdc04-99bc-4556-991e-d413e8d189d4",
   "metadata": {},
   "outputs": [
    {
     "name": "stderr",
     "output_type": "stream",
     "text": [
      "\n",
      "  | Name      | Type               | Params\n",
      "-------------------------------------------------\n",
      "0 | model     | VGG                | 134 M \n",
      "1 | loss_fn   | CrossEntropyLoss   | 0     \n",
      "2 | train_acc | MulticlassAccuracy | 0     \n",
      "3 | val_acc   | MulticlassAccuracy | 0     \n",
      "4 | test_acc  | MulticlassAccuracy | 0     \n",
      "-------------------------------------------------\n",
      "134 M     Trainable params\n",
      "0         Non-trainable params\n",
      "134 M     Total params\n",
      "537.108   Total estimated model params size (MB)\n"
     ]
    },
    {
     "data": {
      "application/vnd.jupyter.widget-view+json": {
       "model_id": "",
       "version_major": 2,
       "version_minor": 0
      },
      "text/plain": [
       "Sanity Checking: 0it [00:00, ?it/s]"
      ]
     },
     "metadata": {},
     "output_type": "display_data"
    },
    {
     "data": {
      "application/vnd.jupyter.widget-view+json": {
       "model_id": "b23da6d97f1640858f409d8cf10a94ad",
       "version_major": 2,
       "version_minor": 0
      },
      "text/plain": [
       "Training: 0it [00:00, ?it/s]"
      ]
     },
     "metadata": {},
     "output_type": "display_data"
    },
    {
     "name": "stdout",
     "output_type": "stream",
     "text": [
      "Epoch 0\n",
      "Feature extracting elapsed time: 979.5813 seconds.\n"
     ]
    },
    {
     "name": "stderr",
     "output_type": "stream",
     "text": [
      "/Users/arthuralvim/Library/Caches/pypoetry/virtualenvs/xai-clustering-b3gHD5dt-py3.9/lib/python3.9/site-packages/threadpoolctl.py:1019: RuntimeWarning: libc not found. The ctypes module in Python 3.9 is maybe too old for this OS.\n",
      "  warnings.warn(\n"
     ]
    },
    {
     "name": "stdout",
     "output_type": "stream",
     "text": [
      "Clustering elapsed time: 13.8422 seconds.\n"
     ]
    },
    {
     "data": {
      "application/vnd.jupyter.widget-view+json": {
       "model_id": "",
       "version_major": 2,
       "version_minor": 0
      },
      "text/plain": [
       "Validation: 0it [00:00, ?it/s]"
      ]
     },
     "metadata": {},
     "output_type": "display_data"
    },
    {
     "name": "stderr",
     "output_type": "stream",
     "text": [
      "Epoch 0, global step 125: 'val_loss' reached 0.17417 (best 0.17417), saving model to './experiments/dvgg/version_0/checkpoints/dvgg-epoch=0-train_loss=0.3786-train_acc=0.8552-val_loss=0.1742-val_acc=0.9329.ckpt' as top 3\n"
     ]
    },
    {
     "name": "stdout",
     "output_type": "stream",
     "text": [
      "Epoch 1\n",
      "Creating dataset from Clustering elapsed time: 40.5298 seconds.\n",
      "Feature extracting elapsed time: 934.8795 seconds.\n",
      "Clustering elapsed time: 9.9143 seconds.\n",
      "Metrics: {'clu_homogeneity_score': 0.0011255322807178414, 'clu_completeness_score': 0.0011106862014119456, 'clu_v_measure_score': 0.001118059960086197, 'clu_adjusted_rand_score': 0.00043790698964923377, 'clu_adjusted_mutual_info_score': 0.00029038620663324947}\n"
     ]
    },
    {
     "data": {
      "application/vnd.jupyter.widget-view+json": {
       "model_id": "",
       "version_major": 2,
       "version_minor": 0
      },
      "text/plain": [
       "Validation: 0it [00:00, ?it/s]"
      ]
     },
     "metadata": {},
     "output_type": "display_data"
    },
    {
     "name": "stderr",
     "output_type": "stream",
     "text": [
      "Epoch 1, global step 250: 'val_loss' reached 0.11978 (best 0.11978), saving model to './experiments/dvgg/version_0/checkpoints/dvgg-epoch=1-train_loss=0.2363-train_acc=0.9270-val_loss=0.1198-val_acc=0.9574.ckpt' as top 3\n"
     ]
    },
    {
     "name": "stdout",
     "output_type": "stream",
     "text": [
      "Epoch 2\n",
      "Creating dataset from Clustering elapsed time: 41.5208 seconds.\n",
      "Feature extracting elapsed time: 986.5664 seconds.\n",
      "Clustering elapsed time: 13.1650 seconds.\n",
      "Metrics: {'clu_homogeneity_score': 0.7729432430002073, 'clu_completeness_score': 0.7766884991392877, 'clu_v_measure_score': 0.7748113451739602, 'clu_adjusted_rand_score': 0.7501870471122439, 'clu_adjusted_mutual_info_score': 0.7746255456193114}\n"
     ]
    },
    {
     "data": {
      "application/vnd.jupyter.widget-view+json": {
       "model_id": "",
       "version_major": 2,
       "version_minor": 0
      },
      "text/plain": [
       "Validation: 0it [00:00, ?it/s]"
      ]
     },
     "metadata": {},
     "output_type": "display_data"
    },
    {
     "name": "stderr",
     "output_type": "stream",
     "text": [
      "Epoch 2, global step 375: 'val_loss' reached 0.13947 (best 0.11978), saving model to './experiments/dvgg/version_0/checkpoints/dvgg-epoch=2-train_loss=0.2083-train_acc=0.9385-val_loss=0.1395-val_acc=0.9597.ckpt' as top 3\n"
     ]
    },
    {
     "name": "stdout",
     "output_type": "stream",
     "text": [
      "Epoch 3\n",
      "Creating dataset from Clustering elapsed time: 43.6286 seconds.\n",
      "Feature extracting elapsed time: 965.4668 seconds.\n",
      "Clustering elapsed time: 11.0459 seconds.\n",
      "Metrics: {'clu_homogeneity_score': 0.7885794223238137, 'clu_completeness_score': 0.7832531263344459, 'clu_v_measure_score': 0.7859072500125794, 'clu_adjusted_rand_score': 0.7669047236877702, 'clu_adjusted_mutual_info_score': 0.7857307790474515}\n"
     ]
    },
    {
     "data": {
      "application/vnd.jupyter.widget-view+json": {
       "model_id": "",
       "version_major": 2,
       "version_minor": 0
      },
      "text/plain": [
       "Validation: 0it [00:00, ?it/s]"
      ]
     },
     "metadata": {},
     "output_type": "display_data"
    },
    {
     "name": "stderr",
     "output_type": "stream",
     "text": [
      "Epoch 3, global step 500: 'val_loss' reached 0.14752 (best 0.11978), saving model to './experiments/dvgg/version_0/checkpoints/dvgg-epoch=3-train_loss=0.1342-train_acc=0.9557-val_loss=0.1475-val_acc=0.9522.ckpt' as top 3\n"
     ]
    },
    {
     "name": "stdout",
     "output_type": "stream",
     "text": [
      "Epoch 4\n",
      "Creating dataset from Clustering elapsed time: 41.7637 seconds.\n",
      "Feature extracting elapsed time: 982.6715 seconds.\n",
      "Clustering elapsed time: 11.6031 seconds.\n",
      "Metrics: {'clu_homogeneity_score': 0.681575842464171, 'clu_completeness_score': 0.7369801503008766, 'clu_v_measure_score': 0.7081960379182405, 'clu_adjusted_rand_score': 0.6025209373838851, 'clu_adjusted_mutual_info_score': 0.7079468920424884}\n"
     ]
    },
    {
     "data": {
      "application/vnd.jupyter.widget-view+json": {
       "model_id": "",
       "version_major": 2,
       "version_minor": 0
      },
      "text/plain": [
       "Validation: 0it [00:00, ?it/s]"
      ]
     },
     "metadata": {},
     "output_type": "display_data"
    },
    {
     "name": "stderr",
     "output_type": "stream",
     "text": [
      "Epoch 4, global step 625: 'val_loss' was not in top 3\n"
     ]
    },
    {
     "name": "stdout",
     "output_type": "stream",
     "text": [
      "Epoch 5\n",
      "Creating dataset from Clustering elapsed time: 40.3275 seconds.\n",
      "Feature extracting elapsed time: 952.6062 seconds.\n",
      "Clustering elapsed time: 12.5017 seconds.\n",
      "Metrics: {'clu_homogeneity_score': 0.6897368322627236, 'clu_completeness_score': 0.6340714630792166, 'clu_v_measure_score': 0.660733799465252, 'clu_adjusted_rand_score': 0.5680328949934964, 'clu_adjusted_mutual_info_score': 0.6604450406406865}\n"
     ]
    },
    {
     "data": {
      "application/vnd.jupyter.widget-view+json": {
       "model_id": "",
       "version_major": 2,
       "version_minor": 0
      },
      "text/plain": [
       "Validation: 0it [00:00, ?it/s]"
      ]
     },
     "metadata": {},
     "output_type": "display_data"
    },
    {
     "name": "stderr",
     "output_type": "stream",
     "text": [
      "Epoch 5, global step 750: 'val_loss' reached 0.09334 (best 0.09334), saving model to './experiments/dvgg/version_0/checkpoints/dvgg-epoch=5-train_loss=0.1073-train_acc=0.9697-val_loss=0.0933-val_acc=0.9685.ckpt' as top 3\n"
     ]
    },
    {
     "name": "stdout",
     "output_type": "stream",
     "text": [
      "Epoch 6\n",
      "Creating dataset from Clustering elapsed time: 42.2152 seconds.\n",
      "Feature extracting elapsed time: 969.5704 seconds.\n",
      "Clustering elapsed time: 11.3781 seconds.\n",
      "Metrics: {'clu_homogeneity_score': 0.8813267624334481, 'clu_completeness_score': 0.8798995643706969, 'clu_v_measure_score': 0.8806125851418344, 'clu_adjusted_rand_score': 0.8998994839743608, 'clu_adjusted_mutual_info_score': 0.8805151823108386}\n"
     ]
    },
    {
     "data": {
      "application/vnd.jupyter.widget-view+json": {
       "model_id": "",
       "version_major": 2,
       "version_minor": 0
      },
      "text/plain": [
       "Validation: 0it [00:00, ?it/s]"
      ]
     },
     "metadata": {},
     "output_type": "display_data"
    },
    {
     "name": "stderr",
     "output_type": "stream",
     "text": [
      "Epoch 6, global step 875: 'val_loss' reached 0.09768 (best 0.09334), saving model to './experiments/dvgg/version_0/checkpoints/dvgg-epoch=6-train_loss=0.0726-train_acc=0.9742-val_loss=0.0977-val_acc=0.9761.ckpt' as top 3\n"
     ]
    },
    {
     "name": "stdout",
     "output_type": "stream",
     "text": [
      "Epoch 7\n",
      "Creating dataset from Clustering elapsed time: 40.6347 seconds.\n",
      "Feature extracting elapsed time: 915.4353 seconds.\n",
      "Clustering elapsed time: 9.3116 seconds.\n",
      "Metrics: {'clu_homogeneity_score': 0.8475208147435678, 'clu_completeness_score': 0.8565036855702501, 'clu_v_measure_score': 0.8519885732765959, 'clu_adjusted_rand_score': 0.8503605232950764, 'clu_adjusted_mutual_info_score': 0.8518672753726738}\n"
     ]
    },
    {
     "data": {
      "application/vnd.jupyter.widget-view+json": {
       "model_id": "",
       "version_major": 2,
       "version_minor": 0
      },
      "text/plain": [
       "Validation: 0it [00:00, ?it/s]"
      ]
     },
     "metadata": {},
     "output_type": "display_data"
    },
    {
     "name": "stderr",
     "output_type": "stream",
     "text": [
      "Epoch 7, global step 1000: 'val_loss' reached 0.09893 (best 0.09334), saving model to './experiments/dvgg/version_0/checkpoints/dvgg-epoch=7-train_loss=0.0624-train_acc=0.9790-val_loss=0.0989-val_acc=0.9749.ckpt' as top 3\n"
     ]
    },
    {
     "name": "stdout",
     "output_type": "stream",
     "text": [
      "Epoch 8\n",
      "Creating dataset from Clustering elapsed time: 44.1497 seconds.\n",
      "Feature extracting elapsed time: 1048.7379 seconds.\n",
      "Clustering elapsed time: 13.3544 seconds.\n",
      "Metrics: {'clu_homogeneity_score': 0.702201419535702, 'clu_completeness_score': 0.7104183158759695, 'clu_v_measure_score': 0.706285969772169, 'clu_adjusted_rand_score': 0.6280897932283487, 'clu_adjusted_mutual_info_score': 0.7060425639164947}\n"
     ]
    },
    {
     "data": {
      "application/vnd.jupyter.widget-view+json": {
       "model_id": "",
       "version_major": 2,
       "version_minor": 0
      },
      "text/plain": [
       "Validation: 0it [00:00, ?it/s]"
      ]
     },
     "metadata": {},
     "output_type": "display_data"
    },
    {
     "name": "stderr",
     "output_type": "stream",
     "text": [
      "Epoch 8, global step 1125: 'val_loss' was not in top 3\n"
     ]
    },
    {
     "name": "stdout",
     "output_type": "stream",
     "text": [
      "Epoch 9\n",
      "Creating dataset from Clustering elapsed time: 29.4038 seconds.\n",
      "Feature extracting elapsed time: 1182.3796 seconds.\n",
      "Clustering elapsed time: 14.1797 seconds.\n",
      "Metrics: {'clu_homogeneity_score': 0.6686050832540207, 'clu_completeness_score': 0.6717592581294516, 'clu_v_measure_score': 0.6701784594548591, 'clu_adjusted_rand_score': 0.5659009445264113, 'clu_adjusted_mutual_info_score': 0.6699028676148384}\n"
     ]
    },
    {
     "data": {
      "application/vnd.jupyter.widget-view+json": {
       "model_id": "",
       "version_major": 2,
       "version_minor": 0
      },
      "text/plain": [
       "Validation: 0it [00:00, ?it/s]"
      ]
     },
     "metadata": {},
     "output_type": "display_data"
    },
    {
     "name": "stderr",
     "output_type": "stream",
     "text": [
      "Epoch 9, global step 1250: 'val_loss' reached 0.07909 (best 0.07909), saving model to './experiments/dvgg/version_0/checkpoints/dvgg-epoch=9-train_loss=0.0858-train_acc=0.9800-val_loss=0.0791-val_acc=0.9819.ckpt' as top 3\n"
     ]
    },
    {
     "name": "stdout",
     "output_type": "stream",
     "text": [
      "Epoch 10\n",
      "Creating dataset from Clustering elapsed time: 76.7403 seconds.\n",
      "Feature extracting elapsed time: 1703.1815 seconds.\n",
      "Clustering elapsed time: 18.6096 seconds.\n",
      "Metrics: {'clu_homogeneity_score': 0.669194631646805, 'clu_completeness_score': 0.692666465513658, 'clu_v_measure_score': 0.6807282786915395, 'clu_adjusted_rand_score': 0.5842418622411981, 'clu_adjusted_mutual_info_score': 0.6804562222387344}\n"
     ]
    },
    {
     "data": {
      "application/vnd.jupyter.widget-view+json": {
       "model_id": "",
       "version_major": 2,
       "version_minor": 0
      },
      "text/plain": [
       "Validation: 0it [00:00, ?it/s]"
      ]
     },
     "metadata": {},
     "output_type": "display_data"
    },
    {
     "name": "stderr",
     "output_type": "stream",
     "text": [
      "Epoch 10, global step 1375: 'val_loss' was not in top 3\n"
     ]
    },
    {
     "name": "stdout",
     "output_type": "stream",
     "text": [
      "Epoch 11\n",
      "Creating dataset from Clustering elapsed time: 22.9368 seconds.\n",
      "Feature extracting elapsed time: 558.0503 seconds.\n",
      "Clustering elapsed time: 10.5823 seconds.\n",
      "Metrics: {'clu_homogeneity_score': 0.7870976477293193, 'clu_completeness_score': 0.7434784558535625, 'clu_v_measure_score': 0.7646665100414293, 'clu_adjusted_rand_score': 0.6772700746531509, 'clu_adjusted_mutual_info_score': 0.7644682950192846}\n"
     ]
    },
    {
     "data": {
      "application/vnd.jupyter.widget-view+json": {
       "model_id": "",
       "version_major": 2,
       "version_minor": 0
      },
      "text/plain": [
       "Validation: 0it [00:00, ?it/s]"
      ]
     },
     "metadata": {},
     "output_type": "display_data"
    },
    {
     "name": "stderr",
     "output_type": "stream",
     "text": [
      "Epoch 11, global step 1500: 'val_loss' was not in top 3\n"
     ]
    },
    {
     "name": "stdout",
     "output_type": "stream",
     "text": [
      "Epoch 12\n",
      "Creating dataset from Clustering elapsed time: 22.1845 seconds.\n",
      "Feature extracting elapsed time: 551.5156 seconds.\n",
      "Clustering elapsed time: 9.7018 seconds.\n",
      "Metrics: {'clu_homogeneity_score': 0.8286462148150838, 'clu_completeness_score': 0.8342184961034854, 'clu_v_measure_score': 0.8314230190657244, 'clu_adjusted_rand_score': 0.78647418066961, 'clu_adjusted_mutual_info_score': 0.8312845273516515}\n"
     ]
    },
    {
     "data": {
      "application/vnd.jupyter.widget-view+json": {
       "model_id": "",
       "version_major": 2,
       "version_minor": 0
      },
      "text/plain": [
       "Validation: 0it [00:00, ?it/s]"
      ]
     },
     "metadata": {},
     "output_type": "display_data"
    },
    {
     "name": "stderr",
     "output_type": "stream",
     "text": [
      "Epoch 12, global step 1625: 'val_loss' was not in top 3\n"
     ]
    },
    {
     "name": "stdout",
     "output_type": "stream",
     "text": [
      "Epoch 13\n",
      "Creating dataset from Clustering elapsed time: 21.9396 seconds.\n",
      "Feature extracting elapsed time: 524.7734 seconds.\n",
      "Clustering elapsed time: 10.1643 seconds.\n",
      "Metrics: {'clu_homogeneity_score': 0.8475992407316664, 'clu_completeness_score': 0.8384186712177969, 'clu_v_measure_score': 0.8429839613243186, 'clu_adjusted_rand_score': 0.8351230244213722, 'clu_adjusted_mutual_info_score': 0.842855240648522}\n"
     ]
    },
    {
     "data": {
      "application/vnd.jupyter.widget-view+json": {
       "model_id": "",
       "version_major": 2,
       "version_minor": 0
      },
      "text/plain": [
       "Validation: 0it [00:00, ?it/s]"
      ]
     },
     "metadata": {},
     "output_type": "display_data"
    },
    {
     "name": "stderr",
     "output_type": "stream",
     "text": [
      "Epoch 13, global step 1750: 'val_loss' was not in top 3\n"
     ]
    },
    {
     "name": "stdout",
     "output_type": "stream",
     "text": [
      "Epoch 14\n",
      "Creating dataset from Clustering elapsed time: 23.1859 seconds.\n",
      "Feature extracting elapsed time: 557.3936 seconds.\n",
      "Clustering elapsed time: 10.5033 seconds.\n",
      "Metrics: {'clu_homogeneity_score': 0.7313411855467973, 'clu_completeness_score': 0.7600143284026691, 'clu_v_measure_score': 0.745402118767229, 'clu_adjusted_rand_score': 0.697896551204677, 'clu_adjusted_mutual_info_score': 0.7451905232672873}\n"
     ]
    },
    {
     "data": {
      "application/vnd.jupyter.widget-view+json": {
       "model_id": "",
       "version_major": 2,
       "version_minor": 0
      },
      "text/plain": [
       "Validation: 0it [00:00, ?it/s]"
      ]
     },
     "metadata": {},
     "output_type": "display_data"
    },
    {
     "name": "stderr",
     "output_type": "stream",
     "text": [
      "Epoch 14, global step 1875: 'val_loss' reached 0.09393 (best 0.07909), saving model to './experiments/dvgg/version_0/checkpoints/dvgg-epoch=14-train_loss=0.0943-train_acc=0.9697-val_loss=0.0939-val_acc=0.9714.ckpt' as top 3\n"
     ]
    },
    {
     "name": "stdout",
     "output_type": "stream",
     "text": [
      "Epoch 15\n",
      "Creating dataset from Clustering elapsed time: 22.3867 seconds.\n",
      "Feature extracting elapsed time: 556.5845 seconds.\n",
      "Clustering elapsed time: 10.6713 seconds.\n",
      "Metrics: {'clu_homogeneity_score': 0.7858507524586372, 'clu_completeness_score': 0.7593397809053499, 'clu_v_measure_score': 0.772367841132353, 'clu_adjusted_rand_score': 0.7417719269198033, 'clu_adjusted_mutual_info_score': 0.7721782546770536}\n"
     ]
    },
    {
     "data": {
      "application/vnd.jupyter.widget-view+json": {
       "model_id": "",
       "version_major": 2,
       "version_minor": 0
      },
      "text/plain": [
       "Validation: 0it [00:00, ?it/s]"
      ]
     },
     "metadata": {},
     "output_type": "display_data"
    },
    {
     "name": "stderr",
     "output_type": "stream",
     "text": [
      "Epoch 15, global step 2000: 'val_loss' was not in top 3\n"
     ]
    },
    {
     "name": "stdout",
     "output_type": "stream",
     "text": [
      "Epoch 16\n",
      "Creating dataset from Clustering elapsed time: 26.3133 seconds.\n",
      "Feature extracting elapsed time: 644.5791 seconds.\n",
      "Clustering elapsed time: 11.6948 seconds.\n",
      "Metrics: {'clu_homogeneity_score': 0.9115162535105602, 'clu_completeness_score': 0.9088578695680747, 'clu_v_measure_score': 0.9101851204533901, 'clu_adjusted_rand_score': 0.9265924262720274, 'clu_adjusted_mutual_info_score': 0.9101116951017749}\n"
     ]
    },
    {
     "data": {
      "application/vnd.jupyter.widget-view+json": {
       "model_id": "",
       "version_major": 2,
       "version_minor": 0
      },
      "text/plain": [
       "Validation: 0it [00:00, ?it/s]"
      ]
     },
     "metadata": {},
     "output_type": "display_data"
    },
    {
     "name": "stderr",
     "output_type": "stream",
     "text": [
      "Epoch 16, global step 2125: 'val_loss' was not in top 3\n"
     ]
    },
    {
     "name": "stdout",
     "output_type": "stream",
     "text": [
      "Epoch 17\n",
      "Creating dataset from Clustering elapsed time: 24.6284 seconds.\n",
      "Feature extracting elapsed time: 576.3887 seconds.\n",
      "Clustering elapsed time: 10.3350 seconds.\n",
      "Metrics: {'clu_homogeneity_score': 0.8873351972052695, 'clu_completeness_score': 0.8939680192753292, 'clu_v_measure_score': 0.8906392593240099, 'clu_adjusted_rand_score': 0.8996732310715305, 'clu_adjusted_mutual_info_score': 0.8905496513804021}\n"
     ]
    },
    {
     "data": {
      "application/vnd.jupyter.widget-view+json": {
       "model_id": "",
       "version_major": 2,
       "version_minor": 0
      },
      "text/plain": [
       "Validation: 0it [00:00, ?it/s]"
      ]
     },
     "metadata": {},
     "output_type": "display_data"
    },
    {
     "name": "stderr",
     "output_type": "stream",
     "text": [
      "Epoch 17, global step 2250: 'val_loss' reached 0.08591 (best 0.07909), saving model to './experiments/dvgg/version_0/checkpoints/dvgg-epoch=17-train_loss=0.0557-train_acc=0.9845-val_loss=0.0859-val_acc=0.9784.ckpt' as top 3\n"
     ]
    },
    {
     "name": "stdout",
     "output_type": "stream",
     "text": [
      "Epoch 18\n",
      "Creating dataset from Clustering elapsed time: 24.4581 seconds.\n",
      "Feature extracting elapsed time: 608.1484 seconds.\n",
      "Clustering elapsed time: 11.0091 seconds.\n",
      "Metrics: {'clu_homogeneity_score': 0.8110749447410583, 'clu_completeness_score': 0.8141892419394198, 'clu_v_measure_score': 0.8126291095647029, 'clu_adjusted_rand_score': 0.8141527697547376, 'clu_adjusted_mutual_info_score': 0.812474705955266}\n"
     ]
    },
    {
     "data": {
      "application/vnd.jupyter.widget-view+json": {
       "model_id": "",
       "version_major": 2,
       "version_minor": 0
      },
      "text/plain": [
       "Validation: 0it [00:00, ?it/s]"
      ]
     },
     "metadata": {},
     "output_type": "display_data"
    },
    {
     "name": "stderr",
     "output_type": "stream",
     "text": [
      "Epoch 18, global step 2375: 'val_loss' was not in top 3\n"
     ]
    },
    {
     "name": "stdout",
     "output_type": "stream",
     "text": [
      "Epoch 19\n",
      "Creating dataset from Clustering elapsed time: 24.0869 seconds.\n",
      "Feature extracting elapsed time: 584.4496 seconds.\n",
      "Clustering elapsed time: 9.3173 seconds.\n",
      "Metrics: {'clu_homogeneity_score': 0.8711702849923291, 'clu_completeness_score': 0.8621439325678522, 'clu_v_measure_score': 0.8666336061060614, 'clu_adjusted_rand_score': 0.8741030151031518, 'clu_adjusted_mutual_info_score': 0.866524070032208}\n"
     ]
    },
    {
     "data": {
      "application/vnd.jupyter.widget-view+json": {
       "model_id": "",
       "version_major": 2,
       "version_minor": 0
      },
      "text/plain": [
       "Validation: 0it [00:00, ?it/s]"
      ]
     },
     "metadata": {},
     "output_type": "display_data"
    },
    {
     "name": "stderr",
     "output_type": "stream",
     "text": [
      "Epoch 19, global step 2500: 'val_loss' was not in top 3\n"
     ]
    },
    {
     "name": "stdout",
     "output_type": "stream",
     "text": [
      "Epoch 20\n",
      "Creating dataset from Clustering elapsed time: 23.3767 seconds.\n",
      "Feature extracting elapsed time: 543.4325 seconds.\n",
      "Clustering elapsed time: 9.4779 seconds.\n",
      "Metrics: {'clu_homogeneity_score': 0.8524151774533497, 'clu_completeness_score': 0.858599834823859, 'clu_v_measure_score': 0.8554963285666614, 'clu_adjusted_rand_score': 0.8626476359166871, 'clu_adjusted_mutual_info_score': 0.8553778342237599}\n"
     ]
    },
    {
     "data": {
      "application/vnd.jupyter.widget-view+json": {
       "model_id": "",
       "version_major": 2,
       "version_minor": 0
      },
      "text/plain": [
       "Validation: 0it [00:00, ?it/s]"
      ]
     },
     "metadata": {},
     "output_type": "display_data"
    },
    {
     "name": "stderr",
     "output_type": "stream",
     "text": [
      "Epoch 20, global step 2625: 'val_loss' was not in top 3\n"
     ]
    },
    {
     "name": "stdout",
     "output_type": "stream",
     "text": [
      "Epoch 21\n",
      "Creating dataset from Clustering elapsed time: 23.2772 seconds.\n",
      "Feature extracting elapsed time: 558.8822 seconds.\n",
      "Clustering elapsed time: 11.9769 seconds.\n",
      "Metrics: {'clu_homogeneity_score': 0.7482558709339485, 'clu_completeness_score': 0.7845129798617192, 'clu_v_measure_score': 0.7659556008079038, 'clu_adjusted_rand_score': 0.6772047272758599, 'clu_adjusted_mutual_info_score': 0.7657583873695951}\n"
     ]
    },
    {
     "data": {
      "application/vnd.jupyter.widget-view+json": {
       "model_id": "",
       "version_major": 2,
       "version_minor": 0
      },
      "text/plain": [
       "Validation: 0it [00:00, ?it/s]"
      ]
     },
     "metadata": {},
     "output_type": "display_data"
    },
    {
     "name": "stderr",
     "output_type": "stream",
     "text": [
      "Epoch 21, global step 2750: 'val_loss' was not in top 3\n"
     ]
    },
    {
     "name": "stdout",
     "output_type": "stream",
     "text": [
      "Epoch 22\n",
      "Creating dataset from Clustering elapsed time: 23.1010 seconds.\n",
      "Feature extracting elapsed time: 555.7444 seconds.\n",
      "Clustering elapsed time: 10.4106 seconds.\n",
      "Metrics: {'clu_homogeneity_score': 0.7727409698611927, 'clu_completeness_score': 0.7399917926674143, 'clu_v_measure_score': 0.7560118875184694, 'clu_adjusted_rand_score': 0.660267629703336, 'clu_adjusted_mutual_info_score': 0.7558058686343604}\n"
     ]
    },
    {
     "data": {
      "application/vnd.jupyter.widget-view+json": {
       "model_id": "",
       "version_major": 2,
       "version_minor": 0
      },
      "text/plain": [
       "Validation: 0it [00:00, ?it/s]"
      ]
     },
     "metadata": {},
     "output_type": "display_data"
    },
    {
     "name": "stderr",
     "output_type": "stream",
     "text": [
      "Epoch 22, global step 2875: 'val_loss' reached 0.08896 (best 0.07909), saving model to './experiments/dvgg/version_0/checkpoints/dvgg-epoch=22-train_loss=0.1264-train_acc=0.9692-val_loss=0.0890-val_acc=0.9790.ckpt' as top 3\n"
     ]
    },
    {
     "name": "stdout",
     "output_type": "stream",
     "text": [
      "Epoch 23\n",
      "Creating dataset from Clustering elapsed time: 22.9738 seconds.\n",
      "Feature extracting elapsed time: 593.4096 seconds.\n",
      "Clustering elapsed time: 10.0107 seconds.\n",
      "Metrics: {'clu_homogeneity_score': 0.8495824641602565, 'clu_completeness_score': 0.840701473226583, 'clu_v_measure_score': 0.8451186377020344, 'clu_adjusted_rand_score': 0.8356809347782133, 'clu_adjusted_mutual_info_score': 0.8449913300584377}\n"
     ]
    },
    {
     "data": {
      "application/vnd.jupyter.widget-view+json": {
       "model_id": "",
       "version_major": 2,
       "version_minor": 0
      },
      "text/plain": [
       "Validation: 0it [00:00, ?it/s]"
      ]
     },
     "metadata": {},
     "output_type": "display_data"
    },
    {
     "name": "stderr",
     "output_type": "stream",
     "text": [
      "Epoch 23, global step 3000: 'val_loss' was not in top 3\n"
     ]
    },
    {
     "name": "stdout",
     "output_type": "stream",
     "text": [
      "Epoch 24\n",
      "Creating dataset from Clustering elapsed time: 21.8774 seconds.\n",
      "Feature extracting elapsed time: 518.1050 seconds.\n",
      "Clustering elapsed time: 12.0997 seconds.\n",
      "Metrics: {'clu_homogeneity_score': 0.6867190917295003, 'clu_completeness_score': 0.8083359586315303, 'clu_v_measure_score': 0.7425809975220541, 'clu_adjusted_rand_score': 0.6156182517400948, 'clu_adjusted_mutual_info_score': 0.7423532491464558}\n"
     ]
    },
    {
     "data": {
      "application/vnd.jupyter.widget-view+json": {
       "model_id": "",
       "version_major": 2,
       "version_minor": 0
      },
      "text/plain": [
       "Validation: 0it [00:00, ?it/s]"
      ]
     },
     "metadata": {},
     "output_type": "display_data"
    },
    {
     "name": "stderr",
     "output_type": "stream",
     "text": [
      "Epoch 24, global step 3125: 'val_loss' was not in top 3\n"
     ]
    },
    {
     "name": "stdout",
     "output_type": "stream",
     "text": [
      "Epoch 25\n",
      "Creating dataset from Clustering elapsed time: 22.0994 seconds.\n",
      "Feature extracting elapsed time: 546.3733 seconds.\n",
      "Clustering elapsed time: 11.1592 seconds.\n",
      "Metrics: {'clu_homogeneity_score': 0.7619620464051503, 'clu_completeness_score': 0.6602237844373772, 'clu_v_measure_score': 0.7074539134976925, 'clu_adjusted_rand_score': 0.6039644917032956, 'clu_adjusted_mutual_info_score': 0.70719229557886}\n"
     ]
    },
    {
     "data": {
      "application/vnd.jupyter.widget-view+json": {
       "model_id": "",
       "version_major": 2,
       "version_minor": 0
      },
      "text/plain": [
       "Validation: 0it [00:00, ?it/s]"
      ]
     },
     "metadata": {},
     "output_type": "display_data"
    },
    {
     "name": "stderr",
     "output_type": "stream",
     "text": [
      "Epoch 25, global step 3250: 'val_loss' was not in top 3\n"
     ]
    },
    {
     "name": "stdout",
     "output_type": "stream",
     "text": [
      "Epoch 26\n",
      "Creating dataset from Clustering elapsed time: 25.6653 seconds.\n",
      "Feature extracting elapsed time: 622.6046 seconds.\n",
      "Clustering elapsed time: 11.2843 seconds.\n",
      "Metrics: {'clu_homogeneity_score': 0.7921073306924258, 'clu_completeness_score': 0.7767104731532536, 'clu_v_measure_score': 0.7843333471893644, 'clu_adjusted_rand_score': 0.7537660568850488, 'clu_adjusted_mutual_info_score': 0.7841552486919519}\n"
     ]
    },
    {
     "data": {
      "application/vnd.jupyter.widget-view+json": {
       "model_id": "",
       "version_major": 2,
       "version_minor": 0
      },
      "text/plain": [
       "Validation: 0it [00:00, ?it/s]"
      ]
     },
     "metadata": {},
     "output_type": "display_data"
    },
    {
     "name": "stderr",
     "output_type": "stream",
     "text": [
      "Epoch 26, global step 3375: 'val_loss' reached 0.08435 (best 0.07909), saving model to './experiments/dvgg/version_0/checkpoints/dvgg-epoch=26-train_loss=0.0685-train_acc=0.9790-val_loss=0.0843-val_acc=0.9802.ckpt' as top 3\n"
     ]
    },
    {
     "name": "stdout",
     "output_type": "stream",
     "text": [
      "Epoch 27\n",
      "Creating dataset from Clustering elapsed time: 24.6920 seconds.\n",
      "Feature extracting elapsed time: 615.3635 seconds.\n",
      "Clustering elapsed time: 11.7423 seconds.\n",
      "Metrics: {'clu_homogeneity_score': 0.9427228975369203, 'clu_completeness_score': 0.9431249055010227, 'clu_v_measure_score': 0.9429238586707621, 'clu_adjusted_rand_score': 0.95835619105371, 'clu_adjusted_mutual_info_score': 0.9428771761439892}\n"
     ]
    },
    {
     "data": {
      "application/vnd.jupyter.widget-view+json": {
       "model_id": "",
       "version_major": 2,
       "version_minor": 0
      },
      "text/plain": [
       "Validation: 0it [00:00, ?it/s]"
      ]
     },
     "metadata": {},
     "output_type": "display_data"
    },
    {
     "name": "stderr",
     "output_type": "stream",
     "text": [
      "Epoch 27, global step 3500: 'val_loss' reached 0.08195 (best 0.07909), saving model to './experiments/dvgg/version_0/checkpoints/dvgg-epoch=27-train_loss=0.0349-train_acc=0.9867-val_loss=0.0819-val_acc=0.9860.ckpt' as top 3\n"
     ]
    },
    {
     "name": "stdout",
     "output_type": "stream",
     "text": [
      "Epoch 28\n",
      "Creating dataset from Clustering elapsed time: 21.4180 seconds.\n",
      "Feature extracting elapsed time: 523.5938 seconds.\n",
      "Clustering elapsed time: 9.9797 seconds.\n",
      "Metrics: {'clu_homogeneity_score': 0.9353812290624074, 'clu_completeness_score': 0.9341401874560683, 'clu_v_measure_score': 0.9347602963398409, 'clu_adjusted_rand_score': 0.949239695305149, 'clu_adjusted_mutual_info_score': 0.9347069610945775}\n"
     ]
    },
    {
     "data": {
      "application/vnd.jupyter.widget-view+json": {
       "model_id": "",
       "version_major": 2,
       "version_minor": 0
      },
      "text/plain": [
       "Validation: 0it [00:00, ?it/s]"
      ]
     },
     "metadata": {},
     "output_type": "display_data"
    },
    {
     "name": "stderr",
     "output_type": "stream",
     "text": [
      "Epoch 28, global step 3625: 'val_loss' was not in top 3\n"
     ]
    },
    {
     "name": "stdout",
     "output_type": "stream",
     "text": [
      "Epoch 29\n",
      "Creating dataset from Clustering elapsed time: 22.2306 seconds.\n",
      "Feature extracting elapsed time: 506.7209 seconds.\n",
      "Clustering elapsed time: 10.1402 seconds.\n",
      "Metrics: {'clu_homogeneity_score': 0.8998683600036825, 'clu_completeness_score': 0.8982309224077143, 'clu_v_measure_score': 0.8990488956401151, 'clu_adjusted_rand_score': 0.91407012801003, 'clu_adjusted_mutual_info_score': 0.8989664962742445}\n"
     ]
    },
    {
     "data": {
      "application/vnd.jupyter.widget-view+json": {
       "model_id": "",
       "version_major": 2,
       "version_minor": 0
      },
      "text/plain": [
       "Validation: 0it [00:00, ?it/s]"
      ]
     },
     "metadata": {},
     "output_type": "display_data"
    },
    {
     "name": "stderr",
     "output_type": "stream",
     "text": [
      "Epoch 29, global step 3750: 'val_loss' was not in top 3\n",
      "`Trainer.fit` stopped: `max_epochs=30` reached.\n"
     ]
    }
   ],
   "source": [
    "trainer.fit(\n",
    "    model,\n",
    "    train_dataloaders=brain_tumor.train_dataloader,\n",
    "    val_dataloaders=brain_tumor.val_dataloader\n",
    ")"
   ]
  },
  {
   "cell_type": "code",
   "execution_count": 6,
   "id": "39653f1f-e705-4912-8266-7f3b1b0bdf86",
   "metadata": {},
   "outputs": [],
   "source": [
    "with open(f\"{trainer.logger.log_dir}/dvgg-timing.dump\", \"wb\") as f:\n",
    "    pickle.dump(model.timers, f)"
   ]
  },
  {
   "cell_type": "code",
   "execution_count": 7,
   "id": "cd133e29-1456-414f-9004-b1e1334e7e47",
   "metadata": {},
   "outputs": [],
   "source": [
    "with open(f\"{trainer.logger.log_dir}/dvgg-original-targets.dump\", \"wb\") as f:\n",
    "    pickle.dump(model.original_train_targets, f)"
   ]
  },
  {
   "cell_type": "code",
   "execution_count": 14,
   "id": "8f7b2586-d664-4f39-b5e3-4e5c755c278d",
   "metadata": {},
   "outputs": [
    {
     "name": "stdout",
     "output_type": "stream",
     "text": [
      "Sequential(\n",
      "  (0): Conv2d(3, 64, kernel_size=(3, 3), stride=(1, 1), padding=(1, 1))\n",
      "  (1): ReLU(inplace=True)\n",
      "  (2): Conv2d(64, 64, kernel_size=(3, 3), stride=(1, 1), padding=(1, 1))\n",
      "  (3): ReLU(inplace=True)\n",
      "  (4): MaxPool2d(kernel_size=2, stride=2, padding=0, dilation=1, ceil_mode=False)\n",
      "  (5): Conv2d(64, 128, kernel_size=(3, 3), stride=(1, 1), padding=(1, 1))\n",
      "  (6): ReLU(inplace=True)\n",
      "  (7): Conv2d(128, 128, kernel_size=(3, 3), stride=(1, 1), padding=(1, 1))\n",
      "  (8): ReLU(inplace=True)\n",
      "  (9): MaxPool2d(kernel_size=2, stride=2, padding=0, dilation=1, ceil_mode=False)\n",
      "  (10): Conv2d(128, 256, kernel_size=(3, 3), stride=(1, 1), padding=(1, 1))\n",
      "  (11): ReLU(inplace=True)\n",
      "  (12): Conv2d(256, 256, kernel_size=(3, 3), stride=(1, 1), padding=(1, 1))\n",
      "  (13): ReLU(inplace=True)\n",
      "  (14): Conv2d(256, 256, kernel_size=(3, 3), stride=(1, 1), padding=(1, 1))\n",
      "  (15): ReLU(inplace=True)\n",
      "  (16): MaxPool2d(kernel_size=2, stride=2, padding=0, dilation=1, ceil_mode=False)\n",
      "  (17): Conv2d(256, 512, kernel_size=(3, 3), stride=(1, 1), padding=(1, 1))\n",
      "  (18): ReLU(inplace=True)\n",
      "  (19): Conv2d(512, 512, kernel_size=(3, 3), stride=(1, 1), padding=(1, 1))\n",
      "  (20): ReLU(inplace=True)\n",
      "  (21): Conv2d(512, 512, kernel_size=(3, 3), stride=(1, 1), padding=(1, 1))\n",
      "  (22): ReLU(inplace=True)\n",
      "  (23): MaxPool2d(kernel_size=2, stride=2, padding=0, dilation=1, ceil_mode=False)\n",
      "  (24): Conv2d(512, 512, kernel_size=(3, 3), stride=(1, 1), padding=(1, 1))\n",
      "  (25): ReLU(inplace=True)\n",
      "  (26): Conv2d(512, 512, kernel_size=(3, 3), stride=(1, 1), padding=(1, 1))\n",
      "  (27): ReLU(inplace=True)\n",
      "  (28): Conv2d(512, 512, kernel_size=(3, 3), stride=(1, 1), padding=(1, 1))\n",
      "  (29): ReLU(inplace=True)\n",
      "  (30): MaxPool2d(kernel_size=2, stride=2, padding=0, dilation=1, ceil_mode=False)\n",
      ")\n"
     ]
    }
   ],
   "source": [
    "print(model.model.feature_extractor)"
   ]
  },
  {
   "cell_type": "markdown",
   "id": "9c0a924a-2b66-4e95-8838-b906cd2c0024",
   "metadata": {},
   "source": [
    "## TESTING"
   ]
  },
  {
   "cell_type": "code",
   "execution_count": 8,
   "id": "f0fdee35-c629-4035-8d7e-9974860cada4",
   "metadata": {},
   "outputs": [
    {
     "data": {
      "application/vnd.jupyter.widget-view+json": {
       "model_id": "10c342ef95de4a6a9dcc12f7afca7463",
       "version_major": 2,
       "version_minor": 0
      },
      "text/plain": [
       "Predicting: 0it [00:00, ?it/s]"
      ]
     },
     "metadata": {},
     "output_type": "display_data"
    }
   ],
   "source": [
    "batch_preds = trainer.predict(model, dataloaders=brain_tumor.test_dataloader)"
   ]
  },
  {
   "cell_type": "code",
   "execution_count": 9,
   "id": "59a7db4c-aab1-4792-bb51-1f8d405edf89",
   "metadata": {},
   "outputs": [],
   "source": [
    "truth_labels = []\n",
    "preds_labels = []\n",
    "for truth, pred in batch_preds:\n",
    "    truth_labels.append(truth)\n",
    "    preds_labels.append(pred)\n",
    "truth_labels = np.concatenate(truth_labels)\n",
    "preds_labels = np.concatenate(preds_labels)"
   ]
  },
  {
   "cell_type": "code",
   "execution_count": 10,
   "id": "b8702328-a73c-4e57-a92b-124406d66a6d",
   "metadata": {},
   "outputs": [],
   "source": [
    "with open(f\"{trainer.logger.log_dir}/dvgg-preds.dump\", \"wb\") as f:\n",
    "    pickle.dump([truth_labels, preds_labels], f)"
   ]
  },
  {
   "cell_type": "code",
   "execution_count": null,
   "id": "9b6065f7-ce6b-4ebe-8b3b-31ba821dea47",
   "metadata": {},
   "outputs": [],
   "source": []
  }
 ],
 "metadata": {
  "availableInstances": [
   {
    "_defaultOrder": 0,
    "_isFastLaunch": true,
    "category": "General purpose",
    "gpuNum": 0,
    "hideHardwareSpecs": false,
    "memoryGiB": 4,
    "name": "ml.t3.medium",
    "vcpuNum": 2
   },
   {
    "_defaultOrder": 1,
    "_isFastLaunch": false,
    "category": "General purpose",
    "gpuNum": 0,
    "hideHardwareSpecs": false,
    "memoryGiB": 8,
    "name": "ml.t3.large",
    "vcpuNum": 2
   },
   {
    "_defaultOrder": 2,
    "_isFastLaunch": false,
    "category": "General purpose",
    "gpuNum": 0,
    "hideHardwareSpecs": false,
    "memoryGiB": 16,
    "name": "ml.t3.xlarge",
    "vcpuNum": 4
   },
   {
    "_defaultOrder": 3,
    "_isFastLaunch": false,
    "category": "General purpose",
    "gpuNum": 0,
    "hideHardwareSpecs": false,
    "memoryGiB": 32,
    "name": "ml.t3.2xlarge",
    "vcpuNum": 8
   },
   {
    "_defaultOrder": 4,
    "_isFastLaunch": true,
    "category": "General purpose",
    "gpuNum": 0,
    "hideHardwareSpecs": false,
    "memoryGiB": 8,
    "name": "ml.m5.large",
    "vcpuNum": 2
   },
   {
    "_defaultOrder": 5,
    "_isFastLaunch": false,
    "category": "General purpose",
    "gpuNum": 0,
    "hideHardwareSpecs": false,
    "memoryGiB": 16,
    "name": "ml.m5.xlarge",
    "vcpuNum": 4
   },
   {
    "_defaultOrder": 6,
    "_isFastLaunch": false,
    "category": "General purpose",
    "gpuNum": 0,
    "hideHardwareSpecs": false,
    "memoryGiB": 32,
    "name": "ml.m5.2xlarge",
    "vcpuNum": 8
   },
   {
    "_defaultOrder": 7,
    "_isFastLaunch": false,
    "category": "General purpose",
    "gpuNum": 0,
    "hideHardwareSpecs": false,
    "memoryGiB": 64,
    "name": "ml.m5.4xlarge",
    "vcpuNum": 16
   },
   {
    "_defaultOrder": 8,
    "_isFastLaunch": false,
    "category": "General purpose",
    "gpuNum": 0,
    "hideHardwareSpecs": false,
    "memoryGiB": 128,
    "name": "ml.m5.8xlarge",
    "vcpuNum": 32
   },
   {
    "_defaultOrder": 9,
    "_isFastLaunch": false,
    "category": "General purpose",
    "gpuNum": 0,
    "hideHardwareSpecs": false,
    "memoryGiB": 192,
    "name": "ml.m5.12xlarge",
    "vcpuNum": 48
   },
   {
    "_defaultOrder": 10,
    "_isFastLaunch": false,
    "category": "General purpose",
    "gpuNum": 0,
    "hideHardwareSpecs": false,
    "memoryGiB": 256,
    "name": "ml.m5.16xlarge",
    "vcpuNum": 64
   },
   {
    "_defaultOrder": 11,
    "_isFastLaunch": false,
    "category": "General purpose",
    "gpuNum": 0,
    "hideHardwareSpecs": false,
    "memoryGiB": 384,
    "name": "ml.m5.24xlarge",
    "vcpuNum": 96
   },
   {
    "_defaultOrder": 12,
    "_isFastLaunch": false,
    "category": "General purpose",
    "gpuNum": 0,
    "hideHardwareSpecs": false,
    "memoryGiB": 8,
    "name": "ml.m5d.large",
    "vcpuNum": 2
   },
   {
    "_defaultOrder": 13,
    "_isFastLaunch": false,
    "category": "General purpose",
    "gpuNum": 0,
    "hideHardwareSpecs": false,
    "memoryGiB": 16,
    "name": "ml.m5d.xlarge",
    "vcpuNum": 4
   },
   {
    "_defaultOrder": 14,
    "_isFastLaunch": false,
    "category": "General purpose",
    "gpuNum": 0,
    "hideHardwareSpecs": false,
    "memoryGiB": 32,
    "name": "ml.m5d.2xlarge",
    "vcpuNum": 8
   },
   {
    "_defaultOrder": 15,
    "_isFastLaunch": false,
    "category": "General purpose",
    "gpuNum": 0,
    "hideHardwareSpecs": false,
    "memoryGiB": 64,
    "name": "ml.m5d.4xlarge",
    "vcpuNum": 16
   },
   {
    "_defaultOrder": 16,
    "_isFastLaunch": false,
    "category": "General purpose",
    "gpuNum": 0,
    "hideHardwareSpecs": false,
    "memoryGiB": 128,
    "name": "ml.m5d.8xlarge",
    "vcpuNum": 32
   },
   {
    "_defaultOrder": 17,
    "_isFastLaunch": false,
    "category": "General purpose",
    "gpuNum": 0,
    "hideHardwareSpecs": false,
    "memoryGiB": 192,
    "name": "ml.m5d.12xlarge",
    "vcpuNum": 48
   },
   {
    "_defaultOrder": 18,
    "_isFastLaunch": false,
    "category": "General purpose",
    "gpuNum": 0,
    "hideHardwareSpecs": false,
    "memoryGiB": 256,
    "name": "ml.m5d.16xlarge",
    "vcpuNum": 64
   },
   {
    "_defaultOrder": 19,
    "_isFastLaunch": false,
    "category": "General purpose",
    "gpuNum": 0,
    "hideHardwareSpecs": false,
    "memoryGiB": 384,
    "name": "ml.m5d.24xlarge",
    "vcpuNum": 96
   },
   {
    "_defaultOrder": 20,
    "_isFastLaunch": false,
    "category": "General purpose",
    "gpuNum": 0,
    "hideHardwareSpecs": true,
    "memoryGiB": 0,
    "name": "ml.geospatial.interactive",
    "supportedImageNames": [
     "sagemaker-geospatial-v1-0"
    ],
    "vcpuNum": 0
   },
   {
    "_defaultOrder": 21,
    "_isFastLaunch": true,
    "category": "Compute optimized",
    "gpuNum": 0,
    "hideHardwareSpecs": false,
    "memoryGiB": 4,
    "name": "ml.c5.large",
    "vcpuNum": 2
   },
   {
    "_defaultOrder": 22,
    "_isFastLaunch": false,
    "category": "Compute optimized",
    "gpuNum": 0,
    "hideHardwareSpecs": false,
    "memoryGiB": 8,
    "name": "ml.c5.xlarge",
    "vcpuNum": 4
   },
   {
    "_defaultOrder": 23,
    "_isFastLaunch": false,
    "category": "Compute optimized",
    "gpuNum": 0,
    "hideHardwareSpecs": false,
    "memoryGiB": 16,
    "name": "ml.c5.2xlarge",
    "vcpuNum": 8
   },
   {
    "_defaultOrder": 24,
    "_isFastLaunch": false,
    "category": "Compute optimized",
    "gpuNum": 0,
    "hideHardwareSpecs": false,
    "memoryGiB": 32,
    "name": "ml.c5.4xlarge",
    "vcpuNum": 16
   },
   {
    "_defaultOrder": 25,
    "_isFastLaunch": false,
    "category": "Compute optimized",
    "gpuNum": 0,
    "hideHardwareSpecs": false,
    "memoryGiB": 72,
    "name": "ml.c5.9xlarge",
    "vcpuNum": 36
   },
   {
    "_defaultOrder": 26,
    "_isFastLaunch": false,
    "category": "Compute optimized",
    "gpuNum": 0,
    "hideHardwareSpecs": false,
    "memoryGiB": 96,
    "name": "ml.c5.12xlarge",
    "vcpuNum": 48
   },
   {
    "_defaultOrder": 27,
    "_isFastLaunch": false,
    "category": "Compute optimized",
    "gpuNum": 0,
    "hideHardwareSpecs": false,
    "memoryGiB": 144,
    "name": "ml.c5.18xlarge",
    "vcpuNum": 72
   },
   {
    "_defaultOrder": 28,
    "_isFastLaunch": false,
    "category": "Compute optimized",
    "gpuNum": 0,
    "hideHardwareSpecs": false,
    "memoryGiB": 192,
    "name": "ml.c5.24xlarge",
    "vcpuNum": 96
   },
   {
    "_defaultOrder": 29,
    "_isFastLaunch": true,
    "category": "Accelerated computing",
    "gpuNum": 1,
    "hideHardwareSpecs": false,
    "memoryGiB": 16,
    "name": "ml.g4dn.xlarge",
    "vcpuNum": 4
   },
   {
    "_defaultOrder": 30,
    "_isFastLaunch": false,
    "category": "Accelerated computing",
    "gpuNum": 1,
    "hideHardwareSpecs": false,
    "memoryGiB": 32,
    "name": "ml.g4dn.2xlarge",
    "vcpuNum": 8
   },
   {
    "_defaultOrder": 31,
    "_isFastLaunch": false,
    "category": "Accelerated computing",
    "gpuNum": 1,
    "hideHardwareSpecs": false,
    "memoryGiB": 64,
    "name": "ml.g4dn.4xlarge",
    "vcpuNum": 16
   },
   {
    "_defaultOrder": 32,
    "_isFastLaunch": false,
    "category": "Accelerated computing",
    "gpuNum": 1,
    "hideHardwareSpecs": false,
    "memoryGiB": 128,
    "name": "ml.g4dn.8xlarge",
    "vcpuNum": 32
   },
   {
    "_defaultOrder": 33,
    "_isFastLaunch": false,
    "category": "Accelerated computing",
    "gpuNum": 4,
    "hideHardwareSpecs": false,
    "memoryGiB": 192,
    "name": "ml.g4dn.12xlarge",
    "vcpuNum": 48
   },
   {
    "_defaultOrder": 34,
    "_isFastLaunch": false,
    "category": "Accelerated computing",
    "gpuNum": 1,
    "hideHardwareSpecs": false,
    "memoryGiB": 256,
    "name": "ml.g4dn.16xlarge",
    "vcpuNum": 64
   },
   {
    "_defaultOrder": 35,
    "_isFastLaunch": false,
    "category": "Accelerated computing",
    "gpuNum": 1,
    "hideHardwareSpecs": false,
    "memoryGiB": 61,
    "name": "ml.p3.2xlarge",
    "vcpuNum": 8
   },
   {
    "_defaultOrder": 36,
    "_isFastLaunch": false,
    "category": "Accelerated computing",
    "gpuNum": 4,
    "hideHardwareSpecs": false,
    "memoryGiB": 244,
    "name": "ml.p3.8xlarge",
    "vcpuNum": 32
   },
   {
    "_defaultOrder": 37,
    "_isFastLaunch": false,
    "category": "Accelerated computing",
    "gpuNum": 8,
    "hideHardwareSpecs": false,
    "memoryGiB": 488,
    "name": "ml.p3.16xlarge",
    "vcpuNum": 64
   },
   {
    "_defaultOrder": 38,
    "_isFastLaunch": false,
    "category": "Accelerated computing",
    "gpuNum": 8,
    "hideHardwareSpecs": false,
    "memoryGiB": 768,
    "name": "ml.p3dn.24xlarge",
    "vcpuNum": 96
   },
   {
    "_defaultOrder": 39,
    "_isFastLaunch": false,
    "category": "Memory Optimized",
    "gpuNum": 0,
    "hideHardwareSpecs": false,
    "memoryGiB": 16,
    "name": "ml.r5.large",
    "vcpuNum": 2
   },
   {
    "_defaultOrder": 40,
    "_isFastLaunch": false,
    "category": "Memory Optimized",
    "gpuNum": 0,
    "hideHardwareSpecs": false,
    "memoryGiB": 32,
    "name": "ml.r5.xlarge",
    "vcpuNum": 4
   },
   {
    "_defaultOrder": 41,
    "_isFastLaunch": false,
    "category": "Memory Optimized",
    "gpuNum": 0,
    "hideHardwareSpecs": false,
    "memoryGiB": 64,
    "name": "ml.r5.2xlarge",
    "vcpuNum": 8
   },
   {
    "_defaultOrder": 42,
    "_isFastLaunch": false,
    "category": "Memory Optimized",
    "gpuNum": 0,
    "hideHardwareSpecs": false,
    "memoryGiB": 128,
    "name": "ml.r5.4xlarge",
    "vcpuNum": 16
   },
   {
    "_defaultOrder": 43,
    "_isFastLaunch": false,
    "category": "Memory Optimized",
    "gpuNum": 0,
    "hideHardwareSpecs": false,
    "memoryGiB": 256,
    "name": "ml.r5.8xlarge",
    "vcpuNum": 32
   },
   {
    "_defaultOrder": 44,
    "_isFastLaunch": false,
    "category": "Memory Optimized",
    "gpuNum": 0,
    "hideHardwareSpecs": false,
    "memoryGiB": 384,
    "name": "ml.r5.12xlarge",
    "vcpuNum": 48
   },
   {
    "_defaultOrder": 45,
    "_isFastLaunch": false,
    "category": "Memory Optimized",
    "gpuNum": 0,
    "hideHardwareSpecs": false,
    "memoryGiB": 512,
    "name": "ml.r5.16xlarge",
    "vcpuNum": 64
   },
   {
    "_defaultOrder": 46,
    "_isFastLaunch": false,
    "category": "Memory Optimized",
    "gpuNum": 0,
    "hideHardwareSpecs": false,
    "memoryGiB": 768,
    "name": "ml.r5.24xlarge",
    "vcpuNum": 96
   },
   {
    "_defaultOrder": 47,
    "_isFastLaunch": false,
    "category": "Accelerated computing",
    "gpuNum": 1,
    "hideHardwareSpecs": false,
    "memoryGiB": 16,
    "name": "ml.g5.xlarge",
    "vcpuNum": 4
   },
   {
    "_defaultOrder": 48,
    "_isFastLaunch": false,
    "category": "Accelerated computing",
    "gpuNum": 1,
    "hideHardwareSpecs": false,
    "memoryGiB": 32,
    "name": "ml.g5.2xlarge",
    "vcpuNum": 8
   },
   {
    "_defaultOrder": 49,
    "_isFastLaunch": false,
    "category": "Accelerated computing",
    "gpuNum": 1,
    "hideHardwareSpecs": false,
    "memoryGiB": 64,
    "name": "ml.g5.4xlarge",
    "vcpuNum": 16
   },
   {
    "_defaultOrder": 50,
    "_isFastLaunch": false,
    "category": "Accelerated computing",
    "gpuNum": 1,
    "hideHardwareSpecs": false,
    "memoryGiB": 128,
    "name": "ml.g5.8xlarge",
    "vcpuNum": 32
   },
   {
    "_defaultOrder": 51,
    "_isFastLaunch": false,
    "category": "Accelerated computing",
    "gpuNum": 1,
    "hideHardwareSpecs": false,
    "memoryGiB": 256,
    "name": "ml.g5.16xlarge",
    "vcpuNum": 64
   },
   {
    "_defaultOrder": 52,
    "_isFastLaunch": false,
    "category": "Accelerated computing",
    "gpuNum": 4,
    "hideHardwareSpecs": false,
    "memoryGiB": 192,
    "name": "ml.g5.12xlarge",
    "vcpuNum": 48
   },
   {
    "_defaultOrder": 53,
    "_isFastLaunch": false,
    "category": "Accelerated computing",
    "gpuNum": 4,
    "hideHardwareSpecs": false,
    "memoryGiB": 384,
    "name": "ml.g5.24xlarge",
    "vcpuNum": 96
   },
   {
    "_defaultOrder": 54,
    "_isFastLaunch": false,
    "category": "Accelerated computing",
    "gpuNum": 8,
    "hideHardwareSpecs": false,
    "memoryGiB": 768,
    "name": "ml.g5.48xlarge",
    "vcpuNum": 192
   },
   {
    "_defaultOrder": 55,
    "_isFastLaunch": false,
    "category": "Accelerated computing",
    "gpuNum": 8,
    "hideHardwareSpecs": false,
    "memoryGiB": 1152,
    "name": "ml.p4d.24xlarge",
    "vcpuNum": 96
   },
   {
    "_defaultOrder": 56,
    "_isFastLaunch": false,
    "category": "Accelerated computing",
    "gpuNum": 8,
    "hideHardwareSpecs": false,
    "memoryGiB": 1152,
    "name": "ml.p4de.24xlarge",
    "vcpuNum": 96
   }
  ],
  "instance_type": "ml.t3.2xlarge",
  "kernelspec": {
   "display_name": "Python 3 (ipykernel)",
   "language": "python",
   "name": "python3"
  },
  "language_info": {
   "codemirror_mode": {
    "name": "ipython",
    "version": 3
   },
   "file_extension": ".py",
   "mimetype": "text/x-python",
   "name": "python",
   "nbconvert_exporter": "python",
   "pygments_lexer": "ipython3",
   "version": "3.9.0"
  }
 },
 "nbformat": 4,
 "nbformat_minor": 5
}
