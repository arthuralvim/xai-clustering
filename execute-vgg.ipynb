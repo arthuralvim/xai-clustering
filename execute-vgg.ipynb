{
 "cells": [
  {
   "cell_type": "markdown",
   "id": "d66906d4-5fd5-4f4d-a9e4-deaf153f19ff",
   "metadata": {},
   "source": [
    "# VGG + BRAIN TUMOR"
   ]
  },
  {
   "cell_type": "code",
   "execution_count": 1,
   "id": "c6459795-0ffa-48e4-88ad-f107c7511b81",
   "metadata": {
    "scrolled": true,
    "tags": []
   },
   "outputs": [],
   "source": [
    "# ! pip install torch torchvision numpy pydantic interpret faiss-cpu torchsummary matplotlib pandas seaborn scikit-learn scikit-image pytorch-lightning[extra] --no-cache-dir --ignore-installed"
   ]
  },
  {
   "cell_type": "code",
   "execution_count": 2,
   "id": "75aa24f3-0909-43f7-873a-fe992a9ed95c",
   "metadata": {
    "tags": []
   },
   "outputs": [
    {
     "name": "stderr",
     "output_type": "stream",
     "text": [
      "Global seed set to 42\n"
     ]
    }
   ],
   "source": [
    "import copy\n",
    "import os\n",
    "import pickle\n",
    "import logging\n",
    "import pandas as pd\n",
    "import numpy as np\n",
    "import torch\n",
    "import torch.nn as nn\n",
    "import torch.optim as optim\n",
    "\n",
    "from data.brain_tumor_mri import BrainTumorMRI\n",
    "from models.vgg import VGG\n",
    "from pytorch_lightning import Trainer, seed_everything\n",
    "\n",
    "from pytorch_lightning.callbacks import ModelCheckpoint\n",
    "from pytorch_lightning.callbacks.early_stopping import EarlyStopping\n",
    "from pytorch_lightning.callbacks import Timer\n",
    "from pytorch_lightning.callbacks import RichProgressBar\n",
    "\n",
    "from pytorch_lightning.loggers import CSVLogger\n",
    "from torchvision import transforms\n",
    "from torchvision.transforms import functional as F\n",
    "\n",
    "from helpers.prediction import get_labels_from_prediction\n",
    "from helpers.metrics import metrics_to_dataframe\n",
    "from report.plots import plot_loss_curve, plot_acc_curve, plot_analysis\n",
    "from report import basic_report\n",
    "\n",
    "seed_everything(42, workers=True)\n",
    "pd.set_option('display.max_rows', None)"
   ]
  },
  {
   "cell_type": "code",
   "execution_count": 3,
   "id": "ace844e8-db97-42bb-9b6a-79f7954bf0a4",
   "metadata": {
    "tags": []
   },
   "outputs": [],
   "source": [
    "BATCH_SIZE = 64\n",
    "VAL_SIZE = 0.3\n",
    "EPOCHS = 60\n",
    "DATASET_RANDOM = 37\n",
    "\n",
    "brain_tumor = BrainTumorMRI(val_size=VAL_SIZE, batch_size=BATCH_SIZE, random_state=DATASET_RANDOM, transformations=transforms.Compose(\n",
    "            [\n",
    "                transforms.Resize((255, 255)),\n",
    "                transforms.RandomHorizontalFlip(),\n",
    "                transforms.RandomRotation(10),\n",
    "                transforms.ToTensor(),\n",
    "                transforms.Normalize(\n",
    "                    mean=[0.485, 0.456, 0.406], std=[0.229, 0.224, 0.225]\n",
    "                ),\n",
    "            ]\n",
    "        ))"
   ]
  },
  {
   "cell_type": "markdown",
   "id": "a57e9863-57c1-42f1-99d7-ce5a349f1788",
   "metadata": {},
   "source": [
    "# MODEL"
   ]
  },
  {
   "cell_type": "code",
   "execution_count": 4,
   "id": "5384c80c-5603-4ae6-a828-47e4a7fa4109",
   "metadata": {
    "tags": []
   },
   "outputs": [
    {
     "name": "stderr",
     "output_type": "stream",
     "text": [
      "GPU available: False, used: False\n",
      "TPU available: False, using: 0 TPU cores\n",
      "IPU available: False, using: 0 IPUs\n",
      "HPU available: False, using: 0 HPUs\n"
     ]
    }
   ],
   "source": [
    "model = VGG(num_classes=4)\n",
    "\n",
    "timer = Timer()\n",
    "progress_bar = RichProgressBar()\n",
    "logger = CSVLogger(save_dir=\"./\", name=f\"experiments-1/{model.name}\", flush_logs_every_n_steps=1)\n",
    "checkpoint_callback = ModelCheckpoint(\n",
    "    filename=f\"{model.name}-\" + \"{epoch}-{train_loss:.4f}-{train_acc:.4f}-{val_loss:.4f}-{val_acc:.4f}\",\n",
    "    save_top_k=3, save_last=True, monitor=\"val_loss\", mode=\"min\", verbose=True\n",
    ")\n",
    "\n",
    "trainer = Trainer(\n",
    "    accelerator=\"auto\", \n",
    "    devices=\"auto\",\n",
    "    max_epochs=EPOCHS,\n",
    "    logger=logger,\n",
    "    callbacks=[timer, progress_bar, checkpoint_callback],\n",
    "    log_every_n_steps=1,    \n",
    "    # enable_progress_bar=False,\n",
    "    # limit_train_batches=DATASET_RATIO or 1.0,\n",
    "    # limit_val_batches=DATASET_RATIO or 1.0,\n",
    "    # limit_test_batches=DATASET_RATIO or 1.0\n",
    ")"
   ]
  },
  {
   "cell_type": "markdown",
   "id": "ddc53162-d5e6-47ee-9908-ffa20a93c712",
   "metadata": {},
   "source": [
    "## TRAINING"
   ]
  },
  {
   "cell_type": "code",
   "execution_count": 5,
   "id": "97b440ff-5e49-4f34-86b2-b413f63937ab",
   "metadata": {},
   "outputs": [
    {
     "data": {
      "text/html": [
       "<pre style=\"white-space:pre;overflow-x:auto;line-height:normal;font-family:Menlo,'DejaVu Sans Mono',consolas,'Courier New',monospace\">┏━━━┳━━━━━━━━━━━━━━━━━━━┳━━━━━━━━━━━━━━━━━━━━┳━━━━━━━━┓\n",
       "┃<span style=\"color: #800080; text-decoration-color: #800080; font-weight: bold\">   </span>┃<span style=\"color: #800080; text-decoration-color: #800080; font-weight: bold\"> Name              </span>┃<span style=\"color: #800080; text-decoration-color: #800080; font-weight: bold\"> Type               </span>┃<span style=\"color: #800080; text-decoration-color: #800080; font-weight: bold\"> Params </span>┃\n",
       "┡━━━╇━━━━━━━━━━━━━━━━━━━╇━━━━━━━━━━━━━━━━━━━━╇━━━━━━━━┩\n",
       "│<span style=\"color: #7f7f7f; text-decoration-color: #7f7f7f\"> 0 </span>│ loss_fn           │ CrossEntropyLoss   │      0 │\n",
       "│<span style=\"color: #7f7f7f; text-decoration-color: #7f7f7f\"> 1 </span>│ train_acc         │ MulticlassAccuracy │      0 │\n",
       "│<span style=\"color: #7f7f7f; text-decoration-color: #7f7f7f\"> 2 </span>│ val_acc           │ MulticlassAccuracy │      0 │\n",
       "│<span style=\"color: #7f7f7f; text-decoration-color: #7f7f7f\"> 3 </span>│ test_acc          │ MulticlassAccuracy │      0 │\n",
       "│<span style=\"color: #7f7f7f; text-decoration-color: #7f7f7f\"> 4 </span>│ feature_extractor │ Sequential         │ 14.7 M │\n",
       "│<span style=\"color: #7f7f7f; text-decoration-color: #7f7f7f\"> 5 </span>│ avgpool           │ AdaptiveAvgPool2d  │      0 │\n",
       "│<span style=\"color: #7f7f7f; text-decoration-color: #7f7f7f\"> 6 </span>│ classifier        │ Sequential         │  119 M │\n",
       "└───┴───────────────────┴────────────────────┴────────┘\n",
       "</pre>\n"
      ],
      "text/plain": [
       "┏━━━┳━━━━━━━━━━━━━━━━━━━┳━━━━━━━━━━━━━━━━━━━━┳━━━━━━━━┓\n",
       "┃\u001b[1;35m \u001b[0m\u001b[1;35m \u001b[0m\u001b[1;35m \u001b[0m┃\u001b[1;35m \u001b[0m\u001b[1;35mName             \u001b[0m\u001b[1;35m \u001b[0m┃\u001b[1;35m \u001b[0m\u001b[1;35mType              \u001b[0m\u001b[1;35m \u001b[0m┃\u001b[1;35m \u001b[0m\u001b[1;35mParams\u001b[0m\u001b[1;35m \u001b[0m┃\n",
       "┡━━━╇━━━━━━━━━━━━━━━━━━━╇━━━━━━━━━━━━━━━━━━━━╇━━━━━━━━┩\n",
       "│\u001b[2m \u001b[0m\u001b[2m0\u001b[0m\u001b[2m \u001b[0m│ loss_fn           │ CrossEntropyLoss   │      0 │\n",
       "│\u001b[2m \u001b[0m\u001b[2m1\u001b[0m\u001b[2m \u001b[0m│ train_acc         │ MulticlassAccuracy │      0 │\n",
       "│\u001b[2m \u001b[0m\u001b[2m2\u001b[0m\u001b[2m \u001b[0m│ val_acc           │ MulticlassAccuracy │      0 │\n",
       "│\u001b[2m \u001b[0m\u001b[2m3\u001b[0m\u001b[2m \u001b[0m│ test_acc          │ MulticlassAccuracy │      0 │\n",
       "│\u001b[2m \u001b[0m\u001b[2m4\u001b[0m\u001b[2m \u001b[0m│ feature_extractor │ Sequential         │ 14.7 M │\n",
       "│\u001b[2m \u001b[0m\u001b[2m5\u001b[0m\u001b[2m \u001b[0m│ avgpool           │ AdaptiveAvgPool2d  │      0 │\n",
       "│\u001b[2m \u001b[0m\u001b[2m6\u001b[0m\u001b[2m \u001b[0m│ classifier        │ Sequential         │  119 M │\n",
       "└───┴───────────────────┴────────────────────┴────────┘\n"
      ]
     },
     "metadata": {},
     "output_type": "display_data"
    },
    {
     "data": {
      "text/html": [
       "<pre style=\"white-space:pre;overflow-x:auto;line-height:normal;font-family:Menlo,'DejaVu Sans Mono',consolas,'Courier New',monospace\"><span style=\"font-weight: bold\">Trainable params</span>: 16.4 K                                                                                           \n",
       "<span style=\"font-weight: bold\">Non-trainable params</span>: 134 M                                                                                        \n",
       "<span style=\"font-weight: bold\">Total params</span>: 134 M                                                                                                \n",
       "<span style=\"font-weight: bold\">Total estimated model params size (MB)</span>: 537                                                                        \n",
       "</pre>\n"
      ],
      "text/plain": [
       "\u001b[1mTrainable params\u001b[0m: 16.4 K                                                                                           \n",
       "\u001b[1mNon-trainable params\u001b[0m: 134 M                                                                                        \n",
       "\u001b[1mTotal params\u001b[0m: 134 M                                                                                                \n",
       "\u001b[1mTotal estimated model params size (MB)\u001b[0m: 537                                                                        \n"
      ]
     },
     "metadata": {},
     "output_type": "display_data"
    },
    {
     "data": {
      "application/vnd.jupyter.widget-view+json": {
       "model_id": "949a74dddda34bb7bc6e67ebd5b623c8",
       "version_major": 2,
       "version_minor": 0
      },
      "text/plain": [
       "Output()"
      ]
     },
     "metadata": {},
     "output_type": "display_data"
    },
    {
     "name": "stderr",
     "output_type": "stream",
     "text": [
      "Epoch 0, global step 63: 'val_loss' reached 0.90577 (best 0.90577), saving model to './experiments-1/vgg/version_0/checkpoints/vgg-epoch=0-train_loss=1.1351-train_acc=0.5358-val_loss=0.9058-val_acc=0.7351.ckpt' as top 3\n",
      "Epoch 1, global step 126: 'val_loss' reached 0.73312 (best 0.73312), saving model to './experiments-1/vgg/version_0/checkpoints/vgg-epoch=1-train_loss=0.8284-train_acc=0.7136-val_loss=0.7331-val_acc=0.7783.ckpt' as top 3\n",
      "Epoch 2, global step 189: 'val_loss' reached 0.64217 (best 0.64217), saving model to './experiments-1/vgg/version_0/checkpoints/vgg-epoch=2-train_loss=0.6982-train_acc=0.7701-val_loss=0.6422-val_acc=0.8098.ckpt' as top 3\n",
      "Epoch 3, global step 252: 'val_loss' reached 0.59167 (best 0.59167), saving model to './experiments-1/vgg/version_0/checkpoints/vgg-epoch=3-train_loss=0.6352-train_acc=0.7894-val_loss=0.5917-val_acc=0.8127.ckpt' as top 3\n",
      "Epoch 4, global step 315: 'val_loss' reached 0.54967 (best 0.54967), saving model to './experiments-1/vgg/version_0/checkpoints/vgg-epoch=4-train_loss=0.5939-train_acc=0.7996-val_loss=0.5497-val_acc=0.8331.ckpt' as top 3\n",
      "Epoch 5, global step 378: 'val_loss' reached 0.52953 (best 0.52953), saving model to './experiments-1/vgg/version_0/checkpoints/vgg-epoch=5-train_loss=0.5551-train_acc=0.8084-val_loss=0.5295-val_acc=0.8162.ckpt' as top 3\n",
      "Epoch 6, global step 441: 'val_loss' reached 0.51006 (best 0.51006), saving model to './experiments-1/vgg/version_0/checkpoints/vgg-epoch=6-train_loss=0.5332-train_acc=0.8142-val_loss=0.5101-val_acc=0.8250.ckpt' as top 3\n",
      "Epoch 7, global step 504: 'val_loss' reached 0.48465 (best 0.48465), saving model to './experiments-1/vgg/version_0/checkpoints/vgg-epoch=7-train_loss=0.5255-train_acc=0.8142-val_loss=0.4846-val_acc=0.8308.ckpt' as top 3\n",
      "Epoch 8, global step 567: 'val_loss' reached 0.47842 (best 0.47842), saving model to './experiments-1/vgg/version_0/checkpoints/vgg-epoch=8-train_loss=0.4965-train_acc=0.8277-val_loss=0.4784-val_acc=0.8390.ckpt' as top 3\n",
      "Epoch 9, global step 630: 'val_loss' reached 0.46646 (best 0.46646), saving model to './experiments-1/vgg/version_0/checkpoints/vgg-epoch=9-train_loss=0.4915-train_acc=0.8269-val_loss=0.4665-val_acc=0.8442.ckpt' as top 3\n",
      "Epoch 10, global step 693: 'val_loss' reached 0.45434 (best 0.45434), saving model to './experiments-1/vgg/version_0/checkpoints/vgg-epoch=10-train_loss=0.4845-train_acc=0.8284-val_loss=0.4543-val_acc=0.8506.ckpt' as top 3\n",
      "Epoch 12, global step 819: 'val_loss' reached 0.45004 (best 0.45004), saving model to './experiments-1/vgg/version_0/checkpoints/vgg-epoch=12-train_loss=0.4672-train_acc=0.8322-val_loss=0.4500-val_acc=0.8477.ckpt' as top 3\n",
      "Epoch 13, global step 882: 'val_loss' reached 0.43614 (best 0.43614), saving model to './experiments-1/vgg/version_0/checkpoints/vgg-epoch=13-train_loss=0.4654-train_acc=0.8349-val_loss=0.4361-val_acc=0.8495.ckpt' as top 3\n",
      "Epoch 14, global step 945: 'val_loss' reached 0.44292 (best 0.43614), saving model to './experiments-1/vgg/version_0/checkpoints/vgg-epoch=14-train_loss=0.4448-train_acc=0.8407-val_loss=0.4429-val_acc=0.8442.ckpt' as top 3\n",
      "Epoch 16, global step 1071: 'val_loss' reached 0.42040 (best 0.42040), saving model to './experiments-1/vgg/version_0/checkpoints/vgg-epoch=16-train_loss=0.4442-train_acc=0.8427-val_loss=0.4204-val_acc=0.8553.ckpt' as top 3\n",
      "Epoch 17, global step 1134: 'val_loss' reached 0.41521 (best 0.41521), saving model to './experiments-1/vgg/version_0/checkpoints/vgg-epoch=17-train_loss=0.4414-train_acc=0.8422-val_loss=0.4152-val_acc=0.8547.ckpt' as top 3\n",
      "Epoch 18, global step 1197: 'val_loss' reached 0.41862 (best 0.41521), saving model to './experiments-1/vgg/version_0/checkpoints/vgg-epoch=18-train_loss=0.4296-train_acc=0.8449-val_loss=0.4186-val_acc=0.8530.ckpt' as top 3\n",
      "Epoch 19, global step 1260: 'val_loss' reached 0.40560 (best 0.40560), saving model to './experiments-1/vgg/version_0/checkpoints/vgg-epoch=19-train_loss=0.4321-train_acc=0.8464-val_loss=0.4056-val_acc=0.8582.ckpt' as top 3\n",
      "Epoch 20, global step 1323: 'val_loss' reached 0.41272 (best 0.40560), saving model to './experiments-1/vgg/version_0/checkpoints/vgg-epoch=20-train_loss=0.4273-train_acc=0.8474-val_loss=0.4127-val_acc=0.8477.ckpt' as top 3\n",
      "Epoch 21, global step 1386: 'val_loss' reached 0.39894 (best 0.39894), saving model to './experiments-1/vgg/version_0/checkpoints/vgg-epoch=21-train_loss=0.4189-train_acc=0.8579-val_loss=0.3989-val_acc=0.8600.ckpt' as top 3\n",
      "Epoch 22, global step 1449: 'val_loss' reached 0.40098 (best 0.39894), saving model to './experiments-1/vgg/version_0/checkpoints/vgg-epoch=22-train_loss=0.4159-train_acc=0.8472-val_loss=0.4010-val_acc=0.8617.ckpt' as top 3\n",
      "Epoch 23, global step 1512: 'val_loss' reached 0.39373 (best 0.39373), saving model to './experiments-1/vgg/version_0/checkpoints/vgg-epoch=23-train_loss=0.4104-train_acc=0.8512-val_loss=0.3937-val_acc=0.8681.ckpt' as top 3\n",
      "Epoch 24, global step 1575: 'val_loss' reached 0.39664 (best 0.39373), saving model to './experiments-1/vgg/version_0/checkpoints/vgg-epoch=24-train_loss=0.4182-train_acc=0.8434-val_loss=0.3966-val_acc=0.8676.ckpt' as top 3\n",
      "Epoch 25, global step 1638: 'val_loss' reached 0.38952 (best 0.38952), saving model to './experiments-1/vgg/version_0/checkpoints/vgg-epoch=25-train_loss=0.4130-train_acc=0.8552-val_loss=0.3895-val_acc=0.8658.ckpt' as top 3\n",
      "Epoch 26, global step 1701: 'val_loss' reached 0.38500 (best 0.38500), saving model to './experiments-1/vgg/version_0/checkpoints/vgg-epoch=26-train_loss=0.4014-train_acc=0.8552-val_loss=0.3850-val_acc=0.8693.ckpt' as top 3\n",
      "Epoch 27, global step 1764: 'val_loss' reached 0.38358 (best 0.38358), saving model to './experiments-1/vgg/version_0/checkpoints/vgg-epoch=27-train_loss=0.4040-train_acc=0.8629-val_loss=0.3836-val_acc=0.8728.ckpt' as top 3\n",
      "Epoch 28, global step 1827: 'val_loss' reached 0.37725 (best 0.37725), saving model to './experiments-1/vgg/version_0/checkpoints/vgg-epoch=28-train_loss=0.3996-train_acc=0.8542-val_loss=0.3773-val_acc=0.8705.ckpt' as top 3\n",
      "Epoch 29, global step 1890: 'val_loss' reached 0.37490 (best 0.37490), saving model to './experiments-1/vgg/version_0/checkpoints/vgg-epoch=29-train_loss=0.4023-train_acc=0.8509-val_loss=0.3749-val_acc=0.8623.ckpt' as top 3\n",
      "Epoch 30, global step 1953: 'val_loss' reached 0.38353 (best 0.37490), saving model to './experiments-1/vgg/version_0/checkpoints/vgg-epoch=30-train_loss=0.3887-train_acc=0.8622-val_loss=0.3835-val_acc=0.8734.ckpt' as top 3\n",
      "Epoch 31, global step 2016: 'val_loss' reached 0.38018 (best 0.37490), saving model to './experiments-1/vgg/version_0/checkpoints/vgg-epoch=31-train_loss=0.3973-train_acc=0.8587-val_loss=0.3802-val_acc=0.8629.ckpt' as top 3\n",
      "Epoch 32, global step 2079: 'val_loss' reached 0.37486 (best 0.37486), saving model to './experiments-1/vgg/version_0/checkpoints/vgg-epoch=32-train_loss=0.3898-train_acc=0.8589-val_loss=0.3749-val_acc=0.8646.ckpt' as top 3\n",
      "Epoch 33, global step 2142: 'val_loss' reached 0.36991 (best 0.36991), saving model to './experiments-1/vgg/version_0/checkpoints/vgg-epoch=33-train_loss=0.3809-train_acc=0.8652-val_loss=0.3699-val_acc=0.8763.ckpt' as top 3\n",
      "Epoch 34, global step 2205: 'val_loss' reached 0.37333 (best 0.36991), saving model to './experiments-1/vgg/version_0/checkpoints/vgg-epoch=34-train_loss=0.3749-train_acc=0.8619-val_loss=0.3733-val_acc=0.8646.ckpt' as top 3\n",
      "Epoch 35, global step 2268: 'val_loss' reached 0.37297 (best 0.36991), saving model to './experiments-1/vgg/version_0/checkpoints/vgg-epoch=35-train_loss=0.3921-train_acc=0.8532-val_loss=0.3730-val_acc=0.8623.ckpt' as top 3\n",
      "Epoch 36, global step 2331: 'val_loss' reached 0.36125 (best 0.36125), saving model to './experiments-1/vgg/version_0/checkpoints/vgg-epoch=36-train_loss=0.3843-train_acc=0.8674-val_loss=0.3613-val_acc=0.8740.ckpt' as top 3\n",
      "Epoch 37, global step 2394: 'val_loss' reached 0.36585 (best 0.36125), saving model to './experiments-1/vgg/version_0/checkpoints/vgg-epoch=37-train_loss=0.3845-train_acc=0.8654-val_loss=0.3658-val_acc=0.8658.ckpt' as top 3\n",
      "Epoch 38, global step 2457: 'val_loss' was not in top 3\n",
      "Epoch 39, global step 2520: 'val_loss' reached 0.35830 (best 0.35830), saving model to './experiments-1/vgg/version_0/checkpoints/vgg-epoch=39-train_loss=0.3950-train_acc=0.8544-val_loss=0.3583-val_acc=0.8798.ckpt' as top 3\n",
      "Epoch 40, global step 2583: 'val_loss' reached 0.36007 (best 0.35830), saving model to './experiments-1/vgg/version_0/checkpoints/vgg-epoch=40-train_loss=0.3756-train_acc=0.8622-val_loss=0.3601-val_acc=0.8798.ckpt' as top 3\n",
      "Epoch 41, global step 2646: 'val_loss' was not in top 3\n",
      "Epoch 42, global step 2709: 'val_loss' reached 0.35982 (best 0.35830), saving model to './experiments-1/vgg/version_0/checkpoints/vgg-epoch=42-train_loss=0.3787-train_acc=0.8672-val_loss=0.3598-val_acc=0.8757.ckpt' as top 3\n",
      "Epoch 43, global step 2772: 'val_loss' reached 0.35698 (best 0.35698), saving model to './experiments-1/vgg/version_0/checkpoints/vgg-epoch=43-train_loss=0.3825-train_acc=0.8602-val_loss=0.3570-val_acc=0.8699.ckpt' as top 3\n",
      "Epoch 44, global step 2835: 'val_loss' was not in top 3\n",
      "Epoch 45, global step 2898: 'val_loss' was not in top 3\n",
      "Epoch 46, global step 2961: 'val_loss' reached 0.34628 (best 0.34628), saving model to './experiments-1/vgg/version_0/checkpoints/vgg-epoch=46-train_loss=0.3687-train_acc=0.8717-val_loss=0.3463-val_acc=0.8786.ckpt' as top 3\n",
      "Epoch 47, global step 3024: 'val_loss' reached 0.35753 (best 0.34628), saving model to './experiments-1/vgg/version_0/checkpoints/vgg-epoch=47-train_loss=0.3719-train_acc=0.8642-val_loss=0.3575-val_acc=0.8740.ckpt' as top 3\n",
      "Epoch 48, global step 3087: 'val_loss' was not in top 3\n",
      "Epoch 49, global step 3150: 'val_loss' reached 0.34838 (best 0.34628), saving model to './experiments-1/vgg/version_0/checkpoints/vgg-epoch=49-train_loss=0.3660-train_acc=0.8629-val_loss=0.3484-val_acc=0.8792.ckpt' as top 3\n",
      "Epoch 50, global step 3213: 'val_loss' reached 0.34516 (best 0.34516), saving model to './experiments-1/vgg/version_0/checkpoints/vgg-epoch=50-train_loss=0.3845-train_acc=0.8574-val_loss=0.3452-val_acc=0.8886.ckpt' as top 3\n",
      "Epoch 51, global step 3276: 'val_loss' was not in top 3\n",
      "Epoch 52, global step 3339: 'val_loss' was not in top 3\n",
      "Epoch 53, global step 3402: 'val_loss' was not in top 3\n",
      "Epoch 54, global step 3465: 'val_loss' reached 0.33632 (best 0.33632), saving model to './experiments-1/vgg/version_0/checkpoints/vgg-epoch=54-train_loss=0.3472-train_acc=0.8804-val_loss=0.3363-val_acc=0.8874.ckpt' as top 3\n",
      "Epoch 55, global step 3528: 'val_loss' was not in top 3\n",
      "Epoch 56, global step 3591: 'val_loss' was not in top 3\n",
      "Epoch 57, global step 3654: 'val_loss' was not in top 3\n",
      "Epoch 58, global step 3717: 'val_loss' reached 0.34111 (best 0.33632), saving model to './experiments-1/vgg/version_0/checkpoints/vgg-epoch=58-train_loss=0.3569-train_acc=0.8709-val_loss=0.3411-val_acc=0.8851.ckpt' as top 3\n",
      "Epoch 59, global step 3780: 'val_loss' reached 0.33236 (best 0.33236), saving model to './experiments-1/vgg/version_0/checkpoints/vgg-epoch=59-train_loss=0.3602-train_acc=0.8647-val_loss=0.3324-val_acc=0.8851.ckpt' as top 3\n",
      "`Trainer.fit` stopped: `max_epochs=60` reached.\n"
     ]
    },
    {
     "data": {
      "text/html": [
       "<pre style=\"white-space:pre;overflow-x:auto;line-height:normal;font-family:Menlo,'DejaVu Sans Mono',consolas,'Courier New',monospace\"></pre>\n"
      ],
      "text/plain": []
     },
     "metadata": {},
     "output_type": "display_data"
    },
    {
     "data": {
      "text/html": [
       "<pre style=\"white-space:pre;overflow-x:auto;line-height:normal;font-family:Menlo,'DejaVu Sans Mono',consolas,'Courier New',monospace\">\n",
       "</pre>\n"
      ],
      "text/plain": [
       "\n"
      ]
     },
     "metadata": {},
     "output_type": "display_data"
    }
   ],
   "source": [
    "trainer.fit(\n",
    "    model,\n",
    "    train_dataloaders=brain_tumor.train_dataloader,\n",
    "    val_dataloaders=brain_tumor.val_dataloader\n",
    ")"
   ]
  },
  {
   "cell_type": "markdown",
   "id": "30362bfb-93e8-46e9-ae5c-f3ad51547843",
   "metadata": {},
   "source": [
    "## TESTING"
   ]
  },
  {
   "cell_type": "code",
   "execution_count": 6,
   "id": "f1b70950-ceb6-4de6-89ef-3f39a6862e59",
   "metadata": {},
   "outputs": [
    {
     "data": {
      "application/vnd.jupyter.widget-view+json": {
       "model_id": "953110bbf058447996553925f76aceb7",
       "version_major": 2,
       "version_minor": 0
      },
      "text/plain": [
       "Output()"
      ]
     },
     "metadata": {},
     "output_type": "display_data"
    },
    {
     "data": {
      "text/html": [
       "<pre style=\"white-space:pre;overflow-x:auto;line-height:normal;font-family:Menlo,'DejaVu Sans Mono',consolas,'Courier New',monospace\"></pre>\n"
      ],
      "text/plain": []
     },
     "metadata": {},
     "output_type": "display_data"
    },
    {
     "data": {
      "text/html": [
       "<pre style=\"white-space:pre;overflow-x:auto;line-height:normal;font-family:Menlo,'DejaVu Sans Mono',consolas,'Courier New',monospace\">\n",
       "</pre>\n"
      ],
      "text/plain": [
       "\n"
      ]
     },
     "metadata": {},
     "output_type": "display_data"
    }
   ],
   "source": [
    "batch_predictions = trainer.predict(model, dataloaders=brain_tumor.test_dataloader)\n",
    "truth_labels, preds_labels = get_labels_from_prediction(batch_predictions)\n",
    "with open(f\"{trainer.logger.log_dir}/{model.name}-preds.dump\", \"wb\") as f:\n",
    "    pickle.dump([truth_labels, preds_labels], f)"
   ]
  },
  {
   "cell_type": "markdown",
   "id": "3164400f-d958-497d-b79d-2ce943e44d08",
   "metadata": {},
   "source": [
    "## ANALYSIS"
   ]
  },
  {
   "cell_type": "code",
   "execution_count": 7,
   "id": "2b96c271-80e6-4d9a-888b-6ee9f088ee38",
   "metadata": {},
   "outputs": [
    {
     "name": "stderr",
     "output_type": "stream",
     "text": [
      "/Users/arthuralvim/Work/xai-clustering/helpers/metrics.py:7: FutureWarning: Series.fillna with 'method' is deprecated and will raise in a future version. Use obj.ffill() or obj.bfill() instead.\n",
      "  metrics[\"epoch\"] = metrics[\"epoch\"].fillna(method=\"ffill\")\n",
      "/Users/arthuralvim/Library/Caches/pypoetry/virtualenvs/xai-clustering-b3gHD5dt-py3.9/lib/python3.9/site-packages/numpy/core/fromnumeric.py:59: FutureWarning: 'DataFrame.swapaxes' is deprecated and will be removed in a future version. Please use 'DataFrame.transpose' instead.\n",
      "  return bound(*args, **kwds)\n"
     ]
    }
   ],
   "source": [
    "train_metrics, valid_metrics, epoch_metrics = metrics_to_dataframe(f\"{trainer.logger.log_dir}/metrics.csv\", brain_tumor)"
   ]
  },
  {
   "cell_type": "code",
   "execution_count": 8,
   "id": "d9313385-87de-4c8b-adf8-38deb983f146",
   "metadata": {},
   "outputs": [
    {
     "data": {
      "image/png": "[encoded data removed]",
      "text/plain": [
       "<Figure size 1900x900 with 2 Axes>"
      ]
     },
     "metadata": {},
     "output_type": "display_data"
    }
   ],
   "source": [
    "plot_analysis(epoch_metrics, save_as=f\"{trainer.logger.log_dir}/{model.name}-analysis.png\")"
   ]
  },
  {
   "cell_type": "code",
   "execution_count": 9,
   "id": "af97f45d-1a1f-42bc-a8f2-40608b2b1918",
   "metadata": {},
   "outputs": [
    {
     "name": "stdout",
     "output_type": "stream",
     "text": [
      "              precision    recall  f1-score   support\n",
      "\n",
      "      Glioma      0.888     0.763     0.821       300\n",
      "  Meningioma      0.735     0.699     0.717       306\n",
      "   Sem Tumor      0.900     0.956     0.927       405\n",
      "  Pituitária      0.870     0.963     0.915       300\n",
      "\n",
      "    accuracy                          0.854      1311\n",
      "   macro avg      0.848     0.845     0.845      1311\n",
      "weighted avg      0.852     0.854     0.851      1311\n",
      "\n",
      "            Gli  Men  Sem  Pit\n",
      "Glioma      229   62    0    9\n",
      "Meningioma   21  214   40   31\n",
      "Sem Tumor     6    9  387    3\n",
      "Pituitária    2    6    3  289\n"
     ]
    }
   ],
   "source": [
    "plot_loss_curve(epoch_metrics, show=False, save_as=f\"{trainer.logger.log_dir}/{model.name}-loss.png\")\n",
    "plot_acc_curve(epoch_metrics, show=False, save_as=f\"{trainer.logger.log_dir}/{model.name}-acc.png\")\n",
    "basic_report(truth_labels, preds_labels, labels=[0,1,2,3], label_names=[\"Glioma\", \"Meningioma\", \"Sem Tumor\", \"Pituitária\"], show=False, \n",
    "             save_as=f\"{trainer.logger.log_dir}/{model.name}-confusion-matrix.png\")"
   ]
  }
 ],
 "metadata": {
  "availableInstances": [
   {
    "_defaultOrder": 0,
    "_isFastLaunch": true,
    "category": "General purpose",
    "gpuNum": 0,
    "hideHardwareSpecs": false,
    "memoryGiB": 4,
    "name": "ml.t3.medium",
    "vcpuNum": 2
   },
   {
    "_defaultOrder": 1,
    "_isFastLaunch": false,
    "category": "General purpose",
    "gpuNum": 0,
    "hideHardwareSpecs": false,
    "memoryGiB": 8,
    "name": "ml.t3.large",
    "vcpuNum": 2
   },
   {
    "_defaultOrder": 2,
    "_isFastLaunch": false,
    "category": "General purpose",
    "gpuNum": 0,
    "hideHardwareSpecs": false,
    "memoryGiB": 16,
    "name": "ml.t3.xlarge",
    "vcpuNum": 4
   },
   {
    "_defaultOrder": 3,
    "_isFastLaunch": false,
    "category": "General purpose",
    "gpuNum": 0,
    "hideHardwareSpecs": false,
    "memoryGiB": 32,
    "name": "ml.t3.2xlarge",
    "vcpuNum": 8
   },
   {
    "_defaultOrder": 4,
    "_isFastLaunch": true,
    "category": "General purpose",
    "gpuNum": 0,
    "hideHardwareSpecs": false,
    "memoryGiB": 8,
    "name": "ml.m5.large",
    "vcpuNum": 2
   },
   {
    "_defaultOrder": 5,
    "_isFastLaunch": false,
    "category": "General purpose",
    "gpuNum": 0,
    "hideHardwareSpecs": false,
    "memoryGiB": 16,
    "name": "ml.m5.xlarge",
    "vcpuNum": 4
   },
   {
    "_defaultOrder": 6,
    "_isFastLaunch": false,
    "category": "General purpose",
    "gpuNum": 0,
    "hideHardwareSpecs": false,
    "memoryGiB": 32,
    "name": "ml.m5.2xlarge",
    "vcpuNum": 8
   },
   {
    "_defaultOrder": 7,
    "_isFastLaunch": false,
    "category": "General purpose",
    "gpuNum": 0,
    "hideHardwareSpecs": false,
    "memoryGiB": 64,
    "name": "ml.m5.4xlarge",
    "vcpuNum": 16
   },
   {
    "_defaultOrder": 8,
    "_isFastLaunch": false,
    "category": "General purpose",
    "gpuNum": 0,
    "hideHardwareSpecs": false,
    "memoryGiB": 128,
    "name": "ml.m5.8xlarge",
    "vcpuNum": 32
   },
   {
    "_defaultOrder": 9,
    "_isFastLaunch": false,
    "category": "General purpose",
    "gpuNum": 0,
    "hideHardwareSpecs": false,
    "memoryGiB": 192,
    "name": "ml.m5.12xlarge",
    "vcpuNum": 48
   },
   {
    "_defaultOrder": 10,
    "_isFastLaunch": false,
    "category": "General purpose",
    "gpuNum": 0,
    "hideHardwareSpecs": false,
    "memoryGiB": 256,
    "name": "ml.m5.16xlarge",
    "vcpuNum": 64
   },
   {
    "_defaultOrder": 11,
    "_isFastLaunch": false,
    "category": "General purpose",
    "gpuNum": 0,
    "hideHardwareSpecs": false,
    "memoryGiB": 384,
    "name": "ml.m5.24xlarge",
    "vcpuNum": 96
   },
   {
    "_defaultOrder": 12,
    "_isFastLaunch": false,
    "category": "General purpose",
    "gpuNum": 0,
    "hideHardwareSpecs": false,
    "memoryGiB": 8,
    "name": "ml.m5d.large",
    "vcpuNum": 2
   },
   {
    "_defaultOrder": 13,
    "_isFastLaunch": false,
    "category": "General purpose",
    "gpuNum": 0,
    "hideHardwareSpecs": false,
    "memoryGiB": 16,
    "name": "ml.m5d.xlarge",
    "vcpuNum": 4
   },
   {
    "_defaultOrder": 14,
    "_isFastLaunch": false,
    "category": "General purpose",
    "gpuNum": 0,
    "hideHardwareSpecs": false,
    "memoryGiB": 32,
    "name": "ml.m5d.2xlarge",
    "vcpuNum": 8
   },
   {
    "_defaultOrder": 15,
    "_isFastLaunch": false,
    "category": "General purpose",
    "gpuNum": 0,
    "hideHardwareSpecs": false,
    "memoryGiB": 64,
    "name": "ml.m5d.4xlarge",
    "vcpuNum": 16
   },
   {
    "_defaultOrder": 16,
    "_isFastLaunch": false,
    "category": "General purpose",
    "gpuNum": 0,
    "hideHardwareSpecs": false,
    "memoryGiB": 128,
    "name": "ml.m5d.8xlarge",
    "vcpuNum": 32
   },
   {
    "_defaultOrder": 17,
    "_isFastLaunch": false,
    "category": "General purpose",
    "gpuNum": 0,
    "hideHardwareSpecs": false,
    "memoryGiB": 192,
    "name": "ml.m5d.12xlarge",
    "vcpuNum": 48
   },
   {
    "_defaultOrder": 18,
    "_isFastLaunch": false,
    "category": "General purpose",
    "gpuNum": 0,
    "hideHardwareSpecs": false,
    "memoryGiB": 256,
    "name": "ml.m5d.16xlarge",
    "vcpuNum": 64
   },
   {
    "_defaultOrder": 19,
    "_isFastLaunch": false,
    "category": "General purpose",
    "gpuNum": 0,
    "hideHardwareSpecs": false,
    "memoryGiB": 384,
    "name": "ml.m5d.24xlarge",
    "vcpuNum": 96
   },
   {
    "_defaultOrder": 20,
    "_isFastLaunch": false,
    "category": "General purpose",
    "gpuNum": 0,
    "hideHardwareSpecs": true,
    "memoryGiB": 0,
    "name": "ml.geospatial.interactive",
    "supportedImageNames": [
     "sagemaker-geospatial-v1-0"
    ],
    "vcpuNum": 0
   },
   {
    "_defaultOrder": 21,
    "_isFastLaunch": true,
    "category": "Compute optimized",
    "gpuNum": 0,
    "hideHardwareSpecs": false,
    "memoryGiB": 4,
    "name": "ml.c5.large",
    "vcpuNum": 2
   },
   {
    "_defaultOrder": 22,
    "_isFastLaunch": false,
    "category": "Compute optimized",
    "gpuNum": 0,
    "hideHardwareSpecs": false,
    "memoryGiB": 8,
    "name": "ml.c5.xlarge",
    "vcpuNum": 4
   },
   {
    "_defaultOrder": 23,
    "_isFastLaunch": false,
    "category": "Compute optimized",
    "gpuNum": 0,
    "hideHardwareSpecs": false,
    "memoryGiB": 16,
    "name": "ml.c5.2xlarge",
    "vcpuNum": 8
   },
   {
    "_defaultOrder": 24,
    "_isFastLaunch": false,
    "category": "Compute optimized",
    "gpuNum": 0,
    "hideHardwareSpecs": false,
    "memoryGiB": 32,
    "name": "ml.c5.4xlarge",
    "vcpuNum": 16
   },
   {
    "_defaultOrder": 25,
    "_isFastLaunch": false,
    "category": "Compute optimized",
    "gpuNum": 0,
    "hideHardwareSpecs": false,
    "memoryGiB": 72,
    "name": "ml.c5.9xlarge",
    "vcpuNum": 36
   },
   {
    "_defaultOrder": 26,
    "_isFastLaunch": false,
    "category": "Compute optimized",
    "gpuNum": 0,
    "hideHardwareSpecs": false,
    "memoryGiB": 96,
    "name": "ml.c5.12xlarge",
    "vcpuNum": 48
   },
   {
    "_defaultOrder": 27,
    "_isFastLaunch": false,
    "category": "Compute optimized",
    "gpuNum": 0,
    "hideHardwareSpecs": false,
    "memoryGiB": 144,
    "name": "ml.c5.18xlarge",
    "vcpuNum": 72
   },
   {
    "_defaultOrder": 28,
    "_isFastLaunch": false,
    "category": "Compute optimized",
    "gpuNum": 0,
    "hideHardwareSpecs": false,
    "memoryGiB": 192,
    "name": "ml.c5.24xlarge",
    "vcpuNum": 96
   },
   {
    "_defaultOrder": 29,
    "_isFastLaunch": true,
    "category": "Accelerated computing",
    "gpuNum": 1,
    "hideHardwareSpecs": false,
    "memoryGiB": 16,
    "name": "ml.g4dn.xlarge",
    "vcpuNum": 4
   },
   {
    "_defaultOrder": 30,
    "_isFastLaunch": false,
    "category": "Accelerated computing",
    "gpuNum": 1,
    "hideHardwareSpecs": false,
    "memoryGiB": 32,
    "name": "ml.g4dn.2xlarge",
    "vcpuNum": 8
   },
   {
    "_defaultOrder": 31,
    "_isFastLaunch": false,
    "category": "Accelerated computing",
    "gpuNum": 1,
    "hideHardwareSpecs": false,
    "memoryGiB": 64,
    "name": "ml.g4dn.4xlarge",
    "vcpuNum": 16
   },
   {
    "_defaultOrder": 32,
    "_isFastLaunch": false,
    "category": "Accelerated computing",
    "gpuNum": 1,
    "hideHardwareSpecs": false,
    "memoryGiB": 128,
    "name": "ml.g4dn.8xlarge",
    "vcpuNum": 32
   },
   {
    "_defaultOrder": 33,
    "_isFastLaunch": false,
    "category": "Accelerated computing",
    "gpuNum": 4,
    "hideHardwareSpecs": false,
    "memoryGiB": 192,
    "name": "ml.g4dn.12xlarge",
    "vcpuNum": 48
   },
   {
    "_defaultOrder": 34,
    "_isFastLaunch": false,
    "category": "Accelerated computing",
    "gpuNum": 1,
    "hideHardwareSpecs": false,
    "memoryGiB": 256,
    "name": "ml.g4dn.16xlarge",
    "vcpuNum": 64
   },
   {
    "_defaultOrder": 35,
    "_isFastLaunch": false,
    "category": "Accelerated computing",
    "gpuNum": 1,
    "hideHardwareSpecs": false,
    "memoryGiB": 61,
    "name": "ml.p3.2xlarge",
    "vcpuNum": 8
   },
   {
    "_defaultOrder": 36,
    "_isFastLaunch": false,
    "category": "Accelerated computing",
    "gpuNum": 4,
    "hideHardwareSpecs": false,
    "memoryGiB": 244,
    "name": "ml.p3.8xlarge",
    "vcpuNum": 32
   },
   {
    "_defaultOrder": 37,
    "_isFastLaunch": false,
    "category": "Accelerated computing",
    "gpuNum": 8,
    "hideHardwareSpecs": false,
    "memoryGiB": 488,
    "name": "ml.p3.16xlarge",
    "vcpuNum": 64
   },
   {
    "_defaultOrder": 38,
    "_isFastLaunch": false,
    "category": "Accelerated computing",
    "gpuNum": 8,
    "hideHardwareSpecs": false,
    "memoryGiB": 768,
    "name": "ml.p3dn.24xlarge",
    "vcpuNum": 96
   },
   {
    "_defaultOrder": 39,
    "_isFastLaunch": false,
    "category": "Memory Optimized",
    "gpuNum": 0,
    "hideHardwareSpecs": false,
    "memoryGiB": 16,
    "name": "ml.r5.large",
    "vcpuNum": 2
   },
   {
    "_defaultOrder": 40,
    "_isFastLaunch": false,
    "category": "Memory Optimized",
    "gpuNum": 0,
    "hideHardwareSpecs": false,
    "memoryGiB": 32,
    "name": "ml.r5.xlarge",
    "vcpuNum": 4
   },
   {
    "_defaultOrder": 41,
    "_isFastLaunch": false,
    "category": "Memory Optimized",
    "gpuNum": 0,
    "hideHardwareSpecs": false,
    "memoryGiB": 64,
    "name": "ml.r5.2xlarge",
    "vcpuNum": 8
   },
   {
    "_defaultOrder": 42,
    "_isFastLaunch": false,
    "category": "Memory Optimized",
    "gpuNum": 0,
    "hideHardwareSpecs": false,
    "memoryGiB": 128,
    "name": "ml.r5.4xlarge",
    "vcpuNum": 16
   },
   {
    "_defaultOrder": 43,
    "_isFastLaunch": false,
    "category": "Memory Optimized",
    "gpuNum": 0,
    "hideHardwareSpecs": false,
    "memoryGiB": 256,
    "name": "ml.r5.8xlarge",
    "vcpuNum": 32
   },
   {
    "_defaultOrder": 44,
    "_isFastLaunch": false,
    "category": "Memory Optimized",
    "gpuNum": 0,
    "hideHardwareSpecs": false,
    "memoryGiB": 384,
    "name": "ml.r5.12xlarge",
    "vcpuNum": 48
   },
   {
    "_defaultOrder": 45,
    "_isFastLaunch": false,
    "category": "Memory Optimized",
    "gpuNum": 0,
    "hideHardwareSpecs": false,
    "memoryGiB": 512,
    "name": "ml.r5.16xlarge",
    "vcpuNum": 64
   },
   {
    "_defaultOrder": 46,
    "_isFastLaunch": false,
    "category": "Memory Optimized",
    "gpuNum": 0,
    "hideHardwareSpecs": false,
    "memoryGiB": 768,
    "name": "ml.r5.24xlarge",
    "vcpuNum": 96
   },
   {
    "_defaultOrder": 47,
    "_isFastLaunch": false,
    "category": "Accelerated computing",
    "gpuNum": 1,
    "hideHardwareSpecs": false,
    "memoryGiB": 16,
    "name": "ml.g5.xlarge",
    "vcpuNum": 4
   },
   {
    "_defaultOrder": 48,
    "_isFastLaunch": false,
    "category": "Accelerated computing",
    "gpuNum": 1,
    "hideHardwareSpecs": false,
    "memoryGiB": 32,
    "name": "ml.g5.2xlarge",
    "vcpuNum": 8
   },
   {
    "_defaultOrder": 49,
    "_isFastLaunch": false,
    "category": "Accelerated computing",
    "gpuNum": 1,
    "hideHardwareSpecs": false,
    "memoryGiB": 64,
    "name": "ml.g5.4xlarge",
    "vcpuNum": 16
   },
   {
    "_defaultOrder": 50,
    "_isFastLaunch": false,
    "category": "Accelerated computing",
    "gpuNum": 1,
    "hideHardwareSpecs": false,
    "memoryGiB": 128,
    "name": "ml.g5.8xlarge",
    "vcpuNum": 32
   },
   {
    "_defaultOrder": 51,
    "_isFastLaunch": false,
    "category": "Accelerated computing",
    "gpuNum": 1,
    "hideHardwareSpecs": false,
    "memoryGiB": 256,
    "name": "ml.g5.16xlarge",
    "vcpuNum": 64
   },
   {
    "_defaultOrder": 52,
    "_isFastLaunch": false,
    "category": "Accelerated computing",
    "gpuNum": 4,
    "hideHardwareSpecs": false,
    "memoryGiB": 192,
    "name": "ml.g5.12xlarge",
    "vcpuNum": 48
   },
   {
    "_defaultOrder": 53,
    "_isFastLaunch": false,
    "category": "Accelerated computing",
    "gpuNum": 4,
    "hideHardwareSpecs": false,
    "memoryGiB": 384,
    "name": "ml.g5.24xlarge",
    "vcpuNum": 96
   },
   {
    "_defaultOrder": 54,
    "_isFastLaunch": false,
    "category": "Accelerated computing",
    "gpuNum": 8,
    "hideHardwareSpecs": false,
    "memoryGiB": 768,
    "name": "ml.g5.48xlarge",
    "vcpuNum": 192
   },
   {
    "_defaultOrder": 55,
    "_isFastLaunch": false,
    "category": "Accelerated computing",
    "gpuNum": 8,
    "hideHardwareSpecs": false,
    "memoryGiB": 1152,
    "name": "ml.p4d.24xlarge",
    "vcpuNum": 96
   },
   {
    "_defaultOrder": 56,
    "_isFastLaunch": false,
    "category": "Accelerated computing",
    "gpuNum": 8,
    "hideHardwareSpecs": false,
    "memoryGiB": 1152,
    "name": "ml.p4de.24xlarge",
    "vcpuNum": 96
   }
  ],
  "instance_type": "ml.t3.2xlarge",
  "kernelspec": {
   "display_name": "Python 3 (ipykernel)",
   "language": "python",
   "name": "python3"
  },
  "language_info": {
   "codemirror_mode": {
    "name": "ipython",
    "version": 3
   },
   "file_extension": ".py",
   "mimetype": "text/x-python",
   "name": "python",
   "nbconvert_exporter": "python",
   "pygments_lexer": "ipython3",
   "version": "3.9.0"
  }
 },
 "nbformat": 4,
 "nbformat_minor": 5
}
