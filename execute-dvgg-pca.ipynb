{
 "cells": [
  {
   "cell_type": "markdown",
   "id": "d66906d4-5fd5-4f4d-a9e4-deaf153f19ff",
   "metadata": {},
   "source": [
    "# VGG + DEEP CLUSTERING + BRAIN TUMOR"
   ]
  },
  {
   "cell_type": "code",
   "execution_count": 1,
   "id": "c6459795-0ffa-48e4-88ad-f107c7511b81",
   "metadata": {
    "scrolled": true,
    "tags": []
   },
   "outputs": [],
   "source": [
    "# ! pip install torch torchvision numpy pydantic interpret faiss-cpu torchsummary matplotlib pandas seaborn scikit-learn scikit-image pytorch-lightning[extra] --no-cache-dir --ignore-installed"
   ]
  },
  {
   "cell_type": "code",
   "execution_count": 1,
   "id": "75aa24f3-0909-43f7-873a-fe992a9ed95c",
   "metadata": {
    "tags": []
   },
   "outputs": [
    {
     "name": "stderr",
     "output_type": "stream",
     "text": [
      "Global seed set to 42\n"
     ]
    }
   ],
   "source": [
    "import copy\n",
    "import os\n",
    "import pickle\n",
    "import logging\n",
    "import pandas as pd\n",
    "import numpy as np\n",
    "import torch\n",
    "import torch.nn as nn\n",
    "import torch.optim as optim\n",
    "\n",
    "from data.brain_tumor_mri import BrainTumorMRI\n",
    "from models.vgg_deep import DVGG\n",
    "from pytorch_lightning import Trainer, seed_everything\n",
    "\n",
    "from pytorch_lightning.callbacks import ModelCheckpoint\n",
    "from pytorch_lightning.callbacks.early_stopping import EarlyStopping\n",
    "from pytorch_lightning.callbacks import Timer\n",
    "from pytorch_lightning.callbacks import RichProgressBar\n",
    "\n",
    "from pytorch_lightning.loggers import CSVLogger\n",
    "from torchvision import transforms\n",
    "from torchvision.transforms import functional as F\n",
    "\n",
    "from helpers.prediction import get_labels_from_prediction\n",
    "from helpers.metrics import dmetrics_to_dataframe\n",
    "from report.plots import plot_loss_curve, plot_acc_curve, plot_analysis, plot_clustering_metrics\n",
    "from report import basic_report\n",
    "\n",
    "seed_everything(42, workers=True)\n",
    "pd.set_option('display.max_rows', None)"
   ]
  },
  {
   "cell_type": "code",
   "execution_count": 3,
   "id": "ace844e8-db97-42bb-9b6a-79f7954bf0a4",
   "metadata": {
    "tags": []
   },
   "outputs": [],
   "source": [
    "BATCH_SIZE = 64\n",
    "VAL_SIZE = 0.3\n",
    "EPOCHS = 30\n",
    "DATASET_RANDOM = 37\n",
    "\n",
    "brain_tumor = BrainTumorMRI(val_size=VAL_SIZE, batch_size=BATCH_SIZE, random_state=DATASET_RANDOM, transformations=transforms.Compose(\n",
    "            [\n",
    "                transforms.Resize((255, 255)),\n",
    "                transforms.RandomHorizontalFlip(),\n",
    "                transforms.RandomRotation(10),\n",
    "                transforms.ToTensor(),\n",
    "                transforms.Normalize(\n",
    "                    mean=[0.485, 0.456, 0.406], std=[0.229, 0.224, 0.225]\n",
    "                ),\n",
    "            ]\n",
    "        ))"
   ]
  },
  {
   "cell_type": "markdown",
   "id": "a57e9863-57c1-42f1-99d7-ce5a349f1788",
   "metadata": {},
   "source": [
    "# MODEL"
   ]
  },
  {
   "cell_type": "code",
   "execution_count": 4,
   "id": "5384c80c-5603-4ae6-a828-47e4a7fa4109",
   "metadata": {
    "tags": []
   },
   "outputs": [
    {
     "name": "stderr",
     "output_type": "stream",
     "text": [
      "GPU available: False, used: False\n",
      "TPU available: False, using: 0 TPU cores\n",
      "IPU available: False, using: 0 IPUs\n",
      "HPU available: False, using: 0 HPUs\n"
     ]
    }
   ],
   "source": [
    "model = DVGG(dataset=brain_tumor, num_classes=8, preprocessing=True, pca=64, freeze=False)\n",
    "\n",
    "timer = Timer()\n",
    "progress_bar = RichProgressBar()\n",
    "logger = CSVLogger(save_dir=\"./\", name=f\"experiments-1/{model.name}\", flush_logs_every_n_steps=1)\n",
    "checkpoint_callback = ModelCheckpoint(\n",
    "    filename=f\"{model.name}-\" + \"{epoch}-{train_loss:.4f}-{train_acc:.4f}-{val_loss:.4f}-{val_acc:.4f}\",\n",
    "    save_top_k=3, save_last=True, monitor=\"val_loss\", mode=\"min\", verbose=True\n",
    ")\n",
    "\n",
    "trainer = Trainer(\n",
    "    accelerator=\"auto\", \n",
    "    devices=\"auto\",\n",
    "    max_epochs=EPOCHS,\n",
    "    logger=logger,\n",
    "    callbacks=[timer, progress_bar, checkpoint_callback],\n",
    "    log_every_n_steps=1,    \n",
    "    # enable_progress_bar=False,\n",
    "    # limit_train_batches=DATASET_RATIO or 1.0,\n",
    "    # limit_val_batches=DATASET_RATIO or 1.0,\n",
    "    # limit_test_batches=DATASET_RATIO or 1.0\n",
    ")"
   ]
  },
  {
   "cell_type": "markdown",
   "id": "ddc53162-d5e6-47ee-9908-ffa20a93c712",
   "metadata": {},
   "source": [
    "## TRAINING"
   ]
  },
  {
   "cell_type": "code",
   "execution_count": 5,
   "id": "97b440ff-5e49-4f34-86b2-b413f63937ab",
   "metadata": {},
   "outputs": [
    {
     "data": {
      "text/html": [
       "<pre style=\"white-space:pre;overflow-x:auto;line-height:normal;font-family:Menlo,'DejaVu Sans Mono',consolas,'Courier New',monospace\">┏━━━┳━━━━━━━━━━━┳━━━━━━━━━━━━━━━━━━━━┳━━━━━━━━┓\n",
       "┃<span style=\"color: #800080; text-decoration-color: #800080; font-weight: bold\">   </span>┃<span style=\"color: #800080; text-decoration-color: #800080; font-weight: bold\"> Name      </span>┃<span style=\"color: #800080; text-decoration-color: #800080; font-weight: bold\"> Type               </span>┃<span style=\"color: #800080; text-decoration-color: #800080; font-weight: bold\"> Params </span>┃\n",
       "┡━━━╇━━━━━━━━━━━╇━━━━━━━━━━━━━━━━━━━━╇━━━━━━━━┩\n",
       "│<span style=\"color: #7f7f7f; text-decoration-color: #7f7f7f\"> 0 </span>│ loss_fn   │ CrossEntropyLoss   │      0 │\n",
       "│<span style=\"color: #7f7f7f; text-decoration-color: #7f7f7f\"> 1 </span>│ train_acc │ MulticlassAccuracy │      0 │\n",
       "│<span style=\"color: #7f7f7f; text-decoration-color: #7f7f7f\"> 2 </span>│ val_acc   │ MulticlassAccuracy │      0 │\n",
       "│<span style=\"color: #7f7f7f; text-decoration-color: #7f7f7f\"> 3 </span>│ test_acc  │ MulticlassAccuracy │      0 │\n",
       "│<span style=\"color: #7f7f7f; text-decoration-color: #7f7f7f\"> 4 </span>│ model     │ VGG                │  134 M │\n",
       "└───┴───────────┴────────────────────┴────────┘\n",
       "</pre>\n"
      ],
      "text/plain": [
       "┏━━━┳━━━━━━━━━━━┳━━━━━━━━━━━━━━━━━━━━┳━━━━━━━━┓\n",
       "┃\u001b[1;35m \u001b[0m\u001b[1;35m \u001b[0m\u001b[1;35m \u001b[0m┃\u001b[1;35m \u001b[0m\u001b[1;35mName     \u001b[0m\u001b[1;35m \u001b[0m┃\u001b[1;35m \u001b[0m\u001b[1;35mType              \u001b[0m\u001b[1;35m \u001b[0m┃\u001b[1;35m \u001b[0m\u001b[1;35mParams\u001b[0m\u001b[1;35m \u001b[0m┃\n",
       "┡━━━╇━━━━━━━━━━━╇━━━━━━━━━━━━━━━━━━━━╇━━━━━━━━┩\n",
       "│\u001b[2m \u001b[0m\u001b[2m0\u001b[0m\u001b[2m \u001b[0m│ loss_fn   │ CrossEntropyLoss   │      0 │\n",
       "│\u001b[2m \u001b[0m\u001b[2m1\u001b[0m\u001b[2m \u001b[0m│ train_acc │ MulticlassAccuracy │      0 │\n",
       "│\u001b[2m \u001b[0m\u001b[2m2\u001b[0m\u001b[2m \u001b[0m│ val_acc   │ MulticlassAccuracy │      0 │\n",
       "│\u001b[2m \u001b[0m\u001b[2m3\u001b[0m\u001b[2m \u001b[0m│ test_acc  │ MulticlassAccuracy │      0 │\n",
       "│\u001b[2m \u001b[0m\u001b[2m4\u001b[0m\u001b[2m \u001b[0m│ model     │ VGG                │  134 M │\n",
       "└───┴───────────┴────────────────────┴────────┘\n"
      ]
     },
     "metadata": {},
     "output_type": "display_data"
    },
    {
     "data": {
      "text/html": [
       "<pre style=\"white-space:pre;overflow-x:auto;line-height:normal;font-family:Menlo,'DejaVu Sans Mono',consolas,'Courier New',monospace\"><span style=\"font-weight: bold\">Trainable params</span>: 134 M                                                                                            \n",
       "<span style=\"font-weight: bold\">Non-trainable params</span>: 0                                                                                            \n",
       "<span style=\"font-weight: bold\">Total params</span>: 134 M                                                                                                \n",
       "<span style=\"font-weight: bold\">Total estimated model params size (MB)</span>: 537                                                                        \n",
       "</pre>\n"
      ],
      "text/plain": [
       "\u001b[1mTrainable params\u001b[0m: 134 M                                                                                            \n",
       "\u001b[1mNon-trainable params\u001b[0m: 0                                                                                            \n",
       "\u001b[1mTotal params\u001b[0m: 134 M                                                                                                \n",
       "\u001b[1mTotal estimated model params size (MB)\u001b[0m: 537                                                                        \n"
      ]
     },
     "metadata": {},
     "output_type": "display_data"
    },
    {
     "data": {
      "application/vnd.jupyter.widget-view+json": {
       "model_id": "b6d91f784eae4493ae6925726e67fb41",
       "version_major": 2,
       "version_minor": 0
      },
      "text/plain": [
       "Output()"
      ]
     },
     "metadata": {},
     "output_type": "display_data"
    },
    {
     "data": {
      "text/html": [
       "<pre style=\"white-space:pre;overflow-x:auto;line-height:normal;font-family:Menlo,'DejaVu Sans Mono',consolas,'Courier New',monospace\">Epoch 0\n",
       "</pre>\n"
      ],
      "text/plain": [
       "Epoch 0\n"
      ]
     },
     "metadata": {},
     "output_type": "display_data"
    },
    {
     "data": {
      "text/html": [
       "<pre style=\"white-space:pre;overflow-x:auto;line-height:normal;font-family:Menlo,'DejaVu Sans Mono',consolas,'Courier New',monospace\">Feature extracting elapsed time: 484.5065 seconds.\n",
       "</pre>\n"
      ],
      "text/plain": [
       "Feature extracting elapsed time: 484.5065 seconds.\n"
      ]
     },
     "metadata": {},
     "output_type": "display_data"
    },
    {
     "data": {
      "text/html": [
       "<pre style=\"white-space:pre;overflow-x:auto;line-height:normal;font-family:Menlo,'DejaVu Sans Mono',consolas,'Courier New',monospace\">Pre-processing elapsed time: 0.9837 seconds.\n",
       "</pre>\n"
      ],
      "text/plain": [
       "Pre-processing elapsed time: 0.9837 seconds.\n"
      ]
     },
     "metadata": {},
     "output_type": "display_data"
    },
    {
     "data": {
      "text/html": [
       "<pre style=\"white-space:pre;overflow-x:auto;line-height:normal;font-family:Menlo,'DejaVu Sans Mono',consolas,'Courier New',monospace\">/Users/arthuralvim/Library/Caches/pypoetry/virtualenvs/xai-clustering-b3gHD5dt-py3.9/lib/python3.9/site-packages/th\n",
       "readpoolctl.py:1019: RuntimeWarning: libc not found. The ctypes module in Python 3.9 is maybe too old for this OS.\n",
       "  warnings.warn(\n",
       "</pre>\n"
      ],
      "text/plain": [
       "/Users/arthuralvim/Library/Caches/pypoetry/virtualenvs/xai-clustering-b3gHD5dt-py3.9/lib/python3.9/site-packages/th\n",
       "readpoolctl.py:1019: RuntimeWarning: libc not found. The ctypes module in Python 3.9 is maybe too old for this OS.\n",
       "  warnings.warn(\n"
      ]
     },
     "metadata": {},
     "output_type": "display_data"
    },
    {
     "data": {
      "text/html": [
       "<pre style=\"white-space:pre;overflow-x:auto;line-height:normal;font-family:Menlo,'DejaVu Sans Mono',consolas,'Courier New',monospace\">Clustering elapsed time: 1.3133 seconds.\n",
       "</pre>\n"
      ],
      "text/plain": [
       "Clustering elapsed time: 1.3133 seconds.\n"
      ]
     },
     "metadata": {},
     "output_type": "display_data"
    },
    {
     "name": "stderr",
     "output_type": "stream",
     "text": [
      "Epoch 0, global step 63: 'val_loss' reached 0.34966 (best 0.34966), saving model to './experiments-1/dvgg/version_1/checkpoints/dvgg-epoch=0-train_loss=0.4721-train_acc=0.8344-val_loss=0.3497-val_acc=0.8821.ckpt' as top 3\n"
     ]
    },
    {
     "data": {
      "text/html": [
       "<pre style=\"white-space:pre;overflow-x:auto;line-height:normal;font-family:Menlo,'DejaVu Sans Mono',consolas,'Courier New',monospace\">Epoch 1\n",
       "</pre>\n"
      ],
      "text/plain": [
       "Epoch 1\n"
      ]
     },
     "metadata": {},
     "output_type": "display_data"
    },
    {
     "data": {
      "text/html": [
       "<pre style=\"white-space:pre;overflow-x:auto;line-height:normal;font-family:Menlo,'DejaVu Sans Mono',consolas,'Courier New',monospace\">Creating dataset from Clustering elapsed time: 20.4861 seconds.\n",
       "</pre>\n"
      ],
      "text/plain": [
       "Creating dataset from Clustering elapsed time: 20.4861 seconds.\n"
      ]
     },
     "metadata": {},
     "output_type": "display_data"
    },
    {
     "data": {
      "text/html": [
       "<pre style=\"white-space:pre;overflow-x:auto;line-height:normal;font-family:Menlo,'DejaVu Sans Mono',consolas,'Courier New',monospace\">Feature extracting elapsed time: 523.4020 seconds.\n",
       "</pre>\n"
      ],
      "text/plain": [
       "Feature extracting elapsed time: 523.4020 seconds.\n"
      ]
     },
     "metadata": {},
     "output_type": "display_data"
    },
    {
     "data": {
      "text/html": [
       "<pre style=\"white-space:pre;overflow-x:auto;line-height:normal;font-family:Menlo,'DejaVu Sans Mono',consolas,'Courier New',monospace\">Pre-processing elapsed time: 1.4934 seconds.\n",
       "</pre>\n"
      ],
      "text/plain": [
       "Pre-processing elapsed time: 1.4934 seconds.\n"
      ]
     },
     "metadata": {},
     "output_type": "display_data"
    },
    {
     "data": {
      "text/html": [
       "<pre style=\"white-space:pre;overflow-x:auto;line-height:normal;font-family:Menlo,'DejaVu Sans Mono',consolas,'Courier New',monospace\">Clustering elapsed time: 2.2357 seconds.\n",
       "</pre>\n"
      ],
      "text/plain": [
       "Clustering elapsed time: 2.2357 seconds.\n"
      ]
     },
     "metadata": {},
     "output_type": "display_data"
    },
    {
     "data": {
      "text/html": [
       "<pre style=\"white-space:pre;overflow-x:auto;line-height:normal;font-family:Menlo,'DejaVu Sans Mono',consolas,'Courier New',monospace\">Metrics: {'clu_homogeneity_score': 0.00272575465233917, 'clu_completeness_score': 0.002725960692351936, \n",
       "'clu_v_measure_score': 0.0027258576684520545, 'clu_adjusted_rand_score': -3.874721867515124e-05, \n",
       "'clu_adjusted_mutual_info_score': -0.00031052193361612415}\n",
       "</pre>\n"
      ],
      "text/plain": [
       "Metrics: {'clu_homogeneity_score': 0.00272575465233917, 'clu_completeness_score': 0.002725960692351936, \n",
       "'clu_v_measure_score': 0.0027258576684520545, 'clu_adjusted_rand_score': -3.874721867515124e-05, \n",
       "'clu_adjusted_mutual_info_score': -0.00031052193361612415}\n"
      ]
     },
     "metadata": {},
     "output_type": "display_data"
    },
    {
     "name": "stderr",
     "output_type": "stream",
     "text": [
      "Epoch 1, global step 126: 'val_loss' reached 0.20893 (best 0.20893), saving model to './experiments-1/dvgg/version_1/checkpoints/dvgg-epoch=1-train_loss=0.2745-train_acc=0.9137-val_loss=0.2089-val_acc=0.9358.ckpt' as top 3\n"
     ]
    },
    {
     "data": {
      "text/html": [
       "<pre style=\"white-space:pre;overflow-x:auto;line-height:normal;font-family:Menlo,'DejaVu Sans Mono',consolas,'Courier New',monospace\">Epoch 2\n",
       "</pre>\n"
      ],
      "text/plain": [
       "Epoch 2\n"
      ]
     },
     "metadata": {},
     "output_type": "display_data"
    },
    {
     "data": {
      "text/html": [
       "<pre style=\"white-space:pre;overflow-x:auto;line-height:normal;font-family:Menlo,'DejaVu Sans Mono',consolas,'Courier New',monospace\">Creating dataset from Clustering elapsed time: 20.9273 seconds.\n",
       "</pre>\n"
      ],
      "text/plain": [
       "Creating dataset from Clustering elapsed time: 20.9273 seconds.\n"
      ]
     },
     "metadata": {},
     "output_type": "display_data"
    },
    {
     "data": {
      "text/html": [
       "<pre style=\"white-space:pre;overflow-x:auto;line-height:normal;font-family:Menlo,'DejaVu Sans Mono',consolas,'Courier New',monospace\">Feature extracting elapsed time: 516.3309 seconds.\n",
       "</pre>\n"
      ],
      "text/plain": [
       "Feature extracting elapsed time: 516.3309 seconds.\n"
      ]
     },
     "metadata": {},
     "output_type": "display_data"
    },
    {
     "data": {
      "text/html": [
       "<pre style=\"white-space:pre;overflow-x:auto;line-height:normal;font-family:Menlo,'DejaVu Sans Mono',consolas,'Courier New',monospace\">Pre-processing elapsed time: 1.4949 seconds.\n",
       "</pre>\n"
      ],
      "text/plain": [
       "Pre-processing elapsed time: 1.4949 seconds.\n"
      ]
     },
     "metadata": {},
     "output_type": "display_data"
    },
    {
     "data": {
      "text/html": [
       "<pre style=\"white-space:pre;overflow-x:auto;line-height:normal;font-family:Menlo,'DejaVu Sans Mono',consolas,'Courier New',monospace\">Clustering elapsed time: 1.9738 seconds.\n",
       "</pre>\n"
      ],
      "text/plain": [
       "Clustering elapsed time: 1.9738 seconds.\n"
      ]
     },
     "metadata": {},
     "output_type": "display_data"
    },
    {
     "data": {
      "text/html": [
       "<pre style=\"white-space:pre;overflow-x:auto;line-height:normal;font-family:Menlo,'DejaVu Sans Mono',consolas,'Courier New',monospace\">Metrics: {'clu_homogeneity_score': 0.6832442319765848, 'clu_completeness_score': 0.676313124204521, \n",
       "'clu_v_measure_score': 0.6797610104817795, 'clu_adjusted_rand_score': 0.5930372278392793, \n",
       "'clu_adjusted_mutual_info_score': 0.6787910471714799}\n",
       "</pre>\n"
      ],
      "text/plain": [
       "Metrics: {'clu_homogeneity_score': 0.6832442319765848, 'clu_completeness_score': 0.676313124204521, \n",
       "'clu_v_measure_score': 0.6797610104817795, 'clu_adjusted_rand_score': 0.5930372278392793, \n",
       "'clu_adjusted_mutual_info_score': 0.6787910471714799}\n"
      ]
     },
     "metadata": {},
     "output_type": "display_data"
    },
    {
     "name": "stderr",
     "output_type": "stream",
     "text": [
      "Epoch 2, global step 189: 'val_loss' reached 0.11089 (best 0.11089), saving model to './experiments-1/dvgg/version_1/checkpoints/dvgg-epoch=2-train_loss=0.1938-train_acc=0.9420-val_loss=0.1109-val_acc=0.9644.ckpt' as top 3\n"
     ]
    },
    {
     "data": {
      "text/html": [
       "<pre style=\"white-space:pre;overflow-x:auto;line-height:normal;font-family:Menlo,'DejaVu Sans Mono',consolas,'Courier New',monospace\">Epoch 3\n",
       "</pre>\n"
      ],
      "text/plain": [
       "Epoch 3\n"
      ]
     },
     "metadata": {},
     "output_type": "display_data"
    },
    {
     "data": {
      "text/html": [
       "<pre style=\"white-space:pre;overflow-x:auto;line-height:normal;font-family:Menlo,'DejaVu Sans Mono',consolas,'Courier New',monospace\">Creating dataset from Clustering elapsed time: 20.2699 seconds.\n",
       "</pre>\n"
      ],
      "text/plain": [
       "Creating dataset from Clustering elapsed time: 20.2699 seconds.\n"
      ]
     },
     "metadata": {},
     "output_type": "display_data"
    },
    {
     "data": {
      "text/html": [
       "<pre style=\"white-space:pre;overflow-x:auto;line-height:normal;font-family:Menlo,'DejaVu Sans Mono',consolas,'Courier New',monospace\">Feature extracting elapsed time: 521.4797 seconds.\n",
       "</pre>\n"
      ],
      "text/plain": [
       "Feature extracting elapsed time: 521.4797 seconds.\n"
      ]
     },
     "metadata": {},
     "output_type": "display_data"
    },
    {
     "data": {
      "text/html": [
       "<pre style=\"white-space:pre;overflow-x:auto;line-height:normal;font-family:Menlo,'DejaVu Sans Mono',consolas,'Courier New',monospace\">Pre-processing elapsed time: 1.4717 seconds.\n",
       "</pre>\n"
      ],
      "text/plain": [
       "Pre-processing elapsed time: 1.4717 seconds.\n"
      ]
     },
     "metadata": {},
     "output_type": "display_data"
    },
    {
     "data": {
      "text/html": [
       "<pre style=\"white-space:pre;overflow-x:auto;line-height:normal;font-family:Menlo,'DejaVu Sans Mono',consolas,'Courier New',monospace\">Clustering elapsed time: 1.9056 seconds.\n",
       "</pre>\n"
      ],
      "text/plain": [
       "Clustering elapsed time: 1.9056 seconds.\n"
      ]
     },
     "metadata": {},
     "output_type": "display_data"
    },
    {
     "data": {
      "text/html": [
       "<pre style=\"white-space:pre;overflow-x:auto;line-height:normal;font-family:Menlo,'DejaVu Sans Mono',consolas,'Courier New',monospace\">Metrics: {'clu_homogeneity_score': 0.7602109674887466, 'clu_completeness_score': 0.7649938092943097, \n",
       "'clu_v_measure_score': 0.762594889209751, 'clu_adjusted_rand_score': 0.7005161741534925, \n",
       "'clu_adjusted_mutual_info_score': 0.7618772922385604}\n",
       "</pre>\n"
      ],
      "text/plain": [
       "Metrics: {'clu_homogeneity_score': 0.7602109674887466, 'clu_completeness_score': 0.7649938092943097, \n",
       "'clu_v_measure_score': 0.762594889209751, 'clu_adjusted_rand_score': 0.7005161741534925, \n",
       "'clu_adjusted_mutual_info_score': 0.7618772922385604}\n"
      ]
     },
     "metadata": {},
     "output_type": "display_data"
    },
    {
     "name": "stderr",
     "output_type": "stream",
     "text": [
      "Epoch 3, global step 252: 'val_loss' reached 0.11436 (best 0.11089), saving model to './experiments-1/dvgg/version_1/checkpoints/dvgg-epoch=3-train_loss=0.2165-train_acc=0.9425-val_loss=0.1144-val_acc=0.9650.ckpt' as top 3\n"
     ]
    },
    {
     "data": {
      "text/html": [
       "<pre style=\"white-space:pre;overflow-x:auto;line-height:normal;font-family:Menlo,'DejaVu Sans Mono',consolas,'Courier New',monospace\">Epoch 4\n",
       "</pre>\n"
      ],
      "text/plain": [
       "Epoch 4\n"
      ]
     },
     "metadata": {},
     "output_type": "display_data"
    },
    {
     "data": {
      "text/html": [
       "<pre style=\"white-space:pre;overflow-x:auto;line-height:normal;font-family:Menlo,'DejaVu Sans Mono',consolas,'Courier New',monospace\">Creating dataset from Clustering elapsed time: 20.3343 seconds.\n",
       "</pre>\n"
      ],
      "text/plain": [
       "Creating dataset from Clustering elapsed time: 20.3343 seconds.\n"
      ]
     },
     "metadata": {},
     "output_type": "display_data"
    },
    {
     "data": {
      "text/html": [
       "<pre style=\"white-space:pre;overflow-x:auto;line-height:normal;font-family:Menlo,'DejaVu Sans Mono',consolas,'Courier New',monospace\">Feature extracting elapsed time: 511.7405 seconds.\n",
       "</pre>\n"
      ],
      "text/plain": [
       "Feature extracting elapsed time: 511.7405 seconds.\n"
      ]
     },
     "metadata": {},
     "output_type": "display_data"
    },
    {
     "data": {
      "text/html": [
       "<pre style=\"white-space:pre;overflow-x:auto;line-height:normal;font-family:Menlo,'DejaVu Sans Mono',consolas,'Courier New',monospace\">Pre-processing elapsed time: 1.5318 seconds.\n",
       "</pre>\n"
      ],
      "text/plain": [
       "Pre-processing elapsed time: 1.5318 seconds.\n"
      ]
     },
     "metadata": {},
     "output_type": "display_data"
    },
    {
     "data": {
      "text/html": [
       "<pre style=\"white-space:pre;overflow-x:auto;line-height:normal;font-family:Menlo,'DejaVu Sans Mono',consolas,'Courier New',monospace\">Clustering elapsed time: 1.9770 seconds.\n",
       "</pre>\n"
      ],
      "text/plain": [
       "Clustering elapsed time: 1.9770 seconds.\n"
      ]
     },
     "metadata": {},
     "output_type": "display_data"
    },
    {
     "data": {
      "text/html": [
       "<pre style=\"white-space:pre;overflow-x:auto;line-height:normal;font-family:Menlo,'DejaVu Sans Mono',consolas,'Courier New',monospace\">Metrics: {'clu_homogeneity_score': 0.7787482439509804, 'clu_completeness_score': 0.778059911264481, \n",
       "'clu_v_measure_score': 0.7784039254368014, 'clu_adjusted_rand_score': 0.7240811888069112, \n",
       "'clu_adjusted_mutual_info_score': 0.7777322188584095}\n",
       "</pre>\n"
      ],
      "text/plain": [
       "Metrics: {'clu_homogeneity_score': 0.7787482439509804, 'clu_completeness_score': 0.778059911264481, \n",
       "'clu_v_measure_score': 0.7784039254368014, 'clu_adjusted_rand_score': 0.7240811888069112, \n",
       "'clu_adjusted_mutual_info_score': 0.7777322188584095}\n"
      ]
     },
     "metadata": {},
     "output_type": "display_data"
    },
    {
     "name": "stderr",
     "output_type": "stream",
     "text": [
      "Epoch 4, global step 315: 'val_loss' reached 0.08097 (best 0.08097), saving model to './experiments-1/dvgg/version_1/checkpoints/dvgg-epoch=4-train_loss=0.1670-train_acc=0.9530-val_loss=0.0810-val_acc=0.9767.ckpt' as top 3\n"
     ]
    },
    {
     "data": {
      "text/html": [
       "<pre style=\"white-space:pre;overflow-x:auto;line-height:normal;font-family:Menlo,'DejaVu Sans Mono',consolas,'Courier New',monospace\">Epoch 5\n",
       "</pre>\n"
      ],
      "text/plain": [
       "Epoch 5\n"
      ]
     },
     "metadata": {},
     "output_type": "display_data"
    },
    {
     "data": {
      "text/html": [
       "<pre style=\"white-space:pre;overflow-x:auto;line-height:normal;font-family:Menlo,'DejaVu Sans Mono',consolas,'Courier New',monospace\">Creating dataset from Clustering elapsed time: 20.4515 seconds.\n",
       "</pre>\n"
      ],
      "text/plain": [
       "Creating dataset from Clustering elapsed time: 20.4515 seconds.\n"
      ]
     },
     "metadata": {},
     "output_type": "display_data"
    },
    {
     "data": {
      "text/html": [
       "<pre style=\"white-space:pre;overflow-x:auto;line-height:normal;font-family:Menlo,'DejaVu Sans Mono',consolas,'Courier New',monospace\">Feature extracting elapsed time: 519.7514 seconds.\n",
       "</pre>\n"
      ],
      "text/plain": [
       "Feature extracting elapsed time: 519.7514 seconds.\n"
      ]
     },
     "metadata": {},
     "output_type": "display_data"
    },
    {
     "data": {
      "text/html": [
       "<pre style=\"white-space:pre;overflow-x:auto;line-height:normal;font-family:Menlo,'DejaVu Sans Mono',consolas,'Courier New',monospace\">Pre-processing elapsed time: 1.3837 seconds.\n",
       "</pre>\n"
      ],
      "text/plain": [
       "Pre-processing elapsed time: 1.3837 seconds.\n"
      ]
     },
     "metadata": {},
     "output_type": "display_data"
    },
    {
     "data": {
      "text/html": [
       "<pre style=\"white-space:pre;overflow-x:auto;line-height:normal;font-family:Menlo,'DejaVu Sans Mono',consolas,'Courier New',monospace\">Clustering elapsed time: 1.9829 seconds.\n",
       "</pre>\n"
      ],
      "text/plain": [
       "Clustering elapsed time: 1.9829 seconds.\n"
      ]
     },
     "metadata": {},
     "output_type": "display_data"
    },
    {
     "data": {
      "text/html": [
       "<pre style=\"white-space:pre;overflow-x:auto;line-height:normal;font-family:Menlo,'DejaVu Sans Mono',consolas,'Courier New',monospace\">Metrics: {'clu_homogeneity_score': 0.7679933696167698, 'clu_completeness_score': 0.7768601743184875, \n",
       "'clu_v_measure_score': 0.7724013261168141, 'clu_adjusted_rand_score': 0.700623571780803, \n",
       "'clu_adjusted_mutual_info_score': 0.7717075891953143}\n",
       "</pre>\n"
      ],
      "text/plain": [
       "Metrics: {'clu_homogeneity_score': 0.7679933696167698, 'clu_completeness_score': 0.7768601743184875, \n",
       "'clu_v_measure_score': 0.7724013261168141, 'clu_adjusted_rand_score': 0.700623571780803, \n",
       "'clu_adjusted_mutual_info_score': 0.7717075891953143}\n"
      ]
     },
     "metadata": {},
     "output_type": "display_data"
    },
    {
     "name": "stderr",
     "output_type": "stream",
     "text": [
      "Epoch 5, global step 378: 'val_loss' was not in top 3\n"
     ]
    },
    {
     "data": {
      "text/html": [
       "<pre style=\"white-space:pre;overflow-x:auto;line-height:normal;font-family:Menlo,'DejaVu Sans Mono',consolas,'Courier New',monospace\">Epoch 6\n",
       "</pre>\n"
      ],
      "text/plain": [
       "Epoch 6\n"
      ]
     },
     "metadata": {},
     "output_type": "display_data"
    },
    {
     "data": {
      "text/html": [
       "<pre style=\"white-space:pre;overflow-x:auto;line-height:normal;font-family:Menlo,'DejaVu Sans Mono',consolas,'Courier New',monospace\">Creating dataset from Clustering elapsed time: 21.3587 seconds.\n",
       "</pre>\n"
      ],
      "text/plain": [
       "Creating dataset from Clustering elapsed time: 21.3587 seconds.\n"
      ]
     },
     "metadata": {},
     "output_type": "display_data"
    },
    {
     "data": {
      "text/html": [
       "<pre style=\"white-space:pre;overflow-x:auto;line-height:normal;font-family:Menlo,'DejaVu Sans Mono',consolas,'Courier New',monospace\">Feature extracting elapsed time: 513.0329 seconds.\n",
       "</pre>\n"
      ],
      "text/plain": [
       "Feature extracting elapsed time: 513.0329 seconds.\n"
      ]
     },
     "metadata": {},
     "output_type": "display_data"
    },
    {
     "data": {
      "text/html": [
       "<pre style=\"white-space:pre;overflow-x:auto;line-height:normal;font-family:Menlo,'DejaVu Sans Mono',consolas,'Courier New',monospace\">Pre-processing elapsed time: 1.5330 seconds.\n",
       "</pre>\n"
      ],
      "text/plain": [
       "Pre-processing elapsed time: 1.5330 seconds.\n"
      ]
     },
     "metadata": {},
     "output_type": "display_data"
    },
    {
     "data": {
      "text/html": [
       "<pre style=\"white-space:pre;overflow-x:auto;line-height:normal;font-family:Menlo,'DejaVu Sans Mono',consolas,'Courier New',monospace\">Clustering elapsed time: 2.1087 seconds.\n",
       "</pre>\n"
      ],
      "text/plain": [
       "Clustering elapsed time: 2.1087 seconds.\n"
      ]
     },
     "metadata": {},
     "output_type": "display_data"
    },
    {
     "data": {
      "text/html": [
       "<pre style=\"white-space:pre;overflow-x:auto;line-height:normal;font-family:Menlo,'DejaVu Sans Mono',consolas,'Courier New',monospace\">Metrics: {'clu_homogeneity_score': 0.7674336155633141, 'clu_completeness_score': 0.7576431225140066, \n",
       "'clu_v_measure_score': 0.7625069431596356, 'clu_adjusted_rand_score': 0.6829959359411114, \n",
       "'clu_adjusted_mutual_info_score': 0.761783613096249}\n",
       "</pre>\n"
      ],
      "text/plain": [
       "Metrics: {'clu_homogeneity_score': 0.7674336155633141, 'clu_completeness_score': 0.7576431225140066, \n",
       "'clu_v_measure_score': 0.7625069431596356, 'clu_adjusted_rand_score': 0.6829959359411114, \n",
       "'clu_adjusted_mutual_info_score': 0.761783613096249}\n"
      ]
     },
     "metadata": {},
     "output_type": "display_data"
    },
    {
     "name": "stderr",
     "output_type": "stream",
     "text": [
      "Epoch 6, global step 441: 'val_loss' reached 0.10679 (best 0.08097), saving model to './experiments-1/dvgg/version_1/checkpoints/dvgg-epoch=6-train_loss=0.1788-train_acc=0.9472-val_loss=0.1068-val_acc=0.9650.ckpt' as top 3\n"
     ]
    },
    {
     "data": {
      "text/html": [
       "<pre style=\"white-space:pre;overflow-x:auto;line-height:normal;font-family:Menlo,'DejaVu Sans Mono',consolas,'Courier New',monospace\">Epoch 7\n",
       "</pre>\n"
      ],
      "text/plain": [
       "Epoch 7\n"
      ]
     },
     "metadata": {},
     "output_type": "display_data"
    },
    {
     "data": {
      "text/html": [
       "<pre style=\"white-space:pre;overflow-x:auto;line-height:normal;font-family:Menlo,'DejaVu Sans Mono',consolas,'Courier New',monospace\">Creating dataset from Clustering elapsed time: 20.9974 seconds.\n",
       "</pre>\n"
      ],
      "text/plain": [
       "Creating dataset from Clustering elapsed time: 20.9974 seconds.\n"
      ]
     },
     "metadata": {},
     "output_type": "display_data"
    },
    {
     "data": {
      "text/html": [
       "<pre style=\"white-space:pre;overflow-x:auto;line-height:normal;font-family:Menlo,'DejaVu Sans Mono',consolas,'Courier New',monospace\">Feature extracting elapsed time: 533.5711 seconds.\n",
       "</pre>\n"
      ],
      "text/plain": [
       "Feature extracting elapsed time: 533.5711 seconds.\n"
      ]
     },
     "metadata": {},
     "output_type": "display_data"
    },
    {
     "data": {
      "text/html": [
       "<pre style=\"white-space:pre;overflow-x:auto;line-height:normal;font-family:Menlo,'DejaVu Sans Mono',consolas,'Courier New',monospace\">Pre-processing elapsed time: 1.5463 seconds.\n",
       "</pre>\n"
      ],
      "text/plain": [
       "Pre-processing elapsed time: 1.5463 seconds.\n"
      ]
     },
     "metadata": {},
     "output_type": "display_data"
    },
    {
     "data": {
      "text/html": [
       "<pre style=\"white-space:pre;overflow-x:auto;line-height:normal;font-family:Menlo,'DejaVu Sans Mono',consolas,'Courier New',monospace\">Clustering elapsed time: 2.0391 seconds.\n",
       "</pre>\n"
      ],
      "text/plain": [
       "Clustering elapsed time: 2.0391 seconds.\n"
      ]
     },
     "metadata": {},
     "output_type": "display_data"
    },
    {
     "data": {
      "text/html": [
       "<pre style=\"white-space:pre;overflow-x:auto;line-height:normal;font-family:Menlo,'DejaVu Sans Mono',consolas,'Courier New',monospace\">Metrics: {'clu_homogeneity_score': 0.7440154142824743, 'clu_completeness_score': 0.7425804195492031, \n",
       "'clu_v_measure_score': 0.7432972243234616, 'clu_adjusted_rand_score': 0.6598037031212037, \n",
       "'clu_adjusted_mutual_info_score': 0.7425213881701758}\n",
       "</pre>\n"
      ],
      "text/plain": [
       "Metrics: {'clu_homogeneity_score': 0.7440154142824743, 'clu_completeness_score': 0.7425804195492031, \n",
       "'clu_v_measure_score': 0.7432972243234616, 'clu_adjusted_rand_score': 0.6598037031212037, \n",
       "'clu_adjusted_mutual_info_score': 0.7425213881701758}\n"
      ]
     },
     "metadata": {},
     "output_type": "display_data"
    },
    {
     "name": "stderr",
     "output_type": "stream",
     "text": [
      "Epoch 7, global step 504: 'val_loss' reached 0.09033 (best 0.08097), saving model to './experiments-1/dvgg/version_1/checkpoints/dvgg-epoch=7-train_loss=0.1157-train_acc=0.9690-val_loss=0.0903-val_acc=0.9848.ckpt' as top 3\n"
     ]
    },
    {
     "data": {
      "text/html": [
       "<pre style=\"white-space:pre;overflow-x:auto;line-height:normal;font-family:Menlo,'DejaVu Sans Mono',consolas,'Courier New',monospace\">Epoch 8\n",
       "</pre>\n"
      ],
      "text/plain": [
       "Epoch 8\n"
      ]
     },
     "metadata": {},
     "output_type": "display_data"
    },
    {
     "data": {
      "text/html": [
       "<pre style=\"white-space:pre;overflow-x:auto;line-height:normal;font-family:Menlo,'DejaVu Sans Mono',consolas,'Courier New',monospace\">Creating dataset from Clustering elapsed time: 22.2415 seconds.\n",
       "</pre>\n"
      ],
      "text/plain": [
       "Creating dataset from Clustering elapsed time: 22.2415 seconds.\n"
      ]
     },
     "metadata": {},
     "output_type": "display_data"
    },
    {
     "data": {
      "text/html": [
       "<pre style=\"white-space:pre;overflow-x:auto;line-height:normal;font-family:Menlo,'DejaVu Sans Mono',consolas,'Courier New',monospace\">Feature extracting elapsed time: 577.5183 seconds.\n",
       "</pre>\n"
      ],
      "text/plain": [
       "Feature extracting elapsed time: 577.5183 seconds.\n"
      ]
     },
     "metadata": {},
     "output_type": "display_data"
    },
    {
     "data": {
      "text/html": [
       "<pre style=\"white-space:pre;overflow-x:auto;line-height:normal;font-family:Menlo,'DejaVu Sans Mono',consolas,'Courier New',monospace\">Pre-processing elapsed time: 1.6810 seconds.\n",
       "</pre>\n"
      ],
      "text/plain": [
       "Pre-processing elapsed time: 1.6810 seconds.\n"
      ]
     },
     "metadata": {},
     "output_type": "display_data"
    },
    {
     "data": {
      "text/html": [
       "<pre style=\"white-space:pre;overflow-x:auto;line-height:normal;font-family:Menlo,'DejaVu Sans Mono',consolas,'Courier New',monospace\">Clustering elapsed time: 2.1508 seconds.\n",
       "</pre>\n"
      ],
      "text/plain": [
       "Clustering elapsed time: 2.1508 seconds.\n"
      ]
     },
     "metadata": {},
     "output_type": "display_data"
    },
    {
     "data": {
      "text/html": [
       "<pre style=\"white-space:pre;overflow-x:auto;line-height:normal;font-family:Menlo,'DejaVu Sans Mono',consolas,'Courier New',monospace\">Metrics: {'clu_homogeneity_score': 0.7512886553980396, 'clu_completeness_score': 0.7598788757017417, \n",
       "'clu_v_measure_score': 0.7555593500289944, 'clu_adjusted_rand_score': 0.6828005308427566, \n",
       "'clu_adjusted_mutual_info_score': 0.7548169540857121}\n",
       "</pre>\n"
      ],
      "text/plain": [
       "Metrics: {'clu_homogeneity_score': 0.7512886553980396, 'clu_completeness_score': 0.7598788757017417, \n",
       "'clu_v_measure_score': 0.7555593500289944, 'clu_adjusted_rand_score': 0.6828005308427566, \n",
       "'clu_adjusted_mutual_info_score': 0.7548169540857121}\n"
      ]
     },
     "metadata": {},
     "output_type": "display_data"
    },
    {
     "name": "stderr",
     "output_type": "stream",
     "text": [
      "Epoch 8, global step 567: 'val_loss' reached 0.09745 (best 0.08097), saving model to './experiments-1/dvgg/version_1/checkpoints/dvgg-epoch=8-train_loss=0.1648-train_acc=0.9592-val_loss=0.0975-val_acc=0.9737.ckpt' as top 3\n"
     ]
    },
    {
     "data": {
      "text/html": [
       "<pre style=\"white-space:pre;overflow-x:auto;line-height:normal;font-family:Menlo,'DejaVu Sans Mono',consolas,'Courier New',monospace\">Epoch 9\n",
       "</pre>\n"
      ],
      "text/plain": [
       "Epoch 9\n"
      ]
     },
     "metadata": {},
     "output_type": "display_data"
    },
    {
     "data": {
      "text/html": [
       "<pre style=\"white-space:pre;overflow-x:auto;line-height:normal;font-family:Menlo,'DejaVu Sans Mono',consolas,'Courier New',monospace\">Creating dataset from Clustering elapsed time: 22.6320 seconds.\n",
       "</pre>\n"
      ],
      "text/plain": [
       "Creating dataset from Clustering elapsed time: 22.6320 seconds.\n"
      ]
     },
     "metadata": {},
     "output_type": "display_data"
    },
    {
     "data": {
      "text/html": [
       "<pre style=\"white-space:pre;overflow-x:auto;line-height:normal;font-family:Menlo,'DejaVu Sans Mono',consolas,'Courier New',monospace\">Feature extracting elapsed time: 573.2864 seconds.\n",
       "</pre>\n"
      ],
      "text/plain": [
       "Feature extracting elapsed time: 573.2864 seconds.\n"
      ]
     },
     "metadata": {},
     "output_type": "display_data"
    },
    {
     "data": {
      "text/html": [
       "<pre style=\"white-space:pre;overflow-x:auto;line-height:normal;font-family:Menlo,'DejaVu Sans Mono',consolas,'Courier New',monospace\">Pre-processing elapsed time: 1.7517 seconds.\n",
       "</pre>\n"
      ],
      "text/plain": [
       "Pre-processing elapsed time: 1.7517 seconds.\n"
      ]
     },
     "metadata": {},
     "output_type": "display_data"
    },
    {
     "data": {
      "text/html": [
       "<pre style=\"white-space:pre;overflow-x:auto;line-height:normal;font-family:Menlo,'DejaVu Sans Mono',consolas,'Courier New',monospace\">Clustering elapsed time: 2.5021 seconds.\n",
       "</pre>\n"
      ],
      "text/plain": [
       "Clustering elapsed time: 2.5021 seconds.\n"
      ]
     },
     "metadata": {},
     "output_type": "display_data"
    },
    {
     "data": {
      "text/html": [
       "<pre style=\"white-space:pre;overflow-x:auto;line-height:normal;font-family:Menlo,'DejaVu Sans Mono',consolas,'Courier New',monospace\">Metrics: {'clu_homogeneity_score': 0.7549722902908794, 'clu_completeness_score': 0.7540626294557772, \n",
       "'clu_v_measure_score': 0.7545171856971564, 'clu_adjusted_rand_score': 0.6656632630660544, \n",
       "'clu_adjusted_mutual_info_score': 0.7537676402034952}\n",
       "</pre>\n"
      ],
      "text/plain": [
       "Metrics: {'clu_homogeneity_score': 0.7549722902908794, 'clu_completeness_score': 0.7540626294557772, \n",
       "'clu_v_measure_score': 0.7545171856971564, 'clu_adjusted_rand_score': 0.6656632630660544, \n",
       "'clu_adjusted_mutual_info_score': 0.7537676402034952}\n"
      ]
     },
     "metadata": {},
     "output_type": "display_data"
    },
    {
     "name": "stderr",
     "output_type": "stream",
     "text": [
      "Epoch 9, global step 630: 'val_loss' was not in top 3\n"
     ]
    },
    {
     "data": {
      "text/html": [
       "<pre style=\"white-space:pre;overflow-x:auto;line-height:normal;font-family:Menlo,'DejaVu Sans Mono',consolas,'Courier New',monospace\">Epoch 10\n",
       "</pre>\n"
      ],
      "text/plain": [
       "Epoch 10\n"
      ]
     },
     "metadata": {},
     "output_type": "display_data"
    },
    {
     "data": {
      "text/html": [
       "<pre style=\"white-space:pre;overflow-x:auto;line-height:normal;font-family:Menlo,'DejaVu Sans Mono',consolas,'Courier New',monospace\">Creating dataset from Clustering elapsed time: 24.3763 seconds.\n",
       "</pre>\n"
      ],
      "text/plain": [
       "Creating dataset from Clustering elapsed time: 24.3763 seconds.\n"
      ]
     },
     "metadata": {},
     "output_type": "display_data"
    },
    {
     "data": {
      "text/html": [
       "<pre style=\"white-space:pre;overflow-x:auto;line-height:normal;font-family:Menlo,'DejaVu Sans Mono',consolas,'Courier New',monospace\">Feature extracting elapsed time: 596.8625 seconds.\n",
       "</pre>\n"
      ],
      "text/plain": [
       "Feature extracting elapsed time: 596.8625 seconds.\n"
      ]
     },
     "metadata": {},
     "output_type": "display_data"
    },
    {
     "data": {
      "text/html": [
       "<pre style=\"white-space:pre;overflow-x:auto;line-height:normal;font-family:Menlo,'DejaVu Sans Mono',consolas,'Courier New',monospace\">Pre-processing elapsed time: 1.7187 seconds.\n",
       "</pre>\n"
      ],
      "text/plain": [
       "Pre-processing elapsed time: 1.7187 seconds.\n"
      ]
     },
     "metadata": {},
     "output_type": "display_data"
    },
    {
     "data": {
      "text/html": [
       "<pre style=\"white-space:pre;overflow-x:auto;line-height:normal;font-family:Menlo,'DejaVu Sans Mono',consolas,'Courier New',monospace\">Clustering elapsed time: 2.6306 seconds.\n",
       "</pre>\n"
      ],
      "text/plain": [
       "Clustering elapsed time: 2.6306 seconds.\n"
      ]
     },
     "metadata": {},
     "output_type": "display_data"
    },
    {
     "data": {
      "text/html": [
       "<pre style=\"white-space:pre;overflow-x:auto;line-height:normal;font-family:Menlo,'DejaVu Sans Mono',consolas,'Courier New',monospace\">Metrics: {'clu_homogeneity_score': 0.7212099614472024, 'clu_completeness_score': 0.7205084268028222, \n",
       "'clu_v_measure_score': 0.7208590234429771, 'clu_adjusted_rand_score': 0.5915930525823324, \n",
       "'clu_adjusted_mutual_info_score': 0.7200075770991702}\n",
       "</pre>\n"
      ],
      "text/plain": [
       "Metrics: {'clu_homogeneity_score': 0.7212099614472024, 'clu_completeness_score': 0.7205084268028222, \n",
       "'clu_v_measure_score': 0.7208590234429771, 'clu_adjusted_rand_score': 0.5915930525823324, \n",
       "'clu_adjusted_mutual_info_score': 0.7200075770991702}\n"
      ]
     },
     "metadata": {},
     "output_type": "display_data"
    },
    {
     "name": "stderr",
     "output_type": "stream",
     "text": [
      "Epoch 10, global step 693: 'val_loss' was not in top 3\n"
     ]
    },
    {
     "data": {
      "text/html": [
       "<pre style=\"white-space:pre;overflow-x:auto;line-height:normal;font-family:Menlo,'DejaVu Sans Mono',consolas,'Courier New',monospace\">Epoch 11\n",
       "</pre>\n"
      ],
      "text/plain": [
       "Epoch 11\n"
      ]
     },
     "metadata": {},
     "output_type": "display_data"
    },
    {
     "data": {
      "text/html": [
       "<pre style=\"white-space:pre;overflow-x:auto;line-height:normal;font-family:Menlo,'DejaVu Sans Mono',consolas,'Courier New',monospace\">Creating dataset from Clustering elapsed time: 26.5798 seconds.\n",
       "</pre>\n"
      ],
      "text/plain": [
       "Creating dataset from Clustering elapsed time: 26.5798 seconds.\n"
      ]
     },
     "metadata": {},
     "output_type": "display_data"
    },
    {
     "data": {
      "text/html": [
       "<pre style=\"white-space:pre;overflow-x:auto;line-height:normal;font-family:Menlo,'DejaVu Sans Mono',consolas,'Courier New',monospace\">Feature extracting elapsed time: 607.4631 seconds.\n",
       "</pre>\n"
      ],
      "text/plain": [
       "Feature extracting elapsed time: 607.4631 seconds.\n"
      ]
     },
     "metadata": {},
     "output_type": "display_data"
    },
    {
     "data": {
      "text/html": [
       "<pre style=\"white-space:pre;overflow-x:auto;line-height:normal;font-family:Menlo,'DejaVu Sans Mono',consolas,'Courier New',monospace\">Pre-processing elapsed time: 1.7564 seconds.\n",
       "</pre>\n"
      ],
      "text/plain": [
       "Pre-processing elapsed time: 1.7564 seconds.\n"
      ]
     },
     "metadata": {},
     "output_type": "display_data"
    },
    {
     "data": {
      "text/html": [
       "<pre style=\"white-space:pre;overflow-x:auto;line-height:normal;font-family:Menlo,'DejaVu Sans Mono',consolas,'Courier New',monospace\">Clustering elapsed time: 2.2761 seconds.\n",
       "</pre>\n"
      ],
      "text/plain": [
       "Clustering elapsed time: 2.2761 seconds.\n"
      ]
     },
     "metadata": {},
     "output_type": "display_data"
    },
    {
     "data": {
      "text/html": [
       "<pre style=\"white-space:pre;overflow-x:auto;line-height:normal;font-family:Menlo,'DejaVu Sans Mono',consolas,'Courier New',monospace\">Metrics: {'clu_homogeneity_score': 0.7200015681961112, 'clu_completeness_score': 0.7275293997601289, \n",
       "'clu_v_measure_score': 0.7237459098725186, 'clu_adjusted_rand_score': 0.6125637806660842, \n",
       "'clu_adjusted_mutual_info_score': 0.7228991376910912}\n",
       "</pre>\n"
      ],
      "text/plain": [
       "Metrics: {'clu_homogeneity_score': 0.7200015681961112, 'clu_completeness_score': 0.7275293997601289, \n",
       "'clu_v_measure_score': 0.7237459098725186, 'clu_adjusted_rand_score': 0.6125637806660842, \n",
       "'clu_adjusted_mutual_info_score': 0.7228991376910912}\n"
      ]
     },
     "metadata": {},
     "output_type": "display_data"
    },
    {
     "name": "stderr",
     "output_type": "stream",
     "text": [
      "Epoch 11, global step 756: 'val_loss' was not in top 3\n"
     ]
    },
    {
     "data": {
      "text/html": [
       "<pre style=\"white-space:pre;overflow-x:auto;line-height:normal;font-family:Menlo,'DejaVu Sans Mono',consolas,'Courier New',monospace\">Epoch 12\n",
       "</pre>\n"
      ],
      "text/plain": [
       "Epoch 12\n"
      ]
     },
     "metadata": {},
     "output_type": "display_data"
    },
    {
     "data": {
      "text/html": [
       "<pre style=\"white-space:pre;overflow-x:auto;line-height:normal;font-family:Menlo,'DejaVu Sans Mono',consolas,'Courier New',monospace\">Creating dataset from Clustering elapsed time: 24.7346 seconds.\n",
       "</pre>\n"
      ],
      "text/plain": [
       "Creating dataset from Clustering elapsed time: 24.7346 seconds.\n"
      ]
     },
     "metadata": {},
     "output_type": "display_data"
    },
    {
     "data": {
      "text/html": [
       "<pre style=\"white-space:pre;overflow-x:auto;line-height:normal;font-family:Menlo,'DejaVu Sans Mono',consolas,'Courier New',monospace\">Feature extracting elapsed time: 610.1394 seconds.\n",
       "</pre>\n"
      ],
      "text/plain": [
       "Feature extracting elapsed time: 610.1394 seconds.\n"
      ]
     },
     "metadata": {},
     "output_type": "display_data"
    },
    {
     "data": {
      "text/html": [
       "<pre style=\"white-space:pre;overflow-x:auto;line-height:normal;font-family:Menlo,'DejaVu Sans Mono',consolas,'Courier New',monospace\">Pre-processing elapsed time: 1.7282 seconds.\n",
       "</pre>\n"
      ],
      "text/plain": [
       "Pre-processing elapsed time: 1.7282 seconds.\n"
      ]
     },
     "metadata": {},
     "output_type": "display_data"
    },
    {
     "data": {
      "text/html": [
       "<pre style=\"white-space:pre;overflow-x:auto;line-height:normal;font-family:Menlo,'DejaVu Sans Mono',consolas,'Courier New',monospace\">Clustering elapsed time: 2.4604 seconds.\n",
       "</pre>\n"
      ],
      "text/plain": [
       "Clustering elapsed time: 2.4604 seconds.\n"
      ]
     },
     "metadata": {},
     "output_type": "display_data"
    },
    {
     "data": {
      "text/html": [
       "<pre style=\"white-space:pre;overflow-x:auto;line-height:normal;font-family:Menlo,'DejaVu Sans Mono',consolas,'Courier New',monospace\">Metrics: {'clu_homogeneity_score': 0.7443417879365312, 'clu_completeness_score': 0.7361511961475735, \n",
       "'clu_v_measure_score': 0.7402238354693517, 'clu_adjusted_rand_score': 0.6546193612997394, \n",
       "'clu_adjusted_mutual_info_score': 0.739427915967663}\n",
       "</pre>\n"
      ],
      "text/plain": [
       "Metrics: {'clu_homogeneity_score': 0.7443417879365312, 'clu_completeness_score': 0.7361511961475735, \n",
       "'clu_v_measure_score': 0.7402238354693517, 'clu_adjusted_rand_score': 0.6546193612997394, \n",
       "'clu_adjusted_mutual_info_score': 0.739427915967663}\n"
      ]
     },
     "metadata": {},
     "output_type": "display_data"
    },
    {
     "name": "stderr",
     "output_type": "stream",
     "text": [
      "Epoch 12, global step 819: 'val_loss' reached 0.08253 (best 0.08097), saving model to './experiments-1/dvgg/version_1/checkpoints/dvgg-epoch=12-train_loss=0.1013-train_acc=0.9692-val_loss=0.0825-val_acc=0.9854.ckpt' as top 3\n"
     ]
    },
    {
     "data": {
      "text/html": [
       "<pre style=\"white-space:pre;overflow-x:auto;line-height:normal;font-family:Menlo,'DejaVu Sans Mono',consolas,'Courier New',monospace\">Epoch 13\n",
       "</pre>\n"
      ],
      "text/plain": [
       "Epoch 13\n"
      ]
     },
     "metadata": {},
     "output_type": "display_data"
    },
    {
     "data": {
      "text/html": [
       "<pre style=\"white-space:pre;overflow-x:auto;line-height:normal;font-family:Menlo,'DejaVu Sans Mono',consolas,'Courier New',monospace\">Creating dataset from Clustering elapsed time: 31.7604 seconds.\n",
       "</pre>\n"
      ],
      "text/plain": [
       "Creating dataset from Clustering elapsed time: 31.7604 seconds.\n"
      ]
     },
     "metadata": {},
     "output_type": "display_data"
    },
    {
     "data": {
      "text/html": [
       "<pre style=\"white-space:pre;overflow-x:auto;line-height:normal;font-family:Menlo,'DejaVu Sans Mono',consolas,'Courier New',monospace\">Feature extracting elapsed time: 747.3121 seconds.\n",
       "</pre>\n"
      ],
      "text/plain": [
       "Feature extracting elapsed time: 747.3121 seconds.\n"
      ]
     },
     "metadata": {},
     "output_type": "display_data"
    },
    {
     "data": {
      "text/html": [
       "<pre style=\"white-space:pre;overflow-x:auto;line-height:normal;font-family:Menlo,'DejaVu Sans Mono',consolas,'Courier New',monospace\">Pre-processing elapsed time: 2.2677 seconds.\n",
       "</pre>\n"
      ],
      "text/plain": [
       "Pre-processing elapsed time: 2.2677 seconds.\n"
      ]
     },
     "metadata": {},
     "output_type": "display_data"
    },
    {
     "data": {
      "text/html": [
       "<pre style=\"white-space:pre;overflow-x:auto;line-height:normal;font-family:Menlo,'DejaVu Sans Mono',consolas,'Courier New',monospace\">Clustering elapsed time: 3.5744 seconds.\n",
       "</pre>\n"
      ],
      "text/plain": [
       "Clustering elapsed time: 3.5744 seconds.\n"
      ]
     },
     "metadata": {},
     "output_type": "display_data"
    },
    {
     "data": {
      "text/html": [
       "<pre style=\"white-space:pre;overflow-x:auto;line-height:normal;font-family:Menlo,'DejaVu Sans Mono',consolas,'Courier New',monospace\">Metrics: {'clu_homogeneity_score': 0.7553141822016244, 'clu_completeness_score': 0.7598837133848406, \n",
       "'clu_v_measure_score': 0.7575920574011276, 'clu_adjusted_rand_score': 0.673625663387352, \n",
       "'clu_adjusted_mutual_info_score': 0.7568512687714276}\n",
       "</pre>\n"
      ],
      "text/plain": [
       "Metrics: {'clu_homogeneity_score': 0.7553141822016244, 'clu_completeness_score': 0.7598837133848406, \n",
       "'clu_v_measure_score': 0.7575920574011276, 'clu_adjusted_rand_score': 0.673625663387352, \n",
       "'clu_adjusted_mutual_info_score': 0.7568512687714276}\n"
      ]
     },
     "metadata": {},
     "output_type": "display_data"
    },
    {
     "name": "stderr",
     "output_type": "stream",
     "text": [
      "Epoch 13, global step 882: 'val_loss' reached 0.06988 (best 0.06988), saving model to './experiments-1/dvgg/version_1/checkpoints/dvgg-epoch=13-train_loss=0.1845-train_acc=0.9515-val_loss=0.0699-val_acc=0.9825.ckpt' as top 3\n"
     ]
    },
    {
     "data": {
      "text/html": [
       "<pre style=\"white-space:pre;overflow-x:auto;line-height:normal;font-family:Menlo,'DejaVu Sans Mono',consolas,'Courier New',monospace\">Epoch 14\n",
       "</pre>\n"
      ],
      "text/plain": [
       "Epoch 14\n"
      ]
     },
     "metadata": {},
     "output_type": "display_data"
    },
    {
     "data": {
      "text/html": [
       "<pre style=\"white-space:pre;overflow-x:auto;line-height:normal;font-family:Menlo,'DejaVu Sans Mono',consolas,'Courier New',monospace\">Creating dataset from Clustering elapsed time: 29.0873 seconds.\n",
       "</pre>\n"
      ],
      "text/plain": [
       "Creating dataset from Clustering elapsed time: 29.0873 seconds.\n"
      ]
     },
     "metadata": {},
     "output_type": "display_data"
    },
    {
     "data": {
      "text/html": [
       "<pre style=\"white-space:pre;overflow-x:auto;line-height:normal;font-family:Menlo,'DejaVu Sans Mono',consolas,'Courier New',monospace\">Feature extracting elapsed time: 765.1451 seconds.\n",
       "</pre>\n"
      ],
      "text/plain": [
       "Feature extracting elapsed time: 765.1451 seconds.\n"
      ]
     },
     "metadata": {},
     "output_type": "display_data"
    },
    {
     "data": {
      "text/html": [
       "<pre style=\"white-space:pre;overflow-x:auto;line-height:normal;font-family:Menlo,'DejaVu Sans Mono',consolas,'Courier New',monospace\">Pre-processing elapsed time: 2.2496 seconds.\n",
       "</pre>\n"
      ],
      "text/plain": [
       "Pre-processing elapsed time: 2.2496 seconds.\n"
      ]
     },
     "metadata": {},
     "output_type": "display_data"
    },
    {
     "data": {
      "text/html": [
       "<pre style=\"white-space:pre;overflow-x:auto;line-height:normal;font-family:Menlo,'DejaVu Sans Mono',consolas,'Courier New',monospace\">Clustering elapsed time: 3.2222 seconds.\n",
       "</pre>\n"
      ],
      "text/plain": [
       "Clustering elapsed time: 3.2222 seconds.\n"
      ]
     },
     "metadata": {},
     "output_type": "display_data"
    },
    {
     "data": {
      "text/html": [
       "<pre style=\"white-space:pre;overflow-x:auto;line-height:normal;font-family:Menlo,'DejaVu Sans Mono',consolas,'Courier New',monospace\">Metrics: {'clu_homogeneity_score': 0.7748917964979137, 'clu_completeness_score': 0.7684628362224571, \n",
       "'clu_v_measure_score': 0.7716639262004168, 'clu_adjusted_rand_score': 0.6874049599418188, \n",
       "'clu_adjusted_mutual_info_score': 0.7709669004717473}\n",
       "</pre>\n"
      ],
      "text/plain": [
       "Metrics: {'clu_homogeneity_score': 0.7748917964979137, 'clu_completeness_score': 0.7684628362224571, \n",
       "'clu_v_measure_score': 0.7716639262004168, 'clu_adjusted_rand_score': 0.6874049599418188, \n",
       "'clu_adjusted_mutual_info_score': 0.7709669004717473}\n"
      ]
     },
     "metadata": {},
     "output_type": "display_data"
    },
    {
     "name": "stderr",
     "output_type": "stream",
     "text": [
      "Epoch 14, global step 945: 'val_loss' reached 0.07322 (best 0.06988), saving model to './experiments-1/dvgg/version_1/checkpoints/dvgg-epoch=14-train_loss=0.2215-train_acc=0.9417-val_loss=0.0732-val_acc=0.9819.ckpt' as top 3\n"
     ]
    },
    {
     "data": {
      "text/html": [
       "<pre style=\"white-space:pre;overflow-x:auto;line-height:normal;font-family:Menlo,'DejaVu Sans Mono',consolas,'Courier New',monospace\">Epoch 15\n",
       "</pre>\n"
      ],
      "text/plain": [
       "Epoch 15\n"
      ]
     },
     "metadata": {},
     "output_type": "display_data"
    },
    {
     "data": {
      "text/html": [
       "<pre style=\"white-space:pre;overflow-x:auto;line-height:normal;font-family:Menlo,'DejaVu Sans Mono',consolas,'Courier New',monospace\">Creating dataset from Clustering elapsed time: 35.6906 seconds.\n",
       "</pre>\n"
      ],
      "text/plain": [
       "Creating dataset from Clustering elapsed time: 35.6906 seconds.\n"
      ]
     },
     "metadata": {},
     "output_type": "display_data"
    },
    {
     "data": {
      "text/html": [
       "<pre style=\"white-space:pre;overflow-x:auto;line-height:normal;font-family:Menlo,'DejaVu Sans Mono',consolas,'Courier New',monospace\">Feature extracting elapsed time: 833.0202 seconds.\n",
       "</pre>\n"
      ],
      "text/plain": [
       "Feature extracting elapsed time: 833.0202 seconds.\n"
      ]
     },
     "metadata": {},
     "output_type": "display_data"
    },
    {
     "data": {
      "text/html": [
       "<pre style=\"white-space:pre;overflow-x:auto;line-height:normal;font-family:Menlo,'DejaVu Sans Mono',consolas,'Courier New',monospace\">Pre-processing elapsed time: 2.4221 seconds.\n",
       "</pre>\n"
      ],
      "text/plain": [
       "Pre-processing elapsed time: 2.4221 seconds.\n"
      ]
     },
     "metadata": {},
     "output_type": "display_data"
    },
    {
     "data": {
      "text/html": [
       "<pre style=\"white-space:pre;overflow-x:auto;line-height:normal;font-family:Menlo,'DejaVu Sans Mono',consolas,'Courier New',monospace\">Clustering elapsed time: 3.7446 seconds.\n",
       "</pre>\n"
      ],
      "text/plain": [
       "Clustering elapsed time: 3.7446 seconds.\n"
      ]
     },
     "metadata": {},
     "output_type": "display_data"
    },
    {
     "data": {
      "text/html": [
       "<pre style=\"white-space:pre;overflow-x:auto;line-height:normal;font-family:Menlo,'DejaVu Sans Mono',consolas,'Courier New',monospace\">Metrics: {'clu_homogeneity_score': 0.7626662800147993, 'clu_completeness_score': 0.7606536034517932, \n",
       "'clu_v_measure_score': 0.7616586121153377, 'clu_adjusted_rand_score': 0.6742591534661936, \n",
       "'clu_adjusted_mutual_info_score': 0.7609351780059528}\n",
       "</pre>\n"
      ],
      "text/plain": [
       "Metrics: {'clu_homogeneity_score': 0.7626662800147993, 'clu_completeness_score': 0.7606536034517932, \n",
       "'clu_v_measure_score': 0.7616586121153377, 'clu_adjusted_rand_score': 0.6742591534661936, \n",
       "'clu_adjusted_mutual_info_score': 0.7609351780059528}\n"
      ]
     },
     "metadata": {},
     "output_type": "display_data"
    },
    {
     "name": "stderr",
     "output_type": "stream",
     "text": [
      "Epoch 15, global step 1008: 'val_loss' was not in top 3\n"
     ]
    },
    {
     "data": {
      "text/html": [
       "<pre style=\"white-space:pre;overflow-x:auto;line-height:normal;font-family:Menlo,'DejaVu Sans Mono',consolas,'Courier New',monospace\">Epoch 16\n",
       "</pre>\n"
      ],
      "text/plain": [
       "Epoch 16\n"
      ]
     },
     "metadata": {},
     "output_type": "display_data"
    },
    {
     "data": {
      "text/html": [
       "<pre style=\"white-space:pre;overflow-x:auto;line-height:normal;font-family:Menlo,'DejaVu Sans Mono',consolas,'Courier New',monospace\">Creating dataset from Clustering elapsed time: 30.4913 seconds.\n",
       "</pre>\n"
      ],
      "text/plain": [
       "Creating dataset from Clustering elapsed time: 30.4913 seconds.\n"
      ]
     },
     "metadata": {},
     "output_type": "display_data"
    },
    {
     "data": {
      "text/html": [
       "<pre style=\"white-space:pre;overflow-x:auto;line-height:normal;font-family:Menlo,'DejaVu Sans Mono',consolas,'Courier New',monospace\">Feature extracting elapsed time: 783.8228 seconds.\n",
       "</pre>\n"
      ],
      "text/plain": [
       "Feature extracting elapsed time: 783.8228 seconds.\n"
      ]
     },
     "metadata": {},
     "output_type": "display_data"
    },
    {
     "data": {
      "text/html": [
       "<pre style=\"white-space:pre;overflow-x:auto;line-height:normal;font-family:Menlo,'DejaVu Sans Mono',consolas,'Courier New',monospace\">Pre-processing elapsed time: 2.4461 seconds.\n",
       "</pre>\n"
      ],
      "text/plain": [
       "Pre-processing elapsed time: 2.4461 seconds.\n"
      ]
     },
     "metadata": {},
     "output_type": "display_data"
    },
    {
     "data": {
      "text/html": [
       "<pre style=\"white-space:pre;overflow-x:auto;line-height:normal;font-family:Menlo,'DejaVu Sans Mono',consolas,'Courier New',monospace\">Clustering elapsed time: 3.2708 seconds.\n",
       "</pre>\n"
      ],
      "text/plain": [
       "Clustering elapsed time: 3.2708 seconds.\n"
      ]
     },
     "metadata": {},
     "output_type": "display_data"
    },
    {
     "data": {
      "text/html": [
       "<pre style=\"white-space:pre;overflow-x:auto;line-height:normal;font-family:Menlo,'DejaVu Sans Mono',consolas,'Courier New',monospace\">Metrics: {'clu_homogeneity_score': 0.7472855392277931, 'clu_completeness_score': 0.7618105077485612, \n",
       "'clu_v_measure_score': 0.754478122466651, 'clu_adjusted_rand_score': 0.6745000432462184, \n",
       "'clu_adjusted_mutual_info_score': 0.753726508786452}\n",
       "</pre>\n"
      ],
      "text/plain": [
       "Metrics: {'clu_homogeneity_score': 0.7472855392277931, 'clu_completeness_score': 0.7618105077485612, \n",
       "'clu_v_measure_score': 0.754478122466651, 'clu_adjusted_rand_score': 0.6745000432462184, \n",
       "'clu_adjusted_mutual_info_score': 0.753726508786452}\n"
      ]
     },
     "metadata": {},
     "output_type": "display_data"
    },
    {
     "name": "stderr",
     "output_type": "stream",
     "text": [
      "Epoch 16, global step 1071: 'val_loss' was not in top 3\n"
     ]
    },
    {
     "data": {
      "text/html": [
       "<pre style=\"white-space:pre;overflow-x:auto;line-height:normal;font-family:Menlo,'DejaVu Sans Mono',consolas,'Courier New',monospace\">Epoch 17\n",
       "</pre>\n"
      ],
      "text/plain": [
       "Epoch 17\n"
      ]
     },
     "metadata": {},
     "output_type": "display_data"
    },
    {
     "data": {
      "text/html": [
       "<pre style=\"white-space:pre;overflow-x:auto;line-height:normal;font-family:Menlo,'DejaVu Sans Mono',consolas,'Courier New',monospace\">Creating dataset from Clustering elapsed time: 32.5824 seconds.\n",
       "</pre>\n"
      ],
      "text/plain": [
       "Creating dataset from Clustering elapsed time: 32.5824 seconds.\n"
      ]
     },
     "metadata": {},
     "output_type": "display_data"
    },
    {
     "data": {
      "text/html": [
       "<pre style=\"white-space:pre;overflow-x:auto;line-height:normal;font-family:Menlo,'DejaVu Sans Mono',consolas,'Courier New',monospace\">Feature extracting elapsed time: 795.8567 seconds.\n",
       "</pre>\n"
      ],
      "text/plain": [
       "Feature extracting elapsed time: 795.8567 seconds.\n"
      ]
     },
     "metadata": {},
     "output_type": "display_data"
    },
    {
     "data": {
      "text/html": [
       "<pre style=\"white-space:pre;overflow-x:auto;line-height:normal;font-family:Menlo,'DejaVu Sans Mono',consolas,'Courier New',monospace\">Pre-processing elapsed time: 2.3066 seconds.\n",
       "</pre>\n"
      ],
      "text/plain": [
       "Pre-processing elapsed time: 2.3066 seconds.\n"
      ]
     },
     "metadata": {},
     "output_type": "display_data"
    },
    {
     "data": {
      "text/html": [
       "<pre style=\"white-space:pre;overflow-x:auto;line-height:normal;font-family:Menlo,'DejaVu Sans Mono',consolas,'Courier New',monospace\">Clustering elapsed time: 3.2262 seconds.\n",
       "</pre>\n"
      ],
      "text/plain": [
       "Clustering elapsed time: 3.2262 seconds.\n"
      ]
     },
     "metadata": {},
     "output_type": "display_data"
    },
    {
     "data": {
      "text/html": [
       "<pre style=\"white-space:pre;overflow-x:auto;line-height:normal;font-family:Menlo,'DejaVu Sans Mono',consolas,'Courier New',monospace\">Metrics: {'clu_homogeneity_score': 0.7527686733139404, 'clu_completeness_score': 0.739435220547341, \n",
       "'clu_v_measure_score': 0.7460423770007503, 'clu_adjusted_rand_score': 0.6443787814118113, \n",
       "'clu_adjusted_mutual_info_score': 0.7452643796485634}\n",
       "</pre>\n"
      ],
      "text/plain": [
       "Metrics: {'clu_homogeneity_score': 0.7527686733139404, 'clu_completeness_score': 0.739435220547341, \n",
       "'clu_v_measure_score': 0.7460423770007503, 'clu_adjusted_rand_score': 0.6443787814118113, \n",
       "'clu_adjusted_mutual_info_score': 0.7452643796485634}\n"
      ]
     },
     "metadata": {},
     "output_type": "display_data"
    },
    {
     "name": "stderr",
     "output_type": "stream",
     "text": [
      "Epoch 17, global step 1134: 'val_loss' was not in top 3\n"
     ]
    },
    {
     "data": {
      "text/html": [
       "<pre style=\"white-space:pre;overflow-x:auto;line-height:normal;font-family:Menlo,'DejaVu Sans Mono',consolas,'Courier New',monospace\">Epoch 18\n",
       "</pre>\n"
      ],
      "text/plain": [
       "Epoch 18\n"
      ]
     },
     "metadata": {},
     "output_type": "display_data"
    },
    {
     "data": {
      "text/html": [
       "<pre style=\"white-space:pre;overflow-x:auto;line-height:normal;font-family:Menlo,'DejaVu Sans Mono',consolas,'Courier New',monospace\">Creating dataset from Clustering elapsed time: 32.2903 seconds.\n",
       "</pre>\n"
      ],
      "text/plain": [
       "Creating dataset from Clustering elapsed time: 32.2903 seconds.\n"
      ]
     },
     "metadata": {},
     "output_type": "display_data"
    },
    {
     "data": {
      "text/html": [
       "<pre style=\"white-space:pre;overflow-x:auto;line-height:normal;font-family:Menlo,'DejaVu Sans Mono',consolas,'Courier New',monospace\">Feature extracting elapsed time: 798.3844 seconds.\n",
       "</pre>\n"
      ],
      "text/plain": [
       "Feature extracting elapsed time: 798.3844 seconds.\n"
      ]
     },
     "metadata": {},
     "output_type": "display_data"
    },
    {
     "data": {
      "text/html": [
       "<pre style=\"white-space:pre;overflow-x:auto;line-height:normal;font-family:Menlo,'DejaVu Sans Mono',consolas,'Courier New',monospace\">Pre-processing elapsed time: 2.3013 seconds.\n",
       "</pre>\n"
      ],
      "text/plain": [
       "Pre-processing elapsed time: 2.3013 seconds.\n"
      ]
     },
     "metadata": {},
     "output_type": "display_data"
    },
    {
     "data": {
      "text/html": [
       "<pre style=\"white-space:pre;overflow-x:auto;line-height:normal;font-family:Menlo,'DejaVu Sans Mono',consolas,'Courier New',monospace\">Clustering elapsed time: 2.8348 seconds.\n",
       "</pre>\n"
      ],
      "text/plain": [
       "Clustering elapsed time: 2.8348 seconds.\n"
      ]
     },
     "metadata": {},
     "output_type": "display_data"
    },
    {
     "data": {
      "text/html": [
       "<pre style=\"white-space:pre;overflow-x:auto;line-height:normal;font-family:Menlo,'DejaVu Sans Mono',consolas,'Courier New',monospace\">Metrics: {'clu_homogeneity_score': 0.7491129505380452, 'clu_completeness_score': 0.7533619795210863, \n",
       "'clu_v_measure_score': 0.7512314568603319, 'clu_adjusted_rand_score': 0.6386605107499688, \n",
       "'clu_adjusted_mutual_info_score': 0.7504740425284508}\n",
       "</pre>\n"
      ],
      "text/plain": [
       "Metrics: {'clu_homogeneity_score': 0.7491129505380452, 'clu_completeness_score': 0.7533619795210863, \n",
       "'clu_v_measure_score': 0.7512314568603319, 'clu_adjusted_rand_score': 0.6386605107499688, \n",
       "'clu_adjusted_mutual_info_score': 0.7504740425284508}\n"
      ]
     },
     "metadata": {},
     "output_type": "display_data"
    },
    {
     "name": "stderr",
     "output_type": "stream",
     "text": [
      "Epoch 18, global step 1197: 'val_loss' was not in top 3\n"
     ]
    },
    {
     "data": {
      "text/html": [
       "<pre style=\"white-space:pre;overflow-x:auto;line-height:normal;font-family:Menlo,'DejaVu Sans Mono',consolas,'Courier New',monospace\">Epoch 19\n",
       "</pre>\n"
      ],
      "text/plain": [
       "Epoch 19\n"
      ]
     },
     "metadata": {},
     "output_type": "display_data"
    },
    {
     "data": {
      "text/html": [
       "<pre style=\"white-space:pre;overflow-x:auto;line-height:normal;font-family:Menlo,'DejaVu Sans Mono',consolas,'Courier New',monospace\">Creating dataset from Clustering elapsed time: 37.7566 seconds.\n",
       "</pre>\n"
      ],
      "text/plain": [
       "Creating dataset from Clustering elapsed time: 37.7566 seconds.\n"
      ]
     },
     "metadata": {},
     "output_type": "display_data"
    },
    {
     "data": {
      "text/html": [
       "<pre style=\"white-space:pre;overflow-x:auto;line-height:normal;font-family:Menlo,'DejaVu Sans Mono',consolas,'Courier New',monospace\">Feature extracting elapsed time: 1032.5221 seconds.\n",
       "</pre>\n"
      ],
      "text/plain": [
       "Feature extracting elapsed time: 1032.5221 seconds.\n"
      ]
     },
     "metadata": {},
     "output_type": "display_data"
    },
    {
     "data": {
      "text/html": [
       "<pre style=\"white-space:pre;overflow-x:auto;line-height:normal;font-family:Menlo,'DejaVu Sans Mono',consolas,'Courier New',monospace\">Pre-processing elapsed time: 2.4493 seconds.\n",
       "</pre>\n"
      ],
      "text/plain": [
       "Pre-processing elapsed time: 2.4493 seconds.\n"
      ]
     },
     "metadata": {},
     "output_type": "display_data"
    },
    {
     "data": {
      "text/html": [
       "<pre style=\"white-space:pre;overflow-x:auto;line-height:normal;font-family:Menlo,'DejaVu Sans Mono',consolas,'Courier New',monospace\">Clustering elapsed time: 3.8791 seconds.\n",
       "</pre>\n"
      ],
      "text/plain": [
       "Clustering elapsed time: 3.8791 seconds.\n"
      ]
     },
     "metadata": {},
     "output_type": "display_data"
    },
    {
     "data": {
      "text/html": [
       "<pre style=\"white-space:pre;overflow-x:auto;line-height:normal;font-family:Menlo,'DejaVu Sans Mono',consolas,'Courier New',monospace\">Metrics: {'clu_homogeneity_score': 0.7556081385087083, 'clu_completeness_score': 0.752181319695552, \n",
       "'clu_v_measure_score': 0.7538908349618991, 'clu_adjusted_rand_score': 0.6733254924460772, \n",
       "'clu_adjusted_mutual_info_score': 0.7531410343842392}\n",
       "</pre>\n"
      ],
      "text/plain": [
       "Metrics: {'clu_homogeneity_score': 0.7556081385087083, 'clu_completeness_score': 0.752181319695552, \n",
       "'clu_v_measure_score': 0.7538908349618991, 'clu_adjusted_rand_score': 0.6733254924460772, \n",
       "'clu_adjusted_mutual_info_score': 0.7531410343842392}\n"
      ]
     },
     "metadata": {},
     "output_type": "display_data"
    },
    {
     "name": "stderr",
     "output_type": "stream",
     "text": [
      "Epoch 19, global step 1260: 'val_loss' reached 0.07050 (best 0.06988), saving model to './experiments-1/dvgg/version_1/checkpoints/dvgg-epoch=19-train_loss=0.3491-train_acc=0.9167-val_loss=0.0705-val_acc=0.9784.ckpt' as top 3\n"
     ]
    },
    {
     "data": {
      "text/html": [
       "<pre style=\"white-space:pre;overflow-x:auto;line-height:normal;font-family:Menlo,'DejaVu Sans Mono',consolas,'Courier New',monospace\">Epoch 20\n",
       "</pre>\n"
      ],
      "text/plain": [
       "Epoch 20\n"
      ]
     },
     "metadata": {},
     "output_type": "display_data"
    },
    {
     "data": {
      "text/html": [
       "<pre style=\"white-space:pre;overflow-x:auto;line-height:normal;font-family:Menlo,'DejaVu Sans Mono',consolas,'Courier New',monospace\">Creating dataset from Clustering elapsed time: 29.3973 seconds.\n",
       "</pre>\n"
      ],
      "text/plain": [
       "Creating dataset from Clustering elapsed time: 29.3973 seconds.\n"
      ]
     },
     "metadata": {},
     "output_type": "display_data"
    },
    {
     "data": {
      "text/html": [
       "<pre style=\"white-space:pre;overflow-x:auto;line-height:normal;font-family:Menlo,'DejaVu Sans Mono',consolas,'Courier New',monospace\">Feature extracting elapsed time: 830.6725 seconds.\n",
       "</pre>\n"
      ],
      "text/plain": [
       "Feature extracting elapsed time: 830.6725 seconds.\n"
      ]
     },
     "metadata": {},
     "output_type": "display_data"
    },
    {
     "data": {
      "text/html": [
       "<pre style=\"white-space:pre;overflow-x:auto;line-height:normal;font-family:Menlo,'DejaVu Sans Mono',consolas,'Courier New',monospace\">Pre-processing elapsed time: 2.3894 seconds.\n",
       "</pre>\n"
      ],
      "text/plain": [
       "Pre-processing elapsed time: 2.3894 seconds.\n"
      ]
     },
     "metadata": {},
     "output_type": "display_data"
    },
    {
     "data": {
      "text/html": [
       "<pre style=\"white-space:pre;overflow-x:auto;line-height:normal;font-family:Menlo,'DejaVu Sans Mono',consolas,'Courier New',monospace\">Clustering elapsed time: 3.3437 seconds.\n",
       "</pre>\n"
      ],
      "text/plain": [
       "Clustering elapsed time: 3.3437 seconds.\n"
      ]
     },
     "metadata": {},
     "output_type": "display_data"
    },
    {
     "data": {
      "text/html": [
       "<pre style=\"white-space:pre;overflow-x:auto;line-height:normal;font-family:Menlo,'DejaVu Sans Mono',consolas,'Courier New',monospace\">Metrics: {'clu_homogeneity_score': 0.722115318863802, 'clu_completeness_score': 0.7242093628250289, \n",
       "'clu_v_measure_score': 0.7231608249261133, 'clu_adjusted_rand_score': 0.5955248240627882, \n",
       "'clu_adjusted_mutual_info_score': 0.7223182627846083}\n",
       "</pre>\n"
      ],
      "text/plain": [
       "Metrics: {'clu_homogeneity_score': 0.722115318863802, 'clu_completeness_score': 0.7242093628250289, \n",
       "'clu_v_measure_score': 0.7231608249261133, 'clu_adjusted_rand_score': 0.5955248240627882, \n",
       "'clu_adjusted_mutual_info_score': 0.7223182627846083}\n"
      ]
     },
     "metadata": {},
     "output_type": "display_data"
    },
    {
     "name": "stderr",
     "output_type": "stream",
     "text": [
      "Epoch 20, global step 1323: 'val_loss' was not in top 3\n"
     ]
    },
    {
     "data": {
      "text/html": [
       "<pre style=\"white-space:pre;overflow-x:auto;line-height:normal;font-family:Menlo,'DejaVu Sans Mono',consolas,'Courier New',monospace\">Epoch 21\n",
       "</pre>\n"
      ],
      "text/plain": [
       "Epoch 21\n"
      ]
     },
     "metadata": {},
     "output_type": "display_data"
    },
    {
     "data": {
      "text/html": [
       "<pre style=\"white-space:pre;overflow-x:auto;line-height:normal;font-family:Menlo,'DejaVu Sans Mono',consolas,'Courier New',monospace\">Creating dataset from Clustering elapsed time: 31.1614 seconds.\n",
       "</pre>\n"
      ],
      "text/plain": [
       "Creating dataset from Clustering elapsed time: 31.1614 seconds.\n"
      ]
     },
     "metadata": {},
     "output_type": "display_data"
    },
    {
     "data": {
      "text/html": [
       "<pre style=\"white-space:pre;overflow-x:auto;line-height:normal;font-family:Menlo,'DejaVu Sans Mono',consolas,'Courier New',monospace\">Feature extracting elapsed time: 698.1629 seconds.\n",
       "</pre>\n"
      ],
      "text/plain": [
       "Feature extracting elapsed time: 698.1629 seconds.\n"
      ]
     },
     "metadata": {},
     "output_type": "display_data"
    },
    {
     "data": {
      "text/html": [
       "<pre style=\"white-space:pre;overflow-x:auto;line-height:normal;font-family:Menlo,'DejaVu Sans Mono',consolas,'Courier New',monospace\">Pre-processing elapsed time: 1.9801 seconds.\n",
       "</pre>\n"
      ],
      "text/plain": [
       "Pre-processing elapsed time: 1.9801 seconds.\n"
      ]
     },
     "metadata": {},
     "output_type": "display_data"
    },
    {
     "data": {
      "text/html": [
       "<pre style=\"white-space:pre;overflow-x:auto;line-height:normal;font-family:Menlo,'DejaVu Sans Mono',consolas,'Courier New',monospace\">Clustering elapsed time: 2.5938 seconds.\n",
       "</pre>\n"
      ],
      "text/plain": [
       "Clustering elapsed time: 2.5938 seconds.\n"
      ]
     },
     "metadata": {},
     "output_type": "display_data"
    },
    {
     "data": {
      "text/html": [
       "<pre style=\"white-space:pre;overflow-x:auto;line-height:normal;font-family:Menlo,'DejaVu Sans Mono',consolas,'Courier New',monospace\">Metrics: {'clu_homogeneity_score': 0.7461371032951596, 'clu_completeness_score': 0.7379047976204798, \n",
       "'clu_v_measure_score': 0.7419981172559136, 'clu_adjusted_rand_score': 0.6341664665541682, \n",
       "'clu_adjusted_mutual_info_score': 0.7412162896701812}\n",
       "</pre>\n"
      ],
      "text/plain": [
       "Metrics: {'clu_homogeneity_score': 0.7461371032951596, 'clu_completeness_score': 0.7379047976204798, \n",
       "'clu_v_measure_score': 0.7419981172559136, 'clu_adjusted_rand_score': 0.6341664665541682, \n",
       "'clu_adjusted_mutual_info_score': 0.7412162896701812}\n"
      ]
     },
     "metadata": {},
     "output_type": "display_data"
    },
    {
     "name": "stderr",
     "output_type": "stream",
     "text": [
      "Epoch 21, global step 1386: 'val_loss' was not in top 3\n"
     ]
    },
    {
     "data": {
      "text/html": [
       "<pre style=\"white-space:pre;overflow-x:auto;line-height:normal;font-family:Menlo,'DejaVu Sans Mono',consolas,'Courier New',monospace\">Epoch 22\n",
       "</pre>\n"
      ],
      "text/plain": [
       "Epoch 22\n"
      ]
     },
     "metadata": {},
     "output_type": "display_data"
    },
    {
     "data": {
      "text/html": [
       "<pre style=\"white-space:pre;overflow-x:auto;line-height:normal;font-family:Menlo,'DejaVu Sans Mono',consolas,'Courier New',monospace\">Creating dataset from Clustering elapsed time: 29.7425 seconds.\n",
       "</pre>\n"
      ],
      "text/plain": [
       "Creating dataset from Clustering elapsed time: 29.7425 seconds.\n"
      ]
     },
     "metadata": {},
     "output_type": "display_data"
    },
    {
     "data": {
      "text/html": [
       "<pre style=\"white-space:pre;overflow-x:auto;line-height:normal;font-family:Menlo,'DejaVu Sans Mono',consolas,'Courier New',monospace\">Feature extracting elapsed time: 757.6005 seconds.\n",
       "</pre>\n"
      ],
      "text/plain": [
       "Feature extracting elapsed time: 757.6005 seconds.\n"
      ]
     },
     "metadata": {},
     "output_type": "display_data"
    },
    {
     "data": {
      "text/html": [
       "<pre style=\"white-space:pre;overflow-x:auto;line-height:normal;font-family:Menlo,'DejaVu Sans Mono',consolas,'Courier New',monospace\">Pre-processing elapsed time: 2.0862 seconds.\n",
       "</pre>\n"
      ],
      "text/plain": [
       "Pre-processing elapsed time: 2.0862 seconds.\n"
      ]
     },
     "metadata": {},
     "output_type": "display_data"
    },
    {
     "data": {
      "text/html": [
       "<pre style=\"white-space:pre;overflow-x:auto;line-height:normal;font-family:Menlo,'DejaVu Sans Mono',consolas,'Courier New',monospace\">Clustering elapsed time: 3.0741 seconds.\n",
       "</pre>\n"
      ],
      "text/plain": [
       "Clustering elapsed time: 3.0741 seconds.\n"
      ]
     },
     "metadata": {},
     "output_type": "display_data"
    },
    {
     "data": {
      "text/html": [
       "<pre style=\"white-space:pre;overflow-x:auto;line-height:normal;font-family:Menlo,'DejaVu Sans Mono',consolas,'Courier New',monospace\">Metrics: {'clu_homogeneity_score': 0.7321758314696284, 'clu_completeness_score': 0.7351922469090939, \n",
       "'clu_v_measure_score': 0.7336809388213494, 'clu_adjusted_rand_score': 0.6103945958166862, \n",
       "'clu_adjusted_mutual_info_score': 0.7328767775827366}\n",
       "</pre>\n"
      ],
      "text/plain": [
       "Metrics: {'clu_homogeneity_score': 0.7321758314696284, 'clu_completeness_score': 0.7351922469090939, \n",
       "'clu_v_measure_score': 0.7336809388213494, 'clu_adjusted_rand_score': 0.6103945958166862, \n",
       "'clu_adjusted_mutual_info_score': 0.7328767775827366}\n"
      ]
     },
     "metadata": {},
     "output_type": "display_data"
    },
    {
     "name": "stderr",
     "output_type": "stream",
     "text": [
      "Epoch 22, global step 1449: 'val_loss' was not in top 3\n"
     ]
    },
    {
     "data": {
      "text/html": [
       "<pre style=\"white-space:pre;overflow-x:auto;line-height:normal;font-family:Menlo,'DejaVu Sans Mono',consolas,'Courier New',monospace\">Epoch 23\n",
       "</pre>\n"
      ],
      "text/plain": [
       "Epoch 23\n"
      ]
     },
     "metadata": {},
     "output_type": "display_data"
    },
    {
     "data": {
      "text/html": [
       "<pre style=\"white-space:pre;overflow-x:auto;line-height:normal;font-family:Menlo,'DejaVu Sans Mono',consolas,'Courier New',monospace\">Creating dataset from Clustering elapsed time: 28.4751 seconds.\n",
       "</pre>\n"
      ],
      "text/plain": [
       "Creating dataset from Clustering elapsed time: 28.4751 seconds.\n"
      ]
     },
     "metadata": {},
     "output_type": "display_data"
    },
    {
     "data": {
      "text/html": [
       "<pre style=\"white-space:pre;overflow-x:auto;line-height:normal;font-family:Menlo,'DejaVu Sans Mono',consolas,'Courier New',monospace\">Feature extracting elapsed time: 721.5104 seconds.\n",
       "</pre>\n"
      ],
      "text/plain": [
       "Feature extracting elapsed time: 721.5104 seconds.\n"
      ]
     },
     "metadata": {},
     "output_type": "display_data"
    },
    {
     "data": {
      "text/html": [
       "<pre style=\"white-space:pre;overflow-x:auto;line-height:normal;font-family:Menlo,'DejaVu Sans Mono',consolas,'Courier New',monospace\">Pre-processing elapsed time: 1.8703 seconds.\n",
       "</pre>\n"
      ],
      "text/plain": [
       "Pre-processing elapsed time: 1.8703 seconds.\n"
      ]
     },
     "metadata": {},
     "output_type": "display_data"
    },
    {
     "data": {
      "text/html": [
       "<pre style=\"white-space:pre;overflow-x:auto;line-height:normal;font-family:Menlo,'DejaVu Sans Mono',consolas,'Courier New',monospace\">Clustering elapsed time: 3.2391 seconds.\n",
       "</pre>\n"
      ],
      "text/plain": [
       "Clustering elapsed time: 3.2391 seconds.\n"
      ]
     },
     "metadata": {},
     "output_type": "display_data"
    },
    {
     "data": {
      "text/html": [
       "<pre style=\"white-space:pre;overflow-x:auto;line-height:normal;font-family:Menlo,'DejaVu Sans Mono',consolas,'Courier New',monospace\">Metrics: {'clu_homogeneity_score': 0.7475257858596625, 'clu_completeness_score': 0.7562882464855984, \n",
       "'clu_v_measure_score': 0.7518814875119817, 'clu_adjusted_rand_score': 0.643409063649991, \n",
       "'clu_adjusted_mutual_info_score': 0.7511260150708998}\n",
       "</pre>\n"
      ],
      "text/plain": [
       "Metrics: {'clu_homogeneity_score': 0.7475257858596625, 'clu_completeness_score': 0.7562882464855984, \n",
       "'clu_v_measure_score': 0.7518814875119817, 'clu_adjusted_rand_score': 0.643409063649991, \n",
       "'clu_adjusted_mutual_info_score': 0.7511260150708998}\n"
      ]
     },
     "metadata": {},
     "output_type": "display_data"
    },
    {
     "name": "stderr",
     "output_type": "stream",
     "text": [
      "Epoch 23, global step 1512: 'val_loss' reached 0.05131 (best 0.05131), saving model to './experiments-1/dvgg/version_1/checkpoints/dvgg-epoch=23-train_loss=0.2284-train_acc=0.9385-val_loss=0.0513-val_acc=0.9877.ckpt' as top 3\n"
     ]
    },
    {
     "data": {
      "text/html": [
       "<pre style=\"white-space:pre;overflow-x:auto;line-height:normal;font-family:Menlo,'DejaVu Sans Mono',consolas,'Courier New',monospace\">Epoch 24\n",
       "</pre>\n"
      ],
      "text/plain": [
       "Epoch 24\n"
      ]
     },
     "metadata": {},
     "output_type": "display_data"
    },
    {
     "data": {
      "text/html": [
       "<pre style=\"white-space:pre;overflow-x:auto;line-height:normal;font-family:Menlo,'DejaVu Sans Mono',consolas,'Courier New',monospace\">Creating dataset from Clustering elapsed time: 26.1473 seconds.\n",
       "</pre>\n"
      ],
      "text/plain": [
       "Creating dataset from Clustering elapsed time: 26.1473 seconds.\n"
      ]
     },
     "metadata": {},
     "output_type": "display_data"
    },
    {
     "data": {
      "text/html": [
       "<pre style=\"white-space:pre;overflow-x:auto;line-height:normal;font-family:Menlo,'DejaVu Sans Mono',consolas,'Courier New',monospace\">Feature extracting elapsed time: 657.1703 seconds.\n",
       "</pre>\n"
      ],
      "text/plain": [
       "Feature extracting elapsed time: 657.1703 seconds.\n"
      ]
     },
     "metadata": {},
     "output_type": "display_data"
    },
    {
     "data": {
      "text/html": [
       "<pre style=\"white-space:pre;overflow-x:auto;line-height:normal;font-family:Menlo,'DejaVu Sans Mono',consolas,'Courier New',monospace\">Pre-processing elapsed time: 1.8182 seconds.\n",
       "</pre>\n"
      ],
      "text/plain": [
       "Pre-processing elapsed time: 1.8182 seconds.\n"
      ]
     },
     "metadata": {},
     "output_type": "display_data"
    },
    {
     "data": {
      "text/html": [
       "<pre style=\"white-space:pre;overflow-x:auto;line-height:normal;font-family:Menlo,'DejaVu Sans Mono',consolas,'Courier New',monospace\">Clustering elapsed time: 2.9967 seconds.\n",
       "</pre>\n"
      ],
      "text/plain": [
       "Clustering elapsed time: 2.9967 seconds.\n"
      ]
     },
     "metadata": {},
     "output_type": "display_data"
    },
    {
     "data": {
      "text/html": [
       "<pre style=\"white-space:pre;overflow-x:auto;line-height:normal;font-family:Menlo,'DejaVu Sans Mono',consolas,'Courier New',monospace\">Metrics: {'clu_homogeneity_score': 0.7706144156548572, 'clu_completeness_score': 0.7639294295222131, \n",
       "'clu_v_measure_score': 0.767257361571027, 'clu_adjusted_rand_score': 0.677719376865344, \n",
       "'clu_adjusted_mutual_info_score': 0.7665475784008602}\n",
       "</pre>\n"
      ],
      "text/plain": [
       "Metrics: {'clu_homogeneity_score': 0.7706144156548572, 'clu_completeness_score': 0.7639294295222131, \n",
       "'clu_v_measure_score': 0.767257361571027, 'clu_adjusted_rand_score': 0.677719376865344, \n",
       "'clu_adjusted_mutual_info_score': 0.7665475784008602}\n"
      ]
     },
     "metadata": {},
     "output_type": "display_data"
    },
    {
     "name": "stderr",
     "output_type": "stream",
     "text": [
      "Epoch 24, global step 1575: 'val_loss' was not in top 3\n"
     ]
    },
    {
     "data": {
      "text/html": [
       "<pre style=\"white-space:pre;overflow-x:auto;line-height:normal;font-family:Menlo,'DejaVu Sans Mono',consolas,'Courier New',monospace\">Epoch 25\n",
       "</pre>\n"
      ],
      "text/plain": [
       "Epoch 25\n"
      ]
     },
     "metadata": {},
     "output_type": "display_data"
    },
    {
     "data": {
      "text/html": [
       "<pre style=\"white-space:pre;overflow-x:auto;line-height:normal;font-family:Menlo,'DejaVu Sans Mono',consolas,'Courier New',monospace\">Creating dataset from Clustering elapsed time: 24.0445 seconds.\n",
       "</pre>\n"
      ],
      "text/plain": [
       "Creating dataset from Clustering elapsed time: 24.0445 seconds.\n"
      ]
     },
     "metadata": {},
     "output_type": "display_data"
    },
    {
     "data": {
      "text/html": [
       "<pre style=\"white-space:pre;overflow-x:auto;line-height:normal;font-family:Menlo,'DejaVu Sans Mono',consolas,'Courier New',monospace\">Feature extracting elapsed time: 592.6157 seconds.\n",
       "</pre>\n"
      ],
      "text/plain": [
       "Feature extracting elapsed time: 592.6157 seconds.\n"
      ]
     },
     "metadata": {},
     "output_type": "display_data"
    },
    {
     "data": {
      "text/html": [
       "<pre style=\"white-space:pre;overflow-x:auto;line-height:normal;font-family:Menlo,'DejaVu Sans Mono',consolas,'Courier New',monospace\">Pre-processing elapsed time: 1.5734 seconds.\n",
       "</pre>\n"
      ],
      "text/plain": [
       "Pre-processing elapsed time: 1.5734 seconds.\n"
      ]
     },
     "metadata": {},
     "output_type": "display_data"
    },
    {
     "data": {
      "text/html": [
       "<pre style=\"white-space:pre;overflow-x:auto;line-height:normal;font-family:Menlo,'DejaVu Sans Mono',consolas,'Courier New',monospace\">Clustering elapsed time: 2.0371 seconds.\n",
       "</pre>\n"
      ],
      "text/plain": [
       "Clustering elapsed time: 2.0371 seconds.\n"
      ]
     },
     "metadata": {},
     "output_type": "display_data"
    },
    {
     "data": {
      "text/html": [
       "<pre style=\"white-space:pre;overflow-x:auto;line-height:normal;font-family:Menlo,'DejaVu Sans Mono',consolas,'Courier New',monospace\">Metrics: {'clu_homogeneity_score': 0.7394627548558642, 'clu_completeness_score': 0.7707308223367765, \n",
       "'clu_v_measure_score': 0.7547730910059066, 'clu_adjusted_rand_score': 0.5990233940477138, \n",
       "'clu_adjusted_mutual_info_score': 0.7540124744706864}\n",
       "</pre>\n"
      ],
      "text/plain": [
       "Metrics: {'clu_homogeneity_score': 0.7394627548558642, 'clu_completeness_score': 0.7707308223367765, \n",
       "'clu_v_measure_score': 0.7547730910059066, 'clu_adjusted_rand_score': 0.5990233940477138, \n",
       "'clu_adjusted_mutual_info_score': 0.7540124744706864}\n"
      ]
     },
     "metadata": {},
     "output_type": "display_data"
    },
    {
     "name": "stderr",
     "output_type": "stream",
     "text": [
      "Epoch 25, global step 1638: 'val_loss' was not in top 3\n"
     ]
    },
    {
     "data": {
      "text/html": [
       "<pre style=\"white-space:pre;overflow-x:auto;line-height:normal;font-family:Menlo,'DejaVu Sans Mono',consolas,'Courier New',monospace\">Epoch 26\n",
       "</pre>\n"
      ],
      "text/plain": [
       "Epoch 26\n"
      ]
     },
     "metadata": {},
     "output_type": "display_data"
    },
    {
     "data": {
      "text/html": [
       "<pre style=\"white-space:pre;overflow-x:auto;line-height:normal;font-family:Menlo,'DejaVu Sans Mono',consolas,'Courier New',monospace\">Creating dataset from Clustering elapsed time: 22.8733 seconds.\n",
       "</pre>\n"
      ],
      "text/plain": [
       "Creating dataset from Clustering elapsed time: 22.8733 seconds.\n"
      ]
     },
     "metadata": {},
     "output_type": "display_data"
    },
    {
     "data": {
      "text/html": [
       "<pre style=\"white-space:pre;overflow-x:auto;line-height:normal;font-family:Menlo,'DejaVu Sans Mono',consolas,'Courier New',monospace\">Feature extracting elapsed time: 564.7771 seconds.\n",
       "</pre>\n"
      ],
      "text/plain": [
       "Feature extracting elapsed time: 564.7771 seconds.\n"
      ]
     },
     "metadata": {},
     "output_type": "display_data"
    },
    {
     "data": {
      "text/html": [
       "<pre style=\"white-space:pre;overflow-x:auto;line-height:normal;font-family:Menlo,'DejaVu Sans Mono',consolas,'Courier New',monospace\">Pre-processing elapsed time: 1.6104 seconds.\n",
       "</pre>\n"
      ],
      "text/plain": [
       "Pre-processing elapsed time: 1.6104 seconds.\n"
      ]
     },
     "metadata": {},
     "output_type": "display_data"
    },
    {
     "data": {
      "text/html": [
       "<pre style=\"white-space:pre;overflow-x:auto;line-height:normal;font-family:Menlo,'DejaVu Sans Mono',consolas,'Courier New',monospace\">Clustering elapsed time: 2.7648 seconds.\n",
       "</pre>\n"
      ],
      "text/plain": [
       "Clustering elapsed time: 2.7648 seconds.\n"
      ]
     },
     "metadata": {},
     "output_type": "display_data"
    },
    {
     "data": {
      "text/html": [
       "<pre style=\"white-space:pre;overflow-x:auto;line-height:normal;font-family:Menlo,'DejaVu Sans Mono',consolas,'Courier New',monospace\">Metrics: {'clu_homogeneity_score': 0.7700597815433281, 'clu_completeness_score': 0.7365337812693238, \n",
       "'clu_v_measure_score': 0.7529237568819566, 'clu_adjusted_rand_score': 0.603025398078843, \n",
       "'clu_adjusted_mutual_info_score': 0.752158799197294}\n",
       "</pre>\n"
      ],
      "text/plain": [
       "Metrics: {'clu_homogeneity_score': 0.7700597815433281, 'clu_completeness_score': 0.7365337812693238, \n",
       "'clu_v_measure_score': 0.7529237568819566, 'clu_adjusted_rand_score': 0.603025398078843, \n",
       "'clu_adjusted_mutual_info_score': 0.752158799197294}\n"
      ]
     },
     "metadata": {},
     "output_type": "display_data"
    },
    {
     "name": "stderr",
     "output_type": "stream",
     "text": [
      "Epoch 26, global step 1701: 'val_loss' reached 0.06055 (best 0.05131), saving model to './experiments-1/dvgg/version_1/checkpoints/dvgg-epoch=26-train_loss=0.1616-train_acc=0.9647-val_loss=0.0605-val_acc=0.9866.ckpt' as top 3\n"
     ]
    },
    {
     "data": {
      "text/html": [
       "<pre style=\"white-space:pre;overflow-x:auto;line-height:normal;font-family:Menlo,'DejaVu Sans Mono',consolas,'Courier New',monospace\">Epoch 27\n",
       "</pre>\n"
      ],
      "text/plain": [
       "Epoch 27\n"
      ]
     },
     "metadata": {},
     "output_type": "display_data"
    },
    {
     "data": {
      "text/html": [
       "<pre style=\"white-space:pre;overflow-x:auto;line-height:normal;font-family:Menlo,'DejaVu Sans Mono',consolas,'Courier New',monospace\">Creating dataset from Clustering elapsed time: 23.7977 seconds.\n",
       "</pre>\n"
      ],
      "text/plain": [
       "Creating dataset from Clustering elapsed time: 23.7977 seconds.\n"
      ]
     },
     "metadata": {},
     "output_type": "display_data"
    },
    {
     "data": {
      "text/html": [
       "<pre style=\"white-space:pre;overflow-x:auto;line-height:normal;font-family:Menlo,'DejaVu Sans Mono',consolas,'Courier New',monospace\">Feature extracting elapsed time: 568.0012 seconds.\n",
       "</pre>\n"
      ],
      "text/plain": [
       "Feature extracting elapsed time: 568.0012 seconds.\n"
      ]
     },
     "metadata": {},
     "output_type": "display_data"
    },
    {
     "data": {
      "text/html": [
       "<pre style=\"white-space:pre;overflow-x:auto;line-height:normal;font-family:Menlo,'DejaVu Sans Mono',consolas,'Courier New',monospace\">Pre-processing elapsed time: 1.6280 seconds.\n",
       "</pre>\n"
      ],
      "text/plain": [
       "Pre-processing elapsed time: 1.6280 seconds.\n"
      ]
     },
     "metadata": {},
     "output_type": "display_data"
    },
    {
     "data": {
      "text/html": [
       "<pre style=\"white-space:pre;overflow-x:auto;line-height:normal;font-family:Menlo,'DejaVu Sans Mono',consolas,'Courier New',monospace\">Clustering elapsed time: 2.6232 seconds.\n",
       "</pre>\n"
      ],
      "text/plain": [
       "Clustering elapsed time: 2.6232 seconds.\n"
      ]
     },
     "metadata": {},
     "output_type": "display_data"
    },
    {
     "data": {
      "text/html": [
       "<pre style=\"white-space:pre;overflow-x:auto;line-height:normal;font-family:Menlo,'DejaVu Sans Mono',consolas,'Courier New',monospace\">Metrics: {'clu_homogeneity_score': 0.7387191827287426, 'clu_completeness_score': 0.74141320294264, \n",
       "'clu_v_measure_score': 0.7400637411141483, 'clu_adjusted_rand_score': 0.6121743068063994, \n",
       "'clu_adjusted_mutual_info_score': 0.7392758661767257}\n",
       "</pre>\n"
      ],
      "text/plain": [
       "Metrics: {'clu_homogeneity_score': 0.7387191827287426, 'clu_completeness_score': 0.74141320294264, \n",
       "'clu_v_measure_score': 0.7400637411141483, 'clu_adjusted_rand_score': 0.6121743068063994, \n",
       "'clu_adjusted_mutual_info_score': 0.7392758661767257}\n"
      ]
     },
     "metadata": {},
     "output_type": "display_data"
    },
    {
     "name": "stderr",
     "output_type": "stream",
     "text": [
      "Epoch 27, global step 1764: 'val_loss' was not in top 3\n"
     ]
    },
    {
     "data": {
      "text/html": [
       "<pre style=\"white-space:pre;overflow-x:auto;line-height:normal;font-family:Menlo,'DejaVu Sans Mono',consolas,'Courier New',monospace\">Epoch 28\n",
       "</pre>\n"
      ],
      "text/plain": [
       "Epoch 28\n"
      ]
     },
     "metadata": {},
     "output_type": "display_data"
    },
    {
     "data": {
      "text/html": [
       "<pre style=\"white-space:pre;overflow-x:auto;line-height:normal;font-family:Menlo,'DejaVu Sans Mono',consolas,'Courier New',monospace\">Creating dataset from Clustering elapsed time: 26.4356 seconds.\n",
       "</pre>\n"
      ],
      "text/plain": [
       "Creating dataset from Clustering elapsed time: 26.4356 seconds.\n"
      ]
     },
     "metadata": {},
     "output_type": "display_data"
    },
    {
     "data": {
      "text/html": [
       "<pre style=\"white-space:pre;overflow-x:auto;line-height:normal;font-family:Menlo,'DejaVu Sans Mono',consolas,'Courier New',monospace\">Feature extracting elapsed time: 657.6613 seconds.\n",
       "</pre>\n"
      ],
      "text/plain": [
       "Feature extracting elapsed time: 657.6613 seconds.\n"
      ]
     },
     "metadata": {},
     "output_type": "display_data"
    },
    {
     "data": {
      "text/html": [
       "<pre style=\"white-space:pre;overflow-x:auto;line-height:normal;font-family:Menlo,'DejaVu Sans Mono',consolas,'Courier New',monospace\">Pre-processing elapsed time: 1.5673 seconds.\n",
       "</pre>\n"
      ],
      "text/plain": [
       "Pre-processing elapsed time: 1.5673 seconds.\n"
      ]
     },
     "metadata": {},
     "output_type": "display_data"
    },
    {
     "data": {
      "text/html": [
       "<pre style=\"white-space:pre;overflow-x:auto;line-height:normal;font-family:Menlo,'DejaVu Sans Mono',consolas,'Courier New',monospace\">Clustering elapsed time: 2.3137 seconds.\n",
       "</pre>\n"
      ],
      "text/plain": [
       "Clustering elapsed time: 2.3137 seconds.\n"
      ]
     },
     "metadata": {},
     "output_type": "display_data"
    },
    {
     "data": {
      "text/html": [
       "<pre style=\"white-space:pre;overflow-x:auto;line-height:normal;font-family:Menlo,'DejaVu Sans Mono',consolas,'Courier New',monospace\">Metrics: {'clu_homogeneity_score': 0.7358634355722827, 'clu_completeness_score': 0.7444772642757966, \n",
       "'clu_v_measure_score': 0.7401452887861066, 'clu_adjusted_rand_score': 0.6366888399834558, \n",
       "'clu_adjusted_mutual_info_score': 0.7393513705372058}\n",
       "</pre>\n"
      ],
      "text/plain": [
       "Metrics: {'clu_homogeneity_score': 0.7358634355722827, 'clu_completeness_score': 0.7444772642757966, \n",
       "'clu_v_measure_score': 0.7401452887861066, 'clu_adjusted_rand_score': 0.6366888399834558, \n",
       "'clu_adjusted_mutual_info_score': 0.7393513705372058}\n"
      ]
     },
     "metadata": {},
     "output_type": "display_data"
    },
    {
     "name": "stderr",
     "output_type": "stream",
     "text": [
      "Epoch 28, global step 1827: 'val_loss' was not in top 3\n"
     ]
    },
    {
     "data": {
      "text/html": [
       "<pre style=\"white-space:pre;overflow-x:auto;line-height:normal;font-family:Menlo,'DejaVu Sans Mono',consolas,'Courier New',monospace\">Epoch 29\n",
       "</pre>\n"
      ],
      "text/plain": [
       "Epoch 29\n"
      ]
     },
     "metadata": {},
     "output_type": "display_data"
    },
    {
     "data": {
      "text/html": [
       "<pre style=\"white-space:pre;overflow-x:auto;line-height:normal;font-family:Menlo,'DejaVu Sans Mono',consolas,'Courier New',monospace\">Creating dataset from Clustering elapsed time: 23.3162 seconds.\n",
       "</pre>\n"
      ],
      "text/plain": [
       "Creating dataset from Clustering elapsed time: 23.3162 seconds.\n"
      ]
     },
     "metadata": {},
     "output_type": "display_data"
    },
    {
     "data": {
      "text/html": [
       "<pre style=\"white-space:pre;overflow-x:auto;line-height:normal;font-family:Menlo,'DejaVu Sans Mono',consolas,'Courier New',monospace\">Feature extracting elapsed time: 582.4245 seconds.\n",
       "</pre>\n"
      ],
      "text/plain": [
       "Feature extracting elapsed time: 582.4245 seconds.\n"
      ]
     },
     "metadata": {},
     "output_type": "display_data"
    },
    {
     "data": {
      "text/html": [
       "<pre style=\"white-space:pre;overflow-x:auto;line-height:normal;font-family:Menlo,'DejaVu Sans Mono',consolas,'Courier New',monospace\">Pre-processing elapsed time: 1.4613 seconds.\n",
       "</pre>\n"
      ],
      "text/plain": [
       "Pre-processing elapsed time: 1.4613 seconds.\n"
      ]
     },
     "metadata": {},
     "output_type": "display_data"
    },
    {
     "data": {
      "text/html": [
       "<pre style=\"white-space:pre;overflow-x:auto;line-height:normal;font-family:Menlo,'DejaVu Sans Mono',consolas,'Courier New',monospace\">Clustering elapsed time: 2.0343 seconds.\n",
       "</pre>\n"
      ],
      "text/plain": [
       "Clustering elapsed time: 2.0343 seconds.\n"
      ]
     },
     "metadata": {},
     "output_type": "display_data"
    },
    {
     "data": {
      "text/html": [
       "<pre style=\"white-space:pre;overflow-x:auto;line-height:normal;font-family:Menlo,'DejaVu Sans Mono',consolas,'Courier New',monospace\">Metrics: {'clu_homogeneity_score': 0.733361319849092, 'clu_completeness_score': 0.721464995524959, \n",
       "'clu_v_measure_score': 0.7273645187082933, 'clu_adjusted_rand_score': 0.6127262077339407, \n",
       "'clu_adjusted_mutual_info_score': 0.7265336565827292}\n",
       "</pre>\n"
      ],
      "text/plain": [
       "Metrics: {'clu_homogeneity_score': 0.733361319849092, 'clu_completeness_score': 0.721464995524959, \n",
       "'clu_v_measure_score': 0.7273645187082933, 'clu_adjusted_rand_score': 0.6127262077339407, \n",
       "'clu_adjusted_mutual_info_score': 0.7265336565827292}\n"
      ]
     },
     "metadata": {},
     "output_type": "display_data"
    },
    {
     "name": "stderr",
     "output_type": "stream",
     "text": [
      "Epoch 29, global step 1890: 'val_loss' was not in top 3\n",
      "`Trainer.fit` stopped: `max_epochs=30` reached.\n"
     ]
    },
    {
     "data": {
      "text/html": [
       "<pre style=\"white-space:pre;overflow-x:auto;line-height:normal;font-family:Menlo,'DejaVu Sans Mono',consolas,'Courier New',monospace\"></pre>\n"
      ],
      "text/plain": []
     },
     "metadata": {},
     "output_type": "display_data"
    },
    {
     "data": {
      "text/html": [
       "<pre style=\"white-space:pre;overflow-x:auto;line-height:normal;font-family:Menlo,'DejaVu Sans Mono',consolas,'Courier New',monospace\">\n",
       "</pre>\n"
      ],
      "text/plain": [
       "\n"
      ]
     },
     "metadata": {},
     "output_type": "display_data"
    }
   ],
   "source": [
    "trainer.fit(\n",
    "    model,\n",
    "    train_dataloaders=brain_tumor.train_dataloader,\n",
    "    val_dataloaders=brain_tumor.val_dataloader\n",
    ")"
   ]
  },
  {
   "cell_type": "code",
   "execution_count": 6,
   "id": "d80c4b3b-b613-4241-a884-6c649d0b17ed",
   "metadata": {},
   "outputs": [],
   "source": [
    "with open(f\"{trainer.logger.log_dir}/{model.name}-timing.dump\", \"wb\") as f:\n",
    "    pickle.dump(model.timers, f)"
   ]
  },
  {
   "cell_type": "code",
   "execution_count": 7,
   "id": "f0ffc756-a460-446d-9523-59590316e373",
   "metadata": {},
   "outputs": [],
   "source": [
    "with open(f\"{trainer.logger.log_dir}/{model.name}-original-targets.dump\", \"wb\") as f:\n",
    "    pickle.dump(model.original_train_targets, f)"
   ]
  },
  {
   "cell_type": "markdown",
   "id": "30362bfb-93e8-46e9-ae5c-f3ad51547843",
   "metadata": {},
   "source": [
    "## TESTING"
   ]
  },
  {
   "cell_type": "code",
   "execution_count": 8,
   "id": "f1b70950-ceb6-4de6-89ef-3f39a6862e59",
   "metadata": {},
   "outputs": [
    {
     "data": {
      "application/vnd.jupyter.widget-view+json": {
       "model_id": "842c6a262dfd48c19045f8fceba525e5",
       "version_major": 2,
       "version_minor": 0
      },
      "text/plain": [
       "Output()"
      ]
     },
     "metadata": {},
     "output_type": "display_data"
    },
    {
     "data": {
      "text/html": [
       "<pre style=\"white-space:pre;overflow-x:auto;line-height:normal;font-family:Menlo,'DejaVu Sans Mono',consolas,'Courier New',monospace\"></pre>\n"
      ],
      "text/plain": []
     },
     "metadata": {},
     "output_type": "display_data"
    },
    {
     "data": {
      "text/html": [
       "<pre style=\"white-space:pre;overflow-x:auto;line-height:normal;font-family:Menlo,'DejaVu Sans Mono',consolas,'Courier New',monospace\">\n",
       "</pre>\n"
      ],
      "text/plain": [
       "\n"
      ]
     },
     "metadata": {},
     "output_type": "display_data"
    }
   ],
   "source": [
    "batch_predictions = trainer.predict(model, dataloaders=brain_tumor.test_dataloader)\n",
    "truth_labels, preds_labels = get_labels_from_prediction(batch_predictions)\n",
    "with open(f\"{trainer.logger.log_dir}/{model.name}-preds.dump\", \"wb\") as f:\n",
    "    pickle.dump([truth_labels, preds_labels], f)"
   ]
  },
  {
   "cell_type": "code",
   "execution_count": 9,
   "id": "5596a3ec-7710-4856-bf11-977f3f491db2",
   "metadata": {},
   "outputs": [],
   "source": [
    "from collections import Counter"
   ]
  },
  {
   "cell_type": "code",
   "execution_count": 10,
   "id": "712f8b99-7ff0-402c-99e0-a0247e17976e",
   "metadata": {},
   "outputs": [
    {
     "data": {
      "text/plain": [
       "Counter({2: 405, 1: 306, 0: 300, 3: 300})"
      ]
     },
     "execution_count": 10,
     "metadata": {},
     "output_type": "execute_result"
    }
   ],
   "source": [
    "Counter(truth_labels)"
   ]
  },
  {
   "cell_type": "code",
   "execution_count": 11,
   "id": "fd4f1582-6c8d-4900-a32e-30cffa550a28",
   "metadata": {},
   "outputs": [
    {
     "data": {
      "text/plain": [
       "Counter({2: 409, 1: 305, 0: 301, 3: 296})"
      ]
     },
     "execution_count": 11,
     "metadata": {},
     "output_type": "execute_result"
    }
   ],
   "source": [
    "Counter(preds_labels)"
   ]
  },
  {
   "cell_type": "code",
   "execution_count": 16,
   "id": "4f1db287-b7a8-4166-8a8d-7f65d6766f75",
   "metadata": {},
   "outputs": [
    {
     "data": {
      "text/plain": [
       "'./experiments-1/dvgg/version_1'"
      ]
     },
     "execution_count": 16,
     "metadata": {},
     "output_type": "execute_result"
    }
   ],
   "source": [
    "trainer.logger.log_dir"
   ]
  },
  {
   "cell_type": "markdown",
   "id": "3164400f-d958-497d-b79d-2ce943e44d08",
   "metadata": {},
   "source": [
    "## ANALYSIS"
   ]
  },
  {
   "cell_type": "code",
   "execution_count": 12,
   "id": "a904070c-0f7e-4280-aa30-9920ed415e1e",
   "metadata": {},
   "outputs": [
    {
     "name": "stderr",
     "output_type": "stream",
     "text": [
      "/Users/arthuralvim/Work/xai-clustering/helpers/metrics.py:51: FutureWarning: Series.fillna with 'method' is deprecated and will raise in a future version. Use obj.ffill() or obj.bfill() instead.\n",
      "  metrics[\"epoch\"] = metrics[\"epoch\"].fillna(method=\"ffill\")\n",
      "/Users/arthuralvim/Library/Caches/pypoetry/virtualenvs/xai-clustering-b3gHD5dt-py3.9/lib/python3.9/site-packages/numpy/core/fromnumeric.py:59: FutureWarning: 'DataFrame.swapaxes' is deprecated and will be removed in a future version. Please use 'DataFrame.transpose' instead.\n",
      "  return bound(*args, **kwds)\n"
     ]
    }
   ],
   "source": [
    "train_metrics, valid_metrics, epoch_metrics, clustering_metrics = dmetrics_to_dataframe(f\"{trainer.logger.log_dir}/metrics.csv\", brain_tumor)"
   ]
  },
  {
   "cell_type": "code",
   "execution_count": 13,
   "id": "d9313385-87de-4c8b-adf8-38deb983f146",
   "metadata": {},
   "outputs": [
    {
     "data": {
      "image/png": "[encoded data removed]",
      "text/plain": [
       "<Figure size 1900x900 with 2 Axes>"
      ]
     },
     "metadata": {},
     "output_type": "display_data"
    }
   ],
   "source": [
    "plot_analysis(epoch_metrics, save_as=f\"{trainer.logger.log_dir}/{model.name}-analysis.png\")"
   ]
  },
  {
   "cell_type": "code",
   "execution_count": 14,
   "id": "1b64c55e-4dc3-405e-8f81-4d83fef54143",
   "metadata": {},
   "outputs": [
    {
     "data": {
      "image/png": "[encoded data removed]",
      "text/plain": [
       "<Figure size 600x600 with 1 Axes>"
      ]
     },
     "metadata": {},
     "output_type": "display_data"
    }
   ],
   "source": [
    "plot_clustering_metrics(clustering_metrics[1:], show=True, save_as=f\"{trainer.logger.log_dir}/{model.name}-clustering.png\")"
   ]
  },
  {
   "cell_type": "code",
   "execution_count": 15,
   "id": "af97f45d-1a1f-42bc-a8f2-40608b2b1918",
   "metadata": {},
   "outputs": [
    {
     "name": "stdout",
     "output_type": "stream",
     "text": [
      "              precision    recall  f1-score   support\n",
      "\n",
      "      Glioma      0.987     0.990     0.988       300\n",
      "  Meningioma      0.977     0.974     0.975       306\n",
      "   Sem Tumor      0.990     1.000     0.995       405\n",
      "  Pituitária      1.000     0.987     0.993       300\n",
      "\n",
      "    accuracy                          0.989      1311\n",
      "   macro avg      0.988     0.988     0.988      1311\n",
      "weighted avg      0.989     0.989     0.989      1311\n",
      "\n",
      "            Gli  Men  Sem  Pit\n",
      "Glioma      297    3    0    0\n",
      "Meningioma    4  298    4    0\n",
      "Sem Tumor     0    0  405    0\n",
      "Pituitária    0    4    0  296\n"
     ]
    }
   ],
   "source": [
    "plot_loss_curve(epoch_metrics, show=False, save_as=f\"{trainer.logger.log_dir}/{model.name}-loss.png\")\n",
    "plot_acc_curve(epoch_metrics, show=False, save_as=f\"{trainer.logger.log_dir}/{model.name}-acc.png\")\n",
    "basic_report(truth_labels, preds_labels, labels=[0,1,2,3], label_names=[\"Glioma\", \"Meningioma\", \"Sem Tumor\", \"Pituitária\"], show=False, \n",
    "             save_as=f\"{trainer.logger.log_dir}/{model.name}-confusion-matrix.png\")"
   ]
  },
  {
   "cell_type": "code",
   "execution_count": null,
   "id": "998bb4c3-1f48-4539-8fe0-ececc73afad0",
   "metadata": {},
   "outputs": [],
   "source": []
  }
 ],
 "metadata": {
  "availableInstances": [
   {
    "_defaultOrder": 0,
    "_isFastLaunch": true,
    "category": "General purpose",
    "gpuNum": 0,
    "hideHardwareSpecs": false,
    "memoryGiB": 4,
    "name": "ml.t3.medium",
    "vcpuNum": 2
   },
   {
    "_defaultOrder": 1,
    "_isFastLaunch": false,
    "category": "General purpose",
    "gpuNum": 0,
    "hideHardwareSpecs": false,
    "memoryGiB": 8,
    "name": "ml.t3.large",
    "vcpuNum": 2
   },
   {
    "_defaultOrder": 2,
    "_isFastLaunch": false,
    "category": "General purpose",
    "gpuNum": 0,
    "hideHardwareSpecs": false,
    "memoryGiB": 16,
    "name": "ml.t3.xlarge",
    "vcpuNum": 4
   },
   {
    "_defaultOrder": 3,
    "_isFastLaunch": false,
    "category": "General purpose",
    "gpuNum": 0,
    "hideHardwareSpecs": false,
    "memoryGiB": 32,
    "name": "ml.t3.2xlarge",
    "vcpuNum": 8
   },
   {
    "_defaultOrder": 4,
    "_isFastLaunch": true,
    "category": "General purpose",
    "gpuNum": 0,
    "hideHardwareSpecs": false,
    "memoryGiB": 8,
    "name": "ml.m5.large",
    "vcpuNum": 2
   },
   {
    "_defaultOrder": 5,
    "_isFastLaunch": false,
    "category": "General purpose",
    "gpuNum": 0,
    "hideHardwareSpecs": false,
    "memoryGiB": 16,
    "name": "ml.m5.xlarge",
    "vcpuNum": 4
   },
   {
    "_defaultOrder": 6,
    "_isFastLaunch": false,
    "category": "General purpose",
    "gpuNum": 0,
    "hideHardwareSpecs": false,
    "memoryGiB": 32,
    "name": "ml.m5.2xlarge",
    "vcpuNum": 8
   },
   {
    "_defaultOrder": 7,
    "_isFastLaunch": false,
    "category": "General purpose",
    "gpuNum": 0,
    "hideHardwareSpecs": false,
    "memoryGiB": 64,
    "name": "ml.m5.4xlarge",
    "vcpuNum": 16
   },
   {
    "_defaultOrder": 8,
    "_isFastLaunch": false,
    "category": "General purpose",
    "gpuNum": 0,
    "hideHardwareSpecs": false,
    "memoryGiB": 128,
    "name": "ml.m5.8xlarge",
    "vcpuNum": 32
   },
   {
    "_defaultOrder": 9,
    "_isFastLaunch": false,
    "category": "General purpose",
    "gpuNum": 0,
    "hideHardwareSpecs": false,
    "memoryGiB": 192,
    "name": "ml.m5.12xlarge",
    "vcpuNum": 48
   },
   {
    "_defaultOrder": 10,
    "_isFastLaunch": false,
    "category": "General purpose",
    "gpuNum": 0,
    "hideHardwareSpecs": false,
    "memoryGiB": 256,
    "name": "ml.m5.16xlarge",
    "vcpuNum": 64
   },
   {
    "_defaultOrder": 11,
    "_isFastLaunch": false,
    "category": "General purpose",
    "gpuNum": 0,
    "hideHardwareSpecs": false,
    "memoryGiB": 384,
    "name": "ml.m5.24xlarge",
    "vcpuNum": 96
   },
   {
    "_defaultOrder": 12,
    "_isFastLaunch": false,
    "category": "General purpose",
    "gpuNum": 0,
    "hideHardwareSpecs": false,
    "memoryGiB": 8,
    "name": "ml.m5d.large",
    "vcpuNum": 2
   },
   {
    "_defaultOrder": 13,
    "_isFastLaunch": false,
    "category": "General purpose",
    "gpuNum": 0,
    "hideHardwareSpecs": false,
    "memoryGiB": 16,
    "name": "ml.m5d.xlarge",
    "vcpuNum": 4
   },
   {
    "_defaultOrder": 14,
    "_isFastLaunch": false,
    "category": "General purpose",
    "gpuNum": 0,
    "hideHardwareSpecs": false,
    "memoryGiB": 32,
    "name": "ml.m5d.2xlarge",
    "vcpuNum": 8
   },
   {
    "_defaultOrder": 15,
    "_isFastLaunch": false,
    "category": "General purpose",
    "gpuNum": 0,
    "hideHardwareSpecs": false,
    "memoryGiB": 64,
    "name": "ml.m5d.4xlarge",
    "vcpuNum": 16
   },
   {
    "_defaultOrder": 16,
    "_isFastLaunch": false,
    "category": "General purpose",
    "gpuNum": 0,
    "hideHardwareSpecs": false,
    "memoryGiB": 128,
    "name": "ml.m5d.8xlarge",
    "vcpuNum": 32
   },
   {
    "_defaultOrder": 17,
    "_isFastLaunch": false,
    "category": "General purpose",
    "gpuNum": 0,
    "hideHardwareSpecs": false,
    "memoryGiB": 192,
    "name": "ml.m5d.12xlarge",
    "vcpuNum": 48
   },
   {
    "_defaultOrder": 18,
    "_isFastLaunch": false,
    "category": "General purpose",
    "gpuNum": 0,
    "hideHardwareSpecs": false,
    "memoryGiB": 256,
    "name": "ml.m5d.16xlarge",
    "vcpuNum": 64
   },
   {
    "_defaultOrder": 19,
    "_isFastLaunch": false,
    "category": "General purpose",
    "gpuNum": 0,
    "hideHardwareSpecs": false,
    "memoryGiB": 384,
    "name": "ml.m5d.24xlarge",
    "vcpuNum": 96
   },
   {
    "_defaultOrder": 20,
    "_isFastLaunch": false,
    "category": "General purpose",
    "gpuNum": 0,
    "hideHardwareSpecs": true,
    "memoryGiB": 0,
    "name": "ml.geospatial.interactive",
    "supportedImageNames": [
     "sagemaker-geospatial-v1-0"
    ],
    "vcpuNum": 0
   },
   {
    "_defaultOrder": 21,
    "_isFastLaunch": true,
    "category": "Compute optimized",
    "gpuNum": 0,
    "hideHardwareSpecs": false,
    "memoryGiB": 4,
    "name": "ml.c5.large",
    "vcpuNum": 2
   },
   {
    "_defaultOrder": 22,
    "_isFastLaunch": false,
    "category": "Compute optimized",
    "gpuNum": 0,
    "hideHardwareSpecs": false,
    "memoryGiB": 8,
    "name": "ml.c5.xlarge",
    "vcpuNum": 4
   },
   {
    "_defaultOrder": 23,
    "_isFastLaunch": false,
    "category": "Compute optimized",
    "gpuNum": 0,
    "hideHardwareSpecs": false,
    "memoryGiB": 16,
    "name": "ml.c5.2xlarge",
    "vcpuNum": 8
   },
   {
    "_defaultOrder": 24,
    "_isFastLaunch": false,
    "category": "Compute optimized",
    "gpuNum": 0,
    "hideHardwareSpecs": false,
    "memoryGiB": 32,
    "name": "ml.c5.4xlarge",
    "vcpuNum": 16
   },
   {
    "_defaultOrder": 25,
    "_isFastLaunch": false,
    "category": "Compute optimized",
    "gpuNum": 0,
    "hideHardwareSpecs": false,
    "memoryGiB": 72,
    "name": "ml.c5.9xlarge",
    "vcpuNum": 36
   },
   {
    "_defaultOrder": 26,
    "_isFastLaunch": false,
    "category": "Compute optimized",
    "gpuNum": 0,
    "hideHardwareSpecs": false,
    "memoryGiB": 96,
    "name": "ml.c5.12xlarge",
    "vcpuNum": 48
   },
   {
    "_defaultOrder": 27,
    "_isFastLaunch": false,
    "category": "Compute optimized",
    "gpuNum": 0,
    "hideHardwareSpecs": false,
    "memoryGiB": 144,
    "name": "ml.c5.18xlarge",
    "vcpuNum": 72
   },
   {
    "_defaultOrder": 28,
    "_isFastLaunch": false,
    "category": "Compute optimized",
    "gpuNum": 0,
    "hideHardwareSpecs": false,
    "memoryGiB": 192,
    "name": "ml.c5.24xlarge",
    "vcpuNum": 96
   },
   {
    "_defaultOrder": 29,
    "_isFastLaunch": true,
    "category": "Accelerated computing",
    "gpuNum": 1,
    "hideHardwareSpecs": false,
    "memoryGiB": 16,
    "name": "ml.g4dn.xlarge",
    "vcpuNum": 4
   },
   {
    "_defaultOrder": 30,
    "_isFastLaunch": false,
    "category": "Accelerated computing",
    "gpuNum": 1,
    "hideHardwareSpecs": false,
    "memoryGiB": 32,
    "name": "ml.g4dn.2xlarge",
    "vcpuNum": 8
   },
   {
    "_defaultOrder": 31,
    "_isFastLaunch": false,
    "category": "Accelerated computing",
    "gpuNum": 1,
    "hideHardwareSpecs": false,
    "memoryGiB": 64,
    "name": "ml.g4dn.4xlarge",
    "vcpuNum": 16
   },
   {
    "_defaultOrder": 32,
    "_isFastLaunch": false,
    "category": "Accelerated computing",
    "gpuNum": 1,
    "hideHardwareSpecs": false,
    "memoryGiB": 128,
    "name": "ml.g4dn.8xlarge",
    "vcpuNum": 32
   },
   {
    "_defaultOrder": 33,
    "_isFastLaunch": false,
    "category": "Accelerated computing",
    "gpuNum": 4,
    "hideHardwareSpecs": false,
    "memoryGiB": 192,
    "name": "ml.g4dn.12xlarge",
    "vcpuNum": 48
   },
   {
    "_defaultOrder": 34,
    "_isFastLaunch": false,
    "category": "Accelerated computing",
    "gpuNum": 1,
    "hideHardwareSpecs": false,
    "memoryGiB": 256,
    "name": "ml.g4dn.16xlarge",
    "vcpuNum": 64
   },
   {
    "_defaultOrder": 35,
    "_isFastLaunch": false,
    "category": "Accelerated computing",
    "gpuNum": 1,
    "hideHardwareSpecs": false,
    "memoryGiB": 61,
    "name": "ml.p3.2xlarge",
    "vcpuNum": 8
   },
   {
    "_defaultOrder": 36,
    "_isFastLaunch": false,
    "category": "Accelerated computing",
    "gpuNum": 4,
    "hideHardwareSpecs": false,
    "memoryGiB": 244,
    "name": "ml.p3.8xlarge",
    "vcpuNum": 32
   },
   {
    "_defaultOrder": 37,
    "_isFastLaunch": false,
    "category": "Accelerated computing",
    "gpuNum": 8,
    "hideHardwareSpecs": false,
    "memoryGiB": 488,
    "name": "ml.p3.16xlarge",
    "vcpuNum": 64
   },
   {
    "_defaultOrder": 38,
    "_isFastLaunch": false,
    "category": "Accelerated computing",
    "gpuNum": 8,
    "hideHardwareSpecs": false,
    "memoryGiB": 768,
    "name": "ml.p3dn.24xlarge",
    "vcpuNum": 96
   },
   {
    "_defaultOrder": 39,
    "_isFastLaunch": false,
    "category": "Memory Optimized",
    "gpuNum": 0,
    "hideHardwareSpecs": false,
    "memoryGiB": 16,
    "name": "ml.r5.large",
    "vcpuNum": 2
   },
   {
    "_defaultOrder": 40,
    "_isFastLaunch": false,
    "category": "Memory Optimized",
    "gpuNum": 0,
    "hideHardwareSpecs": false,
    "memoryGiB": 32,
    "name": "ml.r5.xlarge",
    "vcpuNum": 4
   },
   {
    "_defaultOrder": 41,
    "_isFastLaunch": false,
    "category": "Memory Optimized",
    "gpuNum": 0,
    "hideHardwareSpecs": false,
    "memoryGiB": 64,
    "name": "ml.r5.2xlarge",
    "vcpuNum": 8
   },
   {
    "_defaultOrder": 42,
    "_isFastLaunch": false,
    "category": "Memory Optimized",
    "gpuNum": 0,
    "hideHardwareSpecs": false,
    "memoryGiB": 128,
    "name": "ml.r5.4xlarge",
    "vcpuNum": 16
   },
   {
    "_defaultOrder": 43,
    "_isFastLaunch": false,
    "category": "Memory Optimized",
    "gpuNum": 0,
    "hideHardwareSpecs": false,
    "memoryGiB": 256,
    "name": "ml.r5.8xlarge",
    "vcpuNum": 32
   },
   {
    "_defaultOrder": 44,
    "_isFastLaunch": false,
    "category": "Memory Optimized",
    "gpuNum": 0,
    "hideHardwareSpecs": false,
    "memoryGiB": 384,
    "name": "ml.r5.12xlarge",
    "vcpuNum": 48
   },
   {
    "_defaultOrder": 45,
    "_isFastLaunch": false,
    "category": "Memory Optimized",
    "gpuNum": 0,
    "hideHardwareSpecs": false,
    "memoryGiB": 512,
    "name": "ml.r5.16xlarge",
    "vcpuNum": 64
   },
   {
    "_defaultOrder": 46,
    "_isFastLaunch": false,
    "category": "Memory Optimized",
    "gpuNum": 0,
    "hideHardwareSpecs": false,
    "memoryGiB": 768,
    "name": "ml.r5.24xlarge",
    "vcpuNum": 96
   },
   {
    "_defaultOrder": 47,
    "_isFastLaunch": false,
    "category": "Accelerated computing",
    "gpuNum": 1,
    "hideHardwareSpecs": false,
    "memoryGiB": 16,
    "name": "ml.g5.xlarge",
    "vcpuNum": 4
   },
   {
    "_defaultOrder": 48,
    "_isFastLaunch": false,
    "category": "Accelerated computing",
    "gpuNum": 1,
    "hideHardwareSpecs": false,
    "memoryGiB": 32,
    "name": "ml.g5.2xlarge",
    "vcpuNum": 8
   },
   {
    "_defaultOrder": 49,
    "_isFastLaunch": false,
    "category": "Accelerated computing",
    "gpuNum": 1,
    "hideHardwareSpecs": false,
    "memoryGiB": 64,
    "name": "ml.g5.4xlarge",
    "vcpuNum": 16
   },
   {
    "_defaultOrder": 50,
    "_isFastLaunch": false,
    "category": "Accelerated computing",
    "gpuNum": 1,
    "hideHardwareSpecs": false,
    "memoryGiB": 128,
    "name": "ml.g5.8xlarge",
    "vcpuNum": 32
   },
   {
    "_defaultOrder": 51,
    "_isFastLaunch": false,
    "category": "Accelerated computing",
    "gpuNum": 1,
    "hideHardwareSpecs": false,
    "memoryGiB": 256,
    "name": "ml.g5.16xlarge",
    "vcpuNum": 64
   },
   {
    "_defaultOrder": 52,
    "_isFastLaunch": false,
    "category": "Accelerated computing",
    "gpuNum": 4,
    "hideHardwareSpecs": false,
    "memoryGiB": 192,
    "name": "ml.g5.12xlarge",
    "vcpuNum": 48
   },
   {
    "_defaultOrder": 53,
    "_isFastLaunch": false,
    "category": "Accelerated computing",
    "gpuNum": 4,
    "hideHardwareSpecs": false,
    "memoryGiB": 384,
    "name": "ml.g5.24xlarge",
    "vcpuNum": 96
   },
   {
    "_defaultOrder": 54,
    "_isFastLaunch": false,
    "category": "Accelerated computing",
    "gpuNum": 8,
    "hideHardwareSpecs": false,
    "memoryGiB": 768,
    "name": "ml.g5.48xlarge",
    "vcpuNum": 192
   },
   {
    "_defaultOrder": 55,
    "_isFastLaunch": false,
    "category": "Accelerated computing",
    "gpuNum": 8,
    "hideHardwareSpecs": false,
    "memoryGiB": 1152,
    "name": "ml.p4d.24xlarge",
    "vcpuNum": 96
   },
   {
    "_defaultOrder": 56,
    "_isFastLaunch": false,
    "category": "Accelerated computing",
    "gpuNum": 8,
    "hideHardwareSpecs": false,
    "memoryGiB": 1152,
    "name": "ml.p4de.24xlarge",
    "vcpuNum": 96
   }
  ],
  "instance_type": "ml.t3.2xlarge",
  "kernelspec": {
   "display_name": "Python 3 (ipykernel)",
   "language": "python",
   "name": "python3"
  },
  "language_info": {
   "codemirror_mode": {
    "name": "ipython",
    "version": 3
   },
   "file_extension": ".py",
   "mimetype": "text/x-python",
   "name": "python",
   "nbconvert_exporter": "python",
   "pygments_lexer": "ipython3",
   "version": "3.9.0"
  }
 },
 "nbformat": 4,
 "nbformat_minor": 5
}
