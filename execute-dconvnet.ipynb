{
 "cells": [
  {
   "cell_type": "markdown",
   "id": "d66906d4-5fd5-4f4d-a9e4-deaf153f19ff",
   "metadata": {},
   "source": [
    "# CONVNET + DEEP CLUSTERING + BRAIN TUMOR"
   ]
  },
  {
   "cell_type": "code",
   "execution_count": 18,
   "id": "c6459795-0ffa-48e4-88ad-f107c7511b81",
   "metadata": {
    "scrolled": true,
    "tags": []
   },
   "outputs": [],
   "source": [
    "# ! pip install torch torchvision numpy pydantic interpret faiss-cpu torchsummary matplotlib pandas seaborn scikit-learn scikit-image pytorch-lightning[extra] --no-cache-dir --ignore-installed"
   ]
  },
  {
   "cell_type": "code",
   "execution_count": 19,
   "id": "75aa24f3-0909-43f7-873a-fe992a9ed95c",
   "metadata": {
    "tags": []
   },
   "outputs": [
    {
     "name": "stderr",
     "output_type": "stream",
     "text": [
      "Global seed set to 42\n"
     ]
    }
   ],
   "source": [
    "import copy\n",
    "import os\n",
    "import pickle\n",
    "import logging\n",
    "import pandas as pd\n",
    "import numpy as np\n",
    "import torch\n",
    "import torch.nn as nn\n",
    "import torch.optim as optim\n",
    "\n",
    "from data.brain_tumor_mri import BrainTumorMRI\n",
    "from models.cnn_deep import DConvNet\n",
    "from pytorch_lightning import Trainer, seed_everything\n",
    "\n",
    "from pytorch_lightning.callbacks import ModelCheckpoint\n",
    "from pytorch_lightning.callbacks.early_stopping import EarlyStopping\n",
    "from pytorch_lightning.callbacks import Timer\n",
    "from pytorch_lightning.callbacks import RichProgressBar\n",
    "\n",
    "from pytorch_lightning.loggers import CSVLogger\n",
    "from torchvision import transforms\n",
    "from torchvision.transforms import functional as F\n",
    "\n",
    "from helpers.prediction import get_labels_from_prediction\n",
    "from helpers.metrics import dmetrics_to_dataframe\n",
    "from report.plots import plot_loss_curve, plot_acc_curve, plot_analysis, plot_clustering_metrics\n",
    "from report import basic_report\n",
    "\n",
    "seed_everything(42, workers=True)\n",
    "pd.set_option('display.max_rows', None)"
   ]
  },
  {
   "cell_type": "code",
   "execution_count": 20,
   "id": "ace844e8-db97-42bb-9b6a-79f7954bf0a4",
   "metadata": {
    "tags": []
   },
   "outputs": [],
   "source": [
    "BATCH_SIZE = 64\n",
    "VAL_SIZE = 0.3\n",
    "EPOCHS = 60\n",
    "DATASET_RANDOM = 37\n",
    "\n",
    "brain_tumor = BrainTumorMRI(val_size=VAL_SIZE, batch_size=BATCH_SIZE, random_state=DATASET_RANDOM, transformations=transforms.Compose(\n",
    "            [\n",
    "                transforms.Resize((255, 255)),\n",
    "                transforms.RandomHorizontalFlip(),\n",
    "                transforms.RandomRotation(10),\n",
    "                transforms.ToTensor(),\n",
    "                transforms.Normalize(\n",
    "                    mean=[0.485, 0.456, 0.406], std=[0.229, 0.224, 0.225]\n",
    "                ),\n",
    "            ]\n",
    "        ))"
   ]
  },
  {
   "cell_type": "markdown",
   "id": "a57e9863-57c1-42f1-99d7-ce5a349f1788",
   "metadata": {},
   "source": [
    "# MODEL"
   ]
  },
  {
   "cell_type": "code",
   "execution_count": 21,
   "id": "5384c80c-5603-4ae6-a828-47e4a7fa4109",
   "metadata": {
    "tags": []
   },
   "outputs": [
    {
     "name": "stderr",
     "output_type": "stream",
     "text": [
      "GPU available: False, used: False\n",
      "TPU available: False, using: 0 TPU cores\n",
      "IPU available: False, using: 0 IPUs\n",
      "HPU available: False, using: 0 HPUs\n"
     ]
    }
   ],
   "source": [
    "model = DConvNet(dataset=brain_tumor, num_classes=4, freeze=False)\n",
    "\n",
    "timer = Timer()\n",
    "progress_bar = RichProgressBar()\n",
    "logger = CSVLogger(save_dir=\"./\", name=f\"experiments-1/{model.name}\", flush_logs_every_n_steps=1)\n",
    "checkpoint_callback = ModelCheckpoint(\n",
    "    filename=f\"{model.name}-\" + \"{epoch}-{train_loss:.4f}-{train_acc:.4f}-{val_loss:.4f}-{val_acc:.4f}\",\n",
    "    save_top_k=3, save_last=True, monitor=\"val_loss\", mode=\"min\", verbose=True\n",
    ")\n",
    "\n",
    "trainer = Trainer(\n",
    "    accelerator=\"auto\", \n",
    "    devices=\"auto\",\n",
    "    max_epochs=EPOCHS,\n",
    "    logger=logger,\n",
    "    callbacks=[timer, progress_bar, checkpoint_callback],\n",
    "    log_every_n_steps=1,    \n",
    "    # enable_progress_bar=False,\n",
    "    # limit_train_batches=DATASET_RATIO or 1.0,\n",
    "    # limit_val_batches=DATASET_RATIO or 1.0,\n",
    "    # limit_test_batches=DATASET_RATIO or 1.0\n",
    ")"
   ]
  },
  {
   "cell_type": "markdown",
   "id": "ddc53162-d5e6-47ee-9908-ffa20a93c712",
   "metadata": {},
   "source": [
    "## TRAINING"
   ]
  },
  {
   "cell_type": "code",
   "execution_count": 22,
   "id": "97b440ff-5e49-4f34-86b2-b413f63937ab",
   "metadata": {},
   "outputs": [
    {
     "data": {
      "text/html": [
       "<pre style=\"white-space:pre;overflow-x:auto;line-height:normal;font-family:Menlo,'DejaVu Sans Mono',consolas,'Courier New',monospace\">┏━━━┳━━━━━━━━━━━┳━━━━━━━━━━━━━━━━━━━━┳━━━━━━━━┓\n",
       "┃<span style=\"color: #800080; text-decoration-color: #800080; font-weight: bold\">   </span>┃<span style=\"color: #800080; text-decoration-color: #800080; font-weight: bold\"> Name      </span>┃<span style=\"color: #800080; text-decoration-color: #800080; font-weight: bold\"> Type               </span>┃<span style=\"color: #800080; text-decoration-color: #800080; font-weight: bold\"> Params </span>┃\n",
       "┡━━━╇━━━━━━━━━━━╇━━━━━━━━━━━━━━━━━━━━╇━━━━━━━━┩\n",
       "│<span style=\"color: #7f7f7f; text-decoration-color: #7f7f7f\"> 0 </span>│ loss_fn   │ CrossEntropyLoss   │      0 │\n",
       "│<span style=\"color: #7f7f7f; text-decoration-color: #7f7f7f\"> 1 </span>│ train_acc │ MulticlassAccuracy │      0 │\n",
       "│<span style=\"color: #7f7f7f; text-decoration-color: #7f7f7f\"> 2 </span>│ val_acc   │ MulticlassAccuracy │      0 │\n",
       "│<span style=\"color: #7f7f7f; text-decoration-color: #7f7f7f\"> 3 </span>│ test_acc  │ MulticlassAccuracy │      0 │\n",
       "│<span style=\"color: #7f7f7f; text-decoration-color: #7f7f7f\"> 4 </span>│ model     │ ConvNet            │ 16.3 M │\n",
       "└───┴───────────┴────────────────────┴────────┘\n",
       "</pre>\n"
      ],
      "text/plain": [
       "┏━━━┳━━━━━━━━━━━┳━━━━━━━━━━━━━━━━━━━━┳━━━━━━━━┓\n",
       "┃\u001b[1;35m \u001b[0m\u001b[1;35m \u001b[0m\u001b[1;35m \u001b[0m┃\u001b[1;35m \u001b[0m\u001b[1;35mName     \u001b[0m\u001b[1;35m \u001b[0m┃\u001b[1;35m \u001b[0m\u001b[1;35mType              \u001b[0m\u001b[1;35m \u001b[0m┃\u001b[1;35m \u001b[0m\u001b[1;35mParams\u001b[0m\u001b[1;35m \u001b[0m┃\n",
       "┡━━━╇━━━━━━━━━━━╇━━━━━━━━━━━━━━━━━━━━╇━━━━━━━━┩\n",
       "│\u001b[2m \u001b[0m\u001b[2m0\u001b[0m\u001b[2m \u001b[0m│ loss_fn   │ CrossEntropyLoss   │      0 │\n",
       "│\u001b[2m \u001b[0m\u001b[2m1\u001b[0m\u001b[2m \u001b[0m│ train_acc │ MulticlassAccuracy │      0 │\n",
       "│\u001b[2m \u001b[0m\u001b[2m2\u001b[0m\u001b[2m \u001b[0m│ val_acc   │ MulticlassAccuracy │      0 │\n",
       "│\u001b[2m \u001b[0m\u001b[2m3\u001b[0m\u001b[2m \u001b[0m│ test_acc  │ MulticlassAccuracy │      0 │\n",
       "│\u001b[2m \u001b[0m\u001b[2m4\u001b[0m\u001b[2m \u001b[0m│ model     │ ConvNet            │ 16.3 M │\n",
       "└───┴───────────┴────────────────────┴────────┘\n"
      ]
     },
     "metadata": {},
     "output_type": "display_data"
    },
    {
     "data": {
      "text/html": [
       "<pre style=\"white-space:pre;overflow-x:auto;line-height:normal;font-family:Menlo,'DejaVu Sans Mono',consolas,'Courier New',monospace\"><span style=\"font-weight: bold\">Trainable params</span>: 16.3 M                                                                                           \n",
       "<span style=\"font-weight: bold\">Non-trainable params</span>: 0                                                                                            \n",
       "<span style=\"font-weight: bold\">Total params</span>: 16.3 M                                                                                               \n",
       "<span style=\"font-weight: bold\">Total estimated model params size (MB)</span>: 65                                                                         \n",
       "</pre>\n"
      ],
      "text/plain": [
       "\u001b[1mTrainable params\u001b[0m: 16.3 M                                                                                           \n",
       "\u001b[1mNon-trainable params\u001b[0m: 0                                                                                            \n",
       "\u001b[1mTotal params\u001b[0m: 16.3 M                                                                                               \n",
       "\u001b[1mTotal estimated model params size (MB)\u001b[0m: 65                                                                         \n"
      ]
     },
     "metadata": {},
     "output_type": "display_data"
    },
    {
     "data": {
      "application/vnd.jupyter.widget-view+json": {
       "model_id": "633de8c056994caea078a5d977a173ed",
       "version_major": 2,
       "version_minor": 0
      },
      "text/plain": [
       "Output()"
      ]
     },
     "metadata": {},
     "output_type": "display_data"
    },
    {
     "data": {
      "text/html": [
       "<pre style=\"white-space:pre;overflow-x:auto;line-height:normal;font-family:Menlo,'DejaVu Sans Mono',consolas,'Courier New',monospace\">Epoch 0\n",
       "</pre>\n"
      ],
      "text/plain": [
       "Epoch 0\n"
      ]
     },
     "metadata": {},
     "output_type": "display_data"
    },
    {
     "data": {
      "text/html": [
       "<pre style=\"white-space:pre;overflow-x:auto;line-height:normal;font-family:Menlo,'DejaVu Sans Mono',consolas,'Courier New',monospace\">Feature extracting elapsed time: 49.0307 seconds.\n",
       "</pre>\n"
      ],
      "text/plain": [
       "Feature extracting elapsed time: 49.0307 seconds.\n"
      ]
     },
     "metadata": {},
     "output_type": "display_data"
    },
    {
     "data": {
      "text/html": [
       "<pre style=\"white-space:pre;overflow-x:auto;line-height:normal;font-family:Menlo,'DejaVu Sans Mono',consolas,'Courier New',monospace\">Clustering elapsed time: 0.6630 seconds.\n",
       "</pre>\n"
      ],
      "text/plain": [
       "Clustering elapsed time: 0.6630 seconds.\n"
      ]
     },
     "metadata": {},
     "output_type": "display_data"
    },
    {
     "name": "stderr",
     "output_type": "stream",
     "text": [
      "Epoch 0, global step 63: 'val_loss' reached 0.58442 (best 0.58442), saving model to './experiments-1/dconvnet/version_1/checkpoints/dconvnet-epoch=0-train_loss=0.8890-train_acc=0.6541-val_loss=0.5844-val_acc=0.7911.ckpt' as top 3\n"
     ]
    },
    {
     "data": {
      "text/html": [
       "<pre style=\"white-space:pre;overflow-x:auto;line-height:normal;font-family:Menlo,'DejaVu Sans Mono',consolas,'Courier New',monospace\">Epoch 1\n",
       "</pre>\n"
      ],
      "text/plain": [
       "Epoch 1\n"
      ]
     },
     "metadata": {},
     "output_type": "display_data"
    },
    {
     "data": {
      "text/html": [
       "<pre style=\"white-space:pre;overflow-x:auto;line-height:normal;font-family:Menlo,'DejaVu Sans Mono',consolas,'Courier New',monospace\">Creating dataset from Clustering elapsed time: 21.9998 seconds.\n",
       "</pre>\n"
      ],
      "text/plain": [
       "Creating dataset from Clustering elapsed time: 21.9998 seconds.\n"
      ]
     },
     "metadata": {},
     "output_type": "display_data"
    },
    {
     "data": {
      "text/html": [
       "<pre style=\"white-space:pre;overflow-x:auto;line-height:normal;font-family:Menlo,'DejaVu Sans Mono',consolas,'Courier New',monospace\">Feature extracting elapsed time: 58.3472 seconds.\n",
       "</pre>\n"
      ],
      "text/plain": [
       "Feature extracting elapsed time: 58.3472 seconds.\n"
      ]
     },
     "metadata": {},
     "output_type": "display_data"
    },
    {
     "data": {
      "text/html": [
       "<pre style=\"white-space:pre;overflow-x:auto;line-height:normal;font-family:Menlo,'DejaVu Sans Mono',consolas,'Courier New',monospace\">Clustering elapsed time: 0.5543 seconds.\n",
       "</pre>\n"
      ],
      "text/plain": [
       "Clustering elapsed time: 0.5543 seconds.\n"
      ]
     },
     "metadata": {},
     "output_type": "display_data"
    },
    {
     "data": {
      "text/html": [
       "<pre style=\"white-space:pre;overflow-x:auto;line-height:normal;font-family:Menlo,'DejaVu Sans Mono',consolas,'Courier New',monospace\">Metrics: {'clu_homogeneity_score': 0.000792900827023255, 'clu_completeness_score': 0.0008363857948718848, \n",
       "'clu_v_measure_score': 0.0008140630132874207, 'clu_adjusted_rand_score': -0.0024971052385669872, \n",
       "'clu_adjusted_mutual_info_score': -9.589053833244063e-05}\n",
       "</pre>\n"
      ],
      "text/plain": [
       "Metrics: {'clu_homogeneity_score': 0.000792900827023255, 'clu_completeness_score': 0.0008363857948718848, \n",
       "'clu_v_measure_score': 0.0008140630132874207, 'clu_adjusted_rand_score': -0.0024971052385669872, \n",
       "'clu_adjusted_mutual_info_score': -9.589053833244063e-05}\n"
      ]
     },
     "metadata": {},
     "output_type": "display_data"
    },
    {
     "name": "stderr",
     "output_type": "stream",
     "text": [
      "Epoch 1, global step 126: 'val_loss' reached 0.65149 (best 0.58442), saving model to './experiments-1/dconvnet/version_1/checkpoints/dconvnet-epoch=1-train_loss=0.8597-train_acc=0.6673-val_loss=0.6515-val_acc=0.7322.ckpt' as top 3\n"
     ]
    },
    {
     "data": {
      "text/html": [
       "<pre style=\"white-space:pre;overflow-x:auto;line-height:normal;font-family:Menlo,'DejaVu Sans Mono',consolas,'Courier New',monospace\">Epoch 2\n",
       "</pre>\n"
      ],
      "text/plain": [
       "Epoch 2\n"
      ]
     },
     "metadata": {},
     "output_type": "display_data"
    },
    {
     "data": {
      "text/html": [
       "<pre style=\"white-space:pre;overflow-x:auto;line-height:normal;font-family:Menlo,'DejaVu Sans Mono',consolas,'Courier New',monospace\">Creating dataset from Clustering elapsed time: 21.9482 seconds.\n",
       "</pre>\n"
      ],
      "text/plain": [
       "Creating dataset from Clustering elapsed time: 21.9482 seconds.\n"
      ]
     },
     "metadata": {},
     "output_type": "display_data"
    },
    {
     "data": {
      "text/html": [
       "<pre style=\"white-space:pre;overflow-x:auto;line-height:normal;font-family:Menlo,'DejaVu Sans Mono',consolas,'Courier New',monospace\">Feature extracting elapsed time: 58.5276 seconds.\n",
       "</pre>\n"
      ],
      "text/plain": [
       "Feature extracting elapsed time: 58.5276 seconds.\n"
      ]
     },
     "metadata": {},
     "output_type": "display_data"
    },
    {
     "data": {
      "text/html": [
       "<pre style=\"white-space:pre;overflow-x:auto;line-height:normal;font-family:Menlo,'DejaVu Sans Mono',consolas,'Courier New',monospace\">Clustering elapsed time: 0.7252 seconds.\n",
       "</pre>\n"
      ],
      "text/plain": [
       "Clustering elapsed time: 0.7252 seconds.\n"
      ]
     },
     "metadata": {},
     "output_type": "display_data"
    },
    {
     "data": {
      "text/html": [
       "<pre style=\"white-space:pre;overflow-x:auto;line-height:normal;font-family:Menlo,'DejaVu Sans Mono',consolas,'Courier New',monospace\">Metrics: {'clu_homogeneity_score': 0.863722412131303, 'clu_completeness_score': 0.8628214967352145, \n",
       "'clu_v_measure_score': 0.8632717193831836, 'clu_adjusted_rand_score': 0.9141396421199983, \n",
       "'clu_adjusted_mutual_info_score': 0.8631437880385143}\n",
       "</pre>\n"
      ],
      "text/plain": [
       "Metrics: {'clu_homogeneity_score': 0.863722412131303, 'clu_completeness_score': 0.8628214967352145, \n",
       "'clu_v_measure_score': 0.8632717193831836, 'clu_adjusted_rand_score': 0.9141396421199983, \n",
       "'clu_adjusted_mutual_info_score': 0.8631437880385143}\n"
      ]
     },
     "metadata": {},
     "output_type": "display_data"
    },
    {
     "name": "stderr",
     "output_type": "stream",
     "text": [
      "Epoch 2, global step 189: 'val_loss' reached 0.60625 (best 0.58442), saving model to './experiments-1/dconvnet/version_1/checkpoints/dconvnet-epoch=2-train_loss=0.9478-train_acc=0.6443-val_loss=0.6062-val_acc=0.7690.ckpt' as top 3\n"
     ]
    },
    {
     "data": {
      "text/html": [
       "<pre style=\"white-space:pre;overflow-x:auto;line-height:normal;font-family:Menlo,'DejaVu Sans Mono',consolas,'Courier New',monospace\">Epoch 3\n",
       "</pre>\n"
      ],
      "text/plain": [
       "Epoch 3\n"
      ]
     },
     "metadata": {},
     "output_type": "display_data"
    },
    {
     "data": {
      "text/html": [
       "<pre style=\"white-space:pre;overflow-x:auto;line-height:normal;font-family:Menlo,'DejaVu Sans Mono',consolas,'Courier New',monospace\">Creating dataset from Clustering elapsed time: 23.0167 seconds.\n",
       "</pre>\n"
      ],
      "text/plain": [
       "Creating dataset from Clustering elapsed time: 23.0167 seconds.\n"
      ]
     },
     "metadata": {},
     "output_type": "display_data"
    },
    {
     "data": {
      "text/html": [
       "<pre style=\"white-space:pre;overflow-x:auto;line-height:normal;font-family:Menlo,'DejaVu Sans Mono',consolas,'Courier New',monospace\">Feature extracting elapsed time: 60.2818 seconds.\n",
       "</pre>\n"
      ],
      "text/plain": [
       "Feature extracting elapsed time: 60.2818 seconds.\n"
      ]
     },
     "metadata": {},
     "output_type": "display_data"
    },
    {
     "data": {
      "text/html": [
       "<pre style=\"white-space:pre;overflow-x:auto;line-height:normal;font-family:Menlo,'DejaVu Sans Mono',consolas,'Courier New',monospace\">Clustering elapsed time: 0.6768 seconds.\n",
       "</pre>\n"
      ],
      "text/plain": [
       "Clustering elapsed time: 0.6768 seconds.\n"
      ]
     },
     "metadata": {},
     "output_type": "display_data"
    },
    {
     "data": {
      "text/html": [
       "<pre style=\"white-space:pre;overflow-x:auto;line-height:normal;font-family:Menlo,'DejaVu Sans Mono',consolas,'Courier New',monospace\">Metrics: {'clu_homogeneity_score': 0.8701945121061879, 'clu_completeness_score': 0.8797796406290609, \n",
       "'clu_v_measure_score': 0.8749608260688253, 'clu_adjusted_rand_score': 0.9206522940128133, \n",
       "'clu_adjusted_mutual_info_score': 0.8748432393475378}\n",
       "</pre>\n"
      ],
      "text/plain": [
       "Metrics: {'clu_homogeneity_score': 0.8701945121061879, 'clu_completeness_score': 0.8797796406290609, \n",
       "'clu_v_measure_score': 0.8749608260688253, 'clu_adjusted_rand_score': 0.9206522940128133, \n",
       "'clu_adjusted_mutual_info_score': 0.8748432393475378}\n"
      ]
     },
     "metadata": {},
     "output_type": "display_data"
    },
    {
     "name": "stderr",
     "output_type": "stream",
     "text": [
      "Epoch 3, global step 252: 'val_loss' was not in top 3\n"
     ]
    },
    {
     "data": {
      "text/html": [
       "<pre style=\"white-space:pre;overflow-x:auto;line-height:normal;font-family:Menlo,'DejaVu Sans Mono',consolas,'Courier New',monospace\">Epoch 4\n",
       "</pre>\n"
      ],
      "text/plain": [
       "Epoch 4\n"
      ]
     },
     "metadata": {},
     "output_type": "display_data"
    },
    {
     "data": {
      "text/html": [
       "<pre style=\"white-space:pre;overflow-x:auto;line-height:normal;font-family:Menlo,'DejaVu Sans Mono',consolas,'Courier New',monospace\">Creating dataset from Clustering elapsed time: 24.1288 seconds.\n",
       "</pre>\n"
      ],
      "text/plain": [
       "Creating dataset from Clustering elapsed time: 24.1288 seconds.\n"
      ]
     },
     "metadata": {},
     "output_type": "display_data"
    },
    {
     "data": {
      "text/html": [
       "<pre style=\"white-space:pre;overflow-x:auto;line-height:normal;font-family:Menlo,'DejaVu Sans Mono',consolas,'Courier New',monospace\">Feature extracting elapsed time: 62.0485 seconds.\n",
       "</pre>\n"
      ],
      "text/plain": [
       "Feature extracting elapsed time: 62.0485 seconds.\n"
      ]
     },
     "metadata": {},
     "output_type": "display_data"
    },
    {
     "data": {
      "text/html": [
       "<pre style=\"white-space:pre;overflow-x:auto;line-height:normal;font-family:Menlo,'DejaVu Sans Mono',consolas,'Courier New',monospace\">Clustering elapsed time: 0.6179 seconds.\n",
       "</pre>\n"
      ],
      "text/plain": [
       "Clustering elapsed time: 0.6179 seconds.\n"
      ]
     },
     "metadata": {},
     "output_type": "display_data"
    },
    {
     "data": {
      "text/html": [
       "<pre style=\"white-space:pre;overflow-x:auto;line-height:normal;font-family:Menlo,'DejaVu Sans Mono',consolas,'Courier New',monospace\">Metrics: {'clu_homogeneity_score': 0.8666095731054042, 'clu_completeness_score': 0.8680115002322323, \n",
       "'clu_v_measure_score': 0.86730997014749, 'clu_adjusted_rand_score': 0.9088563120139252, \n",
       "'clu_adjusted_mutual_info_score': 0.8671843708094824}\n",
       "</pre>\n"
      ],
      "text/plain": [
       "Metrics: {'clu_homogeneity_score': 0.8666095731054042, 'clu_completeness_score': 0.8680115002322323, \n",
       "'clu_v_measure_score': 0.86730997014749, 'clu_adjusted_rand_score': 0.9088563120139252, \n",
       "'clu_adjusted_mutual_info_score': 0.8671843708094824}\n"
      ]
     },
     "metadata": {},
     "output_type": "display_data"
    },
    {
     "name": "stderr",
     "output_type": "stream",
     "text": [
      "Epoch 4, global step 315: 'val_loss' was not in top 3\n"
     ]
    },
    {
     "data": {
      "text/html": [
       "<pre style=\"white-space:pre;overflow-x:auto;line-height:normal;font-family:Menlo,'DejaVu Sans Mono',consolas,'Courier New',monospace\">Epoch 5\n",
       "</pre>\n"
      ],
      "text/plain": [
       "Epoch 5\n"
      ]
     },
     "metadata": {},
     "output_type": "display_data"
    },
    {
     "data": {
      "text/html": [
       "<pre style=\"white-space:pre;overflow-x:auto;line-height:normal;font-family:Menlo,'DejaVu Sans Mono',consolas,'Courier New',monospace\">Creating dataset from Clustering elapsed time: 23.7144 seconds.\n",
       "</pre>\n"
      ],
      "text/plain": [
       "Creating dataset from Clustering elapsed time: 23.7144 seconds.\n"
      ]
     },
     "metadata": {},
     "output_type": "display_data"
    },
    {
     "data": {
      "text/html": [
       "<pre style=\"white-space:pre;overflow-x:auto;line-height:normal;font-family:Menlo,'DejaVu Sans Mono',consolas,'Courier New',monospace\">Feature extracting elapsed time: 62.1150 seconds.\n",
       "</pre>\n"
      ],
      "text/plain": [
       "Feature extracting elapsed time: 62.1150 seconds.\n"
      ]
     },
     "metadata": {},
     "output_type": "display_data"
    },
    {
     "data": {
      "text/html": [
       "<pre style=\"white-space:pre;overflow-x:auto;line-height:normal;font-family:Menlo,'DejaVu Sans Mono',consolas,'Courier New',monospace\">Clustering elapsed time: 0.7272 seconds.\n",
       "</pre>\n"
      ],
      "text/plain": [
       "Clustering elapsed time: 0.7272 seconds.\n"
      ]
     },
     "metadata": {},
     "output_type": "display_data"
    },
    {
     "data": {
      "text/html": [
       "<pre style=\"white-space:pre;overflow-x:auto;line-height:normal;font-family:Menlo,'DejaVu Sans Mono',consolas,'Courier New',monospace\">Metrics: {'clu_homogeneity_score': 0.7651765830653741, 'clu_completeness_score': 0.8144242999370542, \n",
       "'clu_v_measure_score': 0.7890327356702124, 'clu_adjusted_rand_score': 0.862729532045869, \n",
       "'clu_adjusted_mutual_info_score': 0.7888261613495503}\n",
       "</pre>\n"
      ],
      "text/plain": [
       "Metrics: {'clu_homogeneity_score': 0.7651765830653741, 'clu_completeness_score': 0.8144242999370542, \n",
       "'clu_v_measure_score': 0.7890327356702124, 'clu_adjusted_rand_score': 0.862729532045869, \n",
       "'clu_adjusted_mutual_info_score': 0.7888261613495503}\n"
      ]
     },
     "metadata": {},
     "output_type": "display_data"
    },
    {
     "name": "stderr",
     "output_type": "stream",
     "text": [
      "Epoch 5, global step 378: 'val_loss' reached 0.63041 (best 0.58442), saving model to './experiments-1/dconvnet/version_1/checkpoints/dconvnet-epoch=5-train_loss=0.8921-train_acc=0.6276-val_loss=0.6304-val_acc=0.7433.ckpt' as top 3\n"
     ]
    },
    {
     "data": {
      "text/html": [
       "<pre style=\"white-space:pre;overflow-x:auto;line-height:normal;font-family:Menlo,'DejaVu Sans Mono',consolas,'Courier New',monospace\">Epoch 6\n",
       "</pre>\n"
      ],
      "text/plain": [
       "Epoch 6\n"
      ]
     },
     "metadata": {},
     "output_type": "display_data"
    },
    {
     "data": {
      "text/html": [
       "<pre style=\"white-space:pre;overflow-x:auto;line-height:normal;font-family:Menlo,'DejaVu Sans Mono',consolas,'Courier New',monospace\">Creating dataset from Clustering elapsed time: 24.0749 seconds.\n",
       "</pre>\n"
      ],
      "text/plain": [
       "Creating dataset from Clustering elapsed time: 24.0749 seconds.\n"
      ]
     },
     "metadata": {},
     "output_type": "display_data"
    },
    {
     "data": {
      "text/html": [
       "<pre style=\"white-space:pre;overflow-x:auto;line-height:normal;font-family:Menlo,'DejaVu Sans Mono',consolas,'Courier New',monospace\">Feature extracting elapsed time: 62.6215 seconds.\n",
       "</pre>\n"
      ],
      "text/plain": [
       "Feature extracting elapsed time: 62.6215 seconds.\n"
      ]
     },
     "metadata": {},
     "output_type": "display_data"
    },
    {
     "data": {
      "text/html": [
       "<pre style=\"white-space:pre;overflow-x:auto;line-height:normal;font-family:Menlo,'DejaVu Sans Mono',consolas,'Courier New',monospace\">Clustering elapsed time: 0.6809 seconds.\n",
       "</pre>\n"
      ],
      "text/plain": [
       "Clustering elapsed time: 0.6809 seconds.\n"
      ]
     },
     "metadata": {},
     "output_type": "display_data"
    },
    {
     "data": {
      "text/html": [
       "<pre style=\"white-space:pre;overflow-x:auto;line-height:normal;font-family:Menlo,'DejaVu Sans Mono',consolas,'Courier New',monospace\">Metrics: {'clu_homogeneity_score': 0.8556748097252831, 'clu_completeness_score': 0.8558839804491117, \n",
       "'clu_v_measure_score': 0.8557793823057516, 'clu_adjusted_rand_score': 0.9054393562947723, \n",
       "'clu_adjusted_mutual_info_score': 0.8556327303773927}\n",
       "</pre>\n"
      ],
      "text/plain": [
       "Metrics: {'clu_homogeneity_score': 0.8556748097252831, 'clu_completeness_score': 0.8558839804491117, \n",
       "'clu_v_measure_score': 0.8557793823057516, 'clu_adjusted_rand_score': 0.9054393562947723, \n",
       "'clu_adjusted_mutual_info_score': 0.8556327303773927}\n"
      ]
     },
     "metadata": {},
     "output_type": "display_data"
    },
    {
     "name": "stderr",
     "output_type": "stream",
     "text": [
      "Epoch 6, global step 441: 'val_loss' was not in top 3\n"
     ]
    },
    {
     "data": {
      "text/html": [
       "<pre style=\"white-space:pre;overflow-x:auto;line-height:normal;font-family:Menlo,'DejaVu Sans Mono',consolas,'Courier New',monospace\">Epoch 7\n",
       "</pre>\n"
      ],
      "text/plain": [
       "Epoch 7\n"
      ]
     },
     "metadata": {},
     "output_type": "display_data"
    },
    {
     "data": {
      "text/html": [
       "<pre style=\"white-space:pre;overflow-x:auto;line-height:normal;font-family:Menlo,'DejaVu Sans Mono',consolas,'Courier New',monospace\">Creating dataset from Clustering elapsed time: 24.3869 seconds.\n",
       "</pre>\n"
      ],
      "text/plain": [
       "Creating dataset from Clustering elapsed time: 24.3869 seconds.\n"
      ]
     },
     "metadata": {},
     "output_type": "display_data"
    },
    {
     "data": {
      "text/html": [
       "<pre style=\"white-space:pre;overflow-x:auto;line-height:normal;font-family:Menlo,'DejaVu Sans Mono',consolas,'Courier New',monospace\">Feature extracting elapsed time: 63.4091 seconds.\n",
       "</pre>\n"
      ],
      "text/plain": [
       "Feature extracting elapsed time: 63.4091 seconds.\n"
      ]
     },
     "metadata": {},
     "output_type": "display_data"
    },
    {
     "data": {
      "text/html": [
       "<pre style=\"white-space:pre;overflow-x:auto;line-height:normal;font-family:Menlo,'DejaVu Sans Mono',consolas,'Courier New',monospace\">Clustering elapsed time: 0.7535 seconds.\n",
       "</pre>\n"
      ],
      "text/plain": [
       "Clustering elapsed time: 0.7535 seconds.\n"
      ]
     },
     "metadata": {},
     "output_type": "display_data"
    },
    {
     "data": {
      "text/html": [
       "<pre style=\"white-space:pre;overflow-x:auto;line-height:normal;font-family:Menlo,'DejaVu Sans Mono',consolas,'Courier New',monospace\">Metrics: {'clu_homogeneity_score': 0.8285277486305136, 'clu_completeness_score': 0.8361680803052255, \n",
       "'clu_v_measure_score': 0.8323303813344631, 'clu_adjusted_rand_score': 0.8685516360214108, \n",
       "'clu_adjusted_mutual_info_score': 0.8321588926164838}\n",
       "</pre>\n"
      ],
      "text/plain": [
       "Metrics: {'clu_homogeneity_score': 0.8285277486305136, 'clu_completeness_score': 0.8361680803052255, \n",
       "'clu_v_measure_score': 0.8323303813344631, 'clu_adjusted_rand_score': 0.8685516360214108, \n",
       "'clu_adjusted_mutual_info_score': 0.8321588926164838}\n"
      ]
     },
     "metadata": {},
     "output_type": "display_data"
    },
    {
     "name": "stderr",
     "output_type": "stream",
     "text": [
      "Epoch 7, global step 504: 'val_loss' reached 0.60675 (best 0.58442), saving model to './experiments-1/dconvnet/version_1/checkpoints/dconvnet-epoch=7-train_loss=0.8468-train_acc=0.6821-val_loss=0.6067-val_acc=0.7497.ckpt' as top 3\n"
     ]
    },
    {
     "data": {
      "text/html": [
       "<pre style=\"white-space:pre;overflow-x:auto;line-height:normal;font-family:Menlo,'DejaVu Sans Mono',consolas,'Courier New',monospace\">Epoch 8\n",
       "</pre>\n"
      ],
      "text/plain": [
       "Epoch 8\n"
      ]
     },
     "metadata": {},
     "output_type": "display_data"
    },
    {
     "data": {
      "text/html": [
       "<pre style=\"white-space:pre;overflow-x:auto;line-height:normal;font-family:Menlo,'DejaVu Sans Mono',consolas,'Courier New',monospace\">Creating dataset from Clustering elapsed time: 26.5469 seconds.\n",
       "</pre>\n"
      ],
      "text/plain": [
       "Creating dataset from Clustering elapsed time: 26.5469 seconds.\n"
      ]
     },
     "metadata": {},
     "output_type": "display_data"
    },
    {
     "data": {
      "text/html": [
       "<pre style=\"white-space:pre;overflow-x:auto;line-height:normal;font-family:Menlo,'DejaVu Sans Mono',consolas,'Courier New',monospace\">Feature extracting elapsed time: 65.3134 seconds.\n",
       "</pre>\n"
      ],
      "text/plain": [
       "Feature extracting elapsed time: 65.3134 seconds.\n"
      ]
     },
     "metadata": {},
     "output_type": "display_data"
    },
    {
     "data": {
      "text/html": [
       "<pre style=\"white-space:pre;overflow-x:auto;line-height:normal;font-family:Menlo,'DejaVu Sans Mono',consolas,'Courier New',monospace\">Clustering elapsed time: 0.7148 seconds.\n",
       "</pre>\n"
      ],
      "text/plain": [
       "Clustering elapsed time: 0.7148 seconds.\n"
      ]
     },
     "metadata": {},
     "output_type": "display_data"
    },
    {
     "data": {
      "text/html": [
       "<pre style=\"white-space:pre;overflow-x:auto;line-height:normal;font-family:Menlo,'DejaVu Sans Mono',consolas,'Courier New',monospace\">Metrics: {'clu_homogeneity_score': 0.858602035468951, 'clu_completeness_score': 0.8563825395507234, \n",
       "'clu_v_measure_score': 0.8574908512980476, 'clu_adjusted_rand_score': 0.883407694611347, \n",
       "'clu_adjusted_mutual_info_score': 0.8573446630404062}\n",
       "</pre>\n"
      ],
      "text/plain": [
       "Metrics: {'clu_homogeneity_score': 0.858602035468951, 'clu_completeness_score': 0.8563825395507234, \n",
       "'clu_v_measure_score': 0.8574908512980476, 'clu_adjusted_rand_score': 0.883407694611347, \n",
       "'clu_adjusted_mutual_info_score': 0.8573446630404062}\n"
      ]
     },
     "metadata": {},
     "output_type": "display_data"
    },
    {
     "name": "stderr",
     "output_type": "stream",
     "text": [
      "Epoch 12, global step 819: 'val_loss' was not in top 3\n"
     ]
    },
    {
     "data": {
      "text/html": [
       "<pre style=\"white-space:pre;overflow-x:auto;line-height:normal;font-family:Menlo,'DejaVu Sans Mono',consolas,'Courier New',monospace\">Epoch 13\n",
       "</pre>\n"
      ],
      "text/plain": [
       "Epoch 13\n"
      ]
     },
     "metadata": {},
     "output_type": "display_data"
    },
    {
     "data": {
      "text/html": [
       "<pre style=\"white-space:pre;overflow-x:auto;line-height:normal;font-family:Menlo,'DejaVu Sans Mono',consolas,'Courier New',monospace\">Creating dataset from Clustering elapsed time: 54.0798 seconds.\n",
       "</pre>\n"
      ],
      "text/plain": [
       "Creating dataset from Clustering elapsed time: 54.0798 seconds.\n"
      ]
     },
     "metadata": {},
     "output_type": "display_data"
    },
    {
     "data": {
      "text/html": [
       "<pre style=\"white-space:pre;overflow-x:auto;line-height:normal;font-family:Menlo,'DejaVu Sans Mono',consolas,'Courier New',monospace\">Feature extracting elapsed time: 128.8144 seconds.\n",
       "</pre>\n"
      ],
      "text/plain": [
       "Feature extracting elapsed time: 128.8144 seconds.\n"
      ]
     },
     "metadata": {},
     "output_type": "display_data"
    },
    {
     "data": {
      "text/html": [
       "<pre style=\"white-space:pre;overflow-x:auto;line-height:normal;font-family:Menlo,'DejaVu Sans Mono',consolas,'Courier New',monospace\">Clustering elapsed time: 1.5593 seconds.\n",
       "</pre>\n"
      ],
      "text/plain": [
       "Clustering elapsed time: 1.5593 seconds.\n"
      ]
     },
     "metadata": {},
     "output_type": "display_data"
    },
    {
     "data": {
      "text/html": [
       "<pre style=\"white-space:pre;overflow-x:auto;line-height:normal;font-family:Menlo,'DejaVu Sans Mono',consolas,'Courier New',monospace\">Metrics: {'clu_homogeneity_score': 0.9301736735228102, 'clu_completeness_score': 0.9361484820876806, \n",
       "'clu_v_measure_score': 0.9331515139854945, 'clu_adjusted_rand_score': 0.9824642802416573, \n",
       "'clu_adjusted_mutual_info_score': 0.9330422796044401}\n",
       "</pre>\n"
      ],
      "text/plain": [
       "Metrics: {'clu_homogeneity_score': 0.9301736735228102, 'clu_completeness_score': 0.9361484820876806, \n",
       "'clu_v_measure_score': 0.9331515139854945, 'clu_adjusted_rand_score': 0.9824642802416573, \n",
       "'clu_adjusted_mutual_info_score': 0.9330422796044401}\n"
      ]
     },
     "metadata": {},
     "output_type": "display_data"
    },
    {
     "name": "stderr",
     "output_type": "stream",
     "text": [
      "Epoch 13, global step 882: 'val_loss' was not in top 3\n"
     ]
    },
    {
     "data": {
      "text/html": [
       "<pre style=\"white-space:pre;overflow-x:auto;line-height:normal;font-family:Menlo,'DejaVu Sans Mono',consolas,'Courier New',monospace\">Epoch 14\n",
       "</pre>\n"
      ],
      "text/plain": [
       "Epoch 14\n"
      ]
     },
     "metadata": {},
     "output_type": "display_data"
    },
    {
     "data": {
      "text/html": [
       "<pre style=\"white-space:pre;overflow-x:auto;line-height:normal;font-family:Menlo,'DejaVu Sans Mono',consolas,'Courier New',monospace\">Creating dataset from Clustering elapsed time: 56.0839 seconds.\n",
       "</pre>\n"
      ],
      "text/plain": [
       "Creating dataset from Clustering elapsed time: 56.0839 seconds.\n"
      ]
     },
     "metadata": {},
     "output_type": "display_data"
    },
    {
     "data": {
      "text/html": [
       "<pre style=\"white-space:pre;overflow-x:auto;line-height:normal;font-family:Menlo,'DejaVu Sans Mono',consolas,'Courier New',monospace\">Feature extracting elapsed time: 134.4783 seconds.\n",
       "</pre>\n"
      ],
      "text/plain": [
       "Feature extracting elapsed time: 134.4783 seconds.\n"
      ]
     },
     "metadata": {},
     "output_type": "display_data"
    },
    {
     "data": {
      "text/html": [
       "<pre style=\"white-space:pre;overflow-x:auto;line-height:normal;font-family:Menlo,'DejaVu Sans Mono',consolas,'Courier New',monospace\">Clustering elapsed time: 0.9141 seconds.\n",
       "</pre>\n"
      ],
      "text/plain": [
       "Clustering elapsed time: 0.9141 seconds.\n"
      ]
     },
     "metadata": {},
     "output_type": "display_data"
    },
    {
     "data": {
      "text/html": [
       "<pre style=\"white-space:pre;overflow-x:auto;line-height:normal;font-family:Menlo,'DejaVu Sans Mono',consolas,'Courier New',monospace\">Metrics: {'clu_homogeneity_score': 0.6408962474892725, 'clu_completeness_score': 0.40522011166976135, \n",
       "'clu_v_measure_score': 0.4965108263579941, 'clu_adjusted_rand_score': 0.34227233444876476, \n",
       "'clu_adjusted_mutual_info_score': 0.49587372278893294}\n",
       "</pre>\n"
      ],
      "text/plain": [
       "Metrics: {'clu_homogeneity_score': 0.6408962474892725, 'clu_completeness_score': 0.40522011166976135, \n",
       "'clu_v_measure_score': 0.4965108263579941, 'clu_adjusted_rand_score': 0.34227233444876476, \n",
       "'clu_adjusted_mutual_info_score': 0.49587372278893294}\n"
      ]
     },
     "metadata": {},
     "output_type": "display_data"
    },
    {
     "name": "stderr",
     "output_type": "stream",
     "text": [
      "Epoch 14, global step 945: 'val_loss' was not in top 3\n"
     ]
    },
    {
     "data": {
      "text/html": [
       "<pre style=\"white-space:pre;overflow-x:auto;line-height:normal;font-family:Menlo,'DejaVu Sans Mono',consolas,'Courier New',monospace\">Epoch 15\n",
       "</pre>\n"
      ],
      "text/plain": [
       "Epoch 15\n"
      ]
     },
     "metadata": {},
     "output_type": "display_data"
    },
    {
     "data": {
      "text/html": [
       "<pre style=\"white-space:pre;overflow-x:auto;line-height:normal;font-family:Menlo,'DejaVu Sans Mono',consolas,'Courier New',monospace\">Creating dataset from Clustering elapsed time: 52.3272 seconds.\n",
       "</pre>\n"
      ],
      "text/plain": [
       "Creating dataset from Clustering elapsed time: 52.3272 seconds.\n"
      ]
     },
     "metadata": {},
     "output_type": "display_data"
    },
    {
     "data": {
      "text/html": [
       "<pre style=\"white-space:pre;overflow-x:auto;line-height:normal;font-family:Menlo,'DejaVu Sans Mono',consolas,'Courier New',monospace\">Feature extracting elapsed time: 129.1223 seconds.\n",
       "</pre>\n"
      ],
      "text/plain": [
       "Feature extracting elapsed time: 129.1223 seconds.\n"
      ]
     },
     "metadata": {},
     "output_type": "display_data"
    },
    {
     "data": {
      "text/html": [
       "<pre style=\"white-space:pre;overflow-x:auto;line-height:normal;font-family:Menlo,'DejaVu Sans Mono',consolas,'Courier New',monospace\">Clustering elapsed time: 0.6880 seconds.\n",
       "</pre>\n"
      ],
      "text/plain": [
       "Clustering elapsed time: 0.6880 seconds.\n"
      ]
     },
     "metadata": {},
     "output_type": "display_data"
    },
    {
     "data": {
      "text/html": [
       "<pre style=\"white-space:pre;overflow-x:auto;line-height:normal;font-family:Menlo,'DejaVu Sans Mono',consolas,'Courier New',monospace\">Metrics: {'clu_homogeneity_score': 0.4110057914070865, 'clu_completeness_score': 0.6708551160519206, \n",
       "'clu_v_measure_score': 0.5097241909591045, 'clu_adjusted_rand_score': 0.3469627771095957, \n",
       "'clu_adjusted_mutual_info_score': 0.5090958447081783}\n",
       "</pre>\n"
      ],
      "text/plain": [
       "Metrics: {'clu_homogeneity_score': 0.4110057914070865, 'clu_completeness_score': 0.6708551160519206, \n",
       "'clu_v_measure_score': 0.5097241909591045, 'clu_adjusted_rand_score': 0.3469627771095957, \n",
       "'clu_adjusted_mutual_info_score': 0.5090958447081783}\n"
      ]
     },
     "metadata": {},
     "output_type": "display_data"
    },
    {
     "name": "stderr",
     "output_type": "stream",
     "text": [
      "Epoch 15, global step 1008: 'val_loss' was not in top 3\n"
     ]
    },
    {
     "data": {
      "text/html": [
       "<pre style=\"white-space:pre;overflow-x:auto;line-height:normal;font-family:Menlo,'DejaVu Sans Mono',consolas,'Courier New',monospace\">Epoch 16\n",
       "</pre>\n"
      ],
      "text/plain": [
       "Epoch 16\n"
      ]
     },
     "metadata": {},
     "output_type": "display_data"
    },
    {
     "data": {
      "text/html": [
       "<pre style=\"white-space:pre;overflow-x:auto;line-height:normal;font-family:Menlo,'DejaVu Sans Mono',consolas,'Courier New',monospace\">Creating dataset from Clustering elapsed time: 54.2959 seconds.\n",
       "</pre>\n"
      ],
      "text/plain": [
       "Creating dataset from Clustering elapsed time: 54.2959 seconds.\n"
      ]
     },
     "metadata": {},
     "output_type": "display_data"
    },
    {
     "data": {
      "text/html": [
       "<pre style=\"white-space:pre;overflow-x:auto;line-height:normal;font-family:Menlo,'DejaVu Sans Mono',consolas,'Courier New',monospace\">Feature extracting elapsed time: 131.2685 seconds.\n",
       "</pre>\n"
      ],
      "text/plain": [
       "Feature extracting elapsed time: 131.2685 seconds.\n"
      ]
     },
     "metadata": {},
     "output_type": "display_data"
    },
    {
     "data": {
      "text/html": [
       "<pre style=\"white-space:pre;overflow-x:auto;line-height:normal;font-family:Menlo,'DejaVu Sans Mono',consolas,'Courier New',monospace\">Clustering elapsed time: 0.8492 seconds.\n",
       "</pre>\n"
      ],
      "text/plain": [
       "Clustering elapsed time: 0.8492 seconds.\n"
      ]
     },
     "metadata": {},
     "output_type": "display_data"
    },
    {
     "data": {
      "text/html": [
       "<pre style=\"white-space:pre;overflow-x:auto;line-height:normal;font-family:Menlo,'DejaVu Sans Mono',consolas,'Courier New',monospace\">Metrics: {'clu_homogeneity_score': 0.8948907837011163, 'clu_completeness_score': 0.8716390387420947, \n",
       "'clu_v_measure_score': 0.883111887016531, 'clu_adjusted_rand_score': 0.958159230622836, \n",
       "'clu_adjusted_mutual_info_score': 0.8829162937422527}\n",
       "</pre>\n"
      ],
      "text/plain": [
       "Metrics: {'clu_homogeneity_score': 0.8948907837011163, 'clu_completeness_score': 0.8716390387420947, \n",
       "'clu_v_measure_score': 0.883111887016531, 'clu_adjusted_rand_score': 0.958159230622836, \n",
       "'clu_adjusted_mutual_info_score': 0.8829162937422527}\n"
      ]
     },
     "metadata": {},
     "output_type": "display_data"
    },
    {
     "name": "stderr",
     "output_type": "stream",
     "text": [
      "Epoch 16, global step 1071: 'val_loss' was not in top 3\n"
     ]
    },
    {
     "data": {
      "text/html": [
       "<pre style=\"white-space:pre;overflow-x:auto;line-height:normal;font-family:Menlo,'DejaVu Sans Mono',consolas,'Courier New',monospace\">Epoch 17\n",
       "</pre>\n"
      ],
      "text/plain": [
       "Epoch 17\n"
      ]
     },
     "metadata": {},
     "output_type": "display_data"
    },
    {
     "data": {
      "text/html": [
       "<pre style=\"white-space:pre;overflow-x:auto;line-height:normal;font-family:Menlo,'DejaVu Sans Mono',consolas,'Courier New',monospace\">Creating dataset from Clustering elapsed time: 50.0349 seconds.\n",
       "</pre>\n"
      ],
      "text/plain": [
       "Creating dataset from Clustering elapsed time: 50.0349 seconds.\n"
      ]
     },
     "metadata": {},
     "output_type": "display_data"
    },
    {
     "data": {
      "text/html": [
       "<pre style=\"white-space:pre;overflow-x:auto;line-height:normal;font-family:Menlo,'DejaVu Sans Mono',consolas,'Courier New',monospace\">Feature extracting elapsed time: 123.5094 seconds.\n",
       "</pre>\n"
      ],
      "text/plain": [
       "Feature extracting elapsed time: 123.5094 seconds.\n"
      ]
     },
     "metadata": {},
     "output_type": "display_data"
    },
    {
     "data": {
      "text/html": [
       "<pre style=\"white-space:pre;overflow-x:auto;line-height:normal;font-family:Menlo,'DejaVu Sans Mono',consolas,'Courier New',monospace\">Clustering elapsed time: 0.9024 seconds.\n",
       "</pre>\n"
      ],
      "text/plain": [
       "Clustering elapsed time: 0.9024 seconds.\n"
      ]
     },
     "metadata": {},
     "output_type": "display_data"
    },
    {
     "data": {
      "text/html": [
       "<pre style=\"white-space:pre;overflow-x:auto;line-height:normal;font-family:Menlo,'DejaVu Sans Mono',consolas,'Courier New',monospace\">Metrics: {'clu_homogeneity_score': 0.868234022223995, 'clu_completeness_score': 0.8336446016634734, \n",
       "'clu_v_measure_score': 0.8505878097866709, 'clu_adjusted_rand_score': 0.9375816411822714, \n",
       "'clu_adjusted_mutual_info_score': 0.8503454513888811}\n",
       "</pre>\n"
      ],
      "text/plain": [
       "Metrics: {'clu_homogeneity_score': 0.868234022223995, 'clu_completeness_score': 0.8336446016634734, \n",
       "'clu_v_measure_score': 0.8505878097866709, 'clu_adjusted_rand_score': 0.9375816411822714, \n",
       "'clu_adjusted_mutual_info_score': 0.8503454513888811}\n"
      ]
     },
     "metadata": {},
     "output_type": "display_data"
    },
    {
     "name": "stderr",
     "output_type": "stream",
     "text": [
      "Epoch 17, global step 1134: 'val_loss' was not in top 3\n"
     ]
    },
    {
     "data": {
      "text/html": [
       "<pre style=\"white-space:pre;overflow-x:auto;line-height:normal;font-family:Menlo,'DejaVu Sans Mono',consolas,'Courier New',monospace\">Epoch 18\n",
       "</pre>\n"
      ],
      "text/plain": [
       "Epoch 18\n"
      ]
     },
     "metadata": {},
     "output_type": "display_data"
    },
    {
     "data": {
      "text/html": [
       "<pre style=\"white-space:pre;overflow-x:auto;line-height:normal;font-family:Menlo,'DejaVu Sans Mono',consolas,'Courier New',monospace\">Creating dataset from Clustering elapsed time: 48.1321 seconds.\n",
       "</pre>\n"
      ],
      "text/plain": [
       "Creating dataset from Clustering elapsed time: 48.1321 seconds.\n"
      ]
     },
     "metadata": {},
     "output_type": "display_data"
    },
    {
     "data": {
      "text/html": [
       "<pre style=\"white-space:pre;overflow-x:auto;line-height:normal;font-family:Menlo,'DejaVu Sans Mono',consolas,'Courier New',monospace\">Feature extracting elapsed time: 119.5182 seconds.\n",
       "</pre>\n"
      ],
      "text/plain": [
       "Feature extracting elapsed time: 119.5182 seconds.\n"
      ]
     },
     "metadata": {},
     "output_type": "display_data"
    },
    {
     "data": {
      "text/html": [
       "<pre style=\"white-space:pre;overflow-x:auto;line-height:normal;font-family:Menlo,'DejaVu Sans Mono',consolas,'Courier New',monospace\">Clustering elapsed time: 0.7519 seconds.\n",
       "</pre>\n"
      ],
      "text/plain": [
       "Clustering elapsed time: 0.7519 seconds.\n"
      ]
     },
     "metadata": {},
     "output_type": "display_data"
    },
    {
     "data": {
      "text/html": [
       "<pre style=\"white-space:pre;overflow-x:auto;line-height:normal;font-family:Menlo,'DejaVu Sans Mono',consolas,'Courier New',monospace\">Metrics: {'clu_homogeneity_score': 0.4338172010312796, 'clu_completeness_score': 0.3010932106664508, \n",
       "'clu_v_measure_score': 0.35547030446634914, 'clu_adjusted_rand_score': 0.2659601257871196, \n",
       "'clu_adjusted_mutual_info_score': 0.3546386097247872}\n",
       "</pre>\n"
      ],
      "text/plain": [
       "Metrics: {'clu_homogeneity_score': 0.4338172010312796, 'clu_completeness_score': 0.3010932106664508, \n",
       "'clu_v_measure_score': 0.35547030446634914, 'clu_adjusted_rand_score': 0.2659601257871196, \n",
       "'clu_adjusted_mutual_info_score': 0.3546386097247872}\n"
      ]
     },
     "metadata": {},
     "output_type": "display_data"
    },
    {
     "name": "stderr",
     "output_type": "stream",
     "text": [
      "Epoch 18, global step 1197: 'val_loss' was not in top 3\n"
     ]
    },
    {
     "data": {
      "text/html": [
       "<pre style=\"white-space:pre;overflow-x:auto;line-height:normal;font-family:Menlo,'DejaVu Sans Mono',consolas,'Courier New',monospace\">Epoch 19\n",
       "</pre>\n"
      ],
      "text/plain": [
       "Epoch 19\n"
      ]
     },
     "metadata": {},
     "output_type": "display_data"
    },
    {
     "data": {
      "text/html": [
       "<pre style=\"white-space:pre;overflow-x:auto;line-height:normal;font-family:Menlo,'DejaVu Sans Mono',consolas,'Courier New',monospace\">Creating dataset from Clustering elapsed time: 45.2828 seconds.\n",
       "</pre>\n"
      ],
      "text/plain": [
       "Creating dataset from Clustering elapsed time: 45.2828 seconds.\n"
      ]
     },
     "metadata": {},
     "output_type": "display_data"
    },
    {
     "data": {
      "text/html": [
       "<pre style=\"white-space:pre;overflow-x:auto;line-height:normal;font-family:Menlo,'DejaVu Sans Mono',consolas,'Courier New',monospace\">Feature extracting elapsed time: 109.0622 seconds.\n",
       "</pre>\n"
      ],
      "text/plain": [
       "Feature extracting elapsed time: 109.0622 seconds.\n"
      ]
     },
     "metadata": {},
     "output_type": "display_data"
    },
    {
     "data": {
      "text/html": [
       "<pre style=\"white-space:pre;overflow-x:auto;line-height:normal;font-family:Menlo,'DejaVu Sans Mono',consolas,'Courier New',monospace\">Clustering elapsed time: 0.7668 seconds.\n",
       "</pre>\n"
      ],
      "text/plain": [
       "Clustering elapsed time: 0.7668 seconds.\n"
      ]
     },
     "metadata": {},
     "output_type": "display_data"
    },
    {
     "data": {
      "text/html": [
       "<pre style=\"white-space:pre;overflow-x:auto;line-height:normal;font-family:Menlo,'DejaVu Sans Mono',consolas,'Courier New',monospace\">Metrics: {'clu_homogeneity_score': 0.4079751744435105, 'clu_completeness_score': 0.4654878691927186, \n",
       "'clu_v_measure_score': 0.4348380759067995, 'clu_adjusted_rand_score': 0.2675937626535721, \n",
       "'clu_adjusted_mutual_info_score': 0.4341801603357238}\n",
       "</pre>\n"
      ],
      "text/plain": [
       "Metrics: {'clu_homogeneity_score': 0.4079751744435105, 'clu_completeness_score': 0.4654878691927186, \n",
       "'clu_v_measure_score': 0.4348380759067995, 'clu_adjusted_rand_score': 0.2675937626535721, \n",
       "'clu_adjusted_mutual_info_score': 0.4341801603357238}\n"
      ]
     },
     "metadata": {},
     "output_type": "display_data"
    },
    {
     "name": "stderr",
     "output_type": "stream",
     "text": [
      "Epoch 19, global step 1260: 'val_loss' was not in top 3\n"
     ]
    },
    {
     "data": {
      "text/html": [
       "<pre style=\"white-space:pre;overflow-x:auto;line-height:normal;font-family:Menlo,'DejaVu Sans Mono',consolas,'Courier New',monospace\">Epoch 20\n",
       "</pre>\n"
      ],
      "text/plain": [
       "Epoch 20\n"
      ]
     },
     "metadata": {},
     "output_type": "display_data"
    },
    {
     "data": {
      "text/html": [
       "<pre style=\"white-space:pre;overflow-x:auto;line-height:normal;font-family:Menlo,'DejaVu Sans Mono',consolas,'Courier New',monospace\">Creating dataset from Clustering elapsed time: 45.4495 seconds.\n",
       "</pre>\n"
      ],
      "text/plain": [
       "Creating dataset from Clustering elapsed time: 45.4495 seconds.\n"
      ]
     },
     "metadata": {},
     "output_type": "display_data"
    },
    {
     "data": {
      "text/html": [
       "<pre style=\"white-space:pre;overflow-x:auto;line-height:normal;font-family:Menlo,'DejaVu Sans Mono',consolas,'Courier New',monospace\">Feature extracting elapsed time: 108.4368 seconds.\n",
       "</pre>\n"
      ],
      "text/plain": [
       "Feature extracting elapsed time: 108.4368 seconds.\n"
      ]
     },
     "metadata": {},
     "output_type": "display_data"
    },
    {
     "data": {
      "text/html": [
       "<pre style=\"white-space:pre;overflow-x:auto;line-height:normal;font-family:Menlo,'DejaVu Sans Mono',consolas,'Courier New',monospace\">Clustering elapsed time: 0.6707 seconds.\n",
       "</pre>\n"
      ],
      "text/plain": [
       "Clustering elapsed time: 0.6707 seconds.\n"
      ]
     },
     "metadata": {},
     "output_type": "display_data"
    },
    {
     "data": {
      "text/html": [
       "<pre style=\"white-space:pre;overflow-x:auto;line-height:normal;font-family:Menlo,'DejaVu Sans Mono',consolas,'Courier New',monospace\">Metrics: {'clu_homogeneity_score': 0.7505915435510704, 'clu_completeness_score': 0.7000199359681489, \n",
       "'clu_v_measure_score': 0.7244242192664834, 'clu_adjusted_rand_score': 0.7729409902046797, \n",
       "'clu_adjusted_mutual_info_score': 0.7240920819631808}\n",
       "</pre>\n"
      ],
      "text/plain": [
       "Metrics: {'clu_homogeneity_score': 0.7505915435510704, 'clu_completeness_score': 0.7000199359681489, \n",
       "'clu_v_measure_score': 0.7244242192664834, 'clu_adjusted_rand_score': 0.7729409902046797, \n",
       "'clu_adjusted_mutual_info_score': 0.7240920819631808}\n"
      ]
     },
     "metadata": {},
     "output_type": "display_data"
    },
    {
     "name": "stderr",
     "output_type": "stream",
     "text": [
      "Epoch 20, global step 1323: 'val_loss' was not in top 3\n"
     ]
    },
    {
     "data": {
      "text/html": [
       "<pre style=\"white-space:pre;overflow-x:auto;line-height:normal;font-family:Menlo,'DejaVu Sans Mono',consolas,'Courier New',monospace\">Epoch 21\n",
       "</pre>\n"
      ],
      "text/plain": [
       "Epoch 21\n"
      ]
     },
     "metadata": {},
     "output_type": "display_data"
    },
    {
     "data": {
      "text/html": [
       "<pre style=\"white-space:pre;overflow-x:auto;line-height:normal;font-family:Menlo,'DejaVu Sans Mono',consolas,'Courier New',monospace\">Creating dataset from Clustering elapsed time: 49.6529 seconds.\n",
       "</pre>\n"
      ],
      "text/plain": [
       "Creating dataset from Clustering elapsed time: 49.6529 seconds.\n"
      ]
     },
     "metadata": {},
     "output_type": "display_data"
    },
    {
     "data": {
      "text/html": [
       "<pre style=\"white-space:pre;overflow-x:auto;line-height:normal;font-family:Menlo,'DejaVu Sans Mono',consolas,'Courier New',monospace\">Feature extracting elapsed time: 118.4404 seconds.\n",
       "</pre>\n"
      ],
      "text/plain": [
       "Feature extracting elapsed time: 118.4404 seconds.\n"
      ]
     },
     "metadata": {},
     "output_type": "display_data"
    },
    {
     "data": {
      "text/html": [
       "<pre style=\"white-space:pre;overflow-x:auto;line-height:normal;font-family:Menlo,'DejaVu Sans Mono',consolas,'Courier New',monospace\">Clustering elapsed time: 0.6545 seconds.\n",
       "</pre>\n"
      ],
      "text/plain": [
       "Clustering elapsed time: 0.6545 seconds.\n"
      ]
     },
     "metadata": {},
     "output_type": "display_data"
    },
    {
     "data": {
      "text/html": [
       "<pre style=\"white-space:pre;overflow-x:auto;line-height:normal;font-family:Menlo,'DejaVu Sans Mono',consolas,'Courier New',monospace\">Metrics: {'clu_homogeneity_score': 0.24878232091725638, 'clu_completeness_score': 0.5819660420709694, \n",
       "'clu_v_measure_score': 0.3485600913389882, 'clu_adjusted_rand_score': 0.26324396895397517, \n",
       "'clu_adjusted_mutual_info_score': 0.3474799333683217}\n",
       "</pre>\n"
      ],
      "text/plain": [
       "Metrics: {'clu_homogeneity_score': 0.24878232091725638, 'clu_completeness_score': 0.5819660420709694, \n",
       "'clu_v_measure_score': 0.3485600913389882, 'clu_adjusted_rand_score': 0.26324396895397517, \n",
       "'clu_adjusted_mutual_info_score': 0.3474799333683217}\n"
      ]
     },
     "metadata": {},
     "output_type": "display_data"
    },
    {
     "name": "stderr",
     "output_type": "stream",
     "text": [
      "Epoch 21, global step 1386: 'val_loss' was not in top 3\n"
     ]
    },
    {
     "data": {
      "text/html": [
       "<pre style=\"white-space:pre;overflow-x:auto;line-height:normal;font-family:Menlo,'DejaVu Sans Mono',consolas,'Courier New',monospace\">Epoch 22\n",
       "</pre>\n"
      ],
      "text/plain": [
       "Epoch 22\n"
      ]
     },
     "metadata": {},
     "output_type": "display_data"
    },
    {
     "data": {
      "text/html": [
       "<pre style=\"white-space:pre;overflow-x:auto;line-height:normal;font-family:Menlo,'DejaVu Sans Mono',consolas,'Courier New',monospace\">Creating dataset from Clustering elapsed time: 47.7816 seconds.\n",
       "</pre>\n"
      ],
      "text/plain": [
       "Creating dataset from Clustering elapsed time: 47.7816 seconds.\n"
      ]
     },
     "metadata": {},
     "output_type": "display_data"
    },
    {
     "data": {
      "text/html": [
       "<pre style=\"white-space:pre;overflow-x:auto;line-height:normal;font-family:Menlo,'DejaVu Sans Mono',consolas,'Courier New',monospace\">Feature extracting elapsed time: 120.1683 seconds.\n",
       "</pre>\n"
      ],
      "text/plain": [
       "Feature extracting elapsed time: 120.1683 seconds.\n"
      ]
     },
     "metadata": {},
     "output_type": "display_data"
    },
    {
     "data": {
      "text/html": [
       "<pre style=\"white-space:pre;overflow-x:auto;line-height:normal;font-family:Menlo,'DejaVu Sans Mono',consolas,'Courier New',monospace\">Clustering elapsed time: 0.5181 seconds.\n",
       "</pre>\n"
      ],
      "text/plain": [
       "Clustering elapsed time: 0.5181 seconds.\n"
      ]
     },
     "metadata": {},
     "output_type": "display_data"
    },
    {
     "data": {
      "text/html": [
       "<pre style=\"white-space:pre;overflow-x:auto;line-height:normal;font-family:Menlo,'DejaVu Sans Mono',consolas,'Courier New',monospace\">Metrics: {'clu_homogeneity_score': 0.07437012228273837, 'clu_completeness_score': 0.7266403313279262, \n",
       "'clu_v_measure_score': 0.13493039960423284, 'clu_adjusted_rand_score': 0.10003246627731076, \n",
       "'clu_adjusted_mutual_info_score': 0.1320414721129715}\n",
       "</pre>\n"
      ],
      "text/plain": [
       "Metrics: {'clu_homogeneity_score': 0.07437012228273837, 'clu_completeness_score': 0.7266403313279262, \n",
       "'clu_v_measure_score': 0.13493039960423284, 'clu_adjusted_rand_score': 0.10003246627731076, \n",
       "'clu_adjusted_mutual_info_score': 0.1320414721129715}\n"
      ]
     },
     "metadata": {},
     "output_type": "display_data"
    },
    {
     "name": "stderr",
     "output_type": "stream",
     "text": [
      "Epoch 22, global step 1449: 'val_loss' was not in top 3\n"
     ]
    },
    {
     "data": {
      "text/html": [
       "<pre style=\"white-space:pre;overflow-x:auto;line-height:normal;font-family:Menlo,'DejaVu Sans Mono',consolas,'Courier New',monospace\">Epoch 23\n",
       "</pre>\n"
      ],
      "text/plain": [
       "Epoch 23\n"
      ]
     },
     "metadata": {},
     "output_type": "display_data"
    },
    {
     "data": {
      "text/html": [
       "<pre style=\"white-space:pre;overflow-x:auto;line-height:normal;font-family:Menlo,'DejaVu Sans Mono',consolas,'Courier New',monospace\">Creating dataset from Clustering elapsed time: 47.9470 seconds.\n",
       "</pre>\n"
      ],
      "text/plain": [
       "Creating dataset from Clustering elapsed time: 47.9470 seconds.\n"
      ]
     },
     "metadata": {},
     "output_type": "display_data"
    },
    {
     "data": {
      "text/html": [
       "<pre style=\"white-space:pre;overflow-x:auto;line-height:normal;font-family:Menlo,'DejaVu Sans Mono',consolas,'Courier New',monospace\">Feature extracting elapsed time: 118.0322 seconds.\n",
       "</pre>\n"
      ],
      "text/plain": [
       "Feature extracting elapsed time: 118.0322 seconds.\n"
      ]
     },
     "metadata": {},
     "output_type": "display_data"
    },
    {
     "data": {
      "text/html": [
       "<pre style=\"white-space:pre;overflow-x:auto;line-height:normal;font-family:Menlo,'DejaVu Sans Mono',consolas,'Courier New',monospace\">Clustering elapsed time: 0.5503 seconds.\n",
       "</pre>\n"
      ],
      "text/plain": [
       "Clustering elapsed time: 0.5503 seconds.\n"
      ]
     },
     "metadata": {},
     "output_type": "display_data"
    },
    {
     "data": {
      "text/html": [
       "<pre style=\"white-space:pre;overflow-x:auto;line-height:normal;font-family:Menlo,'DejaVu Sans Mono',consolas,'Courier New',monospace\">Metrics: {'clu_homogeneity_score': 0.824818649416731, 'clu_completeness_score': 0.8520016085419164, \n",
       "'clu_v_measure_score': 0.838189797294012, 'clu_adjusted_rand_score': 0.8965931029016455, \n",
       "'clu_adjusted_mutual_info_score': 0.8376442884920031}\n",
       "</pre>\n"
      ],
      "text/plain": [
       "Metrics: {'clu_homogeneity_score': 0.824818649416731, 'clu_completeness_score': 0.8520016085419164, \n",
       "'clu_v_measure_score': 0.838189797294012, 'clu_adjusted_rand_score': 0.8965931029016455, \n",
       "'clu_adjusted_mutual_info_score': 0.8376442884920031}\n"
      ]
     },
     "metadata": {},
     "output_type": "display_data"
    },
    {
     "name": "stderr",
     "output_type": "stream",
     "text": [
      "Epoch 23, global step 1512: 'val_loss' was not in top 3\n"
     ]
    },
    {
     "data": {
      "text/html": [
       "<pre style=\"white-space:pre;overflow-x:auto;line-height:normal;font-family:Menlo,'DejaVu Sans Mono',consolas,'Courier New',monospace\">Epoch 24\n",
       "</pre>\n"
      ],
      "text/plain": [
       "Epoch 24\n"
      ]
     },
     "metadata": {},
     "output_type": "display_data"
    },
    {
     "data": {
      "text/html": [
       "<pre style=\"white-space:pre;overflow-x:auto;line-height:normal;font-family:Menlo,'DejaVu Sans Mono',consolas,'Courier New',monospace\">Creating dataset from Clustering elapsed time: 46.9442 seconds.\n",
       "</pre>\n"
      ],
      "text/plain": [
       "Creating dataset from Clustering elapsed time: 46.9442 seconds.\n"
      ]
     },
     "metadata": {},
     "output_type": "display_data"
    },
    {
     "data": {
      "text/html": [
       "<pre style=\"white-space:pre;overflow-x:auto;line-height:normal;font-family:Menlo,'DejaVu Sans Mono',consolas,'Courier New',monospace\">Feature extracting elapsed time: 114.8477 seconds.\n",
       "</pre>\n"
      ],
      "text/plain": [
       "Feature extracting elapsed time: 114.8477 seconds.\n"
      ]
     },
     "metadata": {},
     "output_type": "display_data"
    },
    {
     "data": {
      "text/html": [
       "<pre style=\"white-space:pre;overflow-x:auto;line-height:normal;font-family:Menlo,'DejaVu Sans Mono',consolas,'Courier New',monospace\">Clustering elapsed time: 0.7867 seconds.\n",
       "</pre>\n"
      ],
      "text/plain": [
       "Clustering elapsed time: 0.7867 seconds.\n"
      ]
     },
     "metadata": {},
     "output_type": "display_data"
    },
    {
     "data": {
      "text/html": [
       "<pre style=\"white-space:pre;overflow-x:auto;line-height:normal;font-family:Menlo,'DejaVu Sans Mono',consolas,'Courier New',monospace\">Metrics: {'clu_homogeneity_score': 0.39780203258113767, 'clu_completeness_score': 0.013457166365533943, \n",
       "'clu_v_measure_score': 0.026033645675053164, 'clu_adjusted_rand_score': 0.008709172654011015, \n",
       "'clu_adjusted_mutual_info_score': 0.02414644127156392}\n",
       "</pre>\n"
      ],
      "text/plain": [
       "Metrics: {'clu_homogeneity_score': 0.39780203258113767, 'clu_completeness_score': 0.013457166365533943, \n",
       "'clu_v_measure_score': 0.026033645675053164, 'clu_adjusted_rand_score': 0.008709172654011015, \n",
       "'clu_adjusted_mutual_info_score': 0.02414644127156392}\n"
      ]
     },
     "metadata": {},
     "output_type": "display_data"
    },
    {
     "name": "stderr",
     "output_type": "stream",
     "text": [
      "Epoch 24, global step 1575: 'val_loss' was not in top 3\n"
     ]
    },
    {
     "data": {
      "text/html": [
       "<pre style=\"white-space:pre;overflow-x:auto;line-height:normal;font-family:Menlo,'DejaVu Sans Mono',consolas,'Courier New',monospace\">Epoch 25\n",
       "</pre>\n"
      ],
      "text/plain": [
       "Epoch 25\n"
      ]
     },
     "metadata": {},
     "output_type": "display_data"
    },
    {
     "data": {
      "text/html": [
       "<pre style=\"white-space:pre;overflow-x:auto;line-height:normal;font-family:Menlo,'DejaVu Sans Mono',consolas,'Courier New',monospace\">Creating dataset from Clustering elapsed time: 47.9855 seconds.\n",
       "</pre>\n"
      ],
      "text/plain": [
       "Creating dataset from Clustering elapsed time: 47.9855 seconds.\n"
      ]
     },
     "metadata": {},
     "output_type": "display_data"
    },
    {
     "data": {
      "text/html": [
       "<pre style=\"white-space:pre;overflow-x:auto;line-height:normal;font-family:Menlo,'DejaVu Sans Mono',consolas,'Courier New',monospace\">Feature extracting elapsed time: 117.1742 seconds.\n",
       "</pre>\n"
      ],
      "text/plain": [
       "Feature extracting elapsed time: 117.1742 seconds.\n"
      ]
     },
     "metadata": {},
     "output_type": "display_data"
    },
    {
     "data": {
      "text/html": [
       "<pre style=\"white-space:pre;overflow-x:auto;line-height:normal;font-family:Menlo,'DejaVu Sans Mono',consolas,'Courier New',monospace\">Clustering elapsed time: 0.5880 seconds.\n",
       "</pre>\n"
      ],
      "text/plain": [
       "Clustering elapsed time: 0.5880 seconds.\n"
      ]
     },
     "metadata": {},
     "output_type": "display_data"
    },
    {
     "data": {
      "text/html": [
       "<pre style=\"white-space:pre;overflow-x:auto;line-height:normal;font-family:Menlo,'DejaVu Sans Mono',consolas,'Courier New',monospace\">Metrics: {'clu_homogeneity_score': 0.0038795020289871538, 'clu_completeness_score': 0.3321112558176009, \n",
       "'clu_v_measure_score': 0.00766941506993561, 'clu_adjusted_rand_score': 0.0025061495212219892, \n",
       "'clu_adjusted_mutual_info_score': 0.0059105011341341746}\n",
       "</pre>\n"
      ],
      "text/plain": [
       "Metrics: {'clu_homogeneity_score': 0.0038795020289871538, 'clu_completeness_score': 0.3321112558176009, \n",
       "'clu_v_measure_score': 0.00766941506993561, 'clu_adjusted_rand_score': 0.0025061495212219892, \n",
       "'clu_adjusted_mutual_info_score': 0.0059105011341341746}\n"
      ]
     },
     "metadata": {},
     "output_type": "display_data"
    },
    {
     "name": "stderr",
     "output_type": "stream",
     "text": [
      "Epoch 25, global step 1638: 'val_loss' was not in top 3\n"
     ]
    },
    {
     "data": {
      "text/html": [
       "<pre style=\"white-space:pre;overflow-x:auto;line-height:normal;font-family:Menlo,'DejaVu Sans Mono',consolas,'Courier New',monospace\">Epoch 26\n",
       "</pre>\n"
      ],
      "text/plain": [
       "Epoch 26\n"
      ]
     },
     "metadata": {},
     "output_type": "display_data"
    },
    {
     "data": {
      "text/html": [
       "<pre style=\"white-space:pre;overflow-x:auto;line-height:normal;font-family:Menlo,'DejaVu Sans Mono',consolas,'Courier New',monospace\">Creating dataset from Clustering elapsed time: 49.0054 seconds.\n",
       "</pre>\n"
      ],
      "text/plain": [
       "Creating dataset from Clustering elapsed time: 49.0054 seconds.\n"
      ]
     },
     "metadata": {},
     "output_type": "display_data"
    },
    {
     "data": {
      "text/html": [
       "<pre style=\"white-space:pre;overflow-x:auto;line-height:normal;font-family:Menlo,'DejaVu Sans Mono',consolas,'Courier New',monospace\">Feature extracting elapsed time: 117.5827 seconds.\n",
       "</pre>\n"
      ],
      "text/plain": [
       "Feature extracting elapsed time: 117.5827 seconds.\n"
      ]
     },
     "metadata": {},
     "output_type": "display_data"
    },
    {
     "data": {
      "text/html": [
       "<pre style=\"white-space:pre;overflow-x:auto;line-height:normal;font-family:Menlo,'DejaVu Sans Mono',consolas,'Courier New',monospace\">Clustering elapsed time: 0.7464 seconds.\n",
       "</pre>\n"
      ],
      "text/plain": [
       "Clustering elapsed time: 0.7464 seconds.\n"
      ]
     },
     "metadata": {},
     "output_type": "display_data"
    },
    {
     "data": {
      "text/html": [
       "<pre style=\"white-space:pre;overflow-x:auto;line-height:normal;font-family:Menlo,'DejaVu Sans Mono',consolas,'Courier New',monospace\">Metrics: {'clu_homogeneity_score': 0.3155144228358493, 'clu_completeness_score': 0.004319511732093991, \n",
       "'clu_v_measure_score': 0.008522349280575148, 'clu_adjusted_rand_score': 0.0043636465376593195, \n",
       "'clu_adjusted_mutual_info_score': 0.006711861731497078}\n",
       "</pre>\n"
      ],
      "text/plain": [
       "Metrics: {'clu_homogeneity_score': 0.3155144228358493, 'clu_completeness_score': 0.004319511732093991, \n",
       "'clu_v_measure_score': 0.008522349280575148, 'clu_adjusted_rand_score': 0.0043636465376593195, \n",
       "'clu_adjusted_mutual_info_score': 0.006711861731497078}\n"
      ]
     },
     "metadata": {},
     "output_type": "display_data"
    },
    {
     "name": "stderr",
     "output_type": "stream",
     "text": [
      "Epoch 26, global step 1701: 'val_loss' was not in top 3\n"
     ]
    },
    {
     "data": {
      "text/html": [
       "<pre style=\"white-space:pre;overflow-x:auto;line-height:normal;font-family:Menlo,'DejaVu Sans Mono',consolas,'Courier New',monospace\">Epoch 27\n",
       "</pre>\n"
      ],
      "text/plain": [
       "Epoch 27\n"
      ]
     },
     "metadata": {},
     "output_type": "display_data"
    },
    {
     "data": {
      "text/html": [
       "<pre style=\"white-space:pre;overflow-x:auto;line-height:normal;font-family:Menlo,'DejaVu Sans Mono',consolas,'Courier New',monospace\">Creating dataset from Clustering elapsed time: 46.9180 seconds.\n",
       "</pre>\n"
      ],
      "text/plain": [
       "Creating dataset from Clustering elapsed time: 46.9180 seconds.\n"
      ]
     },
     "metadata": {},
     "output_type": "display_data"
    },
    {
     "data": {
      "text/html": [
       "<pre style=\"white-space:pre;overflow-x:auto;line-height:normal;font-family:Menlo,'DejaVu Sans Mono',consolas,'Courier New',monospace\">Feature extracting elapsed time: 114.3191 seconds.\n",
       "</pre>\n"
      ],
      "text/plain": [
       "Feature extracting elapsed time: 114.3191 seconds.\n"
      ]
     },
     "metadata": {},
     "output_type": "display_data"
    },
    {
     "data": {
      "text/html": [
       "<pre style=\"white-space:pre;overflow-x:auto;line-height:normal;font-family:Menlo,'DejaVu Sans Mono',consolas,'Courier New',monospace\">/Users/arthuralvim/Library/Caches/pypoetry/virtualenvs/xai-clustering-b3gHD5dt-py3.9/lib/python3.9/site-packages/sk\n",
       "learn/base.py:1152: ConvergenceWarning: Number of distinct clusters (3) found smaller than n_clusters (4). Possibly\n",
       "due to duplicate points in X.\n",
       "  return fit_method(estimator, *args, **kwargs)\n",
       "</pre>\n"
      ],
      "text/plain": [
       "/Users/arthuralvim/Library/Caches/pypoetry/virtualenvs/xai-clustering-b3gHD5dt-py3.9/lib/python3.9/site-packages/sk\n",
       "learn/base.py:1152: ConvergenceWarning: Number of distinct clusters (3) found smaller than n_clusters (4). Possibly\n",
       "due to duplicate points in X.\n",
       "  return fit_method(estimator, *args, **kwargs)\n"
      ]
     },
     "metadata": {},
     "output_type": "display_data"
    },
    {
     "data": {
      "text/html": [
       "<pre style=\"white-space:pre;overflow-x:auto;line-height:normal;font-family:Menlo,'DejaVu Sans Mono',consolas,'Courier New',monospace\">Clustering elapsed time: 0.5894 seconds.\n",
       "</pre>\n"
      ],
      "text/plain": [
       "Clustering elapsed time: 0.5894 seconds.\n"
      ]
     },
     "metadata": {},
     "output_type": "display_data"
    },
    {
     "data": {
      "text/html": [
       "<pre style=\"white-space:pre;overflow-x:auto;line-height:normal;font-family:Menlo,'DejaVu Sans Mono',consolas,'Courier New',monospace\">Metrics: {'clu_homogeneity_score': 0.0011909217806933773, 'clu_completeness_score': 0.2720024898833466, \n",
       "'clu_v_measure_score': 0.0023714604801909752, 'clu_adjusted_rand_score': 0.001165041084368579, \n",
       "'clu_adjusted_mutual_info_score': 0.0013763408893380622}\n",
       "</pre>\n"
      ],
      "text/plain": [
       "Metrics: {'clu_homogeneity_score': 0.0011909217806933773, 'clu_completeness_score': 0.2720024898833466, \n",
       "'clu_v_measure_score': 0.0023714604801909752, 'clu_adjusted_rand_score': 0.001165041084368579, \n",
       "'clu_adjusted_mutual_info_score': 0.0013763408893380622}\n"
      ]
     },
     "metadata": {},
     "output_type": "display_data"
    },
    {
     "name": "stderr",
     "output_type": "stream",
     "text": [
      "Epoch 27, global step 1764: 'val_loss' was not in top 3\n"
     ]
    },
    {
     "data": {
      "text/html": [
       "<pre style=\"white-space:pre;overflow-x:auto;line-height:normal;font-family:Menlo,'DejaVu Sans Mono',consolas,'Courier New',monospace\">Epoch 28\n",
       "</pre>\n"
      ],
      "text/plain": [
       "Epoch 28\n"
      ]
     },
     "metadata": {},
     "output_type": "display_data"
    },
    {
     "data": {
      "text/html": [
       "<pre style=\"white-space:pre;overflow-x:auto;line-height:normal;font-family:Menlo,'DejaVu Sans Mono',consolas,'Courier New',monospace\">Creating dataset from Clustering elapsed time: 44.8136 seconds.\n",
       "</pre>\n"
      ],
      "text/plain": [
       "Creating dataset from Clustering elapsed time: 44.8136 seconds.\n"
      ]
     },
     "metadata": {},
     "output_type": "display_data"
    },
    {
     "data": {
      "text/html": [
       "<pre style=\"white-space:pre;overflow-x:auto;line-height:normal;font-family:Menlo,'DejaVu Sans Mono',consolas,'Courier New',monospace\">Feature extracting elapsed time: 109.1068 seconds.\n",
       "</pre>\n"
      ],
      "text/plain": [
       "Feature extracting elapsed time: 109.1068 seconds.\n"
      ]
     },
     "metadata": {},
     "output_type": "display_data"
    },
    {
     "data": {
      "text/html": [
       "<pre style=\"white-space:pre;overflow-x:auto;line-height:normal;font-family:Menlo,'DejaVu Sans Mono',consolas,'Courier New',monospace\">/Users/arthuralvim/Library/Caches/pypoetry/virtualenvs/xai-clustering-b3gHD5dt-py3.9/lib/python3.9/site-packages/sk\n",
       "learn/base.py:1152: ConvergenceWarning: Number of distinct clusters (3) found smaller than n_clusters (4). Possibly\n",
       "due to duplicate points in X.\n",
       "  return fit_method(estimator, *args, **kwargs)\n",
       "</pre>\n"
      ],
      "text/plain": [
       "/Users/arthuralvim/Library/Caches/pypoetry/virtualenvs/xai-clustering-b3gHD5dt-py3.9/lib/python3.9/site-packages/sk\n",
       "learn/base.py:1152: ConvergenceWarning: Number of distinct clusters (3) found smaller than n_clusters (4). Possibly\n",
       "due to duplicate points in X.\n",
       "  return fit_method(estimator, *args, **kwargs)\n"
      ]
     },
     "metadata": {},
     "output_type": "display_data"
    },
    {
     "data": {
      "text/html": [
       "<pre style=\"white-space:pre;overflow-x:auto;line-height:normal;font-family:Menlo,'DejaVu Sans Mono',consolas,'Courier New',monospace\">Clustering elapsed time: 0.7228 seconds.\n",
       "</pre>\n"
      ],
      "text/plain": [
       "Clustering elapsed time: 0.7228 seconds.\n"
      ]
     },
     "metadata": {},
     "output_type": "display_data"
    },
    {
     "data": {
      "text/html": [
       "<pre style=\"white-space:pre;overflow-x:auto;line-height:normal;font-family:Menlo,'DejaVu Sans Mono',consolas,'Courier New',monospace\">Metrics: {'clu_homogeneity_score': 1.0, 'clu_completeness_score': 1.0, 'clu_v_measure_score': 1.0, \n",
       "'clu_adjusted_rand_score': 1.0, 'clu_adjusted_mutual_info_score': 1.0}\n",
       "</pre>\n"
      ],
      "text/plain": [
       "Metrics: {'clu_homogeneity_score': 1.0, 'clu_completeness_score': 1.0, 'clu_v_measure_score': 1.0, \n",
       "'clu_adjusted_rand_score': 1.0, 'clu_adjusted_mutual_info_score': 1.0}\n"
      ]
     },
     "metadata": {},
     "output_type": "display_data"
    },
    {
     "name": "stderr",
     "output_type": "stream",
     "text": [
      "Epoch 28, global step 1827: 'val_loss' was not in top 3\n"
     ]
    },
    {
     "data": {
      "text/html": [
       "<pre style=\"white-space:pre;overflow-x:auto;line-height:normal;font-family:Menlo,'DejaVu Sans Mono',consolas,'Courier New',monospace\">Epoch 29\n",
       "</pre>\n"
      ],
      "text/plain": [
       "Epoch 29\n"
      ]
     },
     "metadata": {},
     "output_type": "display_data"
    },
    {
     "data": {
      "text/html": [
       "<pre style=\"white-space:pre;overflow-x:auto;line-height:normal;font-family:Menlo,'DejaVu Sans Mono',consolas,'Courier New',monospace\">Creating dataset from Clustering elapsed time: 45.6012 seconds.\n",
       "</pre>\n"
      ],
      "text/plain": [
       "Creating dataset from Clustering elapsed time: 45.6012 seconds.\n"
      ]
     },
     "metadata": {},
     "output_type": "display_data"
    },
    {
     "data": {
      "text/html": [
       "<pre style=\"white-space:pre;overflow-x:auto;line-height:normal;font-family:Menlo,'DejaVu Sans Mono',consolas,'Courier New',monospace\">Feature extracting elapsed time: 110.0559 seconds.\n",
       "</pre>\n"
      ],
      "text/plain": [
       "Feature extracting elapsed time: 110.0559 seconds.\n"
      ]
     },
     "metadata": {},
     "output_type": "display_data"
    },
    {
     "data": {
      "text/html": [
       "<pre style=\"white-space:pre;overflow-x:auto;line-height:normal;font-family:Menlo,'DejaVu Sans Mono',consolas,'Courier New',monospace\">/Users/arthuralvim/Library/Caches/pypoetry/virtualenvs/xai-clustering-b3gHD5dt-py3.9/lib/python3.9/site-packages/sk\n",
       "learn/base.py:1152: ConvergenceWarning: Number of distinct clusters (3) found smaller than n_clusters (4). Possibly\n",
       "due to duplicate points in X.\n",
       "  return fit_method(estimator, *args, **kwargs)\n",
       "</pre>\n"
      ],
      "text/plain": [
       "/Users/arthuralvim/Library/Caches/pypoetry/virtualenvs/xai-clustering-b3gHD5dt-py3.9/lib/python3.9/site-packages/sk\n",
       "learn/base.py:1152: ConvergenceWarning: Number of distinct clusters (3) found smaller than n_clusters (4). Possibly\n",
       "due to duplicate points in X.\n",
       "  return fit_method(estimator, *args, **kwargs)\n"
      ]
     },
     "metadata": {},
     "output_type": "display_data"
    },
    {
     "data": {
      "text/html": [
       "<pre style=\"white-space:pre;overflow-x:auto;line-height:normal;font-family:Menlo,'DejaVu Sans Mono',consolas,'Courier New',monospace\">Clustering elapsed time: 0.6879 seconds.\n",
       "</pre>\n"
      ],
      "text/plain": [
       "Clustering elapsed time: 0.6879 seconds.\n"
      ]
     },
     "metadata": {},
     "output_type": "display_data"
    },
    {
     "data": {
      "text/html": [
       "<pre style=\"white-space:pre;overflow-x:auto;line-height:normal;font-family:Menlo,'DejaVu Sans Mono',consolas,'Courier New',monospace\">Metrics: {'clu_homogeneity_score': 1.0, 'clu_completeness_score': 1.0, 'clu_v_measure_score': 1.0, \n",
       "'clu_adjusted_rand_score': 1.0, 'clu_adjusted_mutual_info_score': 1.0}\n",
       "</pre>\n"
      ],
      "text/plain": [
       "Metrics: {'clu_homogeneity_score': 1.0, 'clu_completeness_score': 1.0, 'clu_v_measure_score': 1.0, \n",
       "'clu_adjusted_rand_score': 1.0, 'clu_adjusted_mutual_info_score': 1.0}\n"
      ]
     },
     "metadata": {},
     "output_type": "display_data"
    },
    {
     "name": "stderr",
     "output_type": "stream",
     "text": [
      "Epoch 29, global step 1890: 'val_loss' was not in top 3\n"
     ]
    },
    {
     "data": {
      "text/html": [
       "<pre style=\"white-space:pre;overflow-x:auto;line-height:normal;font-family:Menlo,'DejaVu Sans Mono',consolas,'Courier New',monospace\">Epoch 30\n",
       "</pre>\n"
      ],
      "text/plain": [
       "Epoch 30\n"
      ]
     },
     "metadata": {},
     "output_type": "display_data"
    },
    {
     "data": {
      "text/html": [
       "<pre style=\"white-space:pre;overflow-x:auto;line-height:normal;font-family:Menlo,'DejaVu Sans Mono',consolas,'Courier New',monospace\">Creating dataset from Clustering elapsed time: 49.1103 seconds.\n",
       "</pre>\n"
      ],
      "text/plain": [
       "Creating dataset from Clustering elapsed time: 49.1103 seconds.\n"
      ]
     },
     "metadata": {},
     "output_type": "display_data"
    },
    {
     "data": {
      "text/html": [
       "<pre style=\"white-space:pre;overflow-x:auto;line-height:normal;font-family:Menlo,'DejaVu Sans Mono',consolas,'Courier New',monospace\">Feature extracting elapsed time: 117.4150 seconds.\n",
       "</pre>\n"
      ],
      "text/plain": [
       "Feature extracting elapsed time: 117.4150 seconds.\n"
      ]
     },
     "metadata": {},
     "output_type": "display_data"
    },
    {
     "data": {
      "text/html": [
       "<pre style=\"white-space:pre;overflow-x:auto;line-height:normal;font-family:Menlo,'DejaVu Sans Mono',consolas,'Courier New',monospace\">/Users/arthuralvim/Library/Caches/pypoetry/virtualenvs/xai-clustering-b3gHD5dt-py3.9/lib/python3.9/site-packages/sk\n",
       "learn/base.py:1152: ConvergenceWarning: Number of distinct clusters (1) found smaller than n_clusters (4). Possibly\n",
       "due to duplicate points in X.\n",
       "  return fit_method(estimator, *args, **kwargs)\n",
       "</pre>\n"
      ],
      "text/plain": [
       "/Users/arthuralvim/Library/Caches/pypoetry/virtualenvs/xai-clustering-b3gHD5dt-py3.9/lib/python3.9/site-packages/sk\n",
       "learn/base.py:1152: ConvergenceWarning: Number of distinct clusters (1) found smaller than n_clusters (4). Possibly\n",
       "due to duplicate points in X.\n",
       "  return fit_method(estimator, *args, **kwargs)\n"
      ]
     },
     "metadata": {},
     "output_type": "display_data"
    },
    {
     "data": {
      "text/html": [
       "<pre style=\"white-space:pre;overflow-x:auto;line-height:normal;font-family:Menlo,'DejaVu Sans Mono',consolas,'Courier New',monospace\">Clustering elapsed time: 0.6303 seconds.\n",
       "</pre>\n"
      ],
      "text/plain": [
       "Clustering elapsed time: 0.6303 seconds.\n"
      ]
     },
     "metadata": {},
     "output_type": "display_data"
    },
    {
     "data": {
      "text/html": [
       "<pre style=\"white-space:pre;overflow-x:auto;line-height:normal;font-family:Menlo,'DejaVu Sans Mono',consolas,'Courier New',monospace\">Metrics: {'clu_homogeneity_score': 0.0, 'clu_completeness_score': 1.0, 'clu_v_measure_score': 0.0, \n",
       "'clu_adjusted_rand_score': 0.0, 'clu_adjusted_mutual_info_score': 0.0}\n",
       "</pre>\n"
      ],
      "text/plain": [
       "Metrics: {'clu_homogeneity_score': 0.0, 'clu_completeness_score': 1.0, 'clu_v_measure_score': 0.0, \n",
       "'clu_adjusted_rand_score': 0.0, 'clu_adjusted_mutual_info_score': 0.0}\n"
      ]
     },
     "metadata": {},
     "output_type": "display_data"
    },
    {
     "name": "stderr",
     "output_type": "stream",
     "text": [
      "Epoch 30, global step 1953: 'val_loss' was not in top 3\n"
     ]
    },
    {
     "data": {
      "text/html": [
       "<pre style=\"white-space:pre;overflow-x:auto;line-height:normal;font-family:Menlo,'DejaVu Sans Mono',consolas,'Courier New',monospace\">Epoch 31\n",
       "</pre>\n"
      ],
      "text/plain": [
       "Epoch 31\n"
      ]
     },
     "metadata": {},
     "output_type": "display_data"
    },
    {
     "data": {
      "text/html": [
       "<pre style=\"white-space:pre;overflow-x:auto;line-height:normal;font-family:Menlo,'DejaVu Sans Mono',consolas,'Courier New',monospace\">Creating dataset from Clustering elapsed time: 48.3055 seconds.\n",
       "</pre>\n"
      ],
      "text/plain": [
       "Creating dataset from Clustering elapsed time: 48.3055 seconds.\n"
      ]
     },
     "metadata": {},
     "output_type": "display_data"
    },
    {
     "data": {
      "text/html": [
       "<pre style=\"white-space:pre;overflow-x:auto;line-height:normal;font-family:Menlo,'DejaVu Sans Mono',consolas,'Courier New',monospace\">Feature extracting elapsed time: 115.4824 seconds.\n",
       "</pre>\n"
      ],
      "text/plain": [
       "Feature extracting elapsed time: 115.4824 seconds.\n"
      ]
     },
     "metadata": {},
     "output_type": "display_data"
    },
    {
     "data": {
      "text/html": [
       "<pre style=\"white-space:pre;overflow-x:auto;line-height:normal;font-family:Menlo,'DejaVu Sans Mono',consolas,'Courier New',monospace\">/Users/arthuralvim/Library/Caches/pypoetry/virtualenvs/xai-clustering-b3gHD5dt-py3.9/lib/python3.9/site-packages/sk\n",
       "learn/base.py:1152: ConvergenceWarning: Number of distinct clusters (1) found smaller than n_clusters (4). Possibly\n",
       "due to duplicate points in X.\n",
       "  return fit_method(estimator, *args, **kwargs)\n",
       "</pre>\n"
      ],
      "text/plain": [
       "/Users/arthuralvim/Library/Caches/pypoetry/virtualenvs/xai-clustering-b3gHD5dt-py3.9/lib/python3.9/site-packages/sk\n",
       "learn/base.py:1152: ConvergenceWarning: Number of distinct clusters (1) found smaller than n_clusters (4). Possibly\n",
       "due to duplicate points in X.\n",
       "  return fit_method(estimator, *args, **kwargs)\n"
      ]
     },
     "metadata": {},
     "output_type": "display_data"
    },
    {
     "data": {
      "text/html": [
       "<pre style=\"white-space:pre;overflow-x:auto;line-height:normal;font-family:Menlo,'DejaVu Sans Mono',consolas,'Courier New',monospace\">Clustering elapsed time: 0.8217 seconds.\n",
       "</pre>\n"
      ],
      "text/plain": [
       "Clustering elapsed time: 0.8217 seconds.\n"
      ]
     },
     "metadata": {},
     "output_type": "display_data"
    },
    {
     "data": {
      "text/html": [
       "<pre style=\"white-space:pre;overflow-x:auto;line-height:normal;font-family:Menlo,'DejaVu Sans Mono',consolas,'Courier New',monospace\">Metrics: {'clu_homogeneity_score': 1.0, 'clu_completeness_score': 1.0, 'clu_v_measure_score': 1.0, \n",
       "'clu_adjusted_rand_score': 1.0, 'clu_adjusted_mutual_info_score': 1.0}\n",
       "</pre>\n"
      ],
      "text/plain": [
       "Metrics: {'clu_homogeneity_score': 1.0, 'clu_completeness_score': 1.0, 'clu_v_measure_score': 1.0, \n",
       "'clu_adjusted_rand_score': 1.0, 'clu_adjusted_mutual_info_score': 1.0}\n"
      ]
     },
     "metadata": {},
     "output_type": "display_data"
    },
    {
     "name": "stderr",
     "output_type": "stream",
     "text": [
      "Epoch 31, global step 2016: 'val_loss' was not in top 3\n"
     ]
    },
    {
     "data": {
      "text/html": [
       "<pre style=\"white-space:pre;overflow-x:auto;line-height:normal;font-family:Menlo,'DejaVu Sans Mono',consolas,'Courier New',monospace\">Epoch 32\n",
       "</pre>\n"
      ],
      "text/plain": [
       "Epoch 32\n"
      ]
     },
     "metadata": {},
     "output_type": "display_data"
    },
    {
     "data": {
      "text/html": [
       "<pre style=\"white-space:pre;overflow-x:auto;line-height:normal;font-family:Menlo,'DejaVu Sans Mono',consolas,'Courier New',monospace\">Creating dataset from Clustering elapsed time: 47.8043 seconds.\n",
       "</pre>\n"
      ],
      "text/plain": [
       "Creating dataset from Clustering elapsed time: 47.8043 seconds.\n"
      ]
     },
     "metadata": {},
     "output_type": "display_data"
    },
    {
     "data": {
      "text/html": [
       "<pre style=\"white-space:pre;overflow-x:auto;line-height:normal;font-family:Menlo,'DejaVu Sans Mono',consolas,'Courier New',monospace\">Feature extracting elapsed time: 119.3720 seconds.\n",
       "</pre>\n"
      ],
      "text/plain": [
       "Feature extracting elapsed time: 119.3720 seconds.\n"
      ]
     },
     "metadata": {},
     "output_type": "display_data"
    },
    {
     "data": {
      "text/html": [
       "<pre style=\"white-space:pre;overflow-x:auto;line-height:normal;font-family:Menlo,'DejaVu Sans Mono',consolas,'Courier New',monospace\">/Users/arthuralvim/Library/Caches/pypoetry/virtualenvs/xai-clustering-b3gHD5dt-py3.9/lib/python3.9/site-packages/sk\n",
       "learn/base.py:1152: ConvergenceWarning: Number of distinct clusters (2) found smaller than n_clusters (4). Possibly\n",
       "due to duplicate points in X.\n",
       "  return fit_method(estimator, *args, **kwargs)\n",
       "</pre>\n"
      ],
      "text/plain": [
       "/Users/arthuralvim/Library/Caches/pypoetry/virtualenvs/xai-clustering-b3gHD5dt-py3.9/lib/python3.9/site-packages/sk\n",
       "learn/base.py:1152: ConvergenceWarning: Number of distinct clusters (2) found smaller than n_clusters (4). Possibly\n",
       "due to duplicate points in X.\n",
       "  return fit_method(estimator, *args, **kwargs)\n"
      ]
     },
     "metadata": {},
     "output_type": "display_data"
    },
    {
     "data": {
      "text/html": [
       "<pre style=\"white-space:pre;overflow-x:auto;line-height:normal;font-family:Menlo,'DejaVu Sans Mono',consolas,'Courier New',monospace\">Clustering elapsed time: 1.2946 seconds.\n",
       "</pre>\n"
      ],
      "text/plain": [
       "Clustering elapsed time: 1.2946 seconds.\n"
      ]
     },
     "metadata": {},
     "output_type": "display_data"
    },
    {
     "data": {
      "text/html": [
       "<pre style=\"white-space:pre;overflow-x:auto;line-height:normal;font-family:Menlo,'DejaVu Sans Mono',consolas,'Courier New',monospace\">Metrics: {'clu_homogeneity_score': 1.0, 'clu_completeness_score': 0.0, 'clu_v_measure_score': 0.0, \n",
       "'clu_adjusted_rand_score': 0.0, 'clu_adjusted_mutual_info_score': 0.0}\n",
       "</pre>\n"
      ],
      "text/plain": [
       "Metrics: {'clu_homogeneity_score': 1.0, 'clu_completeness_score': 0.0, 'clu_v_measure_score': 0.0, \n",
       "'clu_adjusted_rand_score': 0.0, 'clu_adjusted_mutual_info_score': 0.0}\n"
      ]
     },
     "metadata": {},
     "output_type": "display_data"
    },
    {
     "name": "stderr",
     "output_type": "stream",
     "text": [
      "Epoch 32, global step 2079: 'val_loss' was not in top 3\n"
     ]
    },
    {
     "data": {
      "text/html": [
       "<pre style=\"white-space:pre;overflow-x:auto;line-height:normal;font-family:Menlo,'DejaVu Sans Mono',consolas,'Courier New',monospace\">Epoch 33\n",
       "</pre>\n"
      ],
      "text/plain": [
       "Epoch 33\n"
      ]
     },
     "metadata": {},
     "output_type": "display_data"
    },
    {
     "data": {
      "text/html": [
       "<pre style=\"white-space:pre;overflow-x:auto;line-height:normal;font-family:Menlo,'DejaVu Sans Mono',consolas,'Courier New',monospace\">Creating dataset from Clustering elapsed time: 49.2572 seconds.\n",
       "</pre>\n"
      ],
      "text/plain": [
       "Creating dataset from Clustering elapsed time: 49.2572 seconds.\n"
      ]
     },
     "metadata": {},
     "output_type": "display_data"
    },
    {
     "data": {
      "text/html": [
       "<pre style=\"white-space:pre;overflow-x:auto;line-height:normal;font-family:Menlo,'DejaVu Sans Mono',consolas,'Courier New',monospace\">Feature extracting elapsed time: 118.4866 seconds.\n",
       "</pre>\n"
      ],
      "text/plain": [
       "Feature extracting elapsed time: 118.4866 seconds.\n"
      ]
     },
     "metadata": {},
     "output_type": "display_data"
    },
    {
     "data": {
      "text/html": [
       "<pre style=\"white-space:pre;overflow-x:auto;line-height:normal;font-family:Menlo,'DejaVu Sans Mono',consolas,'Courier New',monospace\">/Users/arthuralvim/Library/Caches/pypoetry/virtualenvs/xai-clustering-b3gHD5dt-py3.9/lib/python3.9/site-packages/sk\n",
       "learn/base.py:1152: ConvergenceWarning: Number of distinct clusters (2) found smaller than n_clusters (4). Possibly\n",
       "due to duplicate points in X.\n",
       "  return fit_method(estimator, *args, **kwargs)\n",
       "</pre>\n"
      ],
      "text/plain": [
       "/Users/arthuralvim/Library/Caches/pypoetry/virtualenvs/xai-clustering-b3gHD5dt-py3.9/lib/python3.9/site-packages/sk\n",
       "learn/base.py:1152: ConvergenceWarning: Number of distinct clusters (2) found smaller than n_clusters (4). Possibly\n",
       "due to duplicate points in X.\n",
       "  return fit_method(estimator, *args, **kwargs)\n"
      ]
     },
     "metadata": {},
     "output_type": "display_data"
    },
    {
     "data": {
      "text/html": [
       "<pre style=\"white-space:pre;overflow-x:auto;line-height:normal;font-family:Menlo,'DejaVu Sans Mono',consolas,'Courier New',monospace\">Clustering elapsed time: 0.6070 seconds.\n",
       "</pre>\n"
      ],
      "text/plain": [
       "Clustering elapsed time: 0.6070 seconds.\n"
      ]
     },
     "metadata": {},
     "output_type": "display_data"
    },
    {
     "data": {
      "text/html": [
       "<pre style=\"white-space:pre;overflow-x:auto;line-height:normal;font-family:Menlo,'DejaVu Sans Mono',consolas,'Courier New',monospace\">Metrics: {'clu_homogeneity_score': 1.0, 'clu_completeness_score': 1.0, 'clu_v_measure_score': 1.0, \n",
       "'clu_adjusted_rand_score': 1.0, 'clu_adjusted_mutual_info_score': 1.0}\n",
       "</pre>\n"
      ],
      "text/plain": [
       "Metrics: {'clu_homogeneity_score': 1.0, 'clu_completeness_score': 1.0, 'clu_v_measure_score': 1.0, \n",
       "'clu_adjusted_rand_score': 1.0, 'clu_adjusted_mutual_info_score': 1.0}\n"
      ]
     },
     "metadata": {},
     "output_type": "display_data"
    },
    {
     "name": "stderr",
     "output_type": "stream",
     "text": [
      "Epoch 33, global step 2142: 'val_loss' was not in top 3\n"
     ]
    },
    {
     "data": {
      "text/html": [
       "<pre style=\"white-space:pre;overflow-x:auto;line-height:normal;font-family:Menlo,'DejaVu Sans Mono',consolas,'Courier New',monospace\">Epoch 34\n",
       "</pre>\n"
      ],
      "text/plain": [
       "Epoch 34\n"
      ]
     },
     "metadata": {},
     "output_type": "display_data"
    },
    {
     "data": {
      "text/html": [
       "<pre style=\"white-space:pre;overflow-x:auto;line-height:normal;font-family:Menlo,'DejaVu Sans Mono',consolas,'Courier New',monospace\">Creating dataset from Clustering elapsed time: 46.7727 seconds.\n",
       "</pre>\n"
      ],
      "text/plain": [
       "Creating dataset from Clustering elapsed time: 46.7727 seconds.\n"
      ]
     },
     "metadata": {},
     "output_type": "display_data"
    },
    {
     "data": {
      "text/html": [
       "<pre style=\"white-space:pre;overflow-x:auto;line-height:normal;font-family:Menlo,'DejaVu Sans Mono',consolas,'Courier New',monospace\">Feature extracting elapsed time: 115.3985 seconds.\n",
       "</pre>\n"
      ],
      "text/plain": [
       "Feature extracting elapsed time: 115.3985 seconds.\n"
      ]
     },
     "metadata": {},
     "output_type": "display_data"
    },
    {
     "data": {
      "text/html": [
       "<pre style=\"white-space:pre;overflow-x:auto;line-height:normal;font-family:Menlo,'DejaVu Sans Mono',consolas,'Courier New',monospace\">/Users/arthuralvim/Library/Caches/pypoetry/virtualenvs/xai-clustering-b3gHD5dt-py3.9/lib/python3.9/site-packages/sk\n",
       "learn/base.py:1152: ConvergenceWarning: Number of distinct clusters (1) found smaller than n_clusters (4). Possibly\n",
       "due to duplicate points in X.\n",
       "  return fit_method(estimator, *args, **kwargs)\n",
       "</pre>\n"
      ],
      "text/plain": [
       "/Users/arthuralvim/Library/Caches/pypoetry/virtualenvs/xai-clustering-b3gHD5dt-py3.9/lib/python3.9/site-packages/sk\n",
       "learn/base.py:1152: ConvergenceWarning: Number of distinct clusters (1) found smaller than n_clusters (4). Possibly\n",
       "due to duplicate points in X.\n",
       "  return fit_method(estimator, *args, **kwargs)\n"
      ]
     },
     "metadata": {},
     "output_type": "display_data"
    },
    {
     "data": {
      "text/html": [
       "<pre style=\"white-space:pre;overflow-x:auto;line-height:normal;font-family:Menlo,'DejaVu Sans Mono',consolas,'Courier New',monospace\">Clustering elapsed time: 0.6754 seconds.\n",
       "</pre>\n"
      ],
      "text/plain": [
       "Clustering elapsed time: 0.6754 seconds.\n"
      ]
     },
     "metadata": {},
     "output_type": "display_data"
    },
    {
     "data": {
      "text/html": [
       "<pre style=\"white-space:pre;overflow-x:auto;line-height:normal;font-family:Menlo,'DejaVu Sans Mono',consolas,'Courier New',monospace\">Metrics: {'clu_homogeneity_score': 0.0, 'clu_completeness_score': 1.0, 'clu_v_measure_score': 0.0, \n",
       "'clu_adjusted_rand_score': 0.0, 'clu_adjusted_mutual_info_score': 0.0}\n",
       "</pre>\n"
      ],
      "text/plain": [
       "Metrics: {'clu_homogeneity_score': 0.0, 'clu_completeness_score': 1.0, 'clu_v_measure_score': 0.0, \n",
       "'clu_adjusted_rand_score': 0.0, 'clu_adjusted_mutual_info_score': 0.0}\n"
      ]
     },
     "metadata": {},
     "output_type": "display_data"
    },
    {
     "name": "stderr",
     "output_type": "stream",
     "text": [
      "Epoch 34, global step 2205: 'val_loss' was not in top 3\n"
     ]
    },
    {
     "data": {
      "text/html": [
       "<pre style=\"white-space:pre;overflow-x:auto;line-height:normal;font-family:Menlo,'DejaVu Sans Mono',consolas,'Courier New',monospace\">Epoch 35\n",
       "</pre>\n"
      ],
      "text/plain": [
       "Epoch 35\n"
      ]
     },
     "metadata": {},
     "output_type": "display_data"
    },
    {
     "data": {
      "text/html": [
       "<pre style=\"white-space:pre;overflow-x:auto;line-height:normal;font-family:Menlo,'DejaVu Sans Mono',consolas,'Courier New',monospace\">Creating dataset from Clustering elapsed time: 49.9369 seconds.\n",
       "</pre>\n"
      ],
      "text/plain": [
       "Creating dataset from Clustering elapsed time: 49.9369 seconds.\n"
      ]
     },
     "metadata": {},
     "output_type": "display_data"
    },
    {
     "data": {
      "text/html": [
       "<pre style=\"white-space:pre;overflow-x:auto;line-height:normal;font-family:Menlo,'DejaVu Sans Mono',consolas,'Courier New',monospace\">Feature extracting elapsed time: 119.0209 seconds.\n",
       "</pre>\n"
      ],
      "text/plain": [
       "Feature extracting elapsed time: 119.0209 seconds.\n"
      ]
     },
     "metadata": {},
     "output_type": "display_data"
    },
    {
     "data": {
      "text/html": [
       "<pre style=\"white-space:pre;overflow-x:auto;line-height:normal;font-family:Menlo,'DejaVu Sans Mono',consolas,'Courier New',monospace\">/Users/arthuralvim/Library/Caches/pypoetry/virtualenvs/xai-clustering-b3gHD5dt-py3.9/lib/python3.9/site-packages/sk\n",
       "learn/base.py:1152: ConvergenceWarning: Number of distinct clusters (2) found smaller than n_clusters (4). Possibly\n",
       "due to duplicate points in X.\n",
       "  return fit_method(estimator, *args, **kwargs)\n",
       "</pre>\n"
      ],
      "text/plain": [
       "/Users/arthuralvim/Library/Caches/pypoetry/virtualenvs/xai-clustering-b3gHD5dt-py3.9/lib/python3.9/site-packages/sk\n",
       "learn/base.py:1152: ConvergenceWarning: Number of distinct clusters (2) found smaller than n_clusters (4). Possibly\n",
       "due to duplicate points in X.\n",
       "  return fit_method(estimator, *args, **kwargs)\n"
      ]
     },
     "metadata": {},
     "output_type": "display_data"
    },
    {
     "data": {
      "text/html": [
       "<pre style=\"white-space:pre;overflow-x:auto;line-height:normal;font-family:Menlo,'DejaVu Sans Mono',consolas,'Courier New',monospace\">Clustering elapsed time: 0.6458 seconds.\n",
       "</pre>\n"
      ],
      "text/plain": [
       "Clustering elapsed time: 0.6458 seconds.\n"
      ]
     },
     "metadata": {},
     "output_type": "display_data"
    },
    {
     "data": {
      "text/html": [
       "<pre style=\"white-space:pre;overflow-x:auto;line-height:normal;font-family:Menlo,'DejaVu Sans Mono',consolas,'Courier New',monospace\">Metrics: {'clu_homogeneity_score': 1.0, 'clu_completeness_score': 0.0, 'clu_v_measure_score': 0.0, \n",
       "'clu_adjusted_rand_score': 0.0, 'clu_adjusted_mutual_info_score': 0.0}\n",
       "</pre>\n"
      ],
      "text/plain": [
       "Metrics: {'clu_homogeneity_score': 1.0, 'clu_completeness_score': 0.0, 'clu_v_measure_score': 0.0, \n",
       "'clu_adjusted_rand_score': 0.0, 'clu_adjusted_mutual_info_score': 0.0}\n"
      ]
     },
     "metadata": {},
     "output_type": "display_data"
    },
    {
     "name": "stderr",
     "output_type": "stream",
     "text": [
      "Epoch 35, global step 2268: 'val_loss' was not in top 3\n"
     ]
    },
    {
     "data": {
      "text/html": [
       "<pre style=\"white-space:pre;overflow-x:auto;line-height:normal;font-family:Menlo,'DejaVu Sans Mono',consolas,'Courier New',monospace\">Epoch 36\n",
       "</pre>\n"
      ],
      "text/plain": [
       "Epoch 36\n"
      ]
     },
     "metadata": {},
     "output_type": "display_data"
    },
    {
     "data": {
      "text/html": [
       "<pre style=\"white-space:pre;overflow-x:auto;line-height:normal;font-family:Menlo,'DejaVu Sans Mono',consolas,'Courier New',monospace\">Creating dataset from Clustering elapsed time: 49.0109 seconds.\n",
       "</pre>\n"
      ],
      "text/plain": [
       "Creating dataset from Clustering elapsed time: 49.0109 seconds.\n"
      ]
     },
     "metadata": {},
     "output_type": "display_data"
    },
    {
     "data": {
      "text/html": [
       "<pre style=\"white-space:pre;overflow-x:auto;line-height:normal;font-family:Menlo,'DejaVu Sans Mono',consolas,'Courier New',monospace\">Feature extracting elapsed time: 119.6652 seconds.\n",
       "</pre>\n"
      ],
      "text/plain": [
       "Feature extracting elapsed time: 119.6652 seconds.\n"
      ]
     },
     "metadata": {},
     "output_type": "display_data"
    },
    {
     "data": {
      "text/html": [
       "<pre style=\"white-space:pre;overflow-x:auto;line-height:normal;font-family:Menlo,'DejaVu Sans Mono',consolas,'Courier New',monospace\">/Users/arthuralvim/Library/Caches/pypoetry/virtualenvs/xai-clustering-b3gHD5dt-py3.9/lib/python3.9/site-packages/sk\n",
       "learn/base.py:1152: ConvergenceWarning: Number of distinct clusters (2) found smaller than n_clusters (4). Possibly\n",
       "due to duplicate points in X.\n",
       "  return fit_method(estimator, *args, **kwargs)\n",
       "</pre>\n"
      ],
      "text/plain": [
       "/Users/arthuralvim/Library/Caches/pypoetry/virtualenvs/xai-clustering-b3gHD5dt-py3.9/lib/python3.9/site-packages/sk\n",
       "learn/base.py:1152: ConvergenceWarning: Number of distinct clusters (2) found smaller than n_clusters (4). Possibly\n",
       "due to duplicate points in X.\n",
       "  return fit_method(estimator, *args, **kwargs)\n"
      ]
     },
     "metadata": {},
     "output_type": "display_data"
    },
    {
     "data": {
      "text/html": [
       "<pre style=\"white-space:pre;overflow-x:auto;line-height:normal;font-family:Menlo,'DejaVu Sans Mono',consolas,'Courier New',monospace\">Clustering elapsed time: 0.7047 seconds.\n",
       "</pre>\n"
      ],
      "text/plain": [
       "Clustering elapsed time: 0.7047 seconds.\n"
      ]
     },
     "metadata": {},
     "output_type": "display_data"
    },
    {
     "data": {
      "text/html": [
       "<pre style=\"white-space:pre;overflow-x:auto;line-height:normal;font-family:Menlo,'DejaVu Sans Mono',consolas,'Courier New',monospace\">Metrics: {'clu_homogeneity_score': 1.0, 'clu_completeness_score': 1.0, 'clu_v_measure_score': 1.0, \n",
       "'clu_adjusted_rand_score': 1.0, 'clu_adjusted_mutual_info_score': 1.0}\n",
       "</pre>\n"
      ],
      "text/plain": [
       "Metrics: {'clu_homogeneity_score': 1.0, 'clu_completeness_score': 1.0, 'clu_v_measure_score': 1.0, \n",
       "'clu_adjusted_rand_score': 1.0, 'clu_adjusted_mutual_info_score': 1.0}\n"
      ]
     },
     "metadata": {},
     "output_type": "display_data"
    },
    {
     "name": "stderr",
     "output_type": "stream",
     "text": [
      "Epoch 36, global step 2331: 'val_loss' was not in top 3\n"
     ]
    },
    {
     "data": {
      "text/html": [
       "<pre style=\"white-space:pre;overflow-x:auto;line-height:normal;font-family:Menlo,'DejaVu Sans Mono',consolas,'Courier New',monospace\">Epoch 37\n",
       "</pre>\n"
      ],
      "text/plain": [
       "Epoch 37\n"
      ]
     },
     "metadata": {},
     "output_type": "display_data"
    },
    {
     "data": {
      "text/html": [
       "<pre style=\"white-space:pre;overflow-x:auto;line-height:normal;font-family:Menlo,'DejaVu Sans Mono',consolas,'Courier New',monospace\">Creating dataset from Clustering elapsed time: 49.2287 seconds.\n",
       "</pre>\n"
      ],
      "text/plain": [
       "Creating dataset from Clustering elapsed time: 49.2287 seconds.\n"
      ]
     },
     "metadata": {},
     "output_type": "display_data"
    },
    {
     "data": {
      "text/html": [
       "<pre style=\"white-space:pre;overflow-x:auto;line-height:normal;font-family:Menlo,'DejaVu Sans Mono',consolas,'Courier New',monospace\">Feature extracting elapsed time: 120.2320 seconds.\n",
       "</pre>\n"
      ],
      "text/plain": [
       "Feature extracting elapsed time: 120.2320 seconds.\n"
      ]
     },
     "metadata": {},
     "output_type": "display_data"
    },
    {
     "data": {
      "text/html": [
       "<pre style=\"white-space:pre;overflow-x:auto;line-height:normal;font-family:Menlo,'DejaVu Sans Mono',consolas,'Courier New',monospace\">/Users/arthuralvim/Library/Caches/pypoetry/virtualenvs/xai-clustering-b3gHD5dt-py3.9/lib/python3.9/site-packages/sk\n",
       "learn/base.py:1152: ConvergenceWarning: Number of distinct clusters (2) found smaller than n_clusters (4). Possibly\n",
       "due to duplicate points in X.\n",
       "  return fit_method(estimator, *args, **kwargs)\n",
       "</pre>\n"
      ],
      "text/plain": [
       "/Users/arthuralvim/Library/Caches/pypoetry/virtualenvs/xai-clustering-b3gHD5dt-py3.9/lib/python3.9/site-packages/sk\n",
       "learn/base.py:1152: ConvergenceWarning: Number of distinct clusters (2) found smaller than n_clusters (4). Possibly\n",
       "due to duplicate points in X.\n",
       "  return fit_method(estimator, *args, **kwargs)\n"
      ]
     },
     "metadata": {},
     "output_type": "display_data"
    },
    {
     "data": {
      "text/html": [
       "<pre style=\"white-space:pre;overflow-x:auto;line-height:normal;font-family:Menlo,'DejaVu Sans Mono',consolas,'Courier New',monospace\">Clustering elapsed time: 0.6768 seconds.\n",
       "</pre>\n"
      ],
      "text/plain": [
       "Clustering elapsed time: 0.6768 seconds.\n"
      ]
     },
     "metadata": {},
     "output_type": "display_data"
    },
    {
     "data": {
      "text/html": [
       "<pre style=\"white-space:pre;overflow-x:auto;line-height:normal;font-family:Menlo,'DejaVu Sans Mono',consolas,'Courier New',monospace\">Metrics: {'clu_homogeneity_score': 1.0, 'clu_completeness_score': 1.0, 'clu_v_measure_score': 1.0, \n",
       "'clu_adjusted_rand_score': 1.0, 'clu_adjusted_mutual_info_score': 1.0}\n",
       "</pre>\n"
      ],
      "text/plain": [
       "Metrics: {'clu_homogeneity_score': 1.0, 'clu_completeness_score': 1.0, 'clu_v_measure_score': 1.0, \n",
       "'clu_adjusted_rand_score': 1.0, 'clu_adjusted_mutual_info_score': 1.0}\n"
      ]
     },
     "metadata": {},
     "output_type": "display_data"
    },
    {
     "name": "stderr",
     "output_type": "stream",
     "text": [
      "Epoch 37, global step 2394: 'val_loss' was not in top 3\n"
     ]
    },
    {
     "data": {
      "text/html": [
       "<pre style=\"white-space:pre;overflow-x:auto;line-height:normal;font-family:Menlo,'DejaVu Sans Mono',consolas,'Courier New',monospace\">Epoch 38\n",
       "</pre>\n"
      ],
      "text/plain": [
       "Epoch 38\n"
      ]
     },
     "metadata": {},
     "output_type": "display_data"
    },
    {
     "data": {
      "text/html": [
       "<pre style=\"white-space:pre;overflow-x:auto;line-height:normal;font-family:Menlo,'DejaVu Sans Mono',consolas,'Courier New',monospace\">Creating dataset from Clustering elapsed time: 48.2259 seconds.\n",
       "</pre>\n"
      ],
      "text/plain": [
       "Creating dataset from Clustering elapsed time: 48.2259 seconds.\n"
      ]
     },
     "metadata": {},
     "output_type": "display_data"
    },
    {
     "data": {
      "text/html": [
       "<pre style=\"white-space:pre;overflow-x:auto;line-height:normal;font-family:Menlo,'DejaVu Sans Mono',consolas,'Courier New',monospace\">Feature extracting elapsed time: 112.7949 seconds.\n",
       "</pre>\n"
      ],
      "text/plain": [
       "Feature extracting elapsed time: 112.7949 seconds.\n"
      ]
     },
     "metadata": {},
     "output_type": "display_data"
    },
    {
     "data": {
      "text/html": [
       "<pre style=\"white-space:pre;overflow-x:auto;line-height:normal;font-family:Menlo,'DejaVu Sans Mono',consolas,'Courier New',monospace\">/Users/arthuralvim/Library/Caches/pypoetry/virtualenvs/xai-clustering-b3gHD5dt-py3.9/lib/python3.9/site-packages/sk\n",
       "learn/base.py:1152: ConvergenceWarning: Number of distinct clusters (1) found smaller than n_clusters (4). Possibly\n",
       "due to duplicate points in X.\n",
       "  return fit_method(estimator, *args, **kwargs)\n",
       "</pre>\n"
      ],
      "text/plain": [
       "/Users/arthuralvim/Library/Caches/pypoetry/virtualenvs/xai-clustering-b3gHD5dt-py3.9/lib/python3.9/site-packages/sk\n",
       "learn/base.py:1152: ConvergenceWarning: Number of distinct clusters (1) found smaller than n_clusters (4). Possibly\n",
       "due to duplicate points in X.\n",
       "  return fit_method(estimator, *args, **kwargs)\n"
      ]
     },
     "metadata": {},
     "output_type": "display_data"
    },
    {
     "data": {
      "text/html": [
       "<pre style=\"white-space:pre;overflow-x:auto;line-height:normal;font-family:Menlo,'DejaVu Sans Mono',consolas,'Courier New',monospace\">Clustering elapsed time: 0.6348 seconds.\n",
       "</pre>\n"
      ],
      "text/plain": [
       "Clustering elapsed time: 0.6348 seconds.\n"
      ]
     },
     "metadata": {},
     "output_type": "display_data"
    },
    {
     "data": {
      "text/html": [
       "<pre style=\"white-space:pre;overflow-x:auto;line-height:normal;font-family:Menlo,'DejaVu Sans Mono',consolas,'Courier New',monospace\">Metrics: {'clu_homogeneity_score': 0.0, 'clu_completeness_score': 1.0, 'clu_v_measure_score': 0.0, \n",
       "'clu_adjusted_rand_score': 0.0, 'clu_adjusted_mutual_info_score': 0.0}\n",
       "</pre>\n"
      ],
      "text/plain": [
       "Metrics: {'clu_homogeneity_score': 0.0, 'clu_completeness_score': 1.0, 'clu_v_measure_score': 0.0, \n",
       "'clu_adjusted_rand_score': 0.0, 'clu_adjusted_mutual_info_score': 0.0}\n"
      ]
     },
     "metadata": {},
     "output_type": "display_data"
    },
    {
     "name": "stderr",
     "output_type": "stream",
     "text": [
      "Epoch 38, global step 2457: 'val_loss' was not in top 3\n"
     ]
    },
    {
     "data": {
      "text/html": [
       "<pre style=\"white-space:pre;overflow-x:auto;line-height:normal;font-family:Menlo,'DejaVu Sans Mono',consolas,'Courier New',monospace\">Epoch 39\n",
       "</pre>\n"
      ],
      "text/plain": [
       "Epoch 39\n"
      ]
     },
     "metadata": {},
     "output_type": "display_data"
    },
    {
     "data": {
      "text/html": [
       "<pre style=\"white-space:pre;overflow-x:auto;line-height:normal;font-family:Menlo,'DejaVu Sans Mono',consolas,'Courier New',monospace\">Creating dataset from Clustering elapsed time: 51.4173 seconds.\n",
       "</pre>\n"
      ],
      "text/plain": [
       "Creating dataset from Clustering elapsed time: 51.4173 seconds.\n"
      ]
     },
     "metadata": {},
     "output_type": "display_data"
    },
    {
     "data": {
      "text/html": [
       "<pre style=\"white-space:pre;overflow-x:auto;line-height:normal;font-family:Menlo,'DejaVu Sans Mono',consolas,'Courier New',monospace\">Feature extracting elapsed time: 122.5107 seconds.\n",
       "</pre>\n"
      ],
      "text/plain": [
       "Feature extracting elapsed time: 122.5107 seconds.\n"
      ]
     },
     "metadata": {},
     "output_type": "display_data"
    },
    {
     "data": {
      "text/html": [
       "<pre style=\"white-space:pre;overflow-x:auto;line-height:normal;font-family:Menlo,'DejaVu Sans Mono',consolas,'Courier New',monospace\">/Users/arthuralvim/Library/Caches/pypoetry/virtualenvs/xai-clustering-b3gHD5dt-py3.9/lib/python3.9/site-packages/sk\n",
       "learn/base.py:1152: ConvergenceWarning: Number of distinct clusters (2) found smaller than n_clusters (4). Possibly\n",
       "due to duplicate points in X.\n",
       "  return fit_method(estimator, *args, **kwargs)\n",
       "</pre>\n"
      ],
      "text/plain": [
       "/Users/arthuralvim/Library/Caches/pypoetry/virtualenvs/xai-clustering-b3gHD5dt-py3.9/lib/python3.9/site-packages/sk\n",
       "learn/base.py:1152: ConvergenceWarning: Number of distinct clusters (2) found smaller than n_clusters (4). Possibly\n",
       "due to duplicate points in X.\n",
       "  return fit_method(estimator, *args, **kwargs)\n"
      ]
     },
     "metadata": {},
     "output_type": "display_data"
    },
    {
     "data": {
      "text/html": [
       "<pre style=\"white-space:pre;overflow-x:auto;line-height:normal;font-family:Menlo,'DejaVu Sans Mono',consolas,'Courier New',monospace\">Clustering elapsed time: 0.6843 seconds.\n",
       "</pre>\n"
      ],
      "text/plain": [
       "Clustering elapsed time: 0.6843 seconds.\n"
      ]
     },
     "metadata": {},
     "output_type": "display_data"
    },
    {
     "data": {
      "text/html": [
       "<pre style=\"white-space:pre;overflow-x:auto;line-height:normal;font-family:Menlo,'DejaVu Sans Mono',consolas,'Courier New',monospace\">Metrics: {'clu_homogeneity_score': 1.0, 'clu_completeness_score': 0.0, 'clu_v_measure_score': 0.0, \n",
       "'clu_adjusted_rand_score': 0.0, 'clu_adjusted_mutual_info_score': 0.0}\n",
       "</pre>\n"
      ],
      "text/plain": [
       "Metrics: {'clu_homogeneity_score': 1.0, 'clu_completeness_score': 0.0, 'clu_v_measure_score': 0.0, \n",
       "'clu_adjusted_rand_score': 0.0, 'clu_adjusted_mutual_info_score': 0.0}\n"
      ]
     },
     "metadata": {},
     "output_type": "display_data"
    },
    {
     "name": "stderr",
     "output_type": "stream",
     "text": [
      "Epoch 39, global step 2520: 'val_loss' was not in top 3\n"
     ]
    },
    {
     "data": {
      "text/html": [
       "<pre style=\"white-space:pre;overflow-x:auto;line-height:normal;font-family:Menlo,'DejaVu Sans Mono',consolas,'Courier New',monospace\">Epoch 40\n",
       "</pre>\n"
      ],
      "text/plain": [
       "Epoch 40\n"
      ]
     },
     "metadata": {},
     "output_type": "display_data"
    },
    {
     "data": {
      "text/html": [
       "<pre style=\"white-space:pre;overflow-x:auto;line-height:normal;font-family:Menlo,'DejaVu Sans Mono',consolas,'Courier New',monospace\">Creating dataset from Clustering elapsed time: 51.3199 seconds.\n",
       "</pre>\n"
      ],
      "text/plain": [
       "Creating dataset from Clustering elapsed time: 51.3199 seconds.\n"
      ]
     },
     "metadata": {},
     "output_type": "display_data"
    },
    {
     "data": {
      "text/html": [
       "<pre style=\"white-space:pre;overflow-x:auto;line-height:normal;font-family:Menlo,'DejaVu Sans Mono',consolas,'Courier New',monospace\">Feature extracting elapsed time: 122.6638 seconds.\n",
       "</pre>\n"
      ],
      "text/plain": [
       "Feature extracting elapsed time: 122.6638 seconds.\n"
      ]
     },
     "metadata": {},
     "output_type": "display_data"
    },
    {
     "data": {
      "text/html": [
       "<pre style=\"white-space:pre;overflow-x:auto;line-height:normal;font-family:Menlo,'DejaVu Sans Mono',consolas,'Courier New',monospace\">/Users/arthuralvim/Library/Caches/pypoetry/virtualenvs/xai-clustering-b3gHD5dt-py3.9/lib/python3.9/site-packages/sk\n",
       "learn/base.py:1152: ConvergenceWarning: Number of distinct clusters (1) found smaller than n_clusters (4). Possibly\n",
       "due to duplicate points in X.\n",
       "  return fit_method(estimator, *args, **kwargs)\n",
       "</pre>\n"
      ],
      "text/plain": [
       "/Users/arthuralvim/Library/Caches/pypoetry/virtualenvs/xai-clustering-b3gHD5dt-py3.9/lib/python3.9/site-packages/sk\n",
       "learn/base.py:1152: ConvergenceWarning: Number of distinct clusters (1) found smaller than n_clusters (4). Possibly\n",
       "due to duplicate points in X.\n",
       "  return fit_method(estimator, *args, **kwargs)\n"
      ]
     },
     "metadata": {},
     "output_type": "display_data"
    },
    {
     "data": {
      "text/html": [
       "<pre style=\"white-space:pre;overflow-x:auto;line-height:normal;font-family:Menlo,'DejaVu Sans Mono',consolas,'Courier New',monospace\">Clustering elapsed time: 0.6624 seconds.\n",
       "</pre>\n"
      ],
      "text/plain": [
       "Clustering elapsed time: 0.6624 seconds.\n"
      ]
     },
     "metadata": {},
     "output_type": "display_data"
    },
    {
     "data": {
      "text/html": [
       "<pre style=\"white-space:pre;overflow-x:auto;line-height:normal;font-family:Menlo,'DejaVu Sans Mono',consolas,'Courier New',monospace\">Metrics: {'clu_homogeneity_score': 0.0, 'clu_completeness_score': 1.0, 'clu_v_measure_score': 0.0, \n",
       "'clu_adjusted_rand_score': 0.0, 'clu_adjusted_mutual_info_score': 0.0}\n",
       "</pre>\n"
      ],
      "text/plain": [
       "Metrics: {'clu_homogeneity_score': 0.0, 'clu_completeness_score': 1.0, 'clu_v_measure_score': 0.0, \n",
       "'clu_adjusted_rand_score': 0.0, 'clu_adjusted_mutual_info_score': 0.0}\n"
      ]
     },
     "metadata": {},
     "output_type": "display_data"
    },
    {
     "name": "stderr",
     "output_type": "stream",
     "text": [
      "Epoch 40, global step 2583: 'val_loss' was not in top 3\n"
     ]
    },
    {
     "data": {
      "text/html": [
       "<pre style=\"white-space:pre;overflow-x:auto;line-height:normal;font-family:Menlo,'DejaVu Sans Mono',consolas,'Courier New',monospace\">Epoch 41\n",
       "</pre>\n"
      ],
      "text/plain": [
       "Epoch 41\n"
      ]
     },
     "metadata": {},
     "output_type": "display_data"
    },
    {
     "data": {
      "text/html": [
       "<pre style=\"white-space:pre;overflow-x:auto;line-height:normal;font-family:Menlo,'DejaVu Sans Mono',consolas,'Courier New',monospace\">Creating dataset from Clustering elapsed time: 49.4896 seconds.\n",
       "</pre>\n"
      ],
      "text/plain": [
       "Creating dataset from Clustering elapsed time: 49.4896 seconds.\n"
      ]
     },
     "metadata": {},
     "output_type": "display_data"
    },
    {
     "data": {
      "text/html": [
       "<pre style=\"white-space:pre;overflow-x:auto;line-height:normal;font-family:Menlo,'DejaVu Sans Mono',consolas,'Courier New',monospace\">Feature extracting elapsed time: 126.3846 seconds.\n",
       "</pre>\n"
      ],
      "text/plain": [
       "Feature extracting elapsed time: 126.3846 seconds.\n"
      ]
     },
     "metadata": {},
     "output_type": "display_data"
    },
    {
     "data": {
      "text/html": [
       "<pre style=\"white-space:pre;overflow-x:auto;line-height:normal;font-family:Menlo,'DejaVu Sans Mono',consolas,'Courier New',monospace\">/Users/arthuralvim/Library/Caches/pypoetry/virtualenvs/xai-clustering-b3gHD5dt-py3.9/lib/python3.9/site-packages/sk\n",
       "learn/base.py:1152: ConvergenceWarning: Number of distinct clusters (1) found smaller than n_clusters (4). Possibly\n",
       "due to duplicate points in X.\n",
       "  return fit_method(estimator, *args, **kwargs)\n",
       "</pre>\n"
      ],
      "text/plain": [
       "/Users/arthuralvim/Library/Caches/pypoetry/virtualenvs/xai-clustering-b3gHD5dt-py3.9/lib/python3.9/site-packages/sk\n",
       "learn/base.py:1152: ConvergenceWarning: Number of distinct clusters (1) found smaller than n_clusters (4). Possibly\n",
       "due to duplicate points in X.\n",
       "  return fit_method(estimator, *args, **kwargs)\n"
      ]
     },
     "metadata": {},
     "output_type": "display_data"
    },
    {
     "data": {
      "text/html": [
       "<pre style=\"white-space:pre;overflow-x:auto;line-height:normal;font-family:Menlo,'DejaVu Sans Mono',consolas,'Courier New',monospace\">Clustering elapsed time: 1.5929 seconds.\n",
       "</pre>\n"
      ],
      "text/plain": [
       "Clustering elapsed time: 1.5929 seconds.\n"
      ]
     },
     "metadata": {},
     "output_type": "display_data"
    },
    {
     "data": {
      "text/html": [
       "<pre style=\"white-space:pre;overflow-x:auto;line-height:normal;font-family:Menlo,'DejaVu Sans Mono',consolas,'Courier New',monospace\">Metrics: {'clu_homogeneity_score': 1.0, 'clu_completeness_score': 1.0, 'clu_v_measure_score': 1.0, \n",
       "'clu_adjusted_rand_score': 1.0, 'clu_adjusted_mutual_info_score': 1.0}\n",
       "</pre>\n"
      ],
      "text/plain": [
       "Metrics: {'clu_homogeneity_score': 1.0, 'clu_completeness_score': 1.0, 'clu_v_measure_score': 1.0, \n",
       "'clu_adjusted_rand_score': 1.0, 'clu_adjusted_mutual_info_score': 1.0}\n"
      ]
     },
     "metadata": {},
     "output_type": "display_data"
    },
    {
     "name": "stderr",
     "output_type": "stream",
     "text": [
      "Epoch 41, global step 2646: 'val_loss' was not in top 3\n"
     ]
    },
    {
     "data": {
      "text/html": [
       "<pre style=\"white-space:pre;overflow-x:auto;line-height:normal;font-family:Menlo,'DejaVu Sans Mono',consolas,'Courier New',monospace\">Epoch 42\n",
       "</pre>\n"
      ],
      "text/plain": [
       "Epoch 42\n"
      ]
     },
     "metadata": {},
     "output_type": "display_data"
    },
    {
     "data": {
      "text/html": [
       "<pre style=\"white-space:pre;overflow-x:auto;line-height:normal;font-family:Menlo,'DejaVu Sans Mono',consolas,'Courier New',monospace\">Creating dataset from Clustering elapsed time: 53.1341 seconds.\n",
       "</pre>\n"
      ],
      "text/plain": [
       "Creating dataset from Clustering elapsed time: 53.1341 seconds.\n"
      ]
     },
     "metadata": {},
     "output_type": "display_data"
    },
    {
     "data": {
      "text/html": [
       "<pre style=\"white-space:pre;overflow-x:auto;line-height:normal;font-family:Menlo,'DejaVu Sans Mono',consolas,'Courier New',monospace\">Feature extracting elapsed time: 123.5325 seconds.\n",
       "</pre>\n"
      ],
      "text/plain": [
       "Feature extracting elapsed time: 123.5325 seconds.\n"
      ]
     },
     "metadata": {},
     "output_type": "display_data"
    },
    {
     "data": {
      "text/html": [
       "<pre style=\"white-space:pre;overflow-x:auto;line-height:normal;font-family:Menlo,'DejaVu Sans Mono',consolas,'Courier New',monospace\">/Users/arthuralvim/Library/Caches/pypoetry/virtualenvs/xai-clustering-b3gHD5dt-py3.9/lib/python3.9/site-packages/sk\n",
       "learn/base.py:1152: ConvergenceWarning: Number of distinct clusters (2) found smaller than n_clusters (4). Possibly\n",
       "due to duplicate points in X.\n",
       "  return fit_method(estimator, *args, **kwargs)\n",
       "</pre>\n"
      ],
      "text/plain": [
       "/Users/arthuralvim/Library/Caches/pypoetry/virtualenvs/xai-clustering-b3gHD5dt-py3.9/lib/python3.9/site-packages/sk\n",
       "learn/base.py:1152: ConvergenceWarning: Number of distinct clusters (2) found smaller than n_clusters (4). Possibly\n",
       "due to duplicate points in X.\n",
       "  return fit_method(estimator, *args, **kwargs)\n"
      ]
     },
     "metadata": {},
     "output_type": "display_data"
    },
    {
     "data": {
      "text/html": [
       "<pre style=\"white-space:pre;overflow-x:auto;line-height:normal;font-family:Menlo,'DejaVu Sans Mono',consolas,'Courier New',monospace\">Clustering elapsed time: 0.6526 seconds.\n",
       "</pre>\n"
      ],
      "text/plain": [
       "Clustering elapsed time: 0.6526 seconds.\n"
      ]
     },
     "metadata": {},
     "output_type": "display_data"
    },
    {
     "data": {
      "text/html": [
       "<pre style=\"white-space:pre;overflow-x:auto;line-height:normal;font-family:Menlo,'DejaVu Sans Mono',consolas,'Courier New',monospace\">Metrics: {'clu_homogeneity_score': 1.0, 'clu_completeness_score': 0.0, 'clu_v_measure_score': 0.0, \n",
       "'clu_adjusted_rand_score': 0.0, 'clu_adjusted_mutual_info_score': 0.0}\n",
       "</pre>\n"
      ],
      "text/plain": [
       "Metrics: {'clu_homogeneity_score': 1.0, 'clu_completeness_score': 0.0, 'clu_v_measure_score': 0.0, \n",
       "'clu_adjusted_rand_score': 0.0, 'clu_adjusted_mutual_info_score': 0.0}\n"
      ]
     },
     "metadata": {},
     "output_type": "display_data"
    },
    {
     "name": "stderr",
     "output_type": "stream",
     "text": [
      "Epoch 42, global step 2709: 'val_loss' was not in top 3\n"
     ]
    },
    {
     "data": {
      "text/html": [
       "<pre style=\"white-space:pre;overflow-x:auto;line-height:normal;font-family:Menlo,'DejaVu Sans Mono',consolas,'Courier New',monospace\">Epoch 43\n",
       "</pre>\n"
      ],
      "text/plain": [
       "Epoch 43\n"
      ]
     },
     "metadata": {},
     "output_type": "display_data"
    },
    {
     "data": {
      "text/html": [
       "<pre style=\"white-space:pre;overflow-x:auto;line-height:normal;font-family:Menlo,'DejaVu Sans Mono',consolas,'Courier New',monospace\">Creating dataset from Clustering elapsed time: 48.2903 seconds.\n",
       "</pre>\n"
      ],
      "text/plain": [
       "Creating dataset from Clustering elapsed time: 48.2903 seconds.\n"
      ]
     },
     "metadata": {},
     "output_type": "display_data"
    },
    {
     "data": {
      "text/html": [
       "<pre style=\"white-space:pre;overflow-x:auto;line-height:normal;font-family:Menlo,'DejaVu Sans Mono',consolas,'Courier New',monospace\">Feature extracting elapsed time: 116.7953 seconds.\n",
       "</pre>\n"
      ],
      "text/plain": [
       "Feature extracting elapsed time: 116.7953 seconds.\n"
      ]
     },
     "metadata": {},
     "output_type": "display_data"
    },
    {
     "data": {
      "text/html": [
       "<pre style=\"white-space:pre;overflow-x:auto;line-height:normal;font-family:Menlo,'DejaVu Sans Mono',consolas,'Courier New',monospace\">/Users/arthuralvim/Library/Caches/pypoetry/virtualenvs/xai-clustering-b3gHD5dt-py3.9/lib/python3.9/site-packages/sk\n",
       "learn/base.py:1152: ConvergenceWarning: Number of distinct clusters (2) found smaller than n_clusters (4). Possibly\n",
       "due to duplicate points in X.\n",
       "  return fit_method(estimator, *args, **kwargs)\n",
       "</pre>\n"
      ],
      "text/plain": [
       "/Users/arthuralvim/Library/Caches/pypoetry/virtualenvs/xai-clustering-b3gHD5dt-py3.9/lib/python3.9/site-packages/sk\n",
       "learn/base.py:1152: ConvergenceWarning: Number of distinct clusters (2) found smaller than n_clusters (4). Possibly\n",
       "due to duplicate points in X.\n",
       "  return fit_method(estimator, *args, **kwargs)\n"
      ]
     },
     "metadata": {},
     "output_type": "display_data"
    },
    {
     "data": {
      "text/html": [
       "<pre style=\"white-space:pre;overflow-x:auto;line-height:normal;font-family:Menlo,'DejaVu Sans Mono',consolas,'Courier New',monospace\">Clustering elapsed time: 0.7322 seconds.\n",
       "</pre>\n"
      ],
      "text/plain": [
       "Clustering elapsed time: 0.7322 seconds.\n"
      ]
     },
     "metadata": {},
     "output_type": "display_data"
    },
    {
     "data": {
      "text/html": [
       "<pre style=\"white-space:pre;overflow-x:auto;line-height:normal;font-family:Menlo,'DejaVu Sans Mono',consolas,'Courier New',monospace\">Metrics: {'clu_homogeneity_score': 1.0, 'clu_completeness_score': 1.0, 'clu_v_measure_score': 1.0, \n",
       "'clu_adjusted_rand_score': 1.0, 'clu_adjusted_mutual_info_score': 1.0}\n",
       "</pre>\n"
      ],
      "text/plain": [
       "Metrics: {'clu_homogeneity_score': 1.0, 'clu_completeness_score': 1.0, 'clu_v_measure_score': 1.0, \n",
       "'clu_adjusted_rand_score': 1.0, 'clu_adjusted_mutual_info_score': 1.0}\n"
      ]
     },
     "metadata": {},
     "output_type": "display_data"
    },
    {
     "name": "stderr",
     "output_type": "stream",
     "text": [
      "Epoch 43, global step 2772: 'val_loss' was not in top 3\n"
     ]
    },
    {
     "data": {
      "text/html": [
       "<pre style=\"white-space:pre;overflow-x:auto;line-height:normal;font-family:Menlo,'DejaVu Sans Mono',consolas,'Courier New',monospace\">Epoch 44\n",
       "</pre>\n"
      ],
      "text/plain": [
       "Epoch 44\n"
      ]
     },
     "metadata": {},
     "output_type": "display_data"
    },
    {
     "data": {
      "text/html": [
       "<pre style=\"white-space:pre;overflow-x:auto;line-height:normal;font-family:Menlo,'DejaVu Sans Mono',consolas,'Courier New',monospace\">Creating dataset from Clustering elapsed time: 47.9680 seconds.\n",
       "</pre>\n"
      ],
      "text/plain": [
       "Creating dataset from Clustering elapsed time: 47.9680 seconds.\n"
      ]
     },
     "metadata": {},
     "output_type": "display_data"
    },
    {
     "data": {
      "text/html": [
       "<pre style=\"white-space:pre;overflow-x:auto;line-height:normal;font-family:Menlo,'DejaVu Sans Mono',consolas,'Courier New',monospace\">Feature extracting elapsed time: 116.1873 seconds.\n",
       "</pre>\n"
      ],
      "text/plain": [
       "Feature extracting elapsed time: 116.1873 seconds.\n"
      ]
     },
     "metadata": {},
     "output_type": "display_data"
    },
    {
     "data": {
      "text/html": [
       "<pre style=\"white-space:pre;overflow-x:auto;line-height:normal;font-family:Menlo,'DejaVu Sans Mono',consolas,'Courier New',monospace\">/Users/arthuralvim/Library/Caches/pypoetry/virtualenvs/xai-clustering-b3gHD5dt-py3.9/lib/python3.9/site-packages/sk\n",
       "learn/base.py:1152: ConvergenceWarning: Number of distinct clusters (2) found smaller than n_clusters (4). Possibly\n",
       "due to duplicate points in X.\n",
       "  return fit_method(estimator, *args, **kwargs)\n",
       "</pre>\n"
      ],
      "text/plain": [
       "/Users/arthuralvim/Library/Caches/pypoetry/virtualenvs/xai-clustering-b3gHD5dt-py3.9/lib/python3.9/site-packages/sk\n",
       "learn/base.py:1152: ConvergenceWarning: Number of distinct clusters (2) found smaller than n_clusters (4). Possibly\n",
       "due to duplicate points in X.\n",
       "  return fit_method(estimator, *args, **kwargs)\n"
      ]
     },
     "metadata": {},
     "output_type": "display_data"
    },
    {
     "data": {
      "text/html": [
       "<pre style=\"white-space:pre;overflow-x:auto;line-height:normal;font-family:Menlo,'DejaVu Sans Mono',consolas,'Courier New',monospace\">Clustering elapsed time: 0.7196 seconds.\n",
       "</pre>\n"
      ],
      "text/plain": [
       "Clustering elapsed time: 0.7196 seconds.\n"
      ]
     },
     "metadata": {},
     "output_type": "display_data"
    },
    {
     "data": {
      "text/html": [
       "<pre style=\"white-space:pre;overflow-x:auto;line-height:normal;font-family:Menlo,'DejaVu Sans Mono',consolas,'Courier New',monospace\">Metrics: {'clu_homogeneity_score': 1.0, 'clu_completeness_score': 1.0, 'clu_v_measure_score': 1.0, \n",
       "'clu_adjusted_rand_score': 1.0, 'clu_adjusted_mutual_info_score': 1.0}\n",
       "</pre>\n"
      ],
      "text/plain": [
       "Metrics: {'clu_homogeneity_score': 1.0, 'clu_completeness_score': 1.0, 'clu_v_measure_score': 1.0, \n",
       "'clu_adjusted_rand_score': 1.0, 'clu_adjusted_mutual_info_score': 1.0}\n"
      ]
     },
     "metadata": {},
     "output_type": "display_data"
    },
    {
     "name": "stderr",
     "output_type": "stream",
     "text": [
      "Epoch 44, global step 2835: 'val_loss' was not in top 3\n"
     ]
    },
    {
     "data": {
      "text/html": [
       "<pre style=\"white-space:pre;overflow-x:auto;line-height:normal;font-family:Menlo,'DejaVu Sans Mono',consolas,'Courier New',monospace\">Epoch 45\n",
       "</pre>\n"
      ],
      "text/plain": [
       "Epoch 45\n"
      ]
     },
     "metadata": {},
     "output_type": "display_data"
    },
    {
     "data": {
      "text/html": [
       "<pre style=\"white-space:pre;overflow-x:auto;line-height:normal;font-family:Menlo,'DejaVu Sans Mono',consolas,'Courier New',monospace\">Creating dataset from Clustering elapsed time: 49.5441 seconds.\n",
       "</pre>\n"
      ],
      "text/plain": [
       "Creating dataset from Clustering elapsed time: 49.5441 seconds.\n"
      ]
     },
     "metadata": {},
     "output_type": "display_data"
    },
    {
     "data": {
      "text/html": [
       "<pre style=\"white-space:pre;overflow-x:auto;line-height:normal;font-family:Menlo,'DejaVu Sans Mono',consolas,'Courier New',monospace\">Feature extracting elapsed time: 119.1901 seconds.\n",
       "</pre>\n"
      ],
      "text/plain": [
       "Feature extracting elapsed time: 119.1901 seconds.\n"
      ]
     },
     "metadata": {},
     "output_type": "display_data"
    },
    {
     "data": {
      "text/html": [
       "<pre style=\"white-space:pre;overflow-x:auto;line-height:normal;font-family:Menlo,'DejaVu Sans Mono',consolas,'Courier New',monospace\">/Users/arthuralvim/Library/Caches/pypoetry/virtualenvs/xai-clustering-b3gHD5dt-py3.9/lib/python3.9/site-packages/sk\n",
       "learn/base.py:1152: ConvergenceWarning: Number of distinct clusters (2) found smaller than n_clusters (4). Possibly\n",
       "due to duplicate points in X.\n",
       "  return fit_method(estimator, *args, **kwargs)\n",
       "</pre>\n"
      ],
      "text/plain": [
       "/Users/arthuralvim/Library/Caches/pypoetry/virtualenvs/xai-clustering-b3gHD5dt-py3.9/lib/python3.9/site-packages/sk\n",
       "learn/base.py:1152: ConvergenceWarning: Number of distinct clusters (2) found smaller than n_clusters (4). Possibly\n",
       "due to duplicate points in X.\n",
       "  return fit_method(estimator, *args, **kwargs)\n"
      ]
     },
     "metadata": {},
     "output_type": "display_data"
    },
    {
     "data": {
      "text/html": [
       "<pre style=\"white-space:pre;overflow-x:auto;line-height:normal;font-family:Menlo,'DejaVu Sans Mono',consolas,'Courier New',monospace\">Clustering elapsed time: 0.8178 seconds.\n",
       "</pre>\n"
      ],
      "text/plain": [
       "Clustering elapsed time: 0.8178 seconds.\n"
      ]
     },
     "metadata": {},
     "output_type": "display_data"
    },
    {
     "data": {
      "text/html": [
       "<pre style=\"white-space:pre;overflow-x:auto;line-height:normal;font-family:Menlo,'DejaVu Sans Mono',consolas,'Courier New',monospace\">Metrics: {'clu_homogeneity_score': 1.0, 'clu_completeness_score': 1.0, 'clu_v_measure_score': 1.0, \n",
       "'clu_adjusted_rand_score': 1.0, 'clu_adjusted_mutual_info_score': 1.0}\n",
       "</pre>\n"
      ],
      "text/plain": [
       "Metrics: {'clu_homogeneity_score': 1.0, 'clu_completeness_score': 1.0, 'clu_v_measure_score': 1.0, \n",
       "'clu_adjusted_rand_score': 1.0, 'clu_adjusted_mutual_info_score': 1.0}\n"
      ]
     },
     "metadata": {},
     "output_type": "display_data"
    },
    {
     "name": "stderr",
     "output_type": "stream",
     "text": [
      "Epoch 45, global step 2898: 'val_loss' was not in top 3\n"
     ]
    },
    {
     "data": {
      "text/html": [
       "<pre style=\"white-space:pre;overflow-x:auto;line-height:normal;font-family:Menlo,'DejaVu Sans Mono',consolas,'Courier New',monospace\">Epoch 46\n",
       "</pre>\n"
      ],
      "text/plain": [
       "Epoch 46\n"
      ]
     },
     "metadata": {},
     "output_type": "display_data"
    },
    {
     "data": {
      "text/html": [
       "<pre style=\"white-space:pre;overflow-x:auto;line-height:normal;font-family:Menlo,'DejaVu Sans Mono',consolas,'Courier New',monospace\">Creating dataset from Clustering elapsed time: 50.3076 seconds.\n",
       "</pre>\n"
      ],
      "text/plain": [
       "Creating dataset from Clustering elapsed time: 50.3076 seconds.\n"
      ]
     },
     "metadata": {},
     "output_type": "display_data"
    },
    {
     "data": {
      "text/html": [
       "<pre style=\"white-space:pre;overflow-x:auto;line-height:normal;font-family:Menlo,'DejaVu Sans Mono',consolas,'Courier New',monospace\">Feature extracting elapsed time: 122.6205 seconds.\n",
       "</pre>\n"
      ],
      "text/plain": [
       "Feature extracting elapsed time: 122.6205 seconds.\n"
      ]
     },
     "metadata": {},
     "output_type": "display_data"
    },
    {
     "data": {
      "text/html": [
       "<pre style=\"white-space:pre;overflow-x:auto;line-height:normal;font-family:Menlo,'DejaVu Sans Mono',consolas,'Courier New',monospace\">/Users/arthuralvim/Library/Caches/pypoetry/virtualenvs/xai-clustering-b3gHD5dt-py3.9/lib/python3.9/site-packages/sk\n",
       "learn/base.py:1152: ConvergenceWarning: Number of distinct clusters (1) found smaller than n_clusters (4). Possibly\n",
       "due to duplicate points in X.\n",
       "  return fit_method(estimator, *args, **kwargs)\n",
       "</pre>\n"
      ],
      "text/plain": [
       "/Users/arthuralvim/Library/Caches/pypoetry/virtualenvs/xai-clustering-b3gHD5dt-py3.9/lib/python3.9/site-packages/sk\n",
       "learn/base.py:1152: ConvergenceWarning: Number of distinct clusters (1) found smaller than n_clusters (4). Possibly\n",
       "due to duplicate points in X.\n",
       "  return fit_method(estimator, *args, **kwargs)\n"
      ]
     },
     "metadata": {},
     "output_type": "display_data"
    },
    {
     "data": {
      "text/html": [
       "<pre style=\"white-space:pre;overflow-x:auto;line-height:normal;font-family:Menlo,'DejaVu Sans Mono',consolas,'Courier New',monospace\">Clustering elapsed time: 0.8199 seconds.\n",
       "</pre>\n"
      ],
      "text/plain": [
       "Clustering elapsed time: 0.8199 seconds.\n"
      ]
     },
     "metadata": {},
     "output_type": "display_data"
    },
    {
     "data": {
      "text/html": [
       "<pre style=\"white-space:pre;overflow-x:auto;line-height:normal;font-family:Menlo,'DejaVu Sans Mono',consolas,'Courier New',monospace\">Metrics: {'clu_homogeneity_score': 0.0, 'clu_completeness_score': 1.0, 'clu_v_measure_score': 0.0, \n",
       "'clu_adjusted_rand_score': 0.0, 'clu_adjusted_mutual_info_score': 0.0}\n",
       "</pre>\n"
      ],
      "text/plain": [
       "Metrics: {'clu_homogeneity_score': 0.0, 'clu_completeness_score': 1.0, 'clu_v_measure_score': 0.0, \n",
       "'clu_adjusted_rand_score': 0.0, 'clu_adjusted_mutual_info_score': 0.0}\n"
      ]
     },
     "metadata": {},
     "output_type": "display_data"
    },
    {
     "name": "stderr",
     "output_type": "stream",
     "text": [
      "Epoch 46, global step 2961: 'val_loss' was not in top 3\n"
     ]
    },
    {
     "data": {
      "text/html": [
       "<pre style=\"white-space:pre;overflow-x:auto;line-height:normal;font-family:Menlo,'DejaVu Sans Mono',consolas,'Courier New',monospace\">Epoch 47\n",
       "</pre>\n"
      ],
      "text/plain": [
       "Epoch 47\n"
      ]
     },
     "metadata": {},
     "output_type": "display_data"
    },
    {
     "data": {
      "text/html": [
       "<pre style=\"white-space:pre;overflow-x:auto;line-height:normal;font-family:Menlo,'DejaVu Sans Mono',consolas,'Courier New',monospace\">Creating dataset from Clustering elapsed time: 46.0390 seconds.\n",
       "</pre>\n"
      ],
      "text/plain": [
       "Creating dataset from Clustering elapsed time: 46.0390 seconds.\n"
      ]
     },
     "metadata": {},
     "output_type": "display_data"
    },
    {
     "data": {
      "text/html": [
       "<pre style=\"white-space:pre;overflow-x:auto;line-height:normal;font-family:Menlo,'DejaVu Sans Mono',consolas,'Courier New',monospace\">Feature extracting elapsed time: 111.4240 seconds.\n",
       "</pre>\n"
      ],
      "text/plain": [
       "Feature extracting elapsed time: 111.4240 seconds.\n"
      ]
     },
     "metadata": {},
     "output_type": "display_data"
    },
    {
     "data": {
      "text/html": [
       "<pre style=\"white-space:pre;overflow-x:auto;line-height:normal;font-family:Menlo,'DejaVu Sans Mono',consolas,'Courier New',monospace\">/Users/arthuralvim/Library/Caches/pypoetry/virtualenvs/xai-clustering-b3gHD5dt-py3.9/lib/python3.9/site-packages/sk\n",
       "learn/base.py:1152: ConvergenceWarning: Number of distinct clusters (1) found smaller than n_clusters (4). Possibly\n",
       "due to duplicate points in X.\n",
       "  return fit_method(estimator, *args, **kwargs)\n",
       "</pre>\n"
      ],
      "text/plain": [
       "/Users/arthuralvim/Library/Caches/pypoetry/virtualenvs/xai-clustering-b3gHD5dt-py3.9/lib/python3.9/site-packages/sk\n",
       "learn/base.py:1152: ConvergenceWarning: Number of distinct clusters (1) found smaller than n_clusters (4). Possibly\n",
       "due to duplicate points in X.\n",
       "  return fit_method(estimator, *args, **kwargs)\n"
      ]
     },
     "metadata": {},
     "output_type": "display_data"
    },
    {
     "data": {
      "text/html": [
       "<pre style=\"white-space:pre;overflow-x:auto;line-height:normal;font-family:Menlo,'DejaVu Sans Mono',consolas,'Courier New',monospace\">Clustering elapsed time: 0.6131 seconds.\n",
       "</pre>\n"
      ],
      "text/plain": [
       "Clustering elapsed time: 0.6131 seconds.\n"
      ]
     },
     "metadata": {},
     "output_type": "display_data"
    },
    {
     "data": {
      "text/html": [
       "<pre style=\"white-space:pre;overflow-x:auto;line-height:normal;font-family:Menlo,'DejaVu Sans Mono',consolas,'Courier New',monospace\">Metrics: {'clu_homogeneity_score': 1.0, 'clu_completeness_score': 1.0, 'clu_v_measure_score': 1.0, \n",
       "'clu_adjusted_rand_score': 1.0, 'clu_adjusted_mutual_info_score': 1.0}\n",
       "</pre>\n"
      ],
      "text/plain": [
       "Metrics: {'clu_homogeneity_score': 1.0, 'clu_completeness_score': 1.0, 'clu_v_measure_score': 1.0, \n",
       "'clu_adjusted_rand_score': 1.0, 'clu_adjusted_mutual_info_score': 1.0}\n"
      ]
     },
     "metadata": {},
     "output_type": "display_data"
    },
    {
     "name": "stderr",
     "output_type": "stream",
     "text": [
      "Epoch 47, global step 3024: 'val_loss' was not in top 3\n"
     ]
    },
    {
     "data": {
      "text/html": [
       "<pre style=\"white-space:pre;overflow-x:auto;line-height:normal;font-family:Menlo,'DejaVu Sans Mono',consolas,'Courier New',monospace\">Epoch 48\n",
       "</pre>\n"
      ],
      "text/plain": [
       "Epoch 48\n"
      ]
     },
     "metadata": {},
     "output_type": "display_data"
    },
    {
     "data": {
      "text/html": [
       "<pre style=\"white-space:pre;overflow-x:auto;line-height:normal;font-family:Menlo,'DejaVu Sans Mono',consolas,'Courier New',monospace\">Creating dataset from Clustering elapsed time: 50.1241 seconds.\n",
       "</pre>\n"
      ],
      "text/plain": [
       "Creating dataset from Clustering elapsed time: 50.1241 seconds.\n"
      ]
     },
     "metadata": {},
     "output_type": "display_data"
    },
    {
     "data": {
      "text/html": [
       "<pre style=\"white-space:pre;overflow-x:auto;line-height:normal;font-family:Menlo,'DejaVu Sans Mono',consolas,'Courier New',monospace\">Feature extracting elapsed time: 120.4431 seconds.\n",
       "</pre>\n"
      ],
      "text/plain": [
       "Feature extracting elapsed time: 120.4431 seconds.\n"
      ]
     },
     "metadata": {},
     "output_type": "display_data"
    },
    {
     "data": {
      "text/html": [
       "<pre style=\"white-space:pre;overflow-x:auto;line-height:normal;font-family:Menlo,'DejaVu Sans Mono',consolas,'Courier New',monospace\">/Users/arthuralvim/Library/Caches/pypoetry/virtualenvs/xai-clustering-b3gHD5dt-py3.9/lib/python3.9/site-packages/sk\n",
       "learn/base.py:1152: ConvergenceWarning: Number of distinct clusters (1) found smaller than n_clusters (4). Possibly\n",
       "due to duplicate points in X.\n",
       "  return fit_method(estimator, *args, **kwargs)\n",
       "</pre>\n"
      ],
      "text/plain": [
       "/Users/arthuralvim/Library/Caches/pypoetry/virtualenvs/xai-clustering-b3gHD5dt-py3.9/lib/python3.9/site-packages/sk\n",
       "learn/base.py:1152: ConvergenceWarning: Number of distinct clusters (1) found smaller than n_clusters (4). Possibly\n",
       "due to duplicate points in X.\n",
       "  return fit_method(estimator, *args, **kwargs)\n"
      ]
     },
     "metadata": {},
     "output_type": "display_data"
    },
    {
     "data": {
      "text/html": [
       "<pre style=\"white-space:pre;overflow-x:auto;line-height:normal;font-family:Menlo,'DejaVu Sans Mono',consolas,'Courier New',monospace\">Clustering elapsed time: 1.1045 seconds.\n",
       "</pre>\n"
      ],
      "text/plain": [
       "Clustering elapsed time: 1.1045 seconds.\n"
      ]
     },
     "metadata": {},
     "output_type": "display_data"
    },
    {
     "data": {
      "text/html": [
       "<pre style=\"white-space:pre;overflow-x:auto;line-height:normal;font-family:Menlo,'DejaVu Sans Mono',consolas,'Courier New',monospace\">Metrics: {'clu_homogeneity_score': 1.0, 'clu_completeness_score': 1.0, 'clu_v_measure_score': 1.0, \n",
       "'clu_adjusted_rand_score': 1.0, 'clu_adjusted_mutual_info_score': 1.0}\n",
       "</pre>\n"
      ],
      "text/plain": [
       "Metrics: {'clu_homogeneity_score': 1.0, 'clu_completeness_score': 1.0, 'clu_v_measure_score': 1.0, \n",
       "'clu_adjusted_rand_score': 1.0, 'clu_adjusted_mutual_info_score': 1.0}\n"
      ]
     },
     "metadata": {},
     "output_type": "display_data"
    },
    {
     "name": "stderr",
     "output_type": "stream",
     "text": [
      "Epoch 48, global step 3087: 'val_loss' was not in top 3\n"
     ]
    },
    {
     "data": {
      "text/html": [
       "<pre style=\"white-space:pre;overflow-x:auto;line-height:normal;font-family:Menlo,'DejaVu Sans Mono',consolas,'Courier New',monospace\">Epoch 49\n",
       "</pre>\n"
      ],
      "text/plain": [
       "Epoch 49\n"
      ]
     },
     "metadata": {},
     "output_type": "display_data"
    },
    {
     "data": {
      "text/html": [
       "<pre style=\"white-space:pre;overflow-x:auto;line-height:normal;font-family:Menlo,'DejaVu Sans Mono',consolas,'Courier New',monospace\">Creating dataset from Clustering elapsed time: 52.9087 seconds.\n",
       "</pre>\n"
      ],
      "text/plain": [
       "Creating dataset from Clustering elapsed time: 52.9087 seconds.\n"
      ]
     },
     "metadata": {},
     "output_type": "display_data"
    },
    {
     "data": {
      "text/html": [
       "<pre style=\"white-space:pre;overflow-x:auto;line-height:normal;font-family:Menlo,'DejaVu Sans Mono',consolas,'Courier New',monospace\">Feature extracting elapsed time: 124.6506 seconds.\n",
       "</pre>\n"
      ],
      "text/plain": [
       "Feature extracting elapsed time: 124.6506 seconds.\n"
      ]
     },
     "metadata": {},
     "output_type": "display_data"
    },
    {
     "data": {
      "text/html": [
       "<pre style=\"white-space:pre;overflow-x:auto;line-height:normal;font-family:Menlo,'DejaVu Sans Mono',consolas,'Courier New',monospace\">/Users/arthuralvim/Library/Caches/pypoetry/virtualenvs/xai-clustering-b3gHD5dt-py3.9/lib/python3.9/site-packages/sk\n",
       "learn/base.py:1152: ConvergenceWarning: Number of distinct clusters (2) found smaller than n_clusters (4). Possibly\n",
       "due to duplicate points in X.\n",
       "  return fit_method(estimator, *args, **kwargs)\n",
       "</pre>\n"
      ],
      "text/plain": [
       "/Users/arthuralvim/Library/Caches/pypoetry/virtualenvs/xai-clustering-b3gHD5dt-py3.9/lib/python3.9/site-packages/sk\n",
       "learn/base.py:1152: ConvergenceWarning: Number of distinct clusters (2) found smaller than n_clusters (4). Possibly\n",
       "due to duplicate points in X.\n",
       "  return fit_method(estimator, *args, **kwargs)\n"
      ]
     },
     "metadata": {},
     "output_type": "display_data"
    },
    {
     "data": {
      "text/html": [
       "<pre style=\"white-space:pre;overflow-x:auto;line-height:normal;font-family:Menlo,'DejaVu Sans Mono',consolas,'Courier New',monospace\">Clustering elapsed time: 0.9990 seconds.\n",
       "</pre>\n"
      ],
      "text/plain": [
       "Clustering elapsed time: 0.9990 seconds.\n"
      ]
     },
     "metadata": {},
     "output_type": "display_data"
    },
    {
     "data": {
      "text/html": [
       "<pre style=\"white-space:pre;overflow-x:auto;line-height:normal;font-family:Menlo,'DejaVu Sans Mono',consolas,'Courier New',monospace\">Metrics: {'clu_homogeneity_score': 1.0, 'clu_completeness_score': 0.0, 'clu_v_measure_score': 0.0, \n",
       "'clu_adjusted_rand_score': 0.0, 'clu_adjusted_mutual_info_score': 0.0}\n",
       "</pre>\n"
      ],
      "text/plain": [
       "Metrics: {'clu_homogeneity_score': 1.0, 'clu_completeness_score': 0.0, 'clu_v_measure_score': 0.0, \n",
       "'clu_adjusted_rand_score': 0.0, 'clu_adjusted_mutual_info_score': 0.0}\n"
      ]
     },
     "metadata": {},
     "output_type": "display_data"
    },
    {
     "name": "stderr",
     "output_type": "stream",
     "text": [
      "Epoch 49, global step 3150: 'val_loss' was not in top 3\n"
     ]
    },
    {
     "data": {
      "text/html": [
       "<pre style=\"white-space:pre;overflow-x:auto;line-height:normal;font-family:Menlo,'DejaVu Sans Mono',consolas,'Courier New',monospace\">Epoch 50\n",
       "</pre>\n"
      ],
      "text/plain": [
       "Epoch 50\n"
      ]
     },
     "metadata": {},
     "output_type": "display_data"
    },
    {
     "data": {
      "text/html": [
       "<pre style=\"white-space:pre;overflow-x:auto;line-height:normal;font-family:Menlo,'DejaVu Sans Mono',consolas,'Courier New',monospace\">Creating dataset from Clustering elapsed time: 51.4949 seconds.\n",
       "</pre>\n"
      ],
      "text/plain": [
       "Creating dataset from Clustering elapsed time: 51.4949 seconds.\n"
      ]
     },
     "metadata": {},
     "output_type": "display_data"
    },
    {
     "data": {
      "text/html": [
       "<pre style=\"white-space:pre;overflow-x:auto;line-height:normal;font-family:Menlo,'DejaVu Sans Mono',consolas,'Courier New',monospace\">Feature extracting elapsed time: 128.1335 seconds.\n",
       "</pre>\n"
      ],
      "text/plain": [
       "Feature extracting elapsed time: 128.1335 seconds.\n"
      ]
     },
     "metadata": {},
     "output_type": "display_data"
    },
    {
     "data": {
      "text/html": [
       "<pre style=\"white-space:pre;overflow-x:auto;line-height:normal;font-family:Menlo,'DejaVu Sans Mono',consolas,'Courier New',monospace\">/Users/arthuralvim/Library/Caches/pypoetry/virtualenvs/xai-clustering-b3gHD5dt-py3.9/lib/python3.9/site-packages/sk\n",
       "learn/base.py:1152: ConvergenceWarning: Number of distinct clusters (1) found smaller than n_clusters (4). Possibly\n",
       "due to duplicate points in X.\n",
       "  return fit_method(estimator, *args, **kwargs)\n",
       "</pre>\n"
      ],
      "text/plain": [
       "/Users/arthuralvim/Library/Caches/pypoetry/virtualenvs/xai-clustering-b3gHD5dt-py3.9/lib/python3.9/site-packages/sk\n",
       "learn/base.py:1152: ConvergenceWarning: Number of distinct clusters (1) found smaller than n_clusters (4). Possibly\n",
       "due to duplicate points in X.\n",
       "  return fit_method(estimator, *args, **kwargs)\n"
      ]
     },
     "metadata": {},
     "output_type": "display_data"
    },
    {
     "data": {
      "text/html": [
       "<pre style=\"white-space:pre;overflow-x:auto;line-height:normal;font-family:Menlo,'DejaVu Sans Mono',consolas,'Courier New',monospace\">Clustering elapsed time: 0.6943 seconds.\n",
       "</pre>\n"
      ],
      "text/plain": [
       "Clustering elapsed time: 0.6943 seconds.\n"
      ]
     },
     "metadata": {},
     "output_type": "display_data"
    },
    {
     "data": {
      "text/html": [
       "<pre style=\"white-space:pre;overflow-x:auto;line-height:normal;font-family:Menlo,'DejaVu Sans Mono',consolas,'Courier New',monospace\">Metrics: {'clu_homogeneity_score': 0.0, 'clu_completeness_score': 1.0, 'clu_v_measure_score': 0.0, \n",
       "'clu_adjusted_rand_score': 0.0, 'clu_adjusted_mutual_info_score': 0.0}\n",
       "</pre>\n"
      ],
      "text/plain": [
       "Metrics: {'clu_homogeneity_score': 0.0, 'clu_completeness_score': 1.0, 'clu_v_measure_score': 0.0, \n",
       "'clu_adjusted_rand_score': 0.0, 'clu_adjusted_mutual_info_score': 0.0}\n"
      ]
     },
     "metadata": {},
     "output_type": "display_data"
    },
    {
     "name": "stderr",
     "output_type": "stream",
     "text": [
      "Epoch 50, global step 3213: 'val_loss' was not in top 3\n"
     ]
    },
    {
     "data": {
      "text/html": [
       "<pre style=\"white-space:pre;overflow-x:auto;line-height:normal;font-family:Menlo,'DejaVu Sans Mono',consolas,'Courier New',monospace\">Epoch 51\n",
       "</pre>\n"
      ],
      "text/plain": [
       "Epoch 51\n"
      ]
     },
     "metadata": {},
     "output_type": "display_data"
    },
    {
     "data": {
      "text/html": [
       "<pre style=\"white-space:pre;overflow-x:auto;line-height:normal;font-family:Menlo,'DejaVu Sans Mono',consolas,'Courier New',monospace\">Creating dataset from Clustering elapsed time: 44.2130 seconds.\n",
       "</pre>\n"
      ],
      "text/plain": [
       "Creating dataset from Clustering elapsed time: 44.2130 seconds.\n"
      ]
     },
     "metadata": {},
     "output_type": "display_data"
    },
    {
     "data": {
      "text/html": [
       "<pre style=\"white-space:pre;overflow-x:auto;line-height:normal;font-family:Menlo,'DejaVu Sans Mono',consolas,'Courier New',monospace\">Feature extracting elapsed time: 107.2418 seconds.\n",
       "</pre>\n"
      ],
      "text/plain": [
       "Feature extracting elapsed time: 107.2418 seconds.\n"
      ]
     },
     "metadata": {},
     "output_type": "display_data"
    },
    {
     "data": {
      "text/html": [
       "<pre style=\"white-space:pre;overflow-x:auto;line-height:normal;font-family:Menlo,'DejaVu Sans Mono',consolas,'Courier New',monospace\">/Users/arthuralvim/Library/Caches/pypoetry/virtualenvs/xai-clustering-b3gHD5dt-py3.9/lib/python3.9/site-packages/sk\n",
       "learn/base.py:1152: ConvergenceWarning: Number of distinct clusters (1) found smaller than n_clusters (4). Possibly\n",
       "due to duplicate points in X.\n",
       "  return fit_method(estimator, *args, **kwargs)\n",
       "</pre>\n"
      ],
      "text/plain": [
       "/Users/arthuralvim/Library/Caches/pypoetry/virtualenvs/xai-clustering-b3gHD5dt-py3.9/lib/python3.9/site-packages/sk\n",
       "learn/base.py:1152: ConvergenceWarning: Number of distinct clusters (1) found smaller than n_clusters (4). Possibly\n",
       "due to duplicate points in X.\n",
       "  return fit_method(estimator, *args, **kwargs)\n"
      ]
     },
     "metadata": {},
     "output_type": "display_data"
    },
    {
     "data": {
      "text/html": [
       "<pre style=\"white-space:pre;overflow-x:auto;line-height:normal;font-family:Menlo,'DejaVu Sans Mono',consolas,'Courier New',monospace\">Clustering elapsed time: 0.6496 seconds.\n",
       "</pre>\n"
      ],
      "text/plain": [
       "Clustering elapsed time: 0.6496 seconds.\n"
      ]
     },
     "metadata": {},
     "output_type": "display_data"
    },
    {
     "data": {
      "text/html": [
       "<pre style=\"white-space:pre;overflow-x:auto;line-height:normal;font-family:Menlo,'DejaVu Sans Mono',consolas,'Courier New',monospace\">Metrics: {'clu_homogeneity_score': 1.0, 'clu_completeness_score': 1.0, 'clu_v_measure_score': 1.0, \n",
       "'clu_adjusted_rand_score': 1.0, 'clu_adjusted_mutual_info_score': 1.0}\n",
       "</pre>\n"
      ],
      "text/plain": [
       "Metrics: {'clu_homogeneity_score': 1.0, 'clu_completeness_score': 1.0, 'clu_v_measure_score': 1.0, \n",
       "'clu_adjusted_rand_score': 1.0, 'clu_adjusted_mutual_info_score': 1.0}\n"
      ]
     },
     "metadata": {},
     "output_type": "display_data"
    },
    {
     "name": "stderr",
     "output_type": "stream",
     "text": [
      "Epoch 51, global step 3276: 'val_loss' was not in top 3\n"
     ]
    },
    {
     "data": {
      "text/html": [
       "<pre style=\"white-space:pre;overflow-x:auto;line-height:normal;font-family:Menlo,'DejaVu Sans Mono',consolas,'Courier New',monospace\">Epoch 52\n",
       "</pre>\n"
      ],
      "text/plain": [
       "Epoch 52\n"
      ]
     },
     "metadata": {},
     "output_type": "display_data"
    },
    {
     "data": {
      "text/html": [
       "<pre style=\"white-space:pre;overflow-x:auto;line-height:normal;font-family:Menlo,'DejaVu Sans Mono',consolas,'Courier New',monospace\">Creating dataset from Clustering elapsed time: 44.7982 seconds.\n",
       "</pre>\n"
      ],
      "text/plain": [
       "Creating dataset from Clustering elapsed time: 44.7982 seconds.\n"
      ]
     },
     "metadata": {},
     "output_type": "display_data"
    },
    {
     "data": {
      "text/html": [
       "<pre style=\"white-space:pre;overflow-x:auto;line-height:normal;font-family:Menlo,'DejaVu Sans Mono',consolas,'Courier New',monospace\">Feature extracting elapsed time: 107.6850 seconds.\n",
       "</pre>\n"
      ],
      "text/plain": [
       "Feature extracting elapsed time: 107.6850 seconds.\n"
      ]
     },
     "metadata": {},
     "output_type": "display_data"
    },
    {
     "data": {
      "text/html": [
       "<pre style=\"white-space:pre;overflow-x:auto;line-height:normal;font-family:Menlo,'DejaVu Sans Mono',consolas,'Courier New',monospace\">/Users/arthuralvim/Library/Caches/pypoetry/virtualenvs/xai-clustering-b3gHD5dt-py3.9/lib/python3.9/site-packages/sk\n",
       "learn/base.py:1152: ConvergenceWarning: Number of distinct clusters (1) found smaller than n_clusters (4). Possibly\n",
       "due to duplicate points in X.\n",
       "  return fit_method(estimator, *args, **kwargs)\n",
       "</pre>\n"
      ],
      "text/plain": [
       "/Users/arthuralvim/Library/Caches/pypoetry/virtualenvs/xai-clustering-b3gHD5dt-py3.9/lib/python3.9/site-packages/sk\n",
       "learn/base.py:1152: ConvergenceWarning: Number of distinct clusters (1) found smaller than n_clusters (4). Possibly\n",
       "due to duplicate points in X.\n",
       "  return fit_method(estimator, *args, **kwargs)\n"
      ]
     },
     "metadata": {},
     "output_type": "display_data"
    },
    {
     "data": {
      "text/html": [
       "<pre style=\"white-space:pre;overflow-x:auto;line-height:normal;font-family:Menlo,'DejaVu Sans Mono',consolas,'Courier New',monospace\">Clustering elapsed time: 0.6811 seconds.\n",
       "</pre>\n"
      ],
      "text/plain": [
       "Clustering elapsed time: 0.6811 seconds.\n"
      ]
     },
     "metadata": {},
     "output_type": "display_data"
    },
    {
     "data": {
      "text/html": [
       "<pre style=\"white-space:pre;overflow-x:auto;line-height:normal;font-family:Menlo,'DejaVu Sans Mono',consolas,'Courier New',monospace\">Metrics: {'clu_homogeneity_score': 1.0, 'clu_completeness_score': 1.0, 'clu_v_measure_score': 1.0, \n",
       "'clu_adjusted_rand_score': 1.0, 'clu_adjusted_mutual_info_score': 1.0}\n",
       "</pre>\n"
      ],
      "text/plain": [
       "Metrics: {'clu_homogeneity_score': 1.0, 'clu_completeness_score': 1.0, 'clu_v_measure_score': 1.0, \n",
       "'clu_adjusted_rand_score': 1.0, 'clu_adjusted_mutual_info_score': 1.0}\n"
      ]
     },
     "metadata": {},
     "output_type": "display_data"
    },
    {
     "name": "stderr",
     "output_type": "stream",
     "text": [
      "Epoch 52, global step 3339: 'val_loss' was not in top 3\n"
     ]
    },
    {
     "data": {
      "text/html": [
       "<pre style=\"white-space:pre;overflow-x:auto;line-height:normal;font-family:Menlo,'DejaVu Sans Mono',consolas,'Courier New',monospace\">Epoch 53\n",
       "</pre>\n"
      ],
      "text/plain": [
       "Epoch 53\n"
      ]
     },
     "metadata": {},
     "output_type": "display_data"
    },
    {
     "data": {
      "text/html": [
       "<pre style=\"white-space:pre;overflow-x:auto;line-height:normal;font-family:Menlo,'DejaVu Sans Mono',consolas,'Courier New',monospace\">Creating dataset from Clustering elapsed time: 44.5943 seconds.\n",
       "</pre>\n"
      ],
      "text/plain": [
       "Creating dataset from Clustering elapsed time: 44.5943 seconds.\n"
      ]
     },
     "metadata": {},
     "output_type": "display_data"
    },
    {
     "data": {
      "text/html": [
       "<pre style=\"white-space:pre;overflow-x:auto;line-height:normal;font-family:Menlo,'DejaVu Sans Mono',consolas,'Courier New',monospace\">Feature extracting elapsed time: 108.5994 seconds.\n",
       "</pre>\n"
      ],
      "text/plain": [
       "Feature extracting elapsed time: 108.5994 seconds.\n"
      ]
     },
     "metadata": {},
     "output_type": "display_data"
    },
    {
     "data": {
      "text/html": [
       "<pre style=\"white-space:pre;overflow-x:auto;line-height:normal;font-family:Menlo,'DejaVu Sans Mono',consolas,'Courier New',monospace\">/Users/arthuralvim/Library/Caches/pypoetry/virtualenvs/xai-clustering-b3gHD5dt-py3.9/lib/python3.9/site-packages/sk\n",
       "learn/base.py:1152: ConvergenceWarning: Number of distinct clusters (1) found smaller than n_clusters (4). Possibly\n",
       "due to duplicate points in X.\n",
       "  return fit_method(estimator, *args, **kwargs)\n",
       "</pre>\n"
      ],
      "text/plain": [
       "/Users/arthuralvim/Library/Caches/pypoetry/virtualenvs/xai-clustering-b3gHD5dt-py3.9/lib/python3.9/site-packages/sk\n",
       "learn/base.py:1152: ConvergenceWarning: Number of distinct clusters (1) found smaller than n_clusters (4). Possibly\n",
       "due to duplicate points in X.\n",
       "  return fit_method(estimator, *args, **kwargs)\n"
      ]
     },
     "metadata": {},
     "output_type": "display_data"
    },
    {
     "data": {
      "text/html": [
       "<pre style=\"white-space:pre;overflow-x:auto;line-height:normal;font-family:Menlo,'DejaVu Sans Mono',consolas,'Courier New',monospace\">Clustering elapsed time: 0.6532 seconds.\n",
       "</pre>\n"
      ],
      "text/plain": [
       "Clustering elapsed time: 0.6532 seconds.\n"
      ]
     },
     "metadata": {},
     "output_type": "display_data"
    },
    {
     "data": {
      "text/html": [
       "<pre style=\"white-space:pre;overflow-x:auto;line-height:normal;font-family:Menlo,'DejaVu Sans Mono',consolas,'Courier New',monospace\">Metrics: {'clu_homogeneity_score': 1.0, 'clu_completeness_score': 1.0, 'clu_v_measure_score': 1.0, \n",
       "'clu_adjusted_rand_score': 1.0, 'clu_adjusted_mutual_info_score': 1.0}\n",
       "</pre>\n"
      ],
      "text/plain": [
       "Metrics: {'clu_homogeneity_score': 1.0, 'clu_completeness_score': 1.0, 'clu_v_measure_score': 1.0, \n",
       "'clu_adjusted_rand_score': 1.0, 'clu_adjusted_mutual_info_score': 1.0}\n"
      ]
     },
     "metadata": {},
     "output_type": "display_data"
    },
    {
     "name": "stderr",
     "output_type": "stream",
     "text": [
      "Epoch 53, global step 3402: 'val_loss' was not in top 3\n"
     ]
    },
    {
     "data": {
      "text/html": [
       "<pre style=\"white-space:pre;overflow-x:auto;line-height:normal;font-family:Menlo,'DejaVu Sans Mono',consolas,'Courier New',monospace\">Epoch 54\n",
       "</pre>\n"
      ],
      "text/plain": [
       "Epoch 54\n"
      ]
     },
     "metadata": {},
     "output_type": "display_data"
    },
    {
     "data": {
      "text/html": [
       "<pre style=\"white-space:pre;overflow-x:auto;line-height:normal;font-family:Menlo,'DejaVu Sans Mono',consolas,'Courier New',monospace\">Creating dataset from Clustering elapsed time: 43.9165 seconds.\n",
       "</pre>\n"
      ],
      "text/plain": [
       "Creating dataset from Clustering elapsed time: 43.9165 seconds.\n"
      ]
     },
     "metadata": {},
     "output_type": "display_data"
    },
    {
     "data": {
      "text/html": [
       "<pre style=\"white-space:pre;overflow-x:auto;line-height:normal;font-family:Menlo,'DejaVu Sans Mono',consolas,'Courier New',monospace\">Feature extracting elapsed time: 107.6232 seconds.\n",
       "</pre>\n"
      ],
      "text/plain": [
       "Feature extracting elapsed time: 107.6232 seconds.\n"
      ]
     },
     "metadata": {},
     "output_type": "display_data"
    },
    {
     "data": {
      "text/html": [
       "<pre style=\"white-space:pre;overflow-x:auto;line-height:normal;font-family:Menlo,'DejaVu Sans Mono',consolas,'Courier New',monospace\">/Users/arthuralvim/Library/Caches/pypoetry/virtualenvs/xai-clustering-b3gHD5dt-py3.9/lib/python3.9/site-packages/sk\n",
       "learn/base.py:1152: ConvergenceWarning: Number of distinct clusters (1) found smaller than n_clusters (4). Possibly\n",
       "due to duplicate points in X.\n",
       "  return fit_method(estimator, *args, **kwargs)\n",
       "</pre>\n"
      ],
      "text/plain": [
       "/Users/arthuralvim/Library/Caches/pypoetry/virtualenvs/xai-clustering-b3gHD5dt-py3.9/lib/python3.9/site-packages/sk\n",
       "learn/base.py:1152: ConvergenceWarning: Number of distinct clusters (1) found smaller than n_clusters (4). Possibly\n",
       "due to duplicate points in X.\n",
       "  return fit_method(estimator, *args, **kwargs)\n"
      ]
     },
     "metadata": {},
     "output_type": "display_data"
    },
    {
     "data": {
      "text/html": [
       "<pre style=\"white-space:pre;overflow-x:auto;line-height:normal;font-family:Menlo,'DejaVu Sans Mono',consolas,'Courier New',monospace\">Clustering elapsed time: 0.6090 seconds.\n",
       "</pre>\n"
      ],
      "text/plain": [
       "Clustering elapsed time: 0.6090 seconds.\n"
      ]
     },
     "metadata": {},
     "output_type": "display_data"
    },
    {
     "data": {
      "text/html": [
       "<pre style=\"white-space:pre;overflow-x:auto;line-height:normal;font-family:Menlo,'DejaVu Sans Mono',consolas,'Courier New',monospace\">Metrics: {'clu_homogeneity_score': 1.0, 'clu_completeness_score': 1.0, 'clu_v_measure_score': 1.0, \n",
       "'clu_adjusted_rand_score': 1.0, 'clu_adjusted_mutual_info_score': 1.0}\n",
       "</pre>\n"
      ],
      "text/plain": [
       "Metrics: {'clu_homogeneity_score': 1.0, 'clu_completeness_score': 1.0, 'clu_v_measure_score': 1.0, \n",
       "'clu_adjusted_rand_score': 1.0, 'clu_adjusted_mutual_info_score': 1.0}\n"
      ]
     },
     "metadata": {},
     "output_type": "display_data"
    },
    {
     "name": "stderr",
     "output_type": "stream",
     "text": [
      "Epoch 54, global step 3465: 'val_loss' was not in top 3\n"
     ]
    },
    {
     "data": {
      "text/html": [
       "<pre style=\"white-space:pre;overflow-x:auto;line-height:normal;font-family:Menlo,'DejaVu Sans Mono',consolas,'Courier New',monospace\">Epoch 55\n",
       "</pre>\n"
      ],
      "text/plain": [
       "Epoch 55\n"
      ]
     },
     "metadata": {},
     "output_type": "display_data"
    },
    {
     "data": {
      "text/html": [
       "<pre style=\"white-space:pre;overflow-x:auto;line-height:normal;font-family:Menlo,'DejaVu Sans Mono',consolas,'Courier New',monospace\">Creating dataset from Clustering elapsed time: 43.1886 seconds.\n",
       "</pre>\n"
      ],
      "text/plain": [
       "Creating dataset from Clustering elapsed time: 43.1886 seconds.\n"
      ]
     },
     "metadata": {},
     "output_type": "display_data"
    },
    {
     "data": {
      "text/html": [
       "<pre style=\"white-space:pre;overflow-x:auto;line-height:normal;font-family:Menlo,'DejaVu Sans Mono',consolas,'Courier New',monospace\">Feature extracting elapsed time: 107.8378 seconds.\n",
       "</pre>\n"
      ],
      "text/plain": [
       "Feature extracting elapsed time: 107.8378 seconds.\n"
      ]
     },
     "metadata": {},
     "output_type": "display_data"
    },
    {
     "data": {
      "text/html": [
       "<pre style=\"white-space:pre;overflow-x:auto;line-height:normal;font-family:Menlo,'DejaVu Sans Mono',consolas,'Courier New',monospace\">/Users/arthuralvim/Library/Caches/pypoetry/virtualenvs/xai-clustering-b3gHD5dt-py3.9/lib/python3.9/site-packages/sk\n",
       "learn/base.py:1152: ConvergenceWarning: Number of distinct clusters (1) found smaller than n_clusters (4). Possibly\n",
       "due to duplicate points in X.\n",
       "  return fit_method(estimator, *args, **kwargs)\n",
       "</pre>\n"
      ],
      "text/plain": [
       "/Users/arthuralvim/Library/Caches/pypoetry/virtualenvs/xai-clustering-b3gHD5dt-py3.9/lib/python3.9/site-packages/sk\n",
       "learn/base.py:1152: ConvergenceWarning: Number of distinct clusters (1) found smaller than n_clusters (4). Possibly\n",
       "due to duplicate points in X.\n",
       "  return fit_method(estimator, *args, **kwargs)\n"
      ]
     },
     "metadata": {},
     "output_type": "display_data"
    },
    {
     "data": {
      "text/html": [
       "<pre style=\"white-space:pre;overflow-x:auto;line-height:normal;font-family:Menlo,'DejaVu Sans Mono',consolas,'Courier New',monospace\">Clustering elapsed time: 0.6664 seconds.\n",
       "</pre>\n"
      ],
      "text/plain": [
       "Clustering elapsed time: 0.6664 seconds.\n"
      ]
     },
     "metadata": {},
     "output_type": "display_data"
    },
    {
     "data": {
      "text/html": [
       "<pre style=\"white-space:pre;overflow-x:auto;line-height:normal;font-family:Menlo,'DejaVu Sans Mono',consolas,'Courier New',monospace\">Metrics: {'clu_homogeneity_score': 1.0, 'clu_completeness_score': 1.0, 'clu_v_measure_score': 1.0, \n",
       "'clu_adjusted_rand_score': 1.0, 'clu_adjusted_mutual_info_score': 1.0}\n",
       "</pre>\n"
      ],
      "text/plain": [
       "Metrics: {'clu_homogeneity_score': 1.0, 'clu_completeness_score': 1.0, 'clu_v_measure_score': 1.0, \n",
       "'clu_adjusted_rand_score': 1.0, 'clu_adjusted_mutual_info_score': 1.0}\n"
      ]
     },
     "metadata": {},
     "output_type": "display_data"
    },
    {
     "name": "stderr",
     "output_type": "stream",
     "text": [
      "Epoch 55, global step 3528: 'val_loss' was not in top 3\n"
     ]
    },
    {
     "data": {
      "text/html": [
       "<pre style=\"white-space:pre;overflow-x:auto;line-height:normal;font-family:Menlo,'DejaVu Sans Mono',consolas,'Courier New',monospace\">Epoch 56\n",
       "</pre>\n"
      ],
      "text/plain": [
       "Epoch 56\n"
      ]
     },
     "metadata": {},
     "output_type": "display_data"
    },
    {
     "data": {
      "text/html": [
       "<pre style=\"white-space:pre;overflow-x:auto;line-height:normal;font-family:Menlo,'DejaVu Sans Mono',consolas,'Courier New',monospace\">Creating dataset from Clustering elapsed time: 42.9168 seconds.\n",
       "</pre>\n"
      ],
      "text/plain": [
       "Creating dataset from Clustering elapsed time: 42.9168 seconds.\n"
      ]
     },
     "metadata": {},
     "output_type": "display_data"
    },
    {
     "data": {
      "text/html": [
       "<pre style=\"white-space:pre;overflow-x:auto;line-height:normal;font-family:Menlo,'DejaVu Sans Mono',consolas,'Courier New',monospace\">Feature extracting elapsed time: 103.7771 seconds.\n",
       "</pre>\n"
      ],
      "text/plain": [
       "Feature extracting elapsed time: 103.7771 seconds.\n"
      ]
     },
     "metadata": {},
     "output_type": "display_data"
    },
    {
     "data": {
      "text/html": [
       "<pre style=\"white-space:pre;overflow-x:auto;line-height:normal;font-family:Menlo,'DejaVu Sans Mono',consolas,'Courier New',monospace\">/Users/arthuralvim/Library/Caches/pypoetry/virtualenvs/xai-clustering-b3gHD5dt-py3.9/lib/python3.9/site-packages/sk\n",
       "learn/base.py:1152: ConvergenceWarning: Number of distinct clusters (1) found smaller than n_clusters (4). Possibly\n",
       "due to duplicate points in X.\n",
       "  return fit_method(estimator, *args, **kwargs)\n",
       "</pre>\n"
      ],
      "text/plain": [
       "/Users/arthuralvim/Library/Caches/pypoetry/virtualenvs/xai-clustering-b3gHD5dt-py3.9/lib/python3.9/site-packages/sk\n",
       "learn/base.py:1152: ConvergenceWarning: Number of distinct clusters (1) found smaller than n_clusters (4). Possibly\n",
       "due to duplicate points in X.\n",
       "  return fit_method(estimator, *args, **kwargs)\n"
      ]
     },
     "metadata": {},
     "output_type": "display_data"
    },
    {
     "data": {
      "text/html": [
       "<pre style=\"white-space:pre;overflow-x:auto;line-height:normal;font-family:Menlo,'DejaVu Sans Mono',consolas,'Courier New',monospace\">Clustering elapsed time: 0.6697 seconds.\n",
       "</pre>\n"
      ],
      "text/plain": [
       "Clustering elapsed time: 0.6697 seconds.\n"
      ]
     },
     "metadata": {},
     "output_type": "display_data"
    },
    {
     "data": {
      "text/html": [
       "<pre style=\"white-space:pre;overflow-x:auto;line-height:normal;font-family:Menlo,'DejaVu Sans Mono',consolas,'Courier New',monospace\">Metrics: {'clu_homogeneity_score': 1.0, 'clu_completeness_score': 1.0, 'clu_v_measure_score': 1.0, \n",
       "'clu_adjusted_rand_score': 1.0, 'clu_adjusted_mutual_info_score': 1.0}\n",
       "</pre>\n"
      ],
      "text/plain": [
       "Metrics: {'clu_homogeneity_score': 1.0, 'clu_completeness_score': 1.0, 'clu_v_measure_score': 1.0, \n",
       "'clu_adjusted_rand_score': 1.0, 'clu_adjusted_mutual_info_score': 1.0}\n"
      ]
     },
     "metadata": {},
     "output_type": "display_data"
    },
    {
     "name": "stderr",
     "output_type": "stream",
     "text": [
      "Epoch 56, global step 3591: 'val_loss' was not in top 3\n"
     ]
    },
    {
     "data": {
      "text/html": [
       "<pre style=\"white-space:pre;overflow-x:auto;line-height:normal;font-family:Menlo,'DejaVu Sans Mono',consolas,'Courier New',monospace\">Epoch 57\n",
       "</pre>\n"
      ],
      "text/plain": [
       "Epoch 57\n"
      ]
     },
     "metadata": {},
     "output_type": "display_data"
    },
    {
     "data": {
      "text/html": [
       "<pre style=\"white-space:pre;overflow-x:auto;line-height:normal;font-family:Menlo,'DejaVu Sans Mono',consolas,'Courier New',monospace\">Creating dataset from Clustering elapsed time: 44.6045 seconds.\n",
       "</pre>\n"
      ],
      "text/plain": [
       "Creating dataset from Clustering elapsed time: 44.6045 seconds.\n"
      ]
     },
     "metadata": {},
     "output_type": "display_data"
    },
    {
     "data": {
      "text/html": [
       "<pre style=\"white-space:pre;overflow-x:auto;line-height:normal;font-family:Menlo,'DejaVu Sans Mono',consolas,'Courier New',monospace\">Feature extracting elapsed time: 109.1097 seconds.\n",
       "</pre>\n"
      ],
      "text/plain": [
       "Feature extracting elapsed time: 109.1097 seconds.\n"
      ]
     },
     "metadata": {},
     "output_type": "display_data"
    },
    {
     "data": {
      "text/html": [
       "<pre style=\"white-space:pre;overflow-x:auto;line-height:normal;font-family:Menlo,'DejaVu Sans Mono',consolas,'Courier New',monospace\">/Users/arthuralvim/Library/Caches/pypoetry/virtualenvs/xai-clustering-b3gHD5dt-py3.9/lib/python3.9/site-packages/sk\n",
       "learn/base.py:1152: ConvergenceWarning: Number of distinct clusters (1) found smaller than n_clusters (4). Possibly\n",
       "due to duplicate points in X.\n",
       "  return fit_method(estimator, *args, **kwargs)\n",
       "</pre>\n"
      ],
      "text/plain": [
       "/Users/arthuralvim/Library/Caches/pypoetry/virtualenvs/xai-clustering-b3gHD5dt-py3.9/lib/python3.9/site-packages/sk\n",
       "learn/base.py:1152: ConvergenceWarning: Number of distinct clusters (1) found smaller than n_clusters (4). Possibly\n",
       "due to duplicate points in X.\n",
       "  return fit_method(estimator, *args, **kwargs)\n"
      ]
     },
     "metadata": {},
     "output_type": "display_data"
    },
    {
     "data": {
      "text/html": [
       "<pre style=\"white-space:pre;overflow-x:auto;line-height:normal;font-family:Menlo,'DejaVu Sans Mono',consolas,'Courier New',monospace\">Clustering elapsed time: 0.6331 seconds.\n",
       "</pre>\n"
      ],
      "text/plain": [
       "Clustering elapsed time: 0.6331 seconds.\n"
      ]
     },
     "metadata": {},
     "output_type": "display_data"
    },
    {
     "data": {
      "text/html": [
       "<pre style=\"white-space:pre;overflow-x:auto;line-height:normal;font-family:Menlo,'DejaVu Sans Mono',consolas,'Courier New',monospace\">Metrics: {'clu_homogeneity_score': 1.0, 'clu_completeness_score': 1.0, 'clu_v_measure_score': 1.0, \n",
       "'clu_adjusted_rand_score': 1.0, 'clu_adjusted_mutual_info_score': 1.0}\n",
       "</pre>\n"
      ],
      "text/plain": [
       "Metrics: {'clu_homogeneity_score': 1.0, 'clu_completeness_score': 1.0, 'clu_v_measure_score': 1.0, \n",
       "'clu_adjusted_rand_score': 1.0, 'clu_adjusted_mutual_info_score': 1.0}\n"
      ]
     },
     "metadata": {},
     "output_type": "display_data"
    },
    {
     "name": "stderr",
     "output_type": "stream",
     "text": [
      "Epoch 57, global step 3654: 'val_loss' was not in top 3\n"
     ]
    },
    {
     "data": {
      "text/html": [
       "<pre style=\"white-space:pre;overflow-x:auto;line-height:normal;font-family:Menlo,'DejaVu Sans Mono',consolas,'Courier New',monospace\">Epoch 58\n",
       "</pre>\n"
      ],
      "text/plain": [
       "Epoch 58\n"
      ]
     },
     "metadata": {},
     "output_type": "display_data"
    },
    {
     "data": {
      "text/html": [
       "<pre style=\"white-space:pre;overflow-x:auto;line-height:normal;font-family:Menlo,'DejaVu Sans Mono',consolas,'Courier New',monospace\">Creating dataset from Clustering elapsed time: 44.3347 seconds.\n",
       "</pre>\n"
      ],
      "text/plain": [
       "Creating dataset from Clustering elapsed time: 44.3347 seconds.\n"
      ]
     },
     "metadata": {},
     "output_type": "display_data"
    },
    {
     "data": {
      "text/html": [
       "<pre style=\"white-space:pre;overflow-x:auto;line-height:normal;font-family:Menlo,'DejaVu Sans Mono',consolas,'Courier New',monospace\">Feature extracting elapsed time: 110.6904 seconds.\n",
       "</pre>\n"
      ],
      "text/plain": [
       "Feature extracting elapsed time: 110.6904 seconds.\n"
      ]
     },
     "metadata": {},
     "output_type": "display_data"
    },
    {
     "data": {
      "text/html": [
       "<pre style=\"white-space:pre;overflow-x:auto;line-height:normal;font-family:Menlo,'DejaVu Sans Mono',consolas,'Courier New',monospace\">/Users/arthuralvim/Library/Caches/pypoetry/virtualenvs/xai-clustering-b3gHD5dt-py3.9/lib/python3.9/site-packages/sk\n",
       "learn/base.py:1152: ConvergenceWarning: Number of distinct clusters (1) found smaller than n_clusters (4). Possibly\n",
       "due to duplicate points in X.\n",
       "  return fit_method(estimator, *args, **kwargs)\n",
       "</pre>\n"
      ],
      "text/plain": [
       "/Users/arthuralvim/Library/Caches/pypoetry/virtualenvs/xai-clustering-b3gHD5dt-py3.9/lib/python3.9/site-packages/sk\n",
       "learn/base.py:1152: ConvergenceWarning: Number of distinct clusters (1) found smaller than n_clusters (4). Possibly\n",
       "due to duplicate points in X.\n",
       "  return fit_method(estimator, *args, **kwargs)\n"
      ]
     },
     "metadata": {},
     "output_type": "display_data"
    },
    {
     "data": {
      "text/html": [
       "<pre style=\"white-space:pre;overflow-x:auto;line-height:normal;font-family:Menlo,'DejaVu Sans Mono',consolas,'Courier New',monospace\">Clustering elapsed time: 0.6451 seconds.\n",
       "</pre>\n"
      ],
      "text/plain": [
       "Clustering elapsed time: 0.6451 seconds.\n"
      ]
     },
     "metadata": {},
     "output_type": "display_data"
    },
    {
     "data": {
      "text/html": [
       "<pre style=\"white-space:pre;overflow-x:auto;line-height:normal;font-family:Menlo,'DejaVu Sans Mono',consolas,'Courier New',monospace\">Metrics: {'clu_homogeneity_score': 1.0, 'clu_completeness_score': 1.0, 'clu_v_measure_score': 1.0, \n",
       "'clu_adjusted_rand_score': 1.0, 'clu_adjusted_mutual_info_score': 1.0}\n",
       "</pre>\n"
      ],
      "text/plain": [
       "Metrics: {'clu_homogeneity_score': 1.0, 'clu_completeness_score': 1.0, 'clu_v_measure_score': 1.0, \n",
       "'clu_adjusted_rand_score': 1.0, 'clu_adjusted_mutual_info_score': 1.0}\n"
      ]
     },
     "metadata": {},
     "output_type": "display_data"
    },
    {
     "name": "stderr",
     "output_type": "stream",
     "text": [
      "Epoch 58, global step 3717: 'val_loss' was not in top 3\n"
     ]
    },
    {
     "data": {
      "text/html": [
       "<pre style=\"white-space:pre;overflow-x:auto;line-height:normal;font-family:Menlo,'DejaVu Sans Mono',consolas,'Courier New',monospace\">Epoch 59\n",
       "</pre>\n"
      ],
      "text/plain": [
       "Epoch 59\n"
      ]
     },
     "metadata": {},
     "output_type": "display_data"
    },
    {
     "data": {
      "text/html": [
       "<pre style=\"white-space:pre;overflow-x:auto;line-height:normal;font-family:Menlo,'DejaVu Sans Mono',consolas,'Courier New',monospace\">Creating dataset from Clustering elapsed time: 43.2443 seconds.\n",
       "</pre>\n"
      ],
      "text/plain": [
       "Creating dataset from Clustering elapsed time: 43.2443 seconds.\n"
      ]
     },
     "metadata": {},
     "output_type": "display_data"
    },
    {
     "data": {
      "text/html": [
       "<pre style=\"white-space:pre;overflow-x:auto;line-height:normal;font-family:Menlo,'DejaVu Sans Mono',consolas,'Courier New',monospace\">Feature extracting elapsed time: 106.4012 seconds.\n",
       "</pre>\n"
      ],
      "text/plain": [
       "Feature extracting elapsed time: 106.4012 seconds.\n"
      ]
     },
     "metadata": {},
     "output_type": "display_data"
    },
    {
     "data": {
      "text/html": [
       "<pre style=\"white-space:pre;overflow-x:auto;line-height:normal;font-family:Menlo,'DejaVu Sans Mono',consolas,'Courier New',monospace\">/Users/arthuralvim/Library/Caches/pypoetry/virtualenvs/xai-clustering-b3gHD5dt-py3.9/lib/python3.9/site-packages/sk\n",
       "learn/base.py:1152: ConvergenceWarning: Number of distinct clusters (1) found smaller than n_clusters (4). Possibly\n",
       "due to duplicate points in X.\n",
       "  return fit_method(estimator, *args, **kwargs)\n",
       "</pre>\n"
      ],
      "text/plain": [
       "/Users/arthuralvim/Library/Caches/pypoetry/virtualenvs/xai-clustering-b3gHD5dt-py3.9/lib/python3.9/site-packages/sk\n",
       "learn/base.py:1152: ConvergenceWarning: Number of distinct clusters (1) found smaller than n_clusters (4). Possibly\n",
       "due to duplicate points in X.\n",
       "  return fit_method(estimator, *args, **kwargs)\n"
      ]
     },
     "metadata": {},
     "output_type": "display_data"
    },
    {
     "data": {
      "text/html": [
       "<pre style=\"white-space:pre;overflow-x:auto;line-height:normal;font-family:Menlo,'DejaVu Sans Mono',consolas,'Courier New',monospace\">Clustering elapsed time: 0.7537 seconds.\n",
       "</pre>\n"
      ],
      "text/plain": [
       "Clustering elapsed time: 0.7537 seconds.\n"
      ]
     },
     "metadata": {},
     "output_type": "display_data"
    },
    {
     "data": {
      "text/html": [
       "<pre style=\"white-space:pre;overflow-x:auto;line-height:normal;font-family:Menlo,'DejaVu Sans Mono',consolas,'Courier New',monospace\">Metrics: {'clu_homogeneity_score': 1.0, 'clu_completeness_score': 1.0, 'clu_v_measure_score': 1.0, \n",
       "'clu_adjusted_rand_score': 1.0, 'clu_adjusted_mutual_info_score': 1.0}\n",
       "</pre>\n"
      ],
      "text/plain": [
       "Metrics: {'clu_homogeneity_score': 1.0, 'clu_completeness_score': 1.0, 'clu_v_measure_score': 1.0, \n",
       "'clu_adjusted_rand_score': 1.0, 'clu_adjusted_mutual_info_score': 1.0}\n"
      ]
     },
     "metadata": {},
     "output_type": "display_data"
    },
    {
     "name": "stderr",
     "output_type": "stream",
     "text": [
      "Epoch 59, global step 3780: 'val_loss' was not in top 3\n",
      "`Trainer.fit` stopped: `max_epochs=60` reached.\n"
     ]
    },
    {
     "data": {
      "text/html": [
       "<pre style=\"white-space:pre;overflow-x:auto;line-height:normal;font-family:Menlo,'DejaVu Sans Mono',consolas,'Courier New',monospace\"></pre>\n"
      ],
      "text/plain": []
     },
     "metadata": {},
     "output_type": "display_data"
    },
    {
     "data": {
      "text/html": [
       "<pre style=\"white-space:pre;overflow-x:auto;line-height:normal;font-family:Menlo,'DejaVu Sans Mono',consolas,'Courier New',monospace\">\n",
       "</pre>\n"
      ],
      "text/plain": [
       "\n"
      ]
     },
     "metadata": {},
     "output_type": "display_data"
    }
   ],
   "source": [
    "trainer.fit(\n",
    "    model,\n",
    "    train_dataloaders=brain_tumor.train_dataloader,\n",
    "    val_dataloaders=brain_tumor.val_dataloader\n",
    ")"
   ]
  },
  {
   "cell_type": "code",
   "execution_count": 23,
   "id": "d80c4b3b-b613-4241-a884-6c649d0b17ed",
   "metadata": {},
   "outputs": [],
   "source": [
    "with open(f\"{trainer.logger.log_dir}/{model.name}-timing.dump\", \"wb\") as f:\n",
    "    pickle.dump(model.timers, f)"
   ]
  },
  {
   "cell_type": "code",
   "execution_count": 24,
   "id": "f0ffc756-a460-446d-9523-59590316e373",
   "metadata": {},
   "outputs": [],
   "source": [
    "with open(f\"{trainer.logger.log_dir}/{model.name}-original-targets.dump\", \"wb\") as f:\n",
    "    pickle.dump(model.original_train_targets, f)"
   ]
  },
  {
   "cell_type": "markdown",
   "id": "30362bfb-93e8-46e9-ae5c-f3ad51547843",
   "metadata": {},
   "source": [
    "## TESTING"
   ]
  },
  {
   "cell_type": "code",
   "execution_count": 25,
   "id": "f1b70950-ceb6-4de6-89ef-3f39a6862e59",
   "metadata": {},
   "outputs": [
    {
     "data": {
      "application/vnd.jupyter.widget-view+json": {
       "model_id": "1a9c74a1f4094a08aa1914b10ef70622",
       "version_major": 2,
       "version_minor": 0
      },
      "text/plain": [
       "Output()"
      ]
     },
     "metadata": {},
     "output_type": "display_data"
    },
    {
     "data": {
      "text/html": [
       "<pre style=\"white-space:pre;overflow-x:auto;line-height:normal;font-family:Menlo,'DejaVu Sans Mono',consolas,'Courier New',monospace\"></pre>\n"
      ],
      "text/plain": []
     },
     "metadata": {},
     "output_type": "display_data"
    },
    {
     "data": {
      "text/html": [
       "<pre style=\"white-space:pre;overflow-x:auto;line-height:normal;font-family:Menlo,'DejaVu Sans Mono',consolas,'Courier New',monospace\">\n",
       "</pre>\n"
      ],
      "text/plain": [
       "\n"
      ]
     },
     "metadata": {},
     "output_type": "display_data"
    }
   ],
   "source": [
    "batch_predictions = trainer.predict(model, dataloaders=brain_tumor.test_dataloader)\n",
    "truth_labels, preds_labels = get_labels_from_prediction(batch_predictions)\n",
    "with open(f\"{trainer.logger.log_dir}/{model.name}-preds.dump\", \"wb\") as f:\n",
    "    pickle.dump([truth_labels, preds_labels], f)"
   ]
  },
  {
   "cell_type": "markdown",
   "id": "3164400f-d958-497d-b79d-2ce943e44d08",
   "metadata": {},
   "source": [
    "## ANALYSIS"
   ]
  },
  {
   "cell_type": "code",
   "execution_count": 26,
   "id": "a904070c-0f7e-4280-aa30-9920ed415e1e",
   "metadata": {},
   "outputs": [
    {
     "name": "stderr",
     "output_type": "stream",
     "text": [
      "/Users/arthuralvim/Work/xai-clustering/helpers/metrics.py:51: FutureWarning: Series.fillna with 'method' is deprecated and will raise in a future version. Use obj.ffill() or obj.bfill() instead.\n",
      "  metrics[\"epoch\"] = metrics[\"epoch\"].fillna(method=\"ffill\")\n",
      "/Users/arthuralvim/Library/Caches/pypoetry/virtualenvs/xai-clustering-b3gHD5dt-py3.9/lib/python3.9/site-packages/numpy/core/fromnumeric.py:59: FutureWarning: 'DataFrame.swapaxes' is deprecated and will be removed in a future version. Please use 'DataFrame.transpose' instead.\n",
      "  return bound(*args, **kwds)\n"
     ]
    }
   ],
   "source": [
    "train_metrics, valid_metrics, epoch_metrics, clustering_metrics = dmetrics_to_dataframe(f\"{trainer.logger.log_dir}/metrics.csv\", brain_tumor)"
   ]
  },
  {
   "cell_type": "code",
   "execution_count": 27,
   "id": "d9313385-87de-4c8b-adf8-38deb983f146",
   "metadata": {},
   "outputs": [
    {
     "data": {
      "image/png": "[encoded data removed]",
      "text/plain": [
       "<Figure size 1900x900 with 2 Axes>"
      ]
     },
     "metadata": {},
     "output_type": "display_data"
    }
   ],
   "source": [
    "plot_analysis(epoch_metrics, save_as=f\"{trainer.logger.log_dir}/{model.name}-analysis.png\")"
   ]
  },
  {
   "cell_type": "code",
   "execution_count": 28,
   "id": "1b64c55e-4dc3-405e-8f81-4d83fef54143",
   "metadata": {},
   "outputs": [
    {
     "data": {
      "image/png": "[encoded data removed]",
      "text/plain": [
       "<Figure size 600x600 with 1 Axes>"
      ]
     },
     "metadata": {},
     "output_type": "display_data"
    }
   ],
   "source": [
    "plot_clustering_metrics(clustering_metrics[1:], show=True, save_as=f\"{trainer.logger.log_dir}/{model.name}-clustering.png\")"
   ]
  },
  {
   "cell_type": "code",
   "execution_count": 29,
   "id": "af97f45d-1a1f-42bc-a8f2-40608b2b1918",
   "metadata": {},
   "outputs": [
    {
     "name": "stdout",
     "output_type": "stream",
     "text": [
      "              precision    recall  f1-score   support\n",
      "\n",
      "      Glioma      0.000     0.000     0.000       300\n",
      "  Meningioma      0.000     0.000     0.000       306\n",
      "   Sem Tumor      0.000     0.000     0.000       405\n",
      "  Pituitária      0.229     1.000     0.372       300\n",
      "\n",
      "    accuracy                          0.229      1311\n",
      "   macro avg      0.057     0.250     0.093      1311\n",
      "weighted avg      0.052     0.229     0.085      1311\n",
      "\n",
      "            Gli  Men  Sem  Pit\n",
      "Glioma        0    0    0  300\n",
      "Meningioma    0    0    0  306\n",
      "Sem Tumor     0    0    0  405\n",
      "Pituitária    0    0    0  300\n"
     ]
    }
   ],
   "source": [
    "plot_loss_curve(epoch_metrics, show=False, save_as=f\"{trainer.logger.log_dir}/{model.name}-loss.png\")\n",
    "plot_acc_curve(epoch_metrics, show=False, save_as=f\"{trainer.logger.log_dir}/{model.name}-acc.png\")\n",
    "basic_report(truth_labels, preds_labels, labels=[0,1,2,3], label_names=[\"Glioma\", \"Meningioma\", \"Sem Tumor\", \"Pituitária\"], show=False, \n",
    "             save_as=f\"{trainer.logger.log_dir}/{model.name}-confusion-matrix.png\")"
   ]
  },
  {
   "cell_type": "code",
   "execution_count": 30,
   "id": "998bb4c3-1f48-4539-8fe0-ececc73afad0",
   "metadata": {},
   "outputs": [],
   "source": [
    "from collections import Counter"
   ]
  },
  {
   "cell_type": "code",
   "execution_count": 31,
   "id": "38077e98-7c13-4e4c-836d-ed94415c7a28",
   "metadata": {},
   "outputs": [
    {
     "data": {
      "text/plain": [
       "Counter({2: 405, 1: 306, 0: 300, 3: 300})"
      ]
     },
     "execution_count": 31,
     "metadata": {},
     "output_type": "execute_result"
    }
   ],
   "source": [
    "Counter(truth_labels)"
   ]
  },
  {
   "cell_type": "code",
   "execution_count": null,
   "id": "3de0a52f-9094-4a1a-b7ef-62b797e745df",
   "metadata": {},
   "outputs": [
    {
     "data": {
      "text/plain": [
       "Counter({3: 1311})"
      ]
     },
     "execution_count": 32,
     "metadata": {},
     "output_type": "execute_result"
    }
   ],
   "source": [
    "Counter(preds_labels)"
   ]
  },
  {
   "cell_type": "code",
   "execution_count": null,
   "id": "20629da2-d9de-4da1-b203-90e38650e34b",
   "metadata": {},
   "outputs": [],
   "source": []
  }
 ],
 "metadata": {
  "availableInstances": [
   {
    "_defaultOrder": 0,
    "_isFastLaunch": true,
    "category": "General purpose",
    "gpuNum": 0,
    "hideHardwareSpecs": false,
    "memoryGiB": 4,
    "name": "ml.t3.medium",
    "vcpuNum": 2
   },
   {
    "_defaultOrder": 1,
    "_isFastLaunch": false,
    "category": "General purpose",
    "gpuNum": 0,
    "hideHardwareSpecs": false,
    "memoryGiB": 8,
    "name": "ml.t3.large",
    "vcpuNum": 2
   },
   {
    "_defaultOrder": 2,
    "_isFastLaunch": false,
    "category": "General purpose",
    "gpuNum": 0,
    "hideHardwareSpecs": false,
    "memoryGiB": 16,
    "name": "ml.t3.xlarge",
    "vcpuNum": 4
   },
   {
    "_defaultOrder": 3,
    "_isFastLaunch": false,
    "category": "General purpose",
    "gpuNum": 0,
    "hideHardwareSpecs": false,
    "memoryGiB": 32,
    "name": "ml.t3.2xlarge",
    "vcpuNum": 8
   },
   {
    "_defaultOrder": 4,
    "_isFastLaunch": true,
    "category": "General purpose",
    "gpuNum": 0,
    "hideHardwareSpecs": false,
    "memoryGiB": 8,
    "name": "ml.m5.large",
    "vcpuNum": 2
   },
   {
    "_defaultOrder": 5,
    "_isFastLaunch": false,
    "category": "General purpose",
    "gpuNum": 0,
    "hideHardwareSpecs": false,
    "memoryGiB": 16,
    "name": "ml.m5.xlarge",
    "vcpuNum": 4
   },
   {
    "_defaultOrder": 6,
    "_isFastLaunch": false,
    "category": "General purpose",
    "gpuNum": 0,
    "hideHardwareSpecs": false,
    "memoryGiB": 32,
    "name": "ml.m5.2xlarge",
    "vcpuNum": 8
   },
   {
    "_defaultOrder": 7,
    "_isFastLaunch": false,
    "category": "General purpose",
    "gpuNum": 0,
    "hideHardwareSpecs": false,
    "memoryGiB": 64,
    "name": "ml.m5.4xlarge",
    "vcpuNum": 16
   },
   {
    "_defaultOrder": 8,
    "_isFastLaunch": false,
    "category": "General purpose",
    "gpuNum": 0,
    "hideHardwareSpecs": false,
    "memoryGiB": 128,
    "name": "ml.m5.8xlarge",
    "vcpuNum": 32
   },
   {
    "_defaultOrder": 9,
    "_isFastLaunch": false,
    "category": "General purpose",
    "gpuNum": 0,
    "hideHardwareSpecs": false,
    "memoryGiB": 192,
    "name": "ml.m5.12xlarge",
    "vcpuNum": 48
   },
   {
    "_defaultOrder": 10,
    "_isFastLaunch": false,
    "category": "General purpose",
    "gpuNum": 0,
    "hideHardwareSpecs": false,
    "memoryGiB": 256,
    "name": "ml.m5.16xlarge",
    "vcpuNum": 64
   },
   {
    "_defaultOrder": 11,
    "_isFastLaunch": false,
    "category": "General purpose",
    "gpuNum": 0,
    "hideHardwareSpecs": false,
    "memoryGiB": 384,
    "name": "ml.m5.24xlarge",
    "vcpuNum": 96
   },
   {
    "_defaultOrder": 12,
    "_isFastLaunch": false,
    "category": "General purpose",
    "gpuNum": 0,
    "hideHardwareSpecs": false,
    "memoryGiB": 8,
    "name": "ml.m5d.large",
    "vcpuNum": 2
   },
   {
    "_defaultOrder": 13,
    "_isFastLaunch": false,
    "category": "General purpose",
    "gpuNum": 0,
    "hideHardwareSpecs": false,
    "memoryGiB": 16,
    "name": "ml.m5d.xlarge",
    "vcpuNum": 4
   },
   {
    "_defaultOrder": 14,
    "_isFastLaunch": false,
    "category": "General purpose",
    "gpuNum": 0,
    "hideHardwareSpecs": false,
    "memoryGiB": 32,
    "name": "ml.m5d.2xlarge",
    "vcpuNum": 8
   },
   {
    "_defaultOrder": 15,
    "_isFastLaunch": false,
    "category": "General purpose",
    "gpuNum": 0,
    "hideHardwareSpecs": false,
    "memoryGiB": 64,
    "name": "ml.m5d.4xlarge",
    "vcpuNum": 16
   },
   {
    "_defaultOrder": 16,
    "_isFastLaunch": false,
    "category": "General purpose",
    "gpuNum": 0,
    "hideHardwareSpecs": false,
    "memoryGiB": 128,
    "name": "ml.m5d.8xlarge",
    "vcpuNum": 32
   },
   {
    "_defaultOrder": 17,
    "_isFastLaunch": false,
    "category": "General purpose",
    "gpuNum": 0,
    "hideHardwareSpecs": false,
    "memoryGiB": 192,
    "name": "ml.m5d.12xlarge",
    "vcpuNum": 48
   },
   {
    "_defaultOrder": 18,
    "_isFastLaunch": false,
    "category": "General purpose",
    "gpuNum": 0,
    "hideHardwareSpecs": false,
    "memoryGiB": 256,
    "name": "ml.m5d.16xlarge",
    "vcpuNum": 64
   },
   {
    "_defaultOrder": 19,
    "_isFastLaunch": false,
    "category": "General purpose",
    "gpuNum": 0,
    "hideHardwareSpecs": false,
    "memoryGiB": 384,
    "name": "ml.m5d.24xlarge",
    "vcpuNum": 96
   },
   {
    "_defaultOrder": 20,
    "_isFastLaunch": false,
    "category": "General purpose",
    "gpuNum": 0,
    "hideHardwareSpecs": true,
    "memoryGiB": 0,
    "name": "ml.geospatial.interactive",
    "supportedImageNames": [
     "sagemaker-geospatial-v1-0"
    ],
    "vcpuNum": 0
   },
   {
    "_defaultOrder": 21,
    "_isFastLaunch": true,
    "category": "Compute optimized",
    "gpuNum": 0,
    "hideHardwareSpecs": false,
    "memoryGiB": 4,
    "name": "ml.c5.large",
    "vcpuNum": 2
   },
   {
    "_defaultOrder": 22,
    "_isFastLaunch": false,
    "category": "Compute optimized",
    "gpuNum": 0,
    "hideHardwareSpecs": false,
    "memoryGiB": 8,
    "name": "ml.c5.xlarge",
    "vcpuNum": 4
   },
   {
    "_defaultOrder": 23,
    "_isFastLaunch": false,
    "category": "Compute optimized",
    "gpuNum": 0,
    "hideHardwareSpecs": false,
    "memoryGiB": 16,
    "name": "ml.c5.2xlarge",
    "vcpuNum": 8
   },
   {
    "_defaultOrder": 24,
    "_isFastLaunch": false,
    "category": "Compute optimized",
    "gpuNum": 0,
    "hideHardwareSpecs": false,
    "memoryGiB": 32,
    "name": "ml.c5.4xlarge",
    "vcpuNum": 16
   },
   {
    "_defaultOrder": 25,
    "_isFastLaunch": false,
    "category": "Compute optimized",
    "gpuNum": 0,
    "hideHardwareSpecs": false,
    "memoryGiB": 72,
    "name": "ml.c5.9xlarge",
    "vcpuNum": 36
   },
   {
    "_defaultOrder": 26,
    "_isFastLaunch": false,
    "category": "Compute optimized",
    "gpuNum": 0,
    "hideHardwareSpecs": false,
    "memoryGiB": 96,
    "name": "ml.c5.12xlarge",
    "vcpuNum": 48
   },
   {
    "_defaultOrder": 27,
    "_isFastLaunch": false,
    "category": "Compute optimized",
    "gpuNum": 0,
    "hideHardwareSpecs": false,
    "memoryGiB": 144,
    "name": "ml.c5.18xlarge",
    "vcpuNum": 72
   },
   {
    "_defaultOrder": 28,
    "_isFastLaunch": false,
    "category": "Compute optimized",
    "gpuNum": 0,
    "hideHardwareSpecs": false,
    "memoryGiB": 192,
    "name": "ml.c5.24xlarge",
    "vcpuNum": 96
   },
   {
    "_defaultOrder": 29,
    "_isFastLaunch": true,
    "category": "Accelerated computing",
    "gpuNum": 1,
    "hideHardwareSpecs": false,
    "memoryGiB": 16,
    "name": "ml.g4dn.xlarge",
    "vcpuNum": 4
   },
   {
    "_defaultOrder": 30,
    "_isFastLaunch": false,
    "category": "Accelerated computing",
    "gpuNum": 1,
    "hideHardwareSpecs": false,
    "memoryGiB": 32,
    "name": "ml.g4dn.2xlarge",
    "vcpuNum": 8
   },
   {
    "_defaultOrder": 31,
    "_isFastLaunch": false,
    "category": "Accelerated computing",
    "gpuNum": 1,
    "hideHardwareSpecs": false,
    "memoryGiB": 64,
    "name": "ml.g4dn.4xlarge",
    "vcpuNum": 16
   },
   {
    "_defaultOrder": 32,
    "_isFastLaunch": false,
    "category": "Accelerated computing",
    "gpuNum": 1,
    "hideHardwareSpecs": false,
    "memoryGiB": 128,
    "name": "ml.g4dn.8xlarge",
    "vcpuNum": 32
   },
   {
    "_defaultOrder": 33,
    "_isFastLaunch": false,
    "category": "Accelerated computing",
    "gpuNum": 4,
    "hideHardwareSpecs": false,
    "memoryGiB": 192,
    "name": "ml.g4dn.12xlarge",
    "vcpuNum": 48
   },
   {
    "_defaultOrder": 34,
    "_isFastLaunch": false,
    "category": "Accelerated computing",
    "gpuNum": 1,
    "hideHardwareSpecs": false,
    "memoryGiB": 256,
    "name": "ml.g4dn.16xlarge",
    "vcpuNum": 64
   },
   {
    "_defaultOrder": 35,
    "_isFastLaunch": false,
    "category": "Accelerated computing",
    "gpuNum": 1,
    "hideHardwareSpecs": false,
    "memoryGiB": 61,
    "name": "ml.p3.2xlarge",
    "vcpuNum": 8
   },
   {
    "_defaultOrder": 36,
    "_isFastLaunch": false,
    "category": "Accelerated computing",
    "gpuNum": 4,
    "hideHardwareSpecs": false,
    "memoryGiB": 244,
    "name": "ml.p3.8xlarge",
    "vcpuNum": 32
   },
   {
    "_defaultOrder": 37,
    "_isFastLaunch": false,
    "category": "Accelerated computing",
    "gpuNum": 8,
    "hideHardwareSpecs": false,
    "memoryGiB": 488,
    "name": "ml.p3.16xlarge",
    "vcpuNum": 64
   },
   {
    "_defaultOrder": 38,
    "_isFastLaunch": false,
    "category": "Accelerated computing",
    "gpuNum": 8,
    "hideHardwareSpecs": false,
    "memoryGiB": 768,
    "name": "ml.p3dn.24xlarge",
    "vcpuNum": 96
   },
   {
    "_defaultOrder": 39,
    "_isFastLaunch": false,
    "category": "Memory Optimized",
    "gpuNum": 0,
    "hideHardwareSpecs": false,
    "memoryGiB": 16,
    "name": "ml.r5.large",
    "vcpuNum": 2
   },
   {
    "_defaultOrder": 40,
    "_isFastLaunch": false,
    "category": "Memory Optimized",
    "gpuNum": 0,
    "hideHardwareSpecs": false,
    "memoryGiB": 32,
    "name": "ml.r5.xlarge",
    "vcpuNum": 4
   },
   {
    "_defaultOrder": 41,
    "_isFastLaunch": false,
    "category": "Memory Optimized",
    "gpuNum": 0,
    "hideHardwareSpecs": false,
    "memoryGiB": 64,
    "name": "ml.r5.2xlarge",
    "vcpuNum": 8
   },
   {
    "_defaultOrder": 42,
    "_isFastLaunch": false,
    "category": "Memory Optimized",
    "gpuNum": 0,
    "hideHardwareSpecs": false,
    "memoryGiB": 128,
    "name": "ml.r5.4xlarge",
    "vcpuNum": 16
   },
   {
    "_defaultOrder": 43,
    "_isFastLaunch": false,
    "category": "Memory Optimized",
    "gpuNum": 0,
    "hideHardwareSpecs": false,
    "memoryGiB": 256,
    "name": "ml.r5.8xlarge",
    "vcpuNum": 32
   },
   {
    "_defaultOrder": 44,
    "_isFastLaunch": false,
    "category": "Memory Optimized",
    "gpuNum": 0,
    "hideHardwareSpecs": false,
    "memoryGiB": 384,
    "name": "ml.r5.12xlarge",
    "vcpuNum": 48
   },
   {
    "_defaultOrder": 45,
    "_isFastLaunch": false,
    "category": "Memory Optimized",
    "gpuNum": 0,
    "hideHardwareSpecs": false,
    "memoryGiB": 512,
    "name": "ml.r5.16xlarge",
    "vcpuNum": 64
   },
   {
    "_defaultOrder": 46,
    "_isFastLaunch": false,
    "category": "Memory Optimized",
    "gpuNum": 0,
    "hideHardwareSpecs": false,
    "memoryGiB": 768,
    "name": "ml.r5.24xlarge",
    "vcpuNum": 96
   },
   {
    "_defaultOrder": 47,
    "_isFastLaunch": false,
    "category": "Accelerated computing",
    "gpuNum": 1,
    "hideHardwareSpecs": false,
    "memoryGiB": 16,
    "name": "ml.g5.xlarge",
    "vcpuNum": 4
   },
   {
    "_defaultOrder": 48,
    "_isFastLaunch": false,
    "category": "Accelerated computing",
    "gpuNum": 1,
    "hideHardwareSpecs": false,
    "memoryGiB": 32,
    "name": "ml.g5.2xlarge",
    "vcpuNum": 8
   },
   {
    "_defaultOrder": 49,
    "_isFastLaunch": false,
    "category": "Accelerated computing",
    "gpuNum": 1,
    "hideHardwareSpecs": false,
    "memoryGiB": 64,
    "name": "ml.g5.4xlarge",
    "vcpuNum": 16
   },
   {
    "_defaultOrder": 50,
    "_isFastLaunch": false,
    "category": "Accelerated computing",
    "gpuNum": 1,
    "hideHardwareSpecs": false,
    "memoryGiB": 128,
    "name": "ml.g5.8xlarge",
    "vcpuNum": 32
   },
   {
    "_defaultOrder": 51,
    "_isFastLaunch": false,
    "category": "Accelerated computing",
    "gpuNum": 1,
    "hideHardwareSpecs": false,
    "memoryGiB": 256,
    "name": "ml.g5.16xlarge",
    "vcpuNum": 64
   },
   {
    "_defaultOrder": 52,
    "_isFastLaunch": false,
    "category": "Accelerated computing",
    "gpuNum": 4,
    "hideHardwareSpecs": false,
    "memoryGiB": 192,
    "name": "ml.g5.12xlarge",
    "vcpuNum": 48
   },
   {
    "_defaultOrder": 53,
    "_isFastLaunch": false,
    "category": "Accelerated computing",
    "gpuNum": 4,
    "hideHardwareSpecs": false,
    "memoryGiB": 384,
    "name": "ml.g5.24xlarge",
    "vcpuNum": 96
   },
   {
    "_defaultOrder": 54,
    "_isFastLaunch": false,
    "category": "Accelerated computing",
    "gpuNum": 8,
    "hideHardwareSpecs": false,
    "memoryGiB": 768,
    "name": "ml.g5.48xlarge",
    "vcpuNum": 192
   },
   {
    "_defaultOrder": 55,
    "_isFastLaunch": false,
    "category": "Accelerated computing",
    "gpuNum": 8,
    "hideHardwareSpecs": false,
    "memoryGiB": 1152,
    "name": "ml.p4d.24xlarge",
    "vcpuNum": 96
   },
   {
    "_defaultOrder": 56,
    "_isFastLaunch": false,
    "category": "Accelerated computing",
    "gpuNum": 8,
    "hideHardwareSpecs": false,
    "memoryGiB": 1152,
    "name": "ml.p4de.24xlarge",
    "vcpuNum": 96
   }
  ],
  "instance_type": "ml.t3.2xlarge",
  "kernelspec": {
   "display_name": "Python 3 (ipykernel)",
   "language": "python",
   "name": "python3"
  },
  "language_info": {
   "codemirror_mode": {
    "name": "ipython",
    "version": 3
   },
   "file_extension": ".py",
   "mimetype": "text/x-python",
   "name": "python",
   "nbconvert_exporter": "python",
   "pygments_lexer": "ipython3",
   "version": "3.9.0"
  }
 },
 "nbformat": 4,
 "nbformat_minor": 5
}
