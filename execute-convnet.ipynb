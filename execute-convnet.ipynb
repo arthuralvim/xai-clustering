{
 "cells": [
  {
   "cell_type": "markdown",
   "id": "d66906d4-5fd5-4f4d-a9e4-deaf153f19ff",
   "metadata": {},
   "source": [
    "# ConvNet + BRAIN TUMOR"
   ]
  },
  {
   "cell_type": "code",
   "execution_count": 28,
   "id": "c6459795-0ffa-48e4-88ad-f107c7511b81",
   "metadata": {
    "scrolled": true,
    "tags": []
   },
   "outputs": [],
   "source": [
    "# ! pip install torch torchvision numpy pydantic interpret faiss-cpu torchsummary matplotlib pandas seaborn scikit-learn scikit-image pytorch-lightning[extra] --no-cache-dir --ignore-installed"
   ]
  },
  {
   "cell_type": "code",
   "execution_count": 29,
   "id": "75aa24f3-0909-43f7-873a-fe992a9ed95c",
   "metadata": {
    "tags": []
   },
   "outputs": [
    {
     "name": "stderr",
     "output_type": "stream",
     "text": [
      "Global seed set to 42\n"
     ]
    }
   ],
   "source": [
    "import copy\n",
    "import os\n",
    "import pickle\n",
    "import logging\n",
    "import pandas as pd\n",
    "import numpy as np\n",
    "import torch\n",
    "import torch.nn as nn\n",
    "import torch.optim as optim\n",
    "\n",
    "from data.brain_tumor_mri import BrainTumorMRI\n",
    "from models.cnn import ConvNet\n",
    "from pytorch_lightning import Trainer, seed_everything\n",
    "\n",
    "from pytorch_lightning.callbacks import ModelCheckpoint\n",
    "from pytorch_lightning.callbacks.early_stopping import EarlyStopping\n",
    "from pytorch_lightning.callbacks import Timer\n",
    "from pytorch_lightning.callbacks import RichProgressBar\n",
    "\n",
    "from pytorch_lightning.loggers import CSVLogger\n",
    "from torchvision import transforms\n",
    "from torchvision.transforms import functional as F\n",
    "\n",
    "from helpers.prediction import get_labels_from_prediction\n",
    "from helpers.metrics import metrics_to_dataframe\n",
    "from report.plots import plot_loss_curve, plot_acc_curve, plot_analysis\n",
    "from report import basic_report\n",
    "\n",
    "seed_everything(42, workers=True)\n",
    "pd.set_option('display.max_rows', None)"
   ]
  },
  {
   "cell_type": "code",
   "execution_count": 30,
   "id": "ace844e8-db97-42bb-9b6a-79f7954bf0a4",
   "metadata": {
    "tags": []
   },
   "outputs": [],
   "source": [
    "BATCH_SIZE = 64\n",
    "VAL_SIZE = 0.3\n",
    "EPOCHS = 60\n",
    "DATASET_RANDOM = 37\n",
    "\n",
    "brain_tumor = BrainTumorMRI(val_size=VAL_SIZE, batch_size=BATCH_SIZE, random_state=DATASET_RANDOM, transformations=transforms.Compose(\n",
    "            [\n",
    "                transforms.Resize((255, 255)),\n",
    "                transforms.RandomHorizontalFlip(),\n",
    "                transforms.RandomRotation(10),\n",
    "                transforms.ToTensor(),\n",
    "                transforms.Normalize(\n",
    "                    mean=[0.485, 0.456, 0.406], std=[0.229, 0.224, 0.225]\n",
    "                ),\n",
    "            ]\n",
    "        ))"
   ]
  },
  {
   "cell_type": "markdown",
   "id": "a57e9863-57c1-42f1-99d7-ce5a349f1788",
   "metadata": {},
   "source": [
    "# MODEL"
   ]
  },
  {
   "cell_type": "code",
   "execution_count": 31,
   "id": "5384c80c-5603-4ae6-a828-47e4a7fa4109",
   "metadata": {
    "tags": []
   },
   "outputs": [
    {
     "name": "stderr",
     "output_type": "stream",
     "text": [
      "GPU available: False, used: False\n",
      "TPU available: False, using: 0 TPU cores\n",
      "IPU available: False, using: 0 IPUs\n",
      "HPU available: False, using: 0 HPUs\n"
     ]
    }
   ],
   "source": [
    "model = ConvNet(num_classes=4, dropout=0.5)\n",
    "\n",
    "timer = Timer()\n",
    "progress_bar = RichProgressBar()\n",
    "logger = CSVLogger(save_dir=\"./\", name=f\"experiments-1/{model.name}\", flush_logs_every_n_steps=1)\n",
    "checkpoint_callback = ModelCheckpoint(\n",
    "    filename=f\"{model.name}-\" + \"{epoch}-{train_loss:.4f}-{train_acc:.4f}-{val_loss:.4f}-{val_acc:.4f}\",\n",
    "    save_top_k=3, save_last=True, monitor=\"val_loss\", mode=\"min\", verbose=True\n",
    ")\n",
    "\n",
    "trainer = Trainer(\n",
    "    accelerator=\"auto\", \n",
    "    devices=\"auto\",\n",
    "    max_epochs=EPOCHS,\n",
    "    logger=logger,\n",
    "    callbacks=[timer, progress_bar, checkpoint_callback],\n",
    "    log_every_n_steps=1,    \n",
    "    # enable_progress_bar=False,\n",
    "    # limit_train_batches=DATASET_RATIO or 1.0,\n",
    "    # limit_val_batches=DATASET_RATIO or 1.0,\n",
    "    # limit_test_batches=DATASET_RATIO or 1.0\n",
    ")"
   ]
  },
  {
   "cell_type": "markdown",
   "id": "ddc53162-d5e6-47ee-9908-ffa20a93c712",
   "metadata": {},
   "source": [
    "## TRAINING"
   ]
  },
  {
   "cell_type": "code",
   "execution_count": 32,
   "id": "97b440ff-5e49-4f34-86b2-b413f63937ab",
   "metadata": {},
   "outputs": [
    {
     "data": {
      "text/html": [
       "<pre style=\"white-space:pre;overflow-x:auto;line-height:normal;font-family:Menlo,'DejaVu Sans Mono',consolas,'Courier New',monospace\">┏━━━┳━━━━━━━━━━━━━━━━━━━┳━━━━━━━━━━━━━━━━━━━━┳━━━━━━━━┓\n",
       "┃<span style=\"color: #800080; text-decoration-color: #800080; font-weight: bold\">   </span>┃<span style=\"color: #800080; text-decoration-color: #800080; font-weight: bold\"> Name              </span>┃<span style=\"color: #800080; text-decoration-color: #800080; font-weight: bold\"> Type               </span>┃<span style=\"color: #800080; text-decoration-color: #800080; font-weight: bold\"> Params </span>┃\n",
       "┡━━━╇━━━━━━━━━━━━━━━━━━━╇━━━━━━━━━━━━━━━━━━━━╇━━━━━━━━┩\n",
       "│<span style=\"color: #7f7f7f; text-decoration-color: #7f7f7f\"> 0 </span>│ loss_fn           │ CrossEntropyLoss   │      0 │\n",
       "│<span style=\"color: #7f7f7f; text-decoration-color: #7f7f7f\"> 1 </span>│ train_acc         │ MulticlassAccuracy │      0 │\n",
       "│<span style=\"color: #7f7f7f; text-decoration-color: #7f7f7f\"> 2 </span>│ val_acc           │ MulticlassAccuracy │      0 │\n",
       "│<span style=\"color: #7f7f7f; text-decoration-color: #7f7f7f\"> 3 </span>│ test_acc          │ MulticlassAccuracy │      0 │\n",
       "│<span style=\"color: #7f7f7f; text-decoration-color: #7f7f7f\"> 4 </span>│ feature_extractor │ Sequential         │  5.1 K │\n",
       "│<span style=\"color: #7f7f7f; text-decoration-color: #7f7f7f\"> 5 </span>│ classifier        │ Sequential         │ 16.3 M │\n",
       "└───┴───────────────────┴────────────────────┴────────┘\n",
       "</pre>\n"
      ],
      "text/plain": [
       "┏━━━┳━━━━━━━━━━━━━━━━━━━┳━━━━━━━━━━━━━━━━━━━━┳━━━━━━━━┓\n",
       "┃\u001b[1;35m \u001b[0m\u001b[1;35m \u001b[0m\u001b[1;35m \u001b[0m┃\u001b[1;35m \u001b[0m\u001b[1;35mName             \u001b[0m\u001b[1;35m \u001b[0m┃\u001b[1;35m \u001b[0m\u001b[1;35mType              \u001b[0m\u001b[1;35m \u001b[0m┃\u001b[1;35m \u001b[0m\u001b[1;35mParams\u001b[0m\u001b[1;35m \u001b[0m┃\n",
       "┡━━━╇━━━━━━━━━━━━━━━━━━━╇━━━━━━━━━━━━━━━━━━━━╇━━━━━━━━┩\n",
       "│\u001b[2m \u001b[0m\u001b[2m0\u001b[0m\u001b[2m \u001b[0m│ loss_fn           │ CrossEntropyLoss   │      0 │\n",
       "│\u001b[2m \u001b[0m\u001b[2m1\u001b[0m\u001b[2m \u001b[0m│ train_acc         │ MulticlassAccuracy │      0 │\n",
       "│\u001b[2m \u001b[0m\u001b[2m2\u001b[0m\u001b[2m \u001b[0m│ val_acc           │ MulticlassAccuracy │      0 │\n",
       "│\u001b[2m \u001b[0m\u001b[2m3\u001b[0m\u001b[2m \u001b[0m│ test_acc          │ MulticlassAccuracy │      0 │\n",
       "│\u001b[2m \u001b[0m\u001b[2m4\u001b[0m\u001b[2m \u001b[0m│ feature_extractor │ Sequential         │  5.1 K │\n",
       "│\u001b[2m \u001b[0m\u001b[2m5\u001b[0m\u001b[2m \u001b[0m│ classifier        │ Sequential         │ 16.3 M │\n",
       "└───┴───────────────────┴────────────────────┴────────┘\n"
      ]
     },
     "metadata": {},
     "output_type": "display_data"
    },
    {
     "data": {
      "text/html": [
       "<pre style=\"white-space:pre;overflow-x:auto;line-height:normal;font-family:Menlo,'DejaVu Sans Mono',consolas,'Courier New',monospace\"><span style=\"font-weight: bold\">Trainable params</span>: 16.3 M                                                                                           \n",
       "<span style=\"font-weight: bold\">Non-trainable params</span>: 0                                                                                            \n",
       "<span style=\"font-weight: bold\">Total params</span>: 16.3 M                                                                                               \n",
       "<span style=\"font-weight: bold\">Total estimated model params size (MB)</span>: 65                                                                         \n",
       "</pre>\n"
      ],
      "text/plain": [
       "\u001b[1mTrainable params\u001b[0m: 16.3 M                                                                                           \n",
       "\u001b[1mNon-trainable params\u001b[0m: 0                                                                                            \n",
       "\u001b[1mTotal params\u001b[0m: 16.3 M                                                                                               \n",
       "\u001b[1mTotal estimated model params size (MB)\u001b[0m: 65                                                                         \n"
      ]
     },
     "metadata": {},
     "output_type": "display_data"
    },
    {
     "data": {
      "application/vnd.jupyter.widget-view+json": {
       "model_id": "786eb77dd03c4683b210bd0cb19add1b",
       "version_major": 2,
       "version_minor": 0
      },
      "text/plain": [
       "Output()"
      ]
     },
     "metadata": {},
     "output_type": "display_data"
    },
    {
     "name": "stderr",
     "output_type": "stream",
     "text": [
      "Epoch 0, global step 63: 'val_loss' reached 1.29550 (best 1.29550), saving model to './experiments-1/convnet/version_3/checkpoints/convnet-epoch=0-train_loss=1.6893-train_acc=0.4102-val_loss=1.2955-val_acc=0.5280.ckpt' as top 3\n",
      "Epoch 1, global step 126: 'val_loss' reached 1.18061 (best 1.18061), saving model to './experiments-1/convnet/version_3/checkpoints/convnet-epoch=1-train_loss=1.1108-train_acc=0.5765-val_loss=1.1806-val_acc=0.5426.ckpt' as top 3\n",
      "Epoch 2, global step 189: 'val_loss' reached 1.08058 (best 1.08058), saving model to './experiments-1/convnet/version_3/checkpoints/convnet-epoch=2-train_loss=0.9983-train_acc=0.6023-val_loss=1.0806-val_acc=0.5823.ckpt' as top 3\n",
      "Epoch 3, global step 252: 'val_loss' reached 1.00983 (best 1.00983), saving model to './experiments-1/convnet/version_3/checkpoints/convnet-epoch=3-train_loss=0.9005-train_acc=0.6341-val_loss=1.0098-val_acc=0.5875.ckpt' as top 3\n",
      "Epoch 4, global step 315: 'val_loss' reached 0.91581 (best 0.91581), saving model to './experiments-1/convnet/version_3/checkpoints/convnet-epoch=4-train_loss=0.8051-train_acc=0.6993-val_loss=0.9158-val_acc=0.5869.ckpt' as top 3\n",
      "Epoch 5, global step 378: 'val_loss' reached 0.83244 (best 0.83244), saving model to './experiments-1/convnet/version_3/checkpoints/convnet-epoch=5-train_loss=0.7225-train_acc=0.7369-val_loss=0.8324-val_acc=0.6739.ckpt' as top 3\n",
      "Epoch 6, global step 441: 'val_loss' reached 0.78754 (best 0.78754), saving model to './experiments-1/convnet/version_3/checkpoints/convnet-epoch=6-train_loss=0.6447-train_acc=0.7624-val_loss=0.7875-val_acc=0.6931.ckpt' as top 3\n",
      "Epoch 7, global step 504: 'val_loss' reached 0.78337 (best 0.78337), saving model to './experiments-1/convnet/version_3/checkpoints/convnet-epoch=7-train_loss=0.5926-train_acc=0.7856-val_loss=0.7834-val_acc=0.6931.ckpt' as top 3\n",
      "Epoch 8, global step 567: 'val_loss' reached 0.70127 (best 0.70127), saving model to './experiments-1/convnet/version_3/checkpoints/convnet-epoch=8-train_loss=0.5829-train_acc=0.7831-val_loss=0.7013-val_acc=0.7404.ckpt' as top 3\n",
      "Epoch 9, global step 630: 'val_loss' reached 0.70372 (best 0.70127), saving model to './experiments-1/convnet/version_3/checkpoints/convnet-epoch=9-train_loss=0.5486-train_acc=0.7924-val_loss=0.7037-val_acc=0.7392.ckpt' as top 3\n",
      "Epoch 10, global step 693: 'val_loss' reached 0.67910 (best 0.67910), saving model to './experiments-1/convnet/version_3/checkpoints/convnet-epoch=10-train_loss=0.5245-train_acc=0.8062-val_loss=0.6791-val_acc=0.7398.ckpt' as top 3\n",
      "Epoch 11, global step 756: 'val_loss' reached 0.66601 (best 0.66601), saving model to './experiments-1/convnet/version_3/checkpoints/convnet-epoch=11-train_loss=0.5098-train_acc=0.8049-val_loss=0.6660-val_acc=0.7474.ckpt' as top 3\n",
      "Epoch 12, global step 819: 'val_loss' reached 0.66518 (best 0.66518), saving model to './experiments-1/convnet/version_3/checkpoints/convnet-epoch=12-train_loss=0.4918-train_acc=0.8164-val_loss=0.6652-val_acc=0.7299.ckpt' as top 3\n",
      "Epoch 13, global step 882: 'val_loss' reached 0.65364 (best 0.65364), saving model to './experiments-1/convnet/version_3/checkpoints/convnet-epoch=13-train_loss=0.4916-train_acc=0.8114-val_loss=0.6536-val_acc=0.7450.ckpt' as top 3\n",
      "Epoch 14, global step 945: 'val_loss' reached 0.64445 (best 0.64445), saving model to './experiments-1/convnet/version_3/checkpoints/convnet-epoch=14-train_loss=0.4656-train_acc=0.8224-val_loss=0.6445-val_acc=0.7316.ckpt' as top 3\n",
      "Epoch 15, global step 1008: 'val_loss' reached 0.64072 (best 0.64072), saving model to './experiments-1/convnet/version_3/checkpoints/convnet-epoch=15-train_loss=0.4613-train_acc=0.8319-val_loss=0.6407-val_acc=0.7404.ckpt' as top 3\n",
      "Epoch 16, global step 1071: 'val_loss' reached 0.61745 (best 0.61745), saving model to './experiments-1/convnet/version_3/checkpoints/convnet-epoch=16-train_loss=0.4667-train_acc=0.8244-val_loss=0.6174-val_acc=0.7719.ckpt' as top 3\n",
      "Epoch 17, global step 1134: 'val_loss' reached 0.60083 (best 0.60083), saving model to './experiments-1/convnet/version_3/checkpoints/convnet-epoch=17-train_loss=0.4320-train_acc=0.8392-val_loss=0.6008-val_acc=0.7719.ckpt' as top 3\n",
      "Epoch 18, global step 1197: 'val_loss' reached 0.62913 (best 0.60083), saving model to './experiments-1/convnet/version_3/checkpoints/convnet-epoch=18-train_loss=0.4214-train_acc=0.8454-val_loss=0.6291-val_acc=0.7450.ckpt' as top 3\n",
      "Epoch 19, global step 1260: 'val_loss' reached 0.58110 (best 0.58110), saving model to './experiments-1/convnet/version_3/checkpoints/convnet-epoch=19-train_loss=0.4519-train_acc=0.8304-val_loss=0.5811-val_acc=0.7777.ckpt' as top 3\n",
      "Epoch 20, global step 1323: 'val_loss' reached 0.59393 (best 0.58110), saving model to './experiments-1/convnet/version_3/checkpoints/convnet-epoch=20-train_loss=0.4090-train_acc=0.8454-val_loss=0.5939-val_acc=0.7666.ckpt' as top 3\n",
      "Epoch 21, global step 1386: 'val_loss' reached 0.59837 (best 0.58110), saving model to './experiments-1/convnet/version_3/checkpoints/convnet-epoch=21-train_loss=0.3961-train_acc=0.8467-val_loss=0.5984-val_acc=0.7602.ckpt' as top 3\n",
      "Epoch 22, global step 1449: 'val_loss' reached 0.57547 (best 0.57547), saving model to './experiments-1/convnet/version_3/checkpoints/convnet-epoch=22-train_loss=0.3968-train_acc=0.8499-val_loss=0.5755-val_acc=0.7701.ckpt' as top 3\n",
      "Epoch 23, global step 1512: 'val_loss' reached 0.55423 (best 0.55423), saving model to './experiments-1/convnet/version_3/checkpoints/convnet-epoch=23-train_loss=0.3859-train_acc=0.8572-val_loss=0.5542-val_acc=0.7853.ckpt' as top 3\n",
      "Epoch 24, global step 1575: 'val_loss' reached 0.56463 (best 0.55423), saving model to './experiments-1/convnet/version_3/checkpoints/convnet-epoch=24-train_loss=0.3962-train_acc=0.8487-val_loss=0.5646-val_acc=0.7964.ckpt' as top 3\n",
      "Epoch 25, global step 1638: 'val_loss' reached 0.56146 (best 0.55423), saving model to './experiments-1/convnet/version_3/checkpoints/convnet-epoch=25-train_loss=0.3865-train_acc=0.8532-val_loss=0.5615-val_acc=0.7911.ckpt' as top 3\n",
      "Epoch 26, global step 1701: 'val_loss' reached 0.55699 (best 0.55423), saving model to './experiments-1/convnet/version_3/checkpoints/convnet-epoch=26-train_loss=0.3776-train_acc=0.8582-val_loss=0.5570-val_acc=0.7859.ckpt' as top 3\n",
      "Epoch 27, global step 1764: 'val_loss' reached 0.54243 (best 0.54243), saving model to './experiments-1/convnet/version_3/checkpoints/convnet-epoch=27-train_loss=0.3723-train_acc=0.8569-val_loss=0.5424-val_acc=0.7999.ckpt' as top 3\n",
      "Epoch 28, global step 1827: 'val_loss' reached 0.54829 (best 0.54243), saving model to './experiments-1/convnet/version_3/checkpoints/convnet-epoch=28-train_loss=0.3656-train_acc=0.8582-val_loss=0.5483-val_acc=0.7865.ckpt' as top 3\n",
      "Epoch 29, global step 1890: 'val_loss' reached 0.52892 (best 0.52892), saving model to './experiments-1/convnet/version_3/checkpoints/convnet-epoch=29-train_loss=0.3694-train_acc=0.8602-val_loss=0.5289-val_acc=0.7946.ckpt' as top 3\n",
      "Epoch 30, global step 1953: 'val_loss' reached 0.51197 (best 0.51197), saving model to './experiments-1/convnet/version_3/checkpoints/convnet-epoch=30-train_loss=0.3682-train_acc=0.8657-val_loss=0.5120-val_acc=0.8092.ckpt' as top 3\n",
      "Epoch 31, global step 2016: 'val_loss' reached 0.50593 (best 0.50593), saving model to './experiments-1/convnet/version_3/checkpoints/convnet-epoch=31-train_loss=0.3388-train_acc=0.8794-val_loss=0.5059-val_acc=0.8133.ckpt' as top 3\n",
      "Epoch 32, global step 2079: 'val_loss' reached 0.49039 (best 0.49039), saving model to './experiments-1/convnet/version_3/checkpoints/convnet-epoch=32-train_loss=0.3404-train_acc=0.8684-val_loss=0.4904-val_acc=0.8186.ckpt' as top 3\n",
      "Epoch 33, global step 2142: 'val_loss' was not in top 3\n",
      "Epoch 34, global step 2205: 'val_loss' reached 0.48423 (best 0.48423), saving model to './experiments-1/convnet/version_3/checkpoints/convnet-epoch=34-train_loss=0.3376-train_acc=0.8742-val_loss=0.4842-val_acc=0.8197.ckpt' as top 3\n",
      "Epoch 35, global step 2268: 'val_loss' reached 0.48423 (best 0.48423), saving model to './experiments-1/convnet/version_3/checkpoints/convnet-epoch=35-train_loss=0.3319-train_acc=0.8769-val_loss=0.4842-val_acc=0.8209.ckpt' as top 3\n",
      "Epoch 36, global step 2331: 'val_loss' was not in top 3\n",
      "Epoch 37, global step 2394: 'val_loss' reached 0.49000 (best 0.48423), saving model to './experiments-1/convnet/version_3/checkpoints/convnet-epoch=37-train_loss=0.3459-train_acc=0.8672-val_loss=0.4900-val_acc=0.8174.ckpt' as top 3\n",
      "Epoch 38, global step 2457: 'val_loss' reached 0.45136 (best 0.45136), saving model to './experiments-1/convnet/version_3/checkpoints/convnet-epoch=38-train_loss=0.3347-train_acc=0.8707-val_loss=0.4514-val_acc=0.8396.ckpt' as top 3\n",
      "Epoch 39, global step 2520: 'val_loss' reached 0.48196 (best 0.45136), saving model to './experiments-1/convnet/version_3/checkpoints/convnet-epoch=39-train_loss=0.3210-train_acc=0.8787-val_loss=0.4820-val_acc=0.8314.ckpt' as top 3\n",
      "Epoch 40, global step 2583: 'val_loss' reached 0.45815 (best 0.45136), saving model to './experiments-1/convnet/version_3/checkpoints/convnet-epoch=40-train_loss=0.3107-train_acc=0.8859-val_loss=0.4581-val_acc=0.8413.ckpt' as top 3\n",
      "Epoch 41, global step 2646: 'val_loss' was not in top 3\n",
      "Epoch 42, global step 2709: 'val_loss' reached 0.45209 (best 0.45136), saving model to './experiments-1/convnet/version_3/checkpoints/convnet-epoch=42-train_loss=0.3071-train_acc=0.8819-val_loss=0.4521-val_acc=0.8331.ckpt' as top 3\n",
      "Epoch 43, global step 2772: 'val_loss' was not in top 3\n",
      "Epoch 44, global step 2835: 'val_loss' reached 0.45372 (best 0.45136), saving model to './experiments-1/convnet/version_3/checkpoints/convnet-epoch=44-train_loss=0.3037-train_acc=0.8852-val_loss=0.4537-val_acc=0.8261.ckpt' as top 3\n",
      "Epoch 45, global step 2898: 'val_loss' reached 0.44680 (best 0.44680), saving model to './experiments-1/convnet/version_3/checkpoints/convnet-epoch=45-train_loss=0.2986-train_acc=0.8877-val_loss=0.4468-val_acc=0.8384.ckpt' as top 3\n",
      "Epoch 46, global step 2961: 'val_loss' reached 0.43490 (best 0.43490), saving model to './experiments-1/convnet/version_3/checkpoints/convnet-epoch=46-train_loss=0.2911-train_acc=0.8932-val_loss=0.4349-val_acc=0.8536.ckpt' as top 3\n",
      "Epoch 47, global step 3024: 'val_loss' reached 0.43589 (best 0.43490), saving model to './experiments-1/convnet/version_3/checkpoints/convnet-epoch=47-train_loss=0.2865-train_acc=0.8877-val_loss=0.4359-val_acc=0.8442.ckpt' as top 3\n",
      "Epoch 48, global step 3087: 'val_loss' reached 0.43783 (best 0.43490), saving model to './experiments-1/convnet/version_3/checkpoints/convnet-epoch=48-train_loss=0.3026-train_acc=0.8827-val_loss=0.4378-val_acc=0.8407.ckpt' as top 3\n",
      "Epoch 49, global step 3150: 'val_loss' was not in top 3\n",
      "Epoch 50, global step 3213: 'val_loss' was not in top 3\n",
      "Epoch 51, global step 3276: 'val_loss' was not in top 3\n",
      "Epoch 52, global step 3339: 'val_loss' reached 0.41582 (best 0.41582), saving model to './experiments-1/convnet/version_3/checkpoints/convnet-epoch=52-train_loss=0.2895-train_acc=0.8899-val_loss=0.4158-val_acc=0.8559.ckpt' as top 3\n",
      "Epoch 53, global step 3402: 'val_loss' reached 0.41823 (best 0.41582), saving model to './experiments-1/convnet/version_3/checkpoints/convnet-epoch=53-train_loss=0.2657-train_acc=0.9022-val_loss=0.4182-val_acc=0.8617.ckpt' as top 3\n",
      "Epoch 54, global step 3465: 'val_loss' reached 0.41687 (best 0.41582), saving model to './experiments-1/convnet/version_3/checkpoints/convnet-epoch=54-train_loss=0.2748-train_acc=0.8954-val_loss=0.4169-val_acc=0.8530.ckpt' as top 3\n",
      "Epoch 55, global step 3528: 'val_loss' was not in top 3\n",
      "Epoch 56, global step 3591: 'val_loss' was not in top 3\n",
      "Epoch 57, global step 3654: 'val_loss' was not in top 3\n",
      "Epoch 58, global step 3717: 'val_loss' was not in top 3\n",
      "Epoch 59, global step 3780: 'val_loss' was not in top 3\n",
      "`Trainer.fit` stopped: `max_epochs=60` reached.\n"
     ]
    },
    {
     "data": {
      "text/html": [
       "<pre style=\"white-space:pre;overflow-x:auto;line-height:normal;font-family:Menlo,'DejaVu Sans Mono',consolas,'Courier New',monospace\"></pre>\n"
      ],
      "text/plain": []
     },
     "metadata": {},
     "output_type": "display_data"
    },
    {
     "data": {
      "text/html": [
       "<pre style=\"white-space:pre;overflow-x:auto;line-height:normal;font-family:Menlo,'DejaVu Sans Mono',consolas,'Courier New',monospace\">\n",
       "</pre>\n"
      ],
      "text/plain": [
       "\n"
      ]
     },
     "metadata": {},
     "output_type": "display_data"
    }
   ],
   "source": [
    "trainer.fit(\n",
    "    model,\n",
    "    train_dataloaders=brain_tumor.train_dataloader,\n",
    "    val_dataloaders=brain_tumor.val_dataloader\n",
    ")"
   ]
  },
  {
   "cell_type": "markdown",
   "id": "30362bfb-93e8-46e9-ae5c-f3ad51547843",
   "metadata": {},
   "source": [
    "## TESTING"
   ]
  },
  {
   "cell_type": "code",
   "execution_count": 33,
   "id": "f1b70950-ceb6-4de6-89ef-3f39a6862e59",
   "metadata": {},
   "outputs": [
    {
     "data": {
      "application/vnd.jupyter.widget-view+json": {
       "model_id": "02ec765e44844519a104a2bb874fadec",
       "version_major": 2,
       "version_minor": 0
      },
      "text/plain": [
       "Output()"
      ]
     },
     "metadata": {},
     "output_type": "display_data"
    },
    {
     "data": {
      "text/html": [
       "<pre style=\"white-space:pre;overflow-x:auto;line-height:normal;font-family:Menlo,'DejaVu Sans Mono',consolas,'Courier New',monospace\"></pre>\n"
      ],
      "text/plain": []
     },
     "metadata": {},
     "output_type": "display_data"
    },
    {
     "data": {
      "text/html": [
       "<pre style=\"white-space:pre;overflow-x:auto;line-height:normal;font-family:Menlo,'DejaVu Sans Mono',consolas,'Courier New',monospace\">\n",
       "</pre>\n"
      ],
      "text/plain": [
       "\n"
      ]
     },
     "metadata": {},
     "output_type": "display_data"
    }
   ],
   "source": [
    "batch_predictions = trainer.predict(model, dataloaders=brain_tumor.test_dataloader)\n",
    "truth_labels, preds_labels = get_labels_from_prediction(batch_predictions)\n",
    "with open(f\"{trainer.logger.log_dir}/{model.name}-preds.dump\", \"wb\") as f:\n",
    "    pickle.dump([truth_labels, preds_labels], f)"
   ]
  },
  {
   "cell_type": "markdown",
   "id": "3164400f-d958-497d-b79d-2ce943e44d08",
   "metadata": {},
   "source": [
    "## ANALYSIS"
   ]
  },
  {
   "cell_type": "code",
   "execution_count": 34,
   "id": "2b96c271-80e6-4d9a-888b-6ee9f088ee38",
   "metadata": {},
   "outputs": [
    {
     "name": "stderr",
     "output_type": "stream",
     "text": [
      "/Users/arthuralvim/Work/xai-clustering/helpers/metrics.py:7: FutureWarning: Series.fillna with 'method' is deprecated and will raise in a future version. Use obj.ffill() or obj.bfill() instead.\n",
      "  metrics[\"epoch\"] = metrics[\"epoch\"].fillna(method=\"ffill\")\n",
      "/Users/arthuralvim/Library/Caches/pypoetry/virtualenvs/xai-clustering-b3gHD5dt-py3.9/lib/python3.9/site-packages/numpy/core/fromnumeric.py:59: FutureWarning: 'DataFrame.swapaxes' is deprecated and will be removed in a future version. Please use 'DataFrame.transpose' instead.\n",
      "  return bound(*args, **kwds)\n"
     ]
    }
   ],
   "source": [
    "train_metrics, valid_metrics, epoch_metrics = metrics_to_dataframe(f\"{trainer.logger.log_dir}/metrics.csv\", brain_tumor)"
   ]
  },
  {
   "cell_type": "code",
   "execution_count": 35,
   "id": "d9313385-87de-4c8b-adf8-38deb983f146",
   "metadata": {},
   "outputs": [
    {
     "data": {
      "image/png": "[encoded data removed]",
      "text/plain": [
       "<Figure size 1900x900 with 2 Axes>"
      ]
     },
     "metadata": {},
     "output_type": "display_data"
    }
   ],
   "source": [
    "plot_analysis(epoch_metrics, save_as=f\"{trainer.logger.log_dir}/{model.name}-analysis.png\")"
   ]
  },
  {
   "cell_type": "code",
   "execution_count": 36,
   "id": "af97f45d-1a1f-42bc-a8f2-40608b2b1918",
   "metadata": {},
   "outputs": [
    {
     "name": "stdout",
     "output_type": "stream",
     "text": [
      "              precision    recall  f1-score   support\n",
      "\n",
      "      Glioma      0.799     0.753     0.775       300\n",
      "  Meningioma      0.708     0.641     0.672       306\n",
      "   Sem Tumor      0.855     0.948     0.899       405\n",
      "  Pituitária      0.930     0.937     0.934       300\n",
      "\n",
      "    accuracy                          0.829      1311\n",
      "   macro avg      0.823     0.820     0.820      1311\n",
      "weighted avg      0.825     0.829     0.826      1311\n",
      "\n",
      "            Gli  Men  Sem  Pit\n",
      "Glioma      226   64    0   10\n",
      "Meningioma   40  196   61    9\n",
      "Sem Tumor     9   10  384    2\n",
      "Pituitária    8    7    4  281\n"
     ]
    }
   ],
   "source": [
    "plot_loss_curve(epoch_metrics, show=False, save_as=f\"{trainer.logger.log_dir}/{model.name}-loss.png\")\n",
    "plot_acc_curve(epoch_metrics, show=False, save_as=f\"{trainer.logger.log_dir}/{model.name}-acc.png\")\n",
    "basic_report(truth_labels, preds_labels, labels=[0,1,2,3], label_names=[\"Glioma\", \"Meningioma\", \"Sem Tumor\", \"Pituitária\"], show=False, \n",
    "             save_as=f\"{trainer.logger.log_dir}/{model.name}-confusion-matrix.png\")"
   ]
  }
 ],
 "metadata": {
  "availableInstances": [
   {
    "_defaultOrder": 0,
    "_isFastLaunch": true,
    "category": "General purpose",
    "gpuNum": 0,
    "hideHardwareSpecs": false,
    "memoryGiB": 4,
    "name": "ml.t3.medium",
    "vcpuNum": 2
   },
   {
    "_defaultOrder": 1,
    "_isFastLaunch": false,
    "category": "General purpose",
    "gpuNum": 0,
    "hideHardwareSpecs": false,
    "memoryGiB": 8,
    "name": "ml.t3.large",
    "vcpuNum": 2
   },
   {
    "_defaultOrder": 2,
    "_isFastLaunch": false,
    "category": "General purpose",
    "gpuNum": 0,
    "hideHardwareSpecs": false,
    "memoryGiB": 16,
    "name": "ml.t3.xlarge",
    "vcpuNum": 4
   },
   {
    "_defaultOrder": 3,
    "_isFastLaunch": false,
    "category": "General purpose",
    "gpuNum": 0,
    "hideHardwareSpecs": false,
    "memoryGiB": 32,
    "name": "ml.t3.2xlarge",
    "vcpuNum": 8
   },
   {
    "_defaultOrder": 4,
    "_isFastLaunch": true,
    "category": "General purpose",
    "gpuNum": 0,
    "hideHardwareSpecs": false,
    "memoryGiB": 8,
    "name": "ml.m5.large",
    "vcpuNum": 2
   },
   {
    "_defaultOrder": 5,
    "_isFastLaunch": false,
    "category": "General purpose",
    "gpuNum": 0,
    "hideHardwareSpecs": false,
    "memoryGiB": 16,
    "name": "ml.m5.xlarge",
    "vcpuNum": 4
   },
   {
    "_defaultOrder": 6,
    "_isFastLaunch": false,
    "category": "General purpose",
    "gpuNum": 0,
    "hideHardwareSpecs": false,
    "memoryGiB": 32,
    "name": "ml.m5.2xlarge",
    "vcpuNum": 8
   },
   {
    "_defaultOrder": 7,
    "_isFastLaunch": false,
    "category": "General purpose",
    "gpuNum": 0,
    "hideHardwareSpecs": false,
    "memoryGiB": 64,
    "name": "ml.m5.4xlarge",
    "vcpuNum": 16
   },
   {
    "_defaultOrder": 8,
    "_isFastLaunch": false,
    "category": "General purpose",
    "gpuNum": 0,
    "hideHardwareSpecs": false,
    "memoryGiB": 128,
    "name": "ml.m5.8xlarge",
    "vcpuNum": 32
   },
   {
    "_defaultOrder": 9,
    "_isFastLaunch": false,
    "category": "General purpose",
    "gpuNum": 0,
    "hideHardwareSpecs": false,
    "memoryGiB": 192,
    "name": "ml.m5.12xlarge",
    "vcpuNum": 48
   },
   {
    "_defaultOrder": 10,
    "_isFastLaunch": false,
    "category": "General purpose",
    "gpuNum": 0,
    "hideHardwareSpecs": false,
    "memoryGiB": 256,
    "name": "ml.m5.16xlarge",
    "vcpuNum": 64
   },
   {
    "_defaultOrder": 11,
    "_isFastLaunch": false,
    "category": "General purpose",
    "gpuNum": 0,
    "hideHardwareSpecs": false,
    "memoryGiB": 384,
    "name": "ml.m5.24xlarge",
    "vcpuNum": 96
   },
   {
    "_defaultOrder": 12,
    "_isFastLaunch": false,
    "category": "General purpose",
    "gpuNum": 0,
    "hideHardwareSpecs": false,
    "memoryGiB": 8,
    "name": "ml.m5d.large",
    "vcpuNum": 2
   },
   {
    "_defaultOrder": 13,
    "_isFastLaunch": false,
    "category": "General purpose",
    "gpuNum": 0,
    "hideHardwareSpecs": false,
    "memoryGiB": 16,
    "name": "ml.m5d.xlarge",
    "vcpuNum": 4
   },
   {
    "_defaultOrder": 14,
    "_isFastLaunch": false,
    "category": "General purpose",
    "gpuNum": 0,
    "hideHardwareSpecs": false,
    "memoryGiB": 32,
    "name": "ml.m5d.2xlarge",
    "vcpuNum": 8
   },
   {
    "_defaultOrder": 15,
    "_isFastLaunch": false,
    "category": "General purpose",
    "gpuNum": 0,
    "hideHardwareSpecs": false,
    "memoryGiB": 64,
    "name": "ml.m5d.4xlarge",
    "vcpuNum": 16
   },
   {
    "_defaultOrder": 16,
    "_isFastLaunch": false,
    "category": "General purpose",
    "gpuNum": 0,
    "hideHardwareSpecs": false,
    "memoryGiB": 128,
    "name": "ml.m5d.8xlarge",
    "vcpuNum": 32
   },
   {
    "_defaultOrder": 17,
    "_isFastLaunch": false,
    "category": "General purpose",
    "gpuNum": 0,
    "hideHardwareSpecs": false,
    "memoryGiB": 192,
    "name": "ml.m5d.12xlarge",
    "vcpuNum": 48
   },
   {
    "_defaultOrder": 18,
    "_isFastLaunch": false,
    "category": "General purpose",
    "gpuNum": 0,
    "hideHardwareSpecs": false,
    "memoryGiB": 256,
    "name": "ml.m5d.16xlarge",
    "vcpuNum": 64
   },
   {
    "_defaultOrder": 19,
    "_isFastLaunch": false,
    "category": "General purpose",
    "gpuNum": 0,
    "hideHardwareSpecs": false,
    "memoryGiB": 384,
    "name": "ml.m5d.24xlarge",
    "vcpuNum": 96
   },
   {
    "_defaultOrder": 20,
    "_isFastLaunch": false,
    "category": "General purpose",
    "gpuNum": 0,
    "hideHardwareSpecs": true,
    "memoryGiB": 0,
    "name": "ml.geospatial.interactive",
    "supportedImageNames": [
     "sagemaker-geospatial-v1-0"
    ],
    "vcpuNum": 0
   },
   {
    "_defaultOrder": 21,
    "_isFastLaunch": true,
    "category": "Compute optimized",
    "gpuNum": 0,
    "hideHardwareSpecs": false,
    "memoryGiB": 4,
    "name": "ml.c5.large",
    "vcpuNum": 2
   },
   {
    "_defaultOrder": 22,
    "_isFastLaunch": false,
    "category": "Compute optimized",
    "gpuNum": 0,
    "hideHardwareSpecs": false,
    "memoryGiB": 8,
    "name": "ml.c5.xlarge",
    "vcpuNum": 4
   },
   {
    "_defaultOrder": 23,
    "_isFastLaunch": false,
    "category": "Compute optimized",
    "gpuNum": 0,
    "hideHardwareSpecs": false,
    "memoryGiB": 16,
    "name": "ml.c5.2xlarge",
    "vcpuNum": 8
   },
   {
    "_defaultOrder": 24,
    "_isFastLaunch": false,
    "category": "Compute optimized",
    "gpuNum": 0,
    "hideHardwareSpecs": false,
    "memoryGiB": 32,
    "name": "ml.c5.4xlarge",
    "vcpuNum": 16
   },
   {
    "_defaultOrder": 25,
    "_isFastLaunch": false,
    "category": "Compute optimized",
    "gpuNum": 0,
    "hideHardwareSpecs": false,
    "memoryGiB": 72,
    "name": "ml.c5.9xlarge",
    "vcpuNum": 36
   },
   {
    "_defaultOrder": 26,
    "_isFastLaunch": false,
    "category": "Compute optimized",
    "gpuNum": 0,
    "hideHardwareSpecs": false,
    "memoryGiB": 96,
    "name": "ml.c5.12xlarge",
    "vcpuNum": 48
   },
   {
    "_defaultOrder": 27,
    "_isFastLaunch": false,
    "category": "Compute optimized",
    "gpuNum": 0,
    "hideHardwareSpecs": false,
    "memoryGiB": 144,
    "name": "ml.c5.18xlarge",
    "vcpuNum": 72
   },
   {
    "_defaultOrder": 28,
    "_isFastLaunch": false,
    "category": "Compute optimized",
    "gpuNum": 0,
    "hideHardwareSpecs": false,
    "memoryGiB": 192,
    "name": "ml.c5.24xlarge",
    "vcpuNum": 96
   },
   {
    "_defaultOrder": 29,
    "_isFastLaunch": true,
    "category": "Accelerated computing",
    "gpuNum": 1,
    "hideHardwareSpecs": false,
    "memoryGiB": 16,
    "name": "ml.g4dn.xlarge",
    "vcpuNum": 4
   },
   {
    "_defaultOrder": 30,
    "_isFastLaunch": false,
    "category": "Accelerated computing",
    "gpuNum": 1,
    "hideHardwareSpecs": false,
    "memoryGiB": 32,
    "name": "ml.g4dn.2xlarge",
    "vcpuNum": 8
   },
   {
    "_defaultOrder": 31,
    "_isFastLaunch": false,
    "category": "Accelerated computing",
    "gpuNum": 1,
    "hideHardwareSpecs": false,
    "memoryGiB": 64,
    "name": "ml.g4dn.4xlarge",
    "vcpuNum": 16
   },
   {
    "_defaultOrder": 32,
    "_isFastLaunch": false,
    "category": "Accelerated computing",
    "gpuNum": 1,
    "hideHardwareSpecs": false,
    "memoryGiB": 128,
    "name": "ml.g4dn.8xlarge",
    "vcpuNum": 32
   },
   {
    "_defaultOrder": 33,
    "_isFastLaunch": false,
    "category": "Accelerated computing",
    "gpuNum": 4,
    "hideHardwareSpecs": false,
    "memoryGiB": 192,
    "name": "ml.g4dn.12xlarge",
    "vcpuNum": 48
   },
   {
    "_defaultOrder": 34,
    "_isFastLaunch": false,
    "category": "Accelerated computing",
    "gpuNum": 1,
    "hideHardwareSpecs": false,
    "memoryGiB": 256,
    "name": "ml.g4dn.16xlarge",
    "vcpuNum": 64
   },
   {
    "_defaultOrder": 35,
    "_isFastLaunch": false,
    "category": "Accelerated computing",
    "gpuNum": 1,
    "hideHardwareSpecs": false,
    "memoryGiB": 61,
    "name": "ml.p3.2xlarge",
    "vcpuNum": 8
   },
   {
    "_defaultOrder": 36,
    "_isFastLaunch": false,
    "category": "Accelerated computing",
    "gpuNum": 4,
    "hideHardwareSpecs": false,
    "memoryGiB": 244,
    "name": "ml.p3.8xlarge",
    "vcpuNum": 32
   },
   {
    "_defaultOrder": 37,
    "_isFastLaunch": false,
    "category": "Accelerated computing",
    "gpuNum": 8,
    "hideHardwareSpecs": false,
    "memoryGiB": 488,
    "name": "ml.p3.16xlarge",
    "vcpuNum": 64
   },
   {
    "_defaultOrder": 38,
    "_isFastLaunch": false,
    "category": "Accelerated computing",
    "gpuNum": 8,
    "hideHardwareSpecs": false,
    "memoryGiB": 768,
    "name": "ml.p3dn.24xlarge",
    "vcpuNum": 96
   },
   {
    "_defaultOrder": 39,
    "_isFastLaunch": false,
    "category": "Memory Optimized",
    "gpuNum": 0,
    "hideHardwareSpecs": false,
    "memoryGiB": 16,
    "name": "ml.r5.large",
    "vcpuNum": 2
   },
   {
    "_defaultOrder": 40,
    "_isFastLaunch": false,
    "category": "Memory Optimized",
    "gpuNum": 0,
    "hideHardwareSpecs": false,
    "memoryGiB": 32,
    "name": "ml.r5.xlarge",
    "vcpuNum": 4
   },
   {
    "_defaultOrder": 41,
    "_isFastLaunch": false,
    "category": "Memory Optimized",
    "gpuNum": 0,
    "hideHardwareSpecs": false,
    "memoryGiB": 64,
    "name": "ml.r5.2xlarge",
    "vcpuNum": 8
   },
   {
    "_defaultOrder": 42,
    "_isFastLaunch": false,
    "category": "Memory Optimized",
    "gpuNum": 0,
    "hideHardwareSpecs": false,
    "memoryGiB": 128,
    "name": "ml.r5.4xlarge",
    "vcpuNum": 16
   },
   {
    "_defaultOrder": 43,
    "_isFastLaunch": false,
    "category": "Memory Optimized",
    "gpuNum": 0,
    "hideHardwareSpecs": false,
    "memoryGiB": 256,
    "name": "ml.r5.8xlarge",
    "vcpuNum": 32
   },
   {
    "_defaultOrder": 44,
    "_isFastLaunch": false,
    "category": "Memory Optimized",
    "gpuNum": 0,
    "hideHardwareSpecs": false,
    "memoryGiB": 384,
    "name": "ml.r5.12xlarge",
    "vcpuNum": 48
   },
   {
    "_defaultOrder": 45,
    "_isFastLaunch": false,
    "category": "Memory Optimized",
    "gpuNum": 0,
    "hideHardwareSpecs": false,
    "memoryGiB": 512,
    "name": "ml.r5.16xlarge",
    "vcpuNum": 64
   },
   {
    "_defaultOrder": 46,
    "_isFastLaunch": false,
    "category": "Memory Optimized",
    "gpuNum": 0,
    "hideHardwareSpecs": false,
    "memoryGiB": 768,
    "name": "ml.r5.24xlarge",
    "vcpuNum": 96
   },
   {
    "_defaultOrder": 47,
    "_isFastLaunch": false,
    "category": "Accelerated computing",
    "gpuNum": 1,
    "hideHardwareSpecs": false,
    "memoryGiB": 16,
    "name": "ml.g5.xlarge",
    "vcpuNum": 4
   },
   {
    "_defaultOrder": 48,
    "_isFastLaunch": false,
    "category": "Accelerated computing",
    "gpuNum": 1,
    "hideHardwareSpecs": false,
    "memoryGiB": 32,
    "name": "ml.g5.2xlarge",
    "vcpuNum": 8
   },
   {
    "_defaultOrder": 49,
    "_isFastLaunch": false,
    "category": "Accelerated computing",
    "gpuNum": 1,
    "hideHardwareSpecs": false,
    "memoryGiB": 64,
    "name": "ml.g5.4xlarge",
    "vcpuNum": 16
   },
   {
    "_defaultOrder": 50,
    "_isFastLaunch": false,
    "category": "Accelerated computing",
    "gpuNum": 1,
    "hideHardwareSpecs": false,
    "memoryGiB": 128,
    "name": "ml.g5.8xlarge",
    "vcpuNum": 32
   },
   {
    "_defaultOrder": 51,
    "_isFastLaunch": false,
    "category": "Accelerated computing",
    "gpuNum": 1,
    "hideHardwareSpecs": false,
    "memoryGiB": 256,
    "name": "ml.g5.16xlarge",
    "vcpuNum": 64
   },
   {
    "_defaultOrder": 52,
    "_isFastLaunch": false,
    "category": "Accelerated computing",
    "gpuNum": 4,
    "hideHardwareSpecs": false,
    "memoryGiB": 192,
    "name": "ml.g5.12xlarge",
    "vcpuNum": 48
   },
   {
    "_defaultOrder": 53,
    "_isFastLaunch": false,
    "category": "Accelerated computing",
    "gpuNum": 4,
    "hideHardwareSpecs": false,
    "memoryGiB": 384,
    "name": "ml.g5.24xlarge",
    "vcpuNum": 96
   },
   {
    "_defaultOrder": 54,
    "_isFastLaunch": false,
    "category": "Accelerated computing",
    "gpuNum": 8,
    "hideHardwareSpecs": false,
    "memoryGiB": 768,
    "name": "ml.g5.48xlarge",
    "vcpuNum": 192
   },
   {
    "_defaultOrder": 55,
    "_isFastLaunch": false,
    "category": "Accelerated computing",
    "gpuNum": 8,
    "hideHardwareSpecs": false,
    "memoryGiB": 1152,
    "name": "ml.p4d.24xlarge",
    "vcpuNum": 96
   },
   {
    "_defaultOrder": 56,
    "_isFastLaunch": false,
    "category": "Accelerated computing",
    "gpuNum": 8,
    "hideHardwareSpecs": false,
    "memoryGiB": 1152,
    "name": "ml.p4de.24xlarge",
    "vcpuNum": 96
   }
  ],
  "instance_type": "ml.t3.2xlarge",
  "kernelspec": {
   "display_name": "Python 3 (ipykernel)",
   "language": "python",
   "name": "python3"
  },
  "language_info": {
   "codemirror_mode": {
    "name": "ipython",
    "version": 3
   },
   "file_extension": ".py",
   "mimetype": "text/x-python",
   "name": "python",
   "nbconvert_exporter": "python",
   "pygments_lexer": "ipython3",
   "version": "3.9.0"
  }
 },
 "nbformat": 4,
 "nbformat_minor": 5
}
