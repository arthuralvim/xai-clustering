{
 "cells": [
  {
   "cell_type": "code",
   "execution_count": 5,
   "id": "90ebb75c-16d1-485b-99be-e75f34b3f13a",
   "metadata": {},
   "outputs": [],
   "source": [
    "import numpy as np\n",
    "import torch\n",
    "from data.brain_tumor_mri import BrainTumorMRI\n",
    "from torchvision import transforms"
   ]
  },
  {
   "cell_type": "code",
   "execution_count": 6,
   "id": "333e2229-be80-467f-9933-989918a47b63",
   "metadata": {},
   "outputs": [],
   "source": [
    "DEVICE = torch.device(\"cpu:0\")\n",
    "BATCH_SIZE = 128\n",
    "NUM_WORKERS = 4\n",
    "DATASETS_PATH = './datasets/'\n",
    "\n",
    "def count_classes(dataloader):\n",
    "    targets = []\n",
    "    for _, t in dataloader:\n",
    "        targets.append(t)\n",
    "    targets = np.concatenate(targets)\n",
    "    return Counter(targets)"
   ]
  },
  {
   "cell_type": "code",
   "execution_count": 7,
   "id": "b1353022-0bc8-4cad-b55d-39f0df289e33",
   "metadata": {},
   "outputs": [],
   "source": [
    "brain_tumor = BrainTumorMRI(DATASETS_PATH, train_size=0.8, val_size=0.2, random_state=333, transforms=transforms.Compose(\n",
    "            [\n",
    "                transforms.Resize((255, 255)),\n",
    "                transforms.RandomHorizontalFlip(),\n",
    "                transforms.RandomRotation(10),\n",
    "                transforms.ToTensor(),\n",
    "                transforms.Normalize(\n",
    "                    mean=[0.485, 0.456, 0.406], std=[0.229, 0.224, 0.225]\n",
    "                ),\n",
    "            ]\n",
    "        ))"
   ]
  },
  {
   "cell_type": "code",
   "execution_count": 8,
   "id": "e53f8e5d-ba64-4486-bcca-0f3a7acc38da",
   "metadata": {},
   "outputs": [
    {
     "data": {
      "text/plain": [
       "Counter({2: 1276, 3: 1165, 1: 1071, 0: 1057})"
      ]
     },
     "execution_count": 8,
     "metadata": {},
     "output_type": "execute_result"
    }
   ],
   "source": [
    "count_classes(brain_tumor.train_dataloader)"
   ]
  },
  {
   "cell_type": "code",
   "execution_count": 9,
   "id": "79b373a7-183d-48df-8a83-0f968d9fe46d",
   "metadata": {},
   "outputs": [
    {
     "data": {
      "text/plain": [
       "Counter({2: 319, 3: 292, 1: 268, 0: 264})"
      ]
     },
     "execution_count": 9,
     "metadata": {},
     "output_type": "execute_result"
    }
   ],
   "source": [
    "count_classes(brain_tumor.val_dataloader)"
   ]
  },
  {
   "cell_type": "code",
   "execution_count": 10,
   "id": "d515d80c-45db-4049-ae36-31f4a129a20c",
   "metadata": {},
   "outputs": [
    {
     "data": {
      "text/plain": [
       "Counter({2: 405, 1: 306, 0: 300, 3: 300})"
      ]
     },
     "execution_count": 10,
     "metadata": {},
     "output_type": "execute_result"
    }
   ],
   "source": [
    "count_classes(brain_tumor.test_dataloader)"
   ]
  }
 ],
 "metadata": {
  "kernelspec": {
   "display_name": "Python 3 (ipykernel)",
   "language": "python",
   "name": "python3"
  },
  "language_info": {
   "codemirror_mode": {
    "name": "ipython",
    "version": 3
   },
   "file_extension": ".py",
   "mimetype": "text/x-python",
   "name": "python",
   "nbconvert_exporter": "python",
   "pygments_lexer": "ipython3",
   "version": "3.9.0"
  }
 },
 "nbformat": 4,
 "nbformat_minor": 5
}
