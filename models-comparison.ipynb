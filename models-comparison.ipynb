{
 "cells": [
  {
   "cell_type": "markdown",
   "id": "d66906d4-5fd5-4f4d-a9e4-deaf153f19ff",
   "metadata": {},
   "source": [
    "# LAYER WISE PROPAGATION RELEVANCE"
   ]
  },
  {
   "cell_type": "code",
   "execution_count": 1,
   "id": "75aa24f3-0909-43f7-873a-fe992a9ed95c",
   "metadata": {
    "tags": []
   },
   "outputs": [
    {
     "name": "stderr",
     "output_type": "stream",
     "text": [
      "Using `tqdm.autonotebook.tqdm` in notebook mode. Use `tqdm.tqdm` instead to force console mode (e.g. in jupyter console)\n"
     ]
    }
   ],
   "source": [
    "import os\n",
    "import torch\n",
    "import copy\n",
    "import shap\n",
    "import random\n",
    "import pickle\n",
    "\n",
    "import pandas as pd\n",
    "import numpy as np\n",
    "from PIL import Image\n",
    "\n",
    "from data.brain_tumor_mri import BrainTumorMRI\n",
    "from torchvision import transforms\n",
    "from torchvision.transforms import functional as F\n",
    "from torch.utils.data import DataLoader\n",
    "\n",
    "\n",
    "import matplotlib.pyplot as plt\n",
    "from matplotlib.colors import LinearSegmentedColormap\n",
    "\n",
    "from models.vgg import VGG\n",
    "from models.vgg_deep import DVGG\n",
    "from models.cnn import ConvNet\n",
    "from models.cnn_deep import DConvNet\n",
    "\n",
    "from helpers.prediction import get_labels_from_prediction"
   ]
  },
  {
   "cell_type": "code",
   "execution_count": 2,
   "id": "b14d65ed-89f1-4a08-846d-2717a1705a08",
   "metadata": {},
   "outputs": [],
   "source": [
    "transformations = transforms.Compose([\n",
    "    transforms.Resize((255, 255)),\n",
    "    transforms.ToTensor(),\n",
    "    transforms.Normalize(\n",
    "        mean=[0.485, 0.456, 0.406], std=[0.229, 0.224, 0.225]\n",
    "    ),\n",
    "])\n",
    "    \n",
    "def image_to_features(img_tensor):\n",
    "    img_transformed = transformations(img_tensor)\n",
    "    img_batch = img_transformed.unsqueeze(0)\n",
    "    return img_batch\n",
    "\n",
    "default_cmap = LinearSegmentedColormap.from_list('custom blue', \n",
    "                                                 [(0, '#ffffff'),\n",
    "                                                  (0.25, '#252b36'),\n",
    "                                                  (1, '#000000')], N=256)"
   ]
  },
  {
   "cell_type": "code",
   "execution_count": 3,
   "id": "ace844e8-db97-42bb-9b6a-79f7954bf0a4",
   "metadata": {
    "tags": []
   },
   "outputs": [],
   "source": [
    "BATCH_SIZE = 64\n",
    "VAL_SIZE = 0.3\n",
    "EPOCHS = 60\n",
    "DATASET_RANDOM = 37\n",
    "\n",
    "brain_tumor = BrainTumorMRI(val_size=VAL_SIZE, batch_size=BATCH_SIZE, random_state=DATASET_RANDOM, transformations=transformations)"
   ]
  },
  {
   "cell_type": "code",
   "execution_count": 4,
   "id": "b0697516-7a98-4bef-b822-2a6f83801765",
   "metadata": {},
   "outputs": [
    {
     "name": "stdout",
     "output_type": "stream",
     "text": [
      "5712 1311 7023\n"
     ]
    }
   ],
   "source": [
    "print(len(brain_tumor.train_dataset), len(brain_tumor.test_dataset), len(brain_tumor.train_dataset)+len(brain_tumor.test_dataset))"
   ]
  },
  {
   "cell_type": "code",
   "execution_count": 6,
   "id": "6214f7e7-91a4-4077-a514-c73fbde89797",
   "metadata": {},
   "outputs": [
    {
     "name": "stdout",
     "output_type": "stream",
     "text": [
      "Counter({2: 1595, 3: 1457, 1: 1339, 0: 1321}) Counter({2: 405, 1: 306, 0: 300, 3: 300}) Counter({2: 2000, 3: 1757, 1: 1645, 0: 1621})\n"
     ]
    }
   ],
   "source": [
    "from collections import Counter\n",
    "print(Counter(brain_tumor.train_dataset.targets), Counter(brain_tumor.test_dataset.targets), Counter(brain_tumor.test_dataset.targets + brain_tumor.train_dataset.targets))"
   ]
  },
  {
   "cell_type": "code",
   "execution_count": 4,
   "id": "0247aae2-8f52-4916-a509-7402b6d63e80",
   "metadata": {},
   "outputs": [],
   "source": [
    "# dataset = brain_tumor.test_dataset\n",
    "# dataloader = brain_tumor.test_dataloader\n",
    "# data, targets = get_labels_from_prediction(dataloader)\n",
    "\n",
    "# samples = pd.DataFrame(dataset.imgs, columns=[\"img\", \"target\"]).groupby(\"target\").sample(1, random_state=6).reset_index()\n",
    "# test_samples = samples[\"img\"].apply(Image.open).apply(lambda x: x.convert('RGB')).tolist()"
   ]
  },
  {
   "cell_type": "markdown",
   "id": "a57e9863-57c1-42f1-99d7-ce5a349f1788",
   "metadata": {},
   "source": [
    "## LOADING MODELS"
   ]
  },
  {
   "cell_type": "code",
   "execution_count": 4,
   "id": "ff7fc870-c841-4466-b3aa-3563b025f124",
   "metadata": {},
   "outputs": [],
   "source": [
    "CONV_PATH = \"experiments-1/convnet/version_3/checkpoints/convnet-epoch=54-train_loss=0.2748-train_acc=0.8954-val_loss=0.4169-val_acc=0.8530.ckpt\"\n",
    "conv_state = torch.load(CONV_PATH)\n",
    "conv = ConvNet.load_from_checkpoint(CONV_PATH)\n",
    "\n",
    "VGG_PATH = \"experiments-1/vgg/version_0/checkpoints/vgg-epoch=59-train_loss=0.3602-train_acc=0.8647-val_loss=0.3324-val_acc=0.8851.ckpt\"\n",
    "vgg_state = torch.load(VGG_PATH)\n",
    "vgg = VGG.load_from_checkpoint(VGG_PATH)\n",
    "\n",
    "DVGG_PATH = \"./experiments-1/dvgg/version_0/checkpoints/dvgg-epoch=21-train_loss=0.1167-train_acc=0.9650-val_loss=0.0649-val_acc=0.9837.ckpt\"\n",
    "dvgg_state = torch.load(DVGG_PATH)\n",
    "dvgg = DVGG.load_from_checkpoint(DVGG_PATH)\n",
    "\n",
    "# with open(\"./experiments-1/dvgg/version_0/dvgg-timing.dump\", \"rb\") as f:\n",
    "#     dvgg_timers = pickle.load(f)\n",
    "\n",
    "DVGG_PATH = \"./experiments-1/dvgg/version_1/checkpoints/dvgg-epoch=26-train_loss=0.1616-train_acc=0.9647-val_loss=0.0605-val_acc=0.9866.ckpt\"\n",
    "dvgg_pca_state = torch.load(DVGG_PATH)\n",
    "dvgg_pca = DVGG.load_from_checkpoint(DVGG_PATH)\n",
    "\n",
    "with open(\"./experiments-1/dvgg/version_1/dvgg-timing.dump\", \"rb\") as f:\n",
    "    dvgg_pca_timers = pickle.load(f)"
   ]
  },
  {
   "cell_type": "code",
   "execution_count": 9,
   "id": "522310e0-c70b-4cf1-8abd-10adf7f130f1",
   "metadata": {},
   "outputs": [],
   "source": [
    "models = [conv, vgg, dvgg, dvgg_pca]\n",
    "models_states = [conv_state, vgg_state, dvgg_state,  dvgg_pca_state]"
   ]
  },
  {
   "cell_type": "markdown",
   "id": "ff3ea398-1581-4ad9-b4a5-da8428c522c8",
   "metadata": {},
   "source": [
    "## SUMMARY"
   ]
  },
  {
   "cell_type": "code",
   "execution_count": 5,
   "id": "476dd7d5-fefe-47c0-918b-53d9859f4d01",
   "metadata": {},
   "outputs": [],
   "source": [
    "\n",
    "import math\n",
    "\n",
    "millnames = ['',' k',' M',' B',' Tr']\n",
    "\n",
    "def millify(n):\n",
    "    n = float(n)\n",
    "    millidx = max(0,min(len(millnames)-1,\n",
    "                        int(math.floor(0 if n == 0 else math.log10(abs(n))/3))))\n",
    "\n",
    "    return '{:.0f}{}'.format(n / 10**(3 * millidx), millnames[millidx])\n",
    "\n",
    "def time_format(state):\n",
    "    elapsed_time = int(state[\"callbacks\"][\"Timer\"][\"time_elapsed\"][\"train\"] // (60 * 60))\n",
    "    return f\"{elapsed_time} h\"\n",
    "\n",
    "def estimated_model_size(model):\n",
    "    param_size = 0\n",
    "    for param in model.parameters():\n",
    "        param_size += param.nelement() * param.element_size()\n",
    "    buffer_size = 0\n",
    "    for buffer in model.buffers():\n",
    "        buffer_size += buffer.nelement() * buffer.element_size()\n",
    "    size_all_mb = (param_size + buffer_size) / 1024**2\n",
    "    return size_all_mb, f'{size_all_mb:.3f} MB'"
   ]
  },
  {
   "cell_type": "code",
   "execution_count": 10,
   "id": "3efacb6e-1cfc-4156-8944-b199ebcead4b",
   "metadata": {},
   "outputs": [],
   "source": [
    "names = [model.name for model in models]\n",
    "\n",
    "data_summary = {\n",
    "    \"Number of classes\": [model.num_classes for model in models],\n",
    "    \"Number of groups\": [str(model.ngroups) if hasattr(model, \"ngroups\") else \"-\" for model in models],\n",
    "    \"Number of parameters\": [millify(sum(p.numel() for p in model.parameters())) for model in models],\n",
    "    \"Estimated model size\": [estimated_model_size(model)[1] for model in models],\n",
    "    \"PCA\": [str(model.pca) if (hasattr(model, \"pca\") and hasattr(model, \"preprocessing\") and model.preprocessing) else \"-\" for model in models],\n",
    "    \"Training Time\": [ time_format(state) for state in models_states],\n",
    "}\n",
    "\n",
    "models_summary = pd.DataFrame(data=data_summary, index=names)"
   ]
  },
  {
   "cell_type": "code",
   "execution_count": null,
   "id": "eac9b19e-155e-4522-8996-3d991ce4e961",
   "metadata": {},
   "outputs": [],
   "source": [
    "models_summary"
   ]
  },
  {
   "cell_type": "code",
   "execution_count": 11,
   "id": "5fc01b68-d317-4bfa-a80d-092b485aebad",
   "metadata": {},
   "outputs": [
    {
     "name": "stdout",
     "output_type": "stream",
     "text": [
      "\\begin{table}[h]\n",
      "\\caption{Parâmetros dos modelos do experimento.}\n",
      "\\begin{tabular}{lrlllll}\n",
      "\\toprule\n",
      " & Number of classes & Number of groups & Number of parameters & Estimated model size & PCA & Training Time \\\\\n",
      "\\midrule\n",
      "convnet & 4 & - & 16 M & 62.037 MB & - & 2 h \\\\\n",
      "vgg & 4 & - & 134 M & 512.226 MB & - & 17 h \\\\\n",
      "dvgg & 4 & 4 & 134 M & 512.226 MB & - & 19 h \\\\\n",
      "dvgg & 8 & 8 & 134 M & 512.288 MB & 64 & 21 h \\\\\n",
      "\\bottomrule\n",
      "\\end{tabular}\n",
      "\\end{table}\n",
      "\n"
     ]
    }
   ],
   "source": [
    "print(models_summary.to_latex(position=\"h\", multirow=True, caption=\"Parâmetros dos modelos do experimento.\"))"
   ]
  },
  {
   "cell_type": "markdown",
   "id": "5c83fb71-5a9a-49e6-83e1-c37cc4fc4ea1",
   "metadata": {},
   "source": [
    "## PREDICTIONS"
   ]
  },
  {
   "cell_type": "code",
   "execution_count": 12,
   "id": "66eaf21e-fa0d-41b0-9f1a-d6bf61fb26da",
   "metadata": {},
   "outputs": [],
   "source": [
    "import joblib\n",
    "from sklearn.metrics import accuracy_score\n",
    "from sklearn.metrics import f1_score\n",
    "from sklearn.metrics import adjusted_rand_score, adjusted_mutual_info_score\n",
    "from pytorch_lightning import Trainer"
   ]
  },
  {
   "cell_type": "code",
   "execution_count": 39,
   "id": "5fba6c87-6d66-4bf8-9936-20b5290f46af",
   "metadata": {},
   "outputs": [
    {
     "name": "stderr",
     "output_type": "stream",
     "text": [
      "GPU available: False, used: False\n",
      "TPU available: False, using: 0 TPU cores\n",
      "IPU available: False, using: 0 IPUs\n",
      "HPU available: False, using: 0 HPUs\n",
      "Missing logger folder: /Users/arthuralvim/Work/xai-clustering/lightning_logs\n"
     ]
    },
    {
     "data": {
      "application/vnd.jupyter.widget-view+json": {
       "model_id": "a41617c7a1084872a6f4ffbef70f294b",
       "version_major": 2,
       "version_minor": 0
      },
      "text/plain": [
       "Predicting: 0it [00:00, ?it/s]"
      ]
     },
     "metadata": {},
     "output_type": "display_data"
    },
    {
     "name": "stderr",
     "output_type": "stream",
     "text": [
      "GPU available: False, used: False\n",
      "TPU available: False, using: 0 TPU cores\n",
      "IPU available: False, using: 0 IPUs\n",
      "HPU available: False, using: 0 HPUs\n"
     ]
    },
    {
     "data": {
      "application/vnd.jupyter.widget-view+json": {
       "model_id": "d9a6bc986cdb41dba89a040ac8d7876a",
       "version_major": 2,
       "version_minor": 0
      },
      "text/plain": [
       "Predicting: 0it [00:00, ?it/s]"
      ]
     },
     "metadata": {},
     "output_type": "display_data"
    },
    {
     "name": "stderr",
     "output_type": "stream",
     "text": [
      "GPU available: False, used: False\n",
      "TPU available: False, using: 0 TPU cores\n",
      "IPU available: False, using: 0 IPUs\n",
      "HPU available: False, using: 0 HPUs\n"
     ]
    },
    {
     "data": {
      "application/vnd.jupyter.widget-view+json": {
       "model_id": "23fc5933940b405f87756f3655d39fca",
       "version_major": 2,
       "version_minor": 0
      },
      "text/plain": [
       "Predicting: 0it [00:00, ?it/s]"
      ]
     },
     "metadata": {},
     "output_type": "display_data"
    },
    {
     "name": "stderr",
     "output_type": "stream",
     "text": [
      "GPU available: False, used: False\n",
      "TPU available: False, using: 0 TPU cores\n",
      "IPU available: False, using: 0 IPUs\n",
      "HPU available: False, using: 0 HPUs\n"
     ]
    },
    {
     "data": {
      "application/vnd.jupyter.widget-view+json": {
       "model_id": "0a93f82ee2604fabbe58e12b45de6c86",
       "version_major": 2,
       "version_minor": 0
      },
      "text/plain": [
       "Predicting: 0it [00:00, ?it/s]"
      ]
     },
     "metadata": {},
     "output_type": "display_data"
    }
   ],
   "source": [
    "accs = []\n",
    "f1s = []\n",
    "\n",
    "for model in models:\n",
    "    trainer = Trainer()\n",
    "    batch_predictions = trainer.predict(model, dataloaders=brain_tumor.test_dataloader)\n",
    "    truth_labels, preds_labels = get_labels_from_prediction(batch_predictions)\n",
    "    accs.append(accuracy_score(truth_labels, preds_labels))\n",
    "    f1s.append(f1_score(truth_labels, preds_labels, average=\"macro\"))\n",
    "\n",
    "data_report = {\n",
    "    \"Acurácia\": accs,\n",
    "    \"F1 Score\": f1s,\n",
    "}\n",
    "\n",
    "report_summary = pd.DataFrame(data=data_report, index=names)"
   ]
  },
  {
   "cell_type": "code",
   "execution_count": 40,
   "id": "5959ebc7-b90c-4eeb-887c-a2b9cbbd98f0",
   "metadata": {},
   "outputs": [
    {
     "name": "stdout",
     "output_type": "stream",
     "text": [
      "\\begin{table}[h]\n",
      "\\caption{Acurácia e F1 dos modelos do experimento.}\n",
      "\\begin{tabular}{lrr}\n",
      "\\toprule\n",
      " & Acurácia & F1 Score \\\\\n",
      "\\midrule\n",
      "convnet & 0.848970 & 0.842662 \\\\\n",
      "vgg & 0.855072 & 0.845358 \\\\\n",
      "dvgg & 0.987796 & 0.987219 \\\\\n",
      "dvgg & 0.989321 & 0.988756 \\\\\n",
      "\\bottomrule\n",
      "\\end{tabular}\n",
      "\\end{table}\n",
      "\n"
     ]
    }
   ],
   "source": [
    "print(report_summary.to_latex(position=\"h\", multirow=True, caption=\"Acurácia e F1 dos modelos do experimento.\"))"
   ]
  },
  {
   "cell_type": "code",
   "execution_count": 15,
   "id": "2047b354-c1c1-49cc-9267-0f84c35224bc",
   "metadata": {},
   "outputs": [
    {
     "data": {
      "text/plain": [
       "(0.603025398078843, 0.752158799197294)"
      ]
     },
     "execution_count": 15,
     "metadata": {},
     "output_type": "execute_result"
    }
   ],
   "source": [
    "with open(\"./experiments-1/dvgg/version_1/artifacts/26/features-targets.dump\", \"rb\") as f:\n",
    "    dvgg_pca_targets = np.load(f)\n",
    "dvgg_pca_clu = joblib.load(\"./experiments-1/dvgg/version_1/artifacts/26/clustering.dump\")\n",
    "adjusted_rand_score(dvgg_pca_targets, dvgg_pca_clu.labels_), adjusted_mutual_info_score(dvgg_pca_targets, dvgg_pca_clu.labels_)"
   ]
  },
  {
   "cell_type": "code",
   "execution_count": 16,
   "id": "f2b186b1-a9de-4859-8ba5-37346613b509",
   "metadata": {},
   "outputs": [
    {
     "data": {
      "text/plain": [
       "(0.8546398198366183, 0.8297424480896636)"
      ]
     },
     "execution_count": 16,
     "metadata": {},
     "output_type": "execute_result"
    }
   ],
   "source": [
    "with open(\"./experiments-1/dvgg/version_0/artifacts/21/features-targets.dump\", \"rb\") as f:\n",
    "    dvgg_targets = np.load(f)\n",
    "dvgg_clu = joblib.load(\"./experiments-1/dvgg/version_0/artifacts/21/clustering.dump\")\n",
    "adjusted_rand_score(dvgg_targets, dvgg_clu.labels_), adjusted_mutual_info_score(dvgg_targets, dvgg_clu.labels_)"
   ]
  },
  {
   "cell_type": "code",
   "execution_count": null,
   "id": "4d289929-ef2c-4cb6-a8be-63953ec09dc0",
   "metadata": {},
   "outputs": [],
   "source": []
  }
 ],
 "metadata": {
  "availableInstances": [
   {
    "_defaultOrder": 0,
    "_isFastLaunch": true,
    "category": "General purpose",
    "gpuNum": 0,
    "hideHardwareSpecs": false,
    "memoryGiB": 4,
    "name": "ml.t3.medium",
    "vcpuNum": 2
   },
   {
    "_defaultOrder": 1,
    "_isFastLaunch": false,
    "category": "General purpose",
    "gpuNum": 0,
    "hideHardwareSpecs": false,
    "memoryGiB": 8,
    "name": "ml.t3.large",
    "vcpuNum": 2
   },
   {
    "_defaultOrder": 2,
    "_isFastLaunch": false,
    "category": "General purpose",
    "gpuNum": 0,
    "hideHardwareSpecs": false,
    "memoryGiB": 16,
    "name": "ml.t3.xlarge",
    "vcpuNum": 4
   },
   {
    "_defaultOrder": 3,
    "_isFastLaunch": false,
    "category": "General purpose",
    "gpuNum": 0,
    "hideHardwareSpecs": false,
    "memoryGiB": 32,
    "name": "ml.t3.2xlarge",
    "vcpuNum": 8
   },
   {
    "_defaultOrder": 4,
    "_isFastLaunch": true,
    "category": "General purpose",
    "gpuNum": 0,
    "hideHardwareSpecs": false,
    "memoryGiB": 8,
    "name": "ml.m5.large",
    "vcpuNum": 2
   },
   {
    "_defaultOrder": 5,
    "_isFastLaunch": false,
    "category": "General purpose",
    "gpuNum": 0,
    "hideHardwareSpecs": false,
    "memoryGiB": 16,
    "name": "ml.m5.xlarge",
    "vcpuNum": 4
   },
   {
    "_defaultOrder": 6,
    "_isFastLaunch": false,
    "category": "General purpose",
    "gpuNum": 0,
    "hideHardwareSpecs": false,
    "memoryGiB": 32,
    "name": "ml.m5.2xlarge",
    "vcpuNum": 8
   },
   {
    "_defaultOrder": 7,
    "_isFastLaunch": false,
    "category": "General purpose",
    "gpuNum": 0,
    "hideHardwareSpecs": false,
    "memoryGiB": 64,
    "name": "ml.m5.4xlarge",
    "vcpuNum": 16
   },
   {
    "_defaultOrder": 8,
    "_isFastLaunch": false,
    "category": "General purpose",
    "gpuNum": 0,
    "hideHardwareSpecs": false,
    "memoryGiB": 128,
    "name": "ml.m5.8xlarge",
    "vcpuNum": 32
   },
   {
    "_defaultOrder": 9,
    "_isFastLaunch": false,
    "category": "General purpose",
    "gpuNum": 0,
    "hideHardwareSpecs": false,
    "memoryGiB": 192,
    "name": "ml.m5.12xlarge",
    "vcpuNum": 48
   },
   {
    "_defaultOrder": 10,
    "_isFastLaunch": false,
    "category": "General purpose",
    "gpuNum": 0,
    "hideHardwareSpecs": false,
    "memoryGiB": 256,
    "name": "ml.m5.16xlarge",
    "vcpuNum": 64
   },
   {
    "_defaultOrder": 11,
    "_isFastLaunch": false,
    "category": "General purpose",
    "gpuNum": 0,
    "hideHardwareSpecs": false,
    "memoryGiB": 384,
    "name": "ml.m5.24xlarge",
    "vcpuNum": 96
   },
   {
    "_defaultOrder": 12,
    "_isFastLaunch": false,
    "category": "General purpose",
    "gpuNum": 0,
    "hideHardwareSpecs": false,
    "memoryGiB": 8,
    "name": "ml.m5d.large",
    "vcpuNum": 2
   },
   {
    "_defaultOrder": 13,
    "_isFastLaunch": false,
    "category": "General purpose",
    "gpuNum": 0,
    "hideHardwareSpecs": false,
    "memoryGiB": 16,
    "name": "ml.m5d.xlarge",
    "vcpuNum": 4
   },
   {
    "_defaultOrder": 14,
    "_isFastLaunch": false,
    "category": "General purpose",
    "gpuNum": 0,
    "hideHardwareSpecs": false,
    "memoryGiB": 32,
    "name": "ml.m5d.2xlarge",
    "vcpuNum": 8
   },
   {
    "_defaultOrder": 15,
    "_isFastLaunch": false,
    "category": "General purpose",
    "gpuNum": 0,
    "hideHardwareSpecs": false,
    "memoryGiB": 64,
    "name": "ml.m5d.4xlarge",
    "vcpuNum": 16
   },
   {
    "_defaultOrder": 16,
    "_isFastLaunch": false,
    "category": "General purpose",
    "gpuNum": 0,
    "hideHardwareSpecs": false,
    "memoryGiB": 128,
    "name": "ml.m5d.8xlarge",
    "vcpuNum": 32
   },
   {
    "_defaultOrder": 17,
    "_isFastLaunch": false,
    "category": "General purpose",
    "gpuNum": 0,
    "hideHardwareSpecs": false,
    "memoryGiB": 192,
    "name": "ml.m5d.12xlarge",
    "vcpuNum": 48
   },
   {
    "_defaultOrder": 18,
    "_isFastLaunch": false,
    "category": "General purpose",
    "gpuNum": 0,
    "hideHardwareSpecs": false,
    "memoryGiB": 256,
    "name": "ml.m5d.16xlarge",
    "vcpuNum": 64
   },
   {
    "_defaultOrder": 19,
    "_isFastLaunch": false,
    "category": "General purpose",
    "gpuNum": 0,
    "hideHardwareSpecs": false,
    "memoryGiB": 384,
    "name": "ml.m5d.24xlarge",
    "vcpuNum": 96
   },
   {
    "_defaultOrder": 20,
    "_isFastLaunch": false,
    "category": "General purpose",
    "gpuNum": 0,
    "hideHardwareSpecs": true,
    "memoryGiB": 0,
    "name": "ml.geospatial.interactive",
    "supportedImageNames": [
     "sagemaker-geospatial-v1-0"
    ],
    "vcpuNum": 0
   },
   {
    "_defaultOrder": 21,
    "_isFastLaunch": true,
    "category": "Compute optimized",
    "gpuNum": 0,
    "hideHardwareSpecs": false,
    "memoryGiB": 4,
    "name": "ml.c5.large",
    "vcpuNum": 2
   },
   {
    "_defaultOrder": 22,
    "_isFastLaunch": false,
    "category": "Compute optimized",
    "gpuNum": 0,
    "hideHardwareSpecs": false,
    "memoryGiB": 8,
    "name": "ml.c5.xlarge",
    "vcpuNum": 4
   },
   {
    "_defaultOrder": 23,
    "_isFastLaunch": false,
    "category": "Compute optimized",
    "gpuNum": 0,
    "hideHardwareSpecs": false,
    "memoryGiB": 16,
    "name": "ml.c5.2xlarge",
    "vcpuNum": 8
   },
   {
    "_defaultOrder": 24,
    "_isFastLaunch": false,
    "category": "Compute optimized",
    "gpuNum": 0,
    "hideHardwareSpecs": false,
    "memoryGiB": 32,
    "name": "ml.c5.4xlarge",
    "vcpuNum": 16
   },
   {
    "_defaultOrder": 25,
    "_isFastLaunch": false,
    "category": "Compute optimized",
    "gpuNum": 0,
    "hideHardwareSpecs": false,
    "memoryGiB": 72,
    "name": "ml.c5.9xlarge",
    "vcpuNum": 36
   },
   {
    "_defaultOrder": 26,
    "_isFastLaunch": false,
    "category": "Compute optimized",
    "gpuNum": 0,
    "hideHardwareSpecs": false,
    "memoryGiB": 96,
    "name": "ml.c5.12xlarge",
    "vcpuNum": 48
   },
   {
    "_defaultOrder": 27,
    "_isFastLaunch": false,
    "category": "Compute optimized",
    "gpuNum": 0,
    "hideHardwareSpecs": false,
    "memoryGiB": 144,
    "name": "ml.c5.18xlarge",
    "vcpuNum": 72
   },
   {
    "_defaultOrder": 28,
    "_isFastLaunch": false,
    "category": "Compute optimized",
    "gpuNum": 0,
    "hideHardwareSpecs": false,
    "memoryGiB": 192,
    "name": "ml.c5.24xlarge",
    "vcpuNum": 96
   },
   {
    "_defaultOrder": 29,
    "_isFastLaunch": true,
    "category": "Accelerated computing",
    "gpuNum": 1,
    "hideHardwareSpecs": false,
    "memoryGiB": 16,
    "name": "ml.g4dn.xlarge",
    "vcpuNum": 4
   },
   {
    "_defaultOrder": 30,
    "_isFastLaunch": false,
    "category": "Accelerated computing",
    "gpuNum": 1,
    "hideHardwareSpecs": false,
    "memoryGiB": 32,
    "name": "ml.g4dn.2xlarge",
    "vcpuNum": 8
   },
   {
    "_defaultOrder": 31,
    "_isFastLaunch": false,
    "category": "Accelerated computing",
    "gpuNum": 1,
    "hideHardwareSpecs": false,
    "memoryGiB": 64,
    "name": "ml.g4dn.4xlarge",
    "vcpuNum": 16
   },
   {
    "_defaultOrder": 32,
    "_isFastLaunch": false,
    "category": "Accelerated computing",
    "gpuNum": 1,
    "hideHardwareSpecs": false,
    "memoryGiB": 128,
    "name": "ml.g4dn.8xlarge",
    "vcpuNum": 32
   },
   {
    "_defaultOrder": 33,
    "_isFastLaunch": false,
    "category": "Accelerated computing",
    "gpuNum": 4,
    "hideHardwareSpecs": false,
    "memoryGiB": 192,
    "name": "ml.g4dn.12xlarge",
    "vcpuNum": 48
   },
   {
    "_defaultOrder": 34,
    "_isFastLaunch": false,
    "category": "Accelerated computing",
    "gpuNum": 1,
    "hideHardwareSpecs": false,
    "memoryGiB": 256,
    "name": "ml.g4dn.16xlarge",
    "vcpuNum": 64
   },
   {
    "_defaultOrder": 35,
    "_isFastLaunch": false,
    "category": "Accelerated computing",
    "gpuNum": 1,
    "hideHardwareSpecs": false,
    "memoryGiB": 61,
    "name": "ml.p3.2xlarge",
    "vcpuNum": 8
   },
   {
    "_defaultOrder": 36,
    "_isFastLaunch": false,
    "category": "Accelerated computing",
    "gpuNum": 4,
    "hideHardwareSpecs": false,
    "memoryGiB": 244,
    "name": "ml.p3.8xlarge",
    "vcpuNum": 32
   },
   {
    "_defaultOrder": 37,
    "_isFastLaunch": false,
    "category": "Accelerated computing",
    "gpuNum": 8,
    "hideHardwareSpecs": false,
    "memoryGiB": 488,
    "name": "ml.p3.16xlarge",
    "vcpuNum": 64
   },
   {
    "_defaultOrder": 38,
    "_isFastLaunch": false,
    "category": "Accelerated computing",
    "gpuNum": 8,
    "hideHardwareSpecs": false,
    "memoryGiB": 768,
    "name": "ml.p3dn.24xlarge",
    "vcpuNum": 96
   },
   {
    "_defaultOrder": 39,
    "_isFastLaunch": false,
    "category": "Memory Optimized",
    "gpuNum": 0,
    "hideHardwareSpecs": false,
    "memoryGiB": 16,
    "name": "ml.r5.large",
    "vcpuNum": 2
   },
   {
    "_defaultOrder": 40,
    "_isFastLaunch": false,
    "category": "Memory Optimized",
    "gpuNum": 0,
    "hideHardwareSpecs": false,
    "memoryGiB": 32,
    "name": "ml.r5.xlarge",
    "vcpuNum": 4
   },
   {
    "_defaultOrder": 41,
    "_isFastLaunch": false,
    "category": "Memory Optimized",
    "gpuNum": 0,
    "hideHardwareSpecs": false,
    "memoryGiB": 64,
    "name": "ml.r5.2xlarge",
    "vcpuNum": 8
   },
   {
    "_defaultOrder": 42,
    "_isFastLaunch": false,
    "category": "Memory Optimized",
    "gpuNum": 0,
    "hideHardwareSpecs": false,
    "memoryGiB": 128,
    "name": "ml.r5.4xlarge",
    "vcpuNum": 16
   },
   {
    "_defaultOrder": 43,
    "_isFastLaunch": false,
    "category": "Memory Optimized",
    "gpuNum": 0,
    "hideHardwareSpecs": false,
    "memoryGiB": 256,
    "name": "ml.r5.8xlarge",
    "vcpuNum": 32
   },
   {
    "_defaultOrder": 44,
    "_isFastLaunch": false,
    "category": "Memory Optimized",
    "gpuNum": 0,
    "hideHardwareSpecs": false,
    "memoryGiB": 384,
    "name": "ml.r5.12xlarge",
    "vcpuNum": 48
   },
   {
    "_defaultOrder": 45,
    "_isFastLaunch": false,
    "category": "Memory Optimized",
    "gpuNum": 0,
    "hideHardwareSpecs": false,
    "memoryGiB": 512,
    "name": "ml.r5.16xlarge",
    "vcpuNum": 64
   },
   {
    "_defaultOrder": 46,
    "_isFastLaunch": false,
    "category": "Memory Optimized",
    "gpuNum": 0,
    "hideHardwareSpecs": false,
    "memoryGiB": 768,
    "name": "ml.r5.24xlarge",
    "vcpuNum": 96
   },
   {
    "_defaultOrder": 47,
    "_isFastLaunch": false,
    "category": "Accelerated computing",
    "gpuNum": 1,
    "hideHardwareSpecs": false,
    "memoryGiB": 16,
    "name": "ml.g5.xlarge",
    "vcpuNum": 4
   },
   {
    "_defaultOrder": 48,
    "_isFastLaunch": false,
    "category": "Accelerated computing",
    "gpuNum": 1,
    "hideHardwareSpecs": false,
    "memoryGiB": 32,
    "name": "ml.g5.2xlarge",
    "vcpuNum": 8
   },
   {
    "_defaultOrder": 49,
    "_isFastLaunch": false,
    "category": "Accelerated computing",
    "gpuNum": 1,
    "hideHardwareSpecs": false,
    "memoryGiB": 64,
    "name": "ml.g5.4xlarge",
    "vcpuNum": 16
   },
   {
    "_defaultOrder": 50,
    "_isFastLaunch": false,
    "category": "Accelerated computing",
    "gpuNum": 1,
    "hideHardwareSpecs": false,
    "memoryGiB": 128,
    "name": "ml.g5.8xlarge",
    "vcpuNum": 32
   },
   {
    "_defaultOrder": 51,
    "_isFastLaunch": false,
    "category": "Accelerated computing",
    "gpuNum": 1,
    "hideHardwareSpecs": false,
    "memoryGiB": 256,
    "name": "ml.g5.16xlarge",
    "vcpuNum": 64
   },
   {
    "_defaultOrder": 52,
    "_isFastLaunch": false,
    "category": "Accelerated computing",
    "gpuNum": 4,
    "hideHardwareSpecs": false,
    "memoryGiB": 192,
    "name": "ml.g5.12xlarge",
    "vcpuNum": 48
   },
   {
    "_defaultOrder": 53,
    "_isFastLaunch": false,
    "category": "Accelerated computing",
    "gpuNum": 4,
    "hideHardwareSpecs": false,
    "memoryGiB": 384,
    "name": "ml.g5.24xlarge",
    "vcpuNum": 96
   },
   {
    "_defaultOrder": 54,
    "_isFastLaunch": false,
    "category": "Accelerated computing",
    "gpuNum": 8,
    "hideHardwareSpecs": false,
    "memoryGiB": 768,
    "name": "ml.g5.48xlarge",
    "vcpuNum": 192
   },
   {
    "_defaultOrder": 55,
    "_isFastLaunch": false,
    "category": "Accelerated computing",
    "gpuNum": 8,
    "hideHardwareSpecs": false,
    "memoryGiB": 1152,
    "name": "ml.p4d.24xlarge",
    "vcpuNum": 96
   },
   {
    "_defaultOrder": 56,
    "_isFastLaunch": false,
    "category": "Accelerated computing",
    "gpuNum": 8,
    "hideHardwareSpecs": false,
    "memoryGiB": 1152,
    "name": "ml.p4de.24xlarge",
    "vcpuNum": 96
   }
  ],
  "instance_type": "ml.t3.2xlarge",
  "kernelspec": {
   "display_name": "Python 3 (ipykernel)",
   "language": "python",
   "name": "python3"
  },
  "language_info": {
   "codemirror_mode": {
    "name": "ipython",
    "version": 3
   },
   "file_extension": ".py",
   "mimetype": "text/x-python",
   "name": "python",
   "nbconvert_exporter": "python",
   "pygments_lexer": "ipython3",
   "version": "3.9.0"
  }
 },
 "nbformat": 4,
 "nbformat_minor": 5
}
